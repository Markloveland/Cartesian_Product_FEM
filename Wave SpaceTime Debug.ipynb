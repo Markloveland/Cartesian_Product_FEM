{
 "cells": [
  {
   "cell_type": "markdown",
   "metadata": {},
   "source": [
    "# Wave equation in spacetime with Dirichlet conditions.\n",
    "## Test problem is chosen to give an exact solution at all nodes of the mesh.\n",
    "\n",
    "## Governing Equation:\n",
    "\n",
    "$\\frac{\\partial^2 u}{\\partial t}-c^2\\Delta u = 0$\n",
    "\n",
    "let c = 1\n",
    "\n",
    "## Domain:\n",
    "\n",
    "$([0,1] \\times [0,1]) \\times ([0,T]) $\n",
    "\n",
    "## Exact solution:\n",
    "\n",
    "$u_{exact} = sin(x-ct) + sin(y-ct)$\n",
    "\n",
    "## Boundary condition:\n",
    "\n",
    "$u = u_{exact} $ on the boundary\n"
   ]
  },
  {
   "cell_type": "code",
   "execution_count": 1,
   "metadata": {},
   "outputs": [],
   "source": [
    "#Import modules\n",
    "from __future__ import print_function\n",
    "import dolfin as dl\n",
    "import matplotlib.pyplot as plt\n",
    "import numpy as np\n",
    "%matplotlib inline"
   ]
  },
  {
   "cell_type": "markdown",
   "metadata": {},
   "source": [
    "## Can not Run Poisson Problem Standard way (no Cartesian Product)\n"
   ]
  },
  {
   "cell_type": "markdown",
   "metadata": {},
   "source": [
    "#  but can now using Cartesian Product\n",
    "\n",
    "## Domain is product of 1 square mesh, 1 unit interval\n"
   ]
  },
  {
   "cell_type": "code",
   "execution_count": 2,
   "metadata": {},
   "outputs": [],
   "source": [
    "#Some auxillary functions defined first\n",
    "def cartesian_product(array1,array2):\n",
    "    #gives cartesian product of 2 vectors\n",
    "    dim1,n=array1.shape\n",
    "    dim2,n=array2.shape\n",
    "    out_arr=np.zeros((dim1*dim2,2))\n",
    "    c=0\n",
    "    for a in range(dim1):\n",
    "        for b in range(dim2):\n",
    "            out_arr[c,:]=[array1[a],array2[b]]\n",
    "            c=c+1\n",
    "    return out_arr\n",
    "def cartesian_product_coords(array1,array2):\n",
    "    #gives cartesian product of 2 vectors\n",
    "    dim1,n1=array1.shape\n",
    "    dim2,n2=array2.shape\n",
    "    out_arr=np.zeros((dim1*dim2,n1+n2))\n",
    "    c=0\n",
    "    for a in range(dim1):\n",
    "        for b in range(dim2):\n",
    "            #print(array1[a,:])\n",
    "            #print(array2[b,:])\n",
    "            out_arr[c,:]=np.append(array1[a,:],array2[b,:])\n",
    "            c=c+1\n",
    "    return out_arr\n",
    "def cartesian_product_dofs(array1,array2):\n",
    "    #gives cartesian product of 2 1d vectors\n",
    "    dim1=len(array1)\n",
    "    dim2=len(array2)\n",
    "    out_arr=np.zeros((dim1*dim2,2))\n",
    "    c=0\n",
    "    for a in range(dim1):\n",
    "        for b in range(dim2):\n",
    "            out_arr[c,:]=[array1[a],array2[b]]\n",
    "            c=c+1\n",
    "    return out_arr\n",
    "\n",
    "\n",
    "def cartesian_form_to_kroneck_form(indeces, len_dim_2):\n",
    "    #designed to take list of indexes in the cartesian form\n",
    "    #translate to single form as kron product would\n",
    "    #only for cartesian product between 2 spaces\n",
    "    #expects matrix with n rows, 2 columns\n",
    "    num_indeces=indeces.shape[0]\n",
    "    out_arr=np.zeros(num_indeces)\n",
    "    for n in range(num_indeces):\n",
    "        out_arr[n] = indeces[n,0]*len_dim_2 + indeces[n,1]\n",
    "    return out_arr"
   ]
  },
  {
   "cell_type": "code",
   "execution_count": 20,
   "metadata": {},
   "outputs": [
    {
     "name": "stdout",
     "output_type": "stream",
     "text": [
      "[  0   1   2   3   5   6   9  10  14  15  20  21  27  28  35  36  44  45\n",
      "  54  55  65  66  77  78  90  91 102 103 113 114 123 124 132 133 140 141\n",
      " 147 148 153 154 158 159 162 163 165 166 167 168]\n",
      "[ 0 15]\n"
     ]
    }
   ],
   "source": [
    "#cartesian product of 2 1-d domains with dirichlet boundary\n",
    "num_elem=12\n",
    "num_t = 15\n",
    "mesh1 = dl.UnitSquareMesh(num_elem,num_elem)\n",
    "mesh2 = dl.UnitIntervalMesh(num_t)\n",
    "c1 = 0.145\n",
    "\n",
    "#create function spaces for each piece\n",
    "V1 = dl.FunctionSpace(mesh1, 'P', 1)\n",
    "V2 = dl.FunctionSpace(mesh2, 'P', 1)\n",
    "\n",
    "#create trial and test functions\n",
    "u1_trial = dl.TrialFunction(V1)\n",
    "v1_test = dl.TestFunction(V1)\n",
    "u2_trial = dl.TrialFunction(V2)\n",
    "v2_test = dl.TestFunction(V2)\n",
    "\n",
    "#assemble weak forms (more complex due to chain rule)\n",
    "stiffness_form11 = dl.inner(dl.grad(u1_trial), dl.grad(v1_test)) * dl.dx\n",
    "stiffness_form12 = u1_trial*v1_test* dl.dx\n",
    "\n",
    "stiffness_form21 = dl.inner(dl.grad(u2_trial), dl.grad(v2_test)) * dl.dx\n",
    "stiffness_form22 = u2_trial*v2_test * dl.dx\n",
    "\n",
    "#assign right hand side (will need to generalize later)\n",
    "#f = dl.Constant(-20.0)\n",
    "#special case that f is separable\n",
    "#f1=dl.interpolate(dl.Expression('sin(pi*x[0])*sin(pi*x[1])',degree=4,domain=mesh1),V1)\n",
    "#f2=dl.interpolate(dl.Expression('sin(pi*x[0])*sin(pi*x[1])',degree=4,domain=mesh1),V2)\n",
    "#assemble stiffness matrices (only will work for linear forms)\n",
    "K11 = dl.assemble(stiffness_form11)\n",
    "K12 = dl.assemble(stiffness_form12)\n",
    "K21 = dl.assemble(stiffness_form21) \n",
    "K22 = dl.assemble(stiffness_form22)\n",
    "\n",
    "\n",
    "#assign right hand sides \n",
    "#rhs_form1 = dl.Constant(4*np.pi**2)*f1*v1_test * dl.dx\n",
    "#rhs_form2 = f2*v2_test * dl.dx\n",
    "b1 = dl.Function(V1)\n",
    "b2 = dl.Function(V2)\n",
    "\n",
    "#use this to mark boundary (Dirichlet) \n",
    "def boundary(x, on_boundary):\n",
    "    return on_boundary\n",
    "\n",
    "#This function is simply used to mark the boundary (not the actual boundary condition)\n",
    "u_D1 = dl.Expression('1.0', degree=2)\n",
    "\n",
    "\n",
    "#establish dummy functions\n",
    "dum1=dl.Function(V1)\n",
    "dum2=dl.Function(V2)\n",
    "\n",
    "\n",
    "#create boundary conditions\n",
    "bc1 = dl.DirichletBC(V1, u_D1, boundary)\n",
    "bc2 = dl.DirichletBC(V2, u_D1, boundary)\n",
    "\n",
    "#apply to vectors to mark boundaries\n",
    "bc1.apply(dum1.vector())\n",
    "bc2.apply(dum2.vector())\n",
    "\n",
    "#get index number for each boundary cooordinates in subdomain\n",
    "boundary_dofs1 = np.where(dum1.vector()==1.0)[0]\n",
    "boundary_dofs2 = np.where(dum2.vector()==1.0)[0]\n",
    "\n",
    "#print indeces of boundaries in subdomains\n",
    "print(boundary_dofs1)\n",
    "print(boundary_dofs2)\n",
    "\n",
    "#need all physical coordinates in case we need for calculations\n",
    "dof_coordinates1=V1.tabulate_dof_coordinates()\n",
    "dof_coordinates2=V2.tabulate_dof_coordinates()\n",
    "\n",
    "#physical coordinates should be just cartesian product of 2 dof maps in same order that kron product operates\n",
    "global_dof=cartesian_product_coords(dof_coordinates1,dof_coordinates2)\n",
    "x = global_dof[:,0]\n",
    "y = global_dof[:,1]\n",
    "t = global_dof[:,2]\n",
    "#coordinates of boundary in each subdomain\n",
    "boundary_coord1 = dof_coordinates1[boundary_dofs1]\n",
    "boundary_coord2 = dof_coordinates2[boundary_dofs2]\n",
    "\n",
    "\n",
    "#now connect subdomain indeces to global boundary (turn this into function in future)\n",
    "#maybe in future for speed we can precompute number of boundary dofs\n",
    "global_boundary_dofs=np.empty((len(boundary_dofs1)*len(dof_coordinates2) + len(dof_coordinates1)*len(boundary_dofs2),2))\n",
    "\n",
    "ctr=0\n",
    "for j in boundary_dofs1:\n",
    "    global_boundary_dofs[ctr*len(dof_coordinates2):(ctr+1)*len(dof_coordinates2),:] = \\\n",
    "    cartesian_product_dofs(np.array([j]),np.arange(dof_coordinates2.shape[0]))\n",
    "    ctr=ctr+1\n",
    "    \n",
    "last_ind = (ctr)*len(dof_coordinates2)\n",
    "\n",
    "\n",
    "for j in boundary_dofs2:\n",
    "    global_boundary_dofs[last_ind:last_ind+len(dof_coordinates1),:] = \\\n",
    "    cartesian_product_dofs(np.arange(dof_coordinates1.shape[0]),np.array([j]))\n",
    "    last_ind = last_ind+len(dof_coordinates1)    \n",
    "\n",
    "\n",
    "#sorts and also eliminates duplicates of \"corners\"\n",
    "global_boundary_dofs=np.unique(global_boundary_dofs,axis=0)\n",
    "\n",
    "\n",
    "#have cartesian product of dof at entire boundary (this form should be easy to get coordinates in if needed)\n",
    "#now need to convert to global system dof as the kron function does\n",
    "global_boundary_dofs=cartesian_form_to_kroneck_form(global_boundary_dofs, len(dof_coordinates2))\n",
    "global_boundary_dofs=global_boundary_dofs.astype(int)\n",
    "\n",
    "\n",
    "\n",
    "\n",
    "#assemble global system using kronecker product\n",
    "K11 = np.array(K11.array())\n",
    "K12 = np.array(K12.array())\n",
    "K21 = np.array(K21.array())\n",
    "K22 = np.array(K22.array())\n",
    "\n",
    "A= -np.kron(K12,K21) + (c1**2)*np.kron(K11,K22)\n",
    "\n",
    "\n",
    "\n",
    "\n",
    "b1 = b1.vector()[:]\n",
    "b2 = b2.vector()[:]\n",
    "B=np.kron(b1,b2)\n",
    "\n",
    "#need to apply bcs using boundary_dofs info\n",
    "#set the rows in the boundary to 1 on diagonal\n",
    "K_bound = np.zeros(A.shape)\n",
    "for i in global_boundary_dofs:\n",
    "    K_bound[i,i] = 1\n",
    "\n",
    "A[global_boundary_dofs,:] = K_bound[global_boundary_dofs,:]\n",
    "\n",
    "\n",
    "#set the value of solution on boundary as rhs\n",
    "B[global_boundary_dofs] = np.sin(x[global_boundary_dofs]-c1*t[global_boundary_dofs]) \\\n",
    "+ np.sin(y[global_boundary_dofs]-c1*t[global_boundary_dofs])\n",
    "\n",
    "#solve global system\n",
    "u=np.zeros(len(B))\n",
    "\n",
    "#solve(A,u,B)\n",
    "u=np.linalg.solve(A,B)\n",
    "\n"
   ]
  },
  {
   "cell_type": "code",
   "execution_count": 21,
   "metadata": {},
   "outputs": [
    {
     "data": {
      "image/png": "[encoded data removed]",
      "text/plain": [
       "<Figure size 432x288 with 2 Axes>"
      ]
     },
     "metadata": {
      "needs_background": "light"
     },
     "output_type": "display_data"
    }
   ],
   "source": [
    "#now find way to plot (we know we have regular grid in this case)\n",
    "fig,  ax2 = plt.subplots(nrows=1)\n",
    "\n",
    "ax2.tricontour(global_dof[:,0], global_dof[:,1], u, levels=14, linewidths=0.5, colors='k')\n",
    "cntr2 = ax2.tricontourf(global_dof[:,0], global_dof[:,1], u, levels=14, cmap=\"RdBu_r\")\n",
    "\n",
    "fig.colorbar(cntr2, ax=ax2)\n",
    "ax2.plot(global_dof[:,0], global_dof[:,1], 'ko', ms=3)\n",
    "ax2.set(xlim=(0, 1), ylim=(0, 1))\n",
    "ax2.set_title('Cartesian Product Solution')\n",
    "\n",
    "plt.subplots_adjust(hspace=0.5)\n",
    "plt.show()\n",
    "\n",
    "#print(u)"
   ]
  },
  {
   "cell_type": "code",
   "execution_count": 22,
   "metadata": {},
   "outputs": [
    {
     "data": {
      "image/png": "[encoded data removed]",
      "text/plain": [
       "<Figure size 432x288 with 2 Axes>"
      ]
     },
     "metadata": {
      "needs_background": "light"
     },
     "output_type": "display_data"
    }
   ],
   "source": [
    "#plot analytic solution\n",
    "#now find way to plot (we know we have regular grid in this case)\n",
    "fig,  ax2 = plt.subplots(nrows=1)\n",
    "\n",
    "u_true = np.sin(x-c1*t) + np.sin(y-c1*t)\n",
    "\n",
    "\n",
    "ax2.tricontour(global_dof[:,0], global_dof[:,1], u_true, levels=14, linewidths=0.5, colors='k')\n",
    "cntr2 = ax2.tricontourf(global_dof[:,0], global_dof[:,1], u_true, levels=14, cmap=\"RdBu_r\")\n",
    "\n",
    "fig.colorbar(cntr2, ax=ax2)\n",
    "ax2.plot(global_dof[:,0], global_dof[:,1], 'ko', ms=3)\n",
    "ax2.set(xlim=(0, 1), ylim=(0, 1))\n",
    "ax2.set_title('Analytic Solution')\n",
    "\n",
    "plt.subplots_adjust(hspace=0.5)\n",
    "plt.show()\n",
    "#print(u_true)"
   ]
  },
  {
   "cell_type": "code",
   "execution_count": null,
   "metadata": {},
   "outputs": [],
   "source": []
  },
  {
   "cell_type": "code",
   "execution_count": 23,
   "metadata": {},
   "outputs": [
    {
     "name": "stdout",
     "output_type": "stream",
     "text": [
      "dof\n",
      "2704\n",
      "h\n",
      "0.08333333333333333\n",
      "dt\n",
      "0.06666666666666667\n",
      "cfl\n",
      "0.11599999999999998\n",
      "l infinity\n",
      "1.26694158011e-05\n",
      "l2\n",
      "2.6717657739e-08\n",
      "sum of absolute error\n",
      "0.00520279328737\n"
     ]
    }
   ],
   "source": [
    "print('dof')\n",
    "print(len(u))\n",
    "print('h')\n",
    "print(1/num_elem)\n",
    "print('dt')\n",
    "print(1/num_t)\n",
    "print('cfl')\n",
    "print(c1*num_elem/num_t)\n",
    "print('l infinity')\n",
    "print(max(np.absolute(u-u_true)))\n",
    "print('l2')\n",
    "print(np.dot(np.absolute(u-u_true),np.absolute(u-u_true)))\n",
    "print('sum of absolute error')\n",
    "print(np.sum(np.absolute(u-u_true)))"
   ]
  },
  {
   "cell_type": "code",
   "execution_count": null,
   "metadata": {},
   "outputs": [],
   "source": [
    "#print(u[global_boundary_dofs])"
   ]
  },
  {
   "cell_type": "code",
   "execution_count": null,
   "metadata": {},
   "outputs": [],
   "source": [
    "#print(u_true[global_boundary_dofs])"
   ]
  },
  {
   "cell_type": "code",
   "execution_count": null,
   "metadata": {},
   "outputs": [],
   "source": [
    "#print(global_dof[global_boundary_dofs[52],:])"
   ]
  },
  {
   "cell_type": "code",
   "execution_count": null,
   "metadata": {},
   "outputs": [],
   "source": [
    "#u_true[global_boundary_dofs[52]]"
   ]
  },
  {
   "cell_type": "code",
   "execution_count": null,
   "metadata": {},
   "outputs": [],
   "source": [
    "#sin(pi*)"
   ]
  },
  {
   "cell_type": "code",
   "execution_count": null,
   "metadata": {},
   "outputs": [],
   "source": []
  }
 ],
 "metadata": {
  "kernelspec": {
   "display_name": "Python 3",
   "language": "python",
   "name": "python3"
  },
  "language_info": {
   "codemirror_mode": {
    "name": "ipython",
    "version": 3
   },
   "file_extension": ".py",
   "mimetype": "text/x-python",
   "name": "python",
   "nbconvert_exporter": "python",
   "pygments_lexer": "ipython3",
   "version": "3.6.9"
  }
 },
 "nbformat": 4,
 "nbformat_minor": 4
}
