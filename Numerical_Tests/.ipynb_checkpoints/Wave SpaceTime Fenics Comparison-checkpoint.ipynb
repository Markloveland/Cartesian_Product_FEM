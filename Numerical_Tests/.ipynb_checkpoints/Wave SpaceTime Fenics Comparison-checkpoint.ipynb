{
 "cells": [
  {
   "cell_type": "markdown",
   "metadata": {},
   "source": [
    "# Use Fenics 3d elements to compare against, see what is happening"
   ]
  },
  {
   "cell_type": "code",
   "execution_count": 1,
   "metadata": {},
   "outputs": [],
   "source": [
    "#Import modules\n",
    "from __future__ import print_function\n",
    "import dolfin as dl\n",
    "import matplotlib.pyplot as plt\n",
    "import numpy as np\n",
    "%matplotlib inline"
   ]
  },
  {
   "cell_type": "code",
   "execution_count": 8,
   "metadata": {},
   "outputs": [],
   "source": [
    "num_elem= 6\n",
    "num_t = 12\n",
    "mesh1 = dl.UnitCubeMesh(num_elem,num_elem,num_t)\n",
    "#wave speed\n",
    "c1=1.333\n",
    "\n",
    "V1 = dl.FunctionSpace(mesh1, 'P', 1)\n",
    "\n",
    "u1_trial = dl.TrialFunction(V1)\n",
    "v1_test = dl.TestFunction(V1)\n",
    "\n",
    "weak_form =  (c1**2)*(u1_trial.dx(0)*v1_test.dx(0) + u1_trial.dx(1)*v1_test.dx(1) ) * dl.dx \\\n",
    "- u1_trial.dx(2)*v1_test.dx(2)*dl.dx\n",
    "\n",
    "a,L = dl.lhs(weak_form), dl.rhs(weak_form)\n",
    "\n",
    "def boundary(x, on_boundary):\n",
    "    return on_boundary\n",
    "\n",
    "u_exact = dl.Expression('sin(x[0] - c1*x[2]) + sin(x[1] - c1*x[2])',degree=4,domain=mesh1,c1=c1)\n",
    "\n",
    "\n",
    "\n",
    "bc1 = dl.DirichletBC(V1, u_exact, boundary)\n",
    "\n",
    "u=dl.Function(V1)\n",
    "dl.solve(a == L,u,bc1)\n",
    "\n"
   ]
  },
  {
   "cell_type": "code",
   "execution_count": 9,
   "metadata": {},
   "outputs": [],
   "source": [
    "u_exact = dl.interpolate(u_exact,V1)\n",
    "u_true = u_exact.vector()[:]\n",
    "u =u.vector()[:]"
   ]
  },
  {
   "cell_type": "code",
   "execution_count": 10,
   "metadata": {},
   "outputs": [
    {
     "name": "stdout",
     "output_type": "stream",
     "text": [
      "dof\n",
      "637\n",
      "h\n",
      "0.16666666666666666\n",
      "dt\n",
      "0.08333333333333333\n",
      "cfl\n",
      "0.6665\n",
      "l infinity\n",
      "0.00109491135386\n",
      "l2\n",
      "3.22045925279e-05\n",
      "sum of absolute error\n",
      "0.0768291305677\n"
     ]
    }
   ],
   "source": [
    "print('dof')\n",
    "print(len(u))\n",
    "print('h')\n",
    "print(1/num_elem)\n",
    "print('dt')\n",
    "print(1/num_t)\n",
    "print('cfl')\n",
    "print(c1*num_elem/num_t)\n",
    "print('l infinity')\n",
    "print(max(np.absolute(u-u_true)))\n",
    "print('l2')\n",
    "print(np.dot(np.absolute(u-u_true),np.absolute(u-u_true)))\n",
    "print('sum of absolute error')\n",
    "print(np.sum(np.absolute(u-u_true)))"
   ]
  },
  {
   "cell_type": "code",
   "execution_count": null,
   "metadata": {},
   "outputs": [],
   "source": []
  },
  {
   "cell_type": "code",
   "execution_count": null,
   "metadata": {},
   "outputs": [],
   "source": []
  }
 ],
 "metadata": {
  "kernelspec": {
   "display_name": "Python 3",
   "language": "python",
   "name": "python3"
  },
  "language_info": {
   "codemirror_mode": {
    "name": "ipython",
    "version": 3
   },
   "file_extension": ".py",
   "mimetype": "text/x-python",
   "name": "python",
   "nbconvert_exporter": "python",
   "pygments_lexer": "ipython3",
   "version": "3.6.9"
  }
 },
 "nbformat": 4,
 "nbformat_minor": 4
}
