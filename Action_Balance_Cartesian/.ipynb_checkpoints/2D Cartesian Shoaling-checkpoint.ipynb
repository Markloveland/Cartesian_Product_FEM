{
 "cells": [
  {
   "cell_type": "code",
   "execution_count": 1,
   "metadata": {},
   "outputs": [],
   "source": [
    "from __future__ import print_function\n",
    "from fenics import *\n",
    "from ufl import nabla_div\n",
    "import numpy as np\n",
    "import matplotlib.pyplot as plt\n",
    "from matplotlib import cm\n",
    "from matplotlib.ticker import LinearLocator\n",
    "from mpl_toolkits.mplot3d import Axes3D\n",
    "%matplotlib inline"
   ]
  },
  {
   "cell_type": "markdown",
   "metadata": {},
   "source": [
    "## $\\frac{\\partial N}{\\partial t} + \\frac{\\partial c_x N}{\\partial x} + \\frac{\\partial c_y N}{\\partial y} +  \\frac{\\partial c_\\sigma N}{\\partial \\sigma}+ \\frac{\\partial c_\\theta N}{\\partial \\theta}  = \\frac{S(\\sigma, \\theta, t)}{\\sigma}$\n",
    "\n",
    "\n",
    "\n",
    "## Uniform coastline:\n",
    "\n",
    "Assuming coast line that varies along x direction but is uniform in y, mathematically meaning:\n",
    "\n",
    "$\\frac{\\partial N}{\\partial y} = 0$ and $\\frac{\\partial c_{y}}{\\partial y} = 0$\n",
    "\n",
    "likewise in $\\theta$\n",
    "\n",
    "$\\frac{\\partial N}{\\partial \\theta} = 0$ and $\\frac{\\partial c_{\\theta}}{\\partial \\theta} = 0$\n",
    "\n",
    "Which makes action balance equation:\n",
    "\n",
    "$\\frac{\\partial N}{\\partial t} + \\frac{\\partial c_x N}{\\partial x} + \\frac{\\partial c_\\sigma N}{\\partial \\sigma}+  = \\frac{S(x, \\sigma, t)}{\\sigma}$\n",
    "\n",
    "In this specific script we will perform the test as seen in ONR test bed case A21\n",
    "\n",
    "## Case A21\n",
    "\n",
    "\"An infinitely long plane beach with parallel depth contours (slope 1:200) is considered. The x-axis is normal to the depth contours (see Figure 7). At a water depth of 20m, monochromatic, uni- directional waves enter the model area. At the up-wave boundary the incoming waves propagate at an angle of 0° relative to the positive x-axis. The distance of the up-wave boundary to the waterline is 4000 m. The incident wave height Hi and period Ti are 1 m and 10 s respectively.\n",
    "Ambient currents and wind are absent.\"\n",
    "\n",
    "## Conditions\n",
    "In the SWAN computation this harmonic wave is simulated with a Gaussian-shaped frequency spectrum with peak\n",
    "frequency 0.1 Hz, standard deviation 0.01 Hz, and a resolution\n",
    "of 3% of the frequency (diffusion in frequency space does not\n",
    "occur as $c_{\\sigma}$= 0 in this case, and the frequency resolution may\n",
    "therefore be somewhat coarse). The long crestedness in this\n",
    "computation is simulated with a $cos^{500} (\\theta)$ directional distribution (the directional width $\\sigma_{\\theta} = 2.5 $ degrees, where su is the standard\n",
    "deviation of the directional distribution\n",
    "\n",
    "\n",
    "\n",
    "## Solution\n",
    "\n",
    "$\\frac{H^2}{H_i^2}=\\frac{c_{g,i}cos(\\theta_i)}{c_g cos(\\theta)}$\n",
    "\n",
    "Where $H_i$ , $c_{g,i}$, $\\theta_i$ is the boundary condition that remains steady through time"
   ]
  },
  {
   "cell_type": "code",
   "execution_count": 2,
   "metadata": {},
   "outputs": [],
   "source": [
    "#all functions necessary to run Test Case 4\n",
    "#this expression requires sigma to be in second index\n",
    "def Gauss_Expression_1D(F_peak,F_std,HS):\n",
    "    aux1 = aux1 = HS**2/(16*np.sqrt(2*np.pi)*F_std)\n",
    "    aux3 = 2*F_std**2\n",
    "    #CTOT = np.sqrt(0.5*500/np.pi)/(1-0.25/500)\n",
    "    E=Expression('aux1*exp(-pow(x[1]-2*pi*F_peak,2)/aux3)',\n",
    "                degree=4,aux1=aux1,aux3=aux3,F_peak=F_peak)\n",
    "    return E\n",
    "\n",
    "def Gauss_Expression_IC(F_peak,F_std,HS):\n",
    "    aux1 = aux1 = HS**2/(16*np.sqrt(2*np.pi)*F_std)\n",
    "    aux3 = 2*F_std**2\n",
    "    tol=1e-14\n",
    "    #CTOT = np.sqrt(0.5*500/np.pi)/(1-0.25/500)\n",
    "    E=Expression('x[0] < tol ? aux1*exp(-pow(x[1]-2*pi*F_peak,2)/aux3): 0',\n",
    "                degree=4,aux1=aux1,aux3=aux3,F_peak=F_peak,tol=tol,t=0)\n",
    "    return E\n",
    "\n",
    "def Gauss_IC(F_peak,F_std,HS,x,sigmas):\n",
    "    #takes in dof and paramters\n",
    "    #returns vector with initial condition values at global DOF\n",
    "    aux1 = HS**2/(16*np.sqrt(2*np.pi)*F_std)\n",
    "    aux3 = 2*F_std**2\n",
    "    tol=1e-14\n",
    "    E = (x<tol)*aux1*np.exp(-(sigmas - 2*np.pi*F_peak)**2/aux3)\n",
    "    return E\n",
    "\n",
    "\n",
    "#an Expression class to evaluate u(x,y) on the 1D domain (range y, x fixed)\n",
    "#maybe modify so input can determine if we want range y (fixed x) or range x (fixed y)\n",
    "#this case want space to be x, sigma to be y\n",
    "class my1DExpression(UserExpression):\n",
    "    def __init__(self,u_2d,x,**kwargs):\n",
    "        super().__init__(**kwargs)\n",
    "        self.u_2d=u_2d\n",
    "        self.x=x\n",
    "        #Expression.__init__(self)\n",
    "        self._vx= np.array([0.])\n",
    "        self._pt_x= np.array([0.,0.])\n",
    "    def eval(self, values, x):\n",
    "        self._pt_x[0]= self.x\n",
    "        self._pt_x[1]= x[0]\n",
    "        self.u_2d.eval(self._vx,self._pt_x)\n",
    "        values[0] = self._vx[0]\n",
    "        \n",
    "#need a function to calculate wave speed (phase and group) and wavenumber\n",
    "def swan_calc_wavespeeds_k(sigmas,depths,g=9.81):\n",
    "    #taken from Jessica's code\n",
    "    cg_out=np.zeros(len(sigmas))\n",
    "    k_out=np.zeros(len(sigmas))\n",
    "    WGD=np.sqrt(depths/g)*g\n",
    "    SND=sigmas*np.sqrt(depths/g)\n",
    "    \n",
    "    shallow_range=np.argwhere(SND<1e-6)\n",
    "    mid_range=np.argwhere((SND<2.5)&(SND>=1e-6))\n",
    "    deep_range=np.argwhere(SND>=2.5)\n",
    "    \n",
    "    def cg_mid(SND,g,depths,sigmas):\n",
    "        SND2=SND*SND\n",
    "        C=np.sqrt(g*depths/(SND2 +1/(1+0.666*SND2+.445*SND2**2 \n",
    "                                     - 0.105*SND2**3 + 0.272*SND2**4)))\n",
    "        KND=sigmas*depths/C\n",
    "        \n",
    "        FAC1=2*KND/np.sinh(2*KND)\n",
    "        N=0.5*(1+FAC1)\n",
    "        return N*C,sigmas/C\n",
    "    def cg_deep(g,sigmas):\n",
    "        return 0.5*g/sigmas\n",
    "    def cg_shallow(WGD):\n",
    "        return WGD\n",
    "\n",
    "    cg_out[shallow_range]=cg_shallow(WGD[shallow_range])\n",
    "    k_out[shallow_range]=SND[shallow_range]/depths[shallow_range]\n",
    "    cg_out[mid_range],k_out[mid_range]=cg_mid(SND[mid_range],g,depths[mid_range],sigmas[mid_range])\n",
    "    cg_out[deep_range]=cg_deep(g,sigmas[deep_range])\n",
    "    k_out[deep_range]=sigmas[deep_range]**2/g\n",
    "\n",
    "    return cg_out,k_out\n",
    "\n",
    "def calc_c_sigma(sigmas,k,depths,c_g,currents,z_coords,loc_num):\n",
    "    ##Inputs\n",
    "    #sigmas - takes in a vector of sigma values (sigma coordinate at each d.o.f) at one point in physical spaxe\n",
    "    #thetas\n",
    "    #k - wavenumber corresponding to the given sigmas and thetas\n",
    "    #c_g - corresponding group velocity\n",
    "    #(note sigmas, thetas,k,c_g should all be same length which is number of d.o.f in one 2D slice)\n",
    "    #depths - depths in meters of ALL physical coordinates (not just current one)\n",
    "    #z_coords - unique coordinates in physical space (not just current one)\n",
    "    #currents - water velocity at ALL physical coordinates\n",
    "    #loc_num - the number of the physical point (starts at 0)\n",
    "    #(note depths,z_coords,currents should all be same length which is the number of unique points in physical space)\n",
    "    ##Outputs\n",
    "    #outputs a vector same size as sigmas that is the c_sigma at all d.o.f in ONE 2D slice \n",
    "    #of the 3D domain corresponding to a single point in physical space for c_theta and c_sigma\n",
    "    \n",
    "    #for now assuming H is constant in time but can fix this later\n",
    "    dHdt=0.0\n",
    "    dHdy = 0.0\n",
    "    dudy = 0.0\n",
    "    dvdx = 0.0 #migh not have to be 0, well see\n",
    "    dvdy = 0.0\n",
    "    \n",
    "    #also going to assume v is zero but maybe can change this later\n",
    "    v=0.0\n",
    "    u=0.0#currents[loc_num]\n",
    "    H=depths#[loc_num]\n",
    "    #calc gradient of H w.r.t. x\n",
    "    #this is just forward euler but only works for fixed geometry\n",
    "    #instead we'll hard code for this case\n",
    "    dHdx=-1.0/200.0\n",
    "    dudx=0.0\n",
    "    '''\n",
    "    if loc_num == 0:\n",
    "        dHdx =(depths[loc_num+1]-H)/(z_coords[loc_num+1]-z_coords[loc_num])\n",
    "        dudx = (currents[loc_num+1]-u)/(z_coords[loc_num+1]-z_coords[loc_num])\n",
    "    elif loc_num == len(z_coords)-1:\n",
    "        dHdx = (H-depths[loc_num-1])/(z_coords[loc_num]-z_coords[loc_num-1])\n",
    "        dudx = (u-currents[loc_num-1])/(z_coords[loc_num]-z_coords[loc_num-1])\n",
    "    else:\n",
    "        dHdx = (depths[loc_num+1]-depths[loc_num-1])/(z_coords[loc_num+1]-z_coords[loc_num-1])\n",
    "        dudx = (currents[loc_num+1]-currents[loc_num-1])/(z_coords[loc_num+1]-z_coords[loc_num-1])\n",
    "    '''\n",
    "    \n",
    "    #now calculate velocity vectors\n",
    "    c_sigma = k*sigmas/(np.sinh(2*k*H)) *(dHdt + u*dHdx + v*dHdy) - c_g*k*(dudx)\n",
    "    #c_theta = sigmas/(np.sinh(2*k*H))*(dHdx*np.sin(thetas)- dHdy*np.cos(thetas)) + \\\n",
    "    #    dudx*np.cos(thetas)*np.sin(thetas) - dudy*(np.cos(thetas)**2) + dvdx*(np.sin(thetas)**2) \\\n",
    "    #    -dvdy*np.cos(thetas)*np.sin(thetas)\n",
    "    return c_sigma #,c_theta\n",
    "\n",
    "###\n",
    "###\n",
    "###\n",
    "#all functions relating to Cartesian product\n",
    "def cartesian_product_dofs(array1,array2):\n",
    "    #gives cartesian product of 2 1d vectors\n",
    "    dim1=len(array1)\n",
    "    dim2=len(array2)\n",
    "    out_arr=np.zeros((dim1*dim2,2))\n",
    "    c=0\n",
    "    for a in range(dim1):\n",
    "        for b in range(dim2):\n",
    "            out_arr[c,:]=[array1[a],array2[b]]\n",
    "            c=c+1\n",
    "    return out_arr\n",
    "\n",
    "def cartesian_product_coords(array1,array2):\n",
    "    #gives cartesian product of 2 vectors\n",
    "    dim1,n1=array1.shape\n",
    "    dim2,n2=array2.shape\n",
    "    out_arr=np.zeros((dim1*dim2,n1+n2))\n",
    "    c=0\n",
    "    for a in range(dim1):\n",
    "        for b in range(dim2):\n",
    "            #print(array1[a,:])\n",
    "            #print(array2[b,:])\n",
    "            out_arr[c,:]=np.append(array1[a,:],array2[b,:])\n",
    "            c=c+1\n",
    "    return out_arr\n",
    "\n",
    "def cartesian_form_to_kroneck_form(indeces, len_dim_2):\n",
    "    #designed to take list of indexes in the cartesian form\n",
    "    #translate to single form as kron product would\n",
    "    #only for cartesian product between 2 spaces\n",
    "    #expects matrix with n rows, 2 columns\n",
    "    num_indeces=indeces.shape[0]\n",
    "    out_arr=np.zeros(num_indeces)\n",
    "    for n in range(num_indeces):\n",
    "        out_arr[n] = indeces[n,0]*len_dim_2 + indeces[n,1]\n",
    "    return out_arr\n",
    "\n",
    "def spec_mult(c,K):\n",
    "    len_dof=len(c)\n",
    "    for i in range(len_dof):\n",
    "        for j in range(len_dof):\n",
    "            K[i,j] = (c[i]+c[j])/2*K[i,j]\n",
    "    return K"
   ]
  },
  {
   "cell_type": "code",
   "execution_count": 3,
   "metadata": {},
   "outputs": [],
   "source": [
    "##model parameters/inputs\n",
    "\n",
    "#first create mesh, mesh 1 is space, mesh 2 is sigma\n",
    "omega_min=0.25 #smallest rad. frequency (needs to be larger than 0)\n",
    "omega_max = 2.0 #largest rad. frequency\n",
    "n_sigma = 30 #number of elements in frequncy which is dimension no. 0   \n",
    "#should be 4000 (need to truncate a bit due to problem at 0 elevation)\n",
    "n_space=100 #number of elements along coastline\n",
    "space_len=3950 #distance of physical domain in meters\n",
    "\n",
    "\n",
    "mesh1 = IntervalMesh(n_space,0,space_len)\n",
    "mesh2 = IntervalMesh(n_sigma,omega_min,omega_max)\n",
    "\n",
    "V1 = FunctionSpace(mesh1, 'P', 1)\n",
    "V2 = FunctionSpace(mesh2, 'P', 1)\n",
    "\n",
    "#create trial and test functions\n",
    "u1_trial = TrialFunction(V1)\n",
    "v1_test = TestFunction(V1)\n",
    "u2_trial = TrialFunction(V2)\n",
    "v2_test = TestFunction(V2)\n",
    "\n",
    "#generate weak forms\n",
    "n1=FacetNormal(mesh1)\n",
    "n2=FacetNormal(mesh2)\n",
    "\n",
    "K11 = u1_trial*v1_test*dx\n",
    "K12 = u1_trial*v1_test.dx(0)*dx\n",
    "K14 = dot(n1,as_vector((u1_trial,)))*v1_test*ds\n",
    "K21 = u2_trial*v2_test*dx\n",
    "K22 = u2_trial*v2_test.dx(0)*dx\n",
    "K24 = dot(n2,as_vector((u2_trial,)))*v2_test*ds\n",
    "\n",
    "K11 = assemble(K11)\n",
    "K12 = assemble(K12)\n",
    "K14 = assemble(K14)\n",
    "K21 = assemble(K21) \n",
    "K22 = assemble(K22)\n",
    "K24 = assemble(K24)\n",
    "\n",
    "\n",
    "\n",
    "#use this to mark boundary (Dirichlet) \n",
    "def boundary(x, on_boundary):\n",
    "    return on_boundary and (near(x[0],0, 1e-14))\n",
    "\n",
    "#This function is simply used to mark the boundary (not the actual boundary condition)\n",
    "u_D1 = Expression('1.0', degree=2)\n",
    "\n",
    "\n",
    "#establish dummy functions\n",
    "dum1=Function(V1)\n",
    "#dum2=Function(V2)\n",
    "\n",
    "\n",
    "#create boundary conditions\n",
    "#in this case, only dirichlet for one side of x and none for sigma\n",
    "#still need to mark boundaries tho ???,\n",
    "#there is probably a more efficient way to do this\n",
    "bc1 = DirichletBC(V1, u_D1, boundary)\n",
    "#bc2 = DirichletBC(V2, u_D1, boundary)\n",
    "\n",
    "#apply to vectors to mark boundaries\n",
    "bc1.apply(dum1.vector())\n",
    "\n",
    "#get index number for each boundary cooordinates in subdomain\n",
    "boundary_dofs1 = np.where(dum1.vector()==1.0)[0]\n",
    "\n",
    "#need all physical coordinates in case we need for calculations\n",
    "dof_coordinates1=V1.tabulate_dof_coordinates()\n",
    "dof_coordinates2=V2.tabulate_dof_coordinates()\n",
    "\n",
    "#physical coordinates should be just cartesian product of 2 dof maps in same order that kron product operates\n",
    "global_dof=cartesian_product_coords(dof_coordinates1,dof_coordinates2)\n",
    "#split into x,sigma\n",
    "x = global_dof[:,0]\n",
    "sigmas = global_dof[:,1]\n",
    "#from x directly calculate depths\n",
    "#calculate depths for  this test case\n",
    "depths=20-x/200\n",
    "\n",
    "#coordinates of boundary in each subdomain\n",
    "boundary_coord1 = dof_coordinates1[boundary_dofs1]\n",
    "\n",
    "#now connect subdomain indeces to global boundary (turn this into function in future)\n",
    "#maybe in future for speed we can precompute number of boundary dofs\n",
    "global_boundary_dofs=np.empty((len(boundary_dofs1)*len(dof_coordinates2),2))\n",
    "\n",
    "ctr=0\n",
    "for j in boundary_dofs1:\n",
    "    global_boundary_dofs[ctr*len(dof_coordinates2):(ctr+1)*len(dof_coordinates2),:] = \\\n",
    "    cartesian_product_dofs(np.array([j]),np.arange(dof_coordinates2.shape[0]))\n",
    "    ctr=ctr+1\n",
    "    \n",
    "#sorts and also eliminates duplicates of \"corners\"\n",
    "global_boundary_dofs=np.unique(global_boundary_dofs,axis=0)\n",
    "\n",
    "#have cartesian product of dof at entire boundary (this form should be easy to get coordinates in if needed)\n",
    "#now need to convert to global system dof as the kron function does\n",
    "global_boundary_dofs=cartesian_form_to_kroneck_form(global_boundary_dofs, len(dof_coordinates2))\n",
    "global_boundary_dofs=global_boundary_dofs.astype(int)\n",
    "\n",
    "\n",
    "#now need to compute cx and c_sigma at global dof\n",
    "\n",
    "cg,k = swan_calc_wavespeeds_k(sigmas,depths,g=9.81)\n",
    "currents = np.zeros(depths.shape)\n",
    "lat_coords=np.unique(x)\n",
    "c_sigma = calc_c_sigma(sigmas,k,depths,cg,currents,lat_coords,0)\n",
    "\n",
    "\n",
    "#need to set initial and boundary conditions (for now, GAUSS only)\n",
    "F_peak=0.1\n",
    "F_std=0.1\n",
    "HS=1\n",
    "\n",
    "#define time stepping parameters (want to run until approximate steady state)\n",
    "T=1000\n",
    "num_steps=200\n",
    "dt=T/num_steps\n",
    "\n",
    "N_i = Gauss_IC(F_peak,F_std,HS,x,sigmas)\n",
    "\n",
    "#establish global stiffness matrix\n",
    "K11 = np.array(K11.array())\n",
    "K12 = np.array(K12.array())\n",
    "K14 = np.array(K14.array())\n",
    "K21 = np.array(K21.array())\n",
    "K22 = np.array(K22.array())\n",
    "K24 = np.array(K24.array())\n",
    "\n",
    "A = np.kron(K11,K21) - dt*(spec_mult(cg,np.kron(K12,K21)) + spec_mult(c_sigma,np.kron(K11,K22))) + \\\n",
    "                          dt*spec_mult(cg,np.kron(K14,K21)) + \\\n",
    "                          dt*spec_mult(c_sigma,np.kron(K11,K24))\n",
    "F = np.kron(K11,K21)\n",
    "RHS = F.dot(N_i)\n",
    "#wipe out rows of global matrix that need to be dirichlet\n",
    "K_bound = np.zeros(A.shape)\n",
    "for i in global_boundary_dofs:\n",
    "    K_bound[i,i] = 1\n",
    "\n",
    "A[global_boundary_dofs,:] = K_bound[global_boundary_dofs,:]\n",
    "\n",
    "\n",
    "#now loop through time and solve\n",
    "#since A doesnt change, invert first\n",
    "A_inv = np.linalg.inv(A)\n",
    "for t in range(num_steps):\n",
    "    #dirichlet BC\n",
    "    RHS[global_boundary_dofs] = N_i[global_boundary_dofs]\n",
    "    #solve in time\n",
    "    #u=np.linalg.solve(A,RHS)\n",
    "    u=np.matmul(A_inv,RHS)\n",
    "    #assign new solution to previous time step\n",
    "    RHS = F.dot(u)\n",
    "    #update dirichlet boundary condition\n",
    "   \n"
   ]
  },
  {
   "cell_type": "code",
   "execution_count": 4,
   "metadata": {},
   "outputs": [
    {
     "data": {
      "image/png": "[encoded data removed]",
      "text/plain": [
       "<Figure size 432x288 with 2 Axes>"
      ]
     },
     "metadata": {
      "needs_background": "light"
     },
     "output_type": "display_data"
    }
   ],
   "source": [
    "#now find way to plot (we know we have regular grid in this case)\n",
    "fig,  ax2 = plt.subplots(nrows=1)\n",
    "\n",
    "#ax2.tricontour(global_dof[:,0], global_dof[:,1], u, levels=14, linewidths=0.5, colors='k')\n",
    "cntr2 = ax2.tricontourf(global_dof[:,0], global_dof[:,1], u, levels=14)#, cmap=\"RdBu_r\")\n",
    "\n",
    "fig.colorbar(cntr2, ax=ax2)\n",
    "#ax2.plot(global_dof[:,0], global_dof[:,1], 'ko', ms=3)\n",
    "#ax2.set(xlim=(0, 1), ylim=(0, 1))\n",
    "ax2.set_title('Cartesian Product Solution')\n",
    "\n",
    "plt.subplots_adjust(hspace=0.5)\n",
    "plt.show()"
   ]
  },
  {
   "cell_type": "code",
   "execution_count": 5,
   "metadata": {},
   "outputs": [
    {
     "name": "stdout",
     "output_type": "stream",
     "text": [
      "31\n"
     ]
    },
    {
     "data": {
      "image/png": "[encoded data removed]",
      "text/plain": [
       "<Figure size 432x288 with 1 Axes>"
      ]
     },
     "metadata": {
      "needs_background": "light"
     },
     "output_type": "display_data"
    }
   ],
   "source": [
    "plt.plot(dof_coordinates2,N_i[global_boundary_dofs])\n",
    "print(len(dof_coordinates2))"
   ]
  },
  {
   "cell_type": "code",
   "execution_count": 6,
   "metadata": {},
   "outputs": [
    {
     "name": "stdout",
     "output_type": "stream",
     "text": [
      "[ 1.56017424  1.44467458  1.39299806  1.33875305  1.31540502  1.27875328\n",
      "  1.26620006  1.23779634  1.23081492  1.20717471  1.20354922  1.1830051\n",
      "  1.18160174  1.16323012  1.16339621  1.14663337  1.14796124  1.13243838\n",
      "  1.13465763  1.1201205   1.12304327  1.10930918  1.11279995  1.09973316\n",
      "  1.10369105  1.09118778  1.09553565  1.0835146   1.08819204  1.07658813\n",
      "  1.08154678  1.07030692  1.07550735  1.06458746  1.06999695  1.05935991\n",
      "  1.06495088  1.05456504  1.06031398  1.05015207  1.05603868  1.04607702\n",
      "  1.0520837   1.0423016   1.04841297  1.03879233  1.04499491  1.03551987\n",
      "  1.04180186  1.03245856  1.03880962  1.029586    1.03599711  1.02688274\n",
      "  1.03334607  1.02433205  1.03084083  1.02191963  1.02846803  1.01963342\n",
      "  1.02621647  1.0174634   1.02407685  1.01540137  1.02204161  1.01344076\n",
      "  1.02010471  1.01157641  1.01826141  1.00980439  1.01650809  1.00812181\n",
      "  1.01484209  1.0065266   1.01326143  1.0050173   1.01176471  1.00359296\n",
      "  1.01035089  1.00225288  1.00901914  1.00099651  1.00776869  0.99982328\n",
      "  1.0065987   0.99873248  1.00550815  0.9977232   1.00449575  0.99679419\n",
      "  1.00355988  0.99594384  1.00269855  0.99517017  1.00190939  0.99447078\n",
      "  1.00118963  0.99384291  1.00053617  0.99328344  0.99994561]\n"
     ]
    }
   ],
   "source": [
    "#generate significant wave heights and compare\n",
    "HS = np.zeros(n_space+1)\n",
    "small_sigmas = dof_coordinates2[:,0]\n",
    "for j in range(n_space+1):\n",
    "    HS[j] = 4*np.sqrt(-np.trapz(u[j*(n_sigma+1):(j+1)*(n_sigma+1)],small_sigmas)) \n",
    "print(HS)"
   ]
  },
  {
   "cell_type": "code",
   "execution_count": 7,
   "metadata": {},
   "outputs": [
    {
     "name": "stdout",
     "output_type": "stream",
     "text": [
      "['YP', 'Hs', 'Dir', 'Dep', 'K', 'Cg', 'C']\n"
     ]
    },
    {
     "data": {
      "text/plain": [
       "[<matplotlib.lines.Line2D at 0x40bae07160>]"
      ]
     },
     "execution_count": 7,
     "metadata": {},
     "output_type": "execute_result"
    },
    {
     "data": {
      "image/png": "[encoded data removed]",
      "text/plain": [
       "<Figure size 432x288 with 1 Axes>"
      ]
     },
     "metadata": {
      "needs_background": "light"
     },
     "output_type": "display_data"
    }
   ],
   "source": [
    "#attempt to read in analytic\n",
    "fname='Shoaling_Analytic.txt'\n",
    "f=open(fname,\"r\")\n",
    "lines=f.readlines()\n",
    "f.close()\n",
    "column_names=lines[0].split()\n",
    "print(column_names)\n",
    "A=np.zeros((999,len(column_names))) #should be 1000, but last row is garbage\n",
    "ctr=0\n",
    "for line in lines[2:-1]:\n",
    "    A[ctr,:]=line.split()\n",
    "    ctr+=1\n",
    "\n",
    "#now plot\n",
    "plt.plot(A[:,0],A[:,1])\n",
    "plt.title('Hs vs x')\n",
    "plt.plot(dof_coordinates1,HS)"
   ]
  },
  {
   "cell_type": "code",
   "execution_count": 8,
   "metadata": {},
   "outputs": [
    {
     "name": "stdout",
     "output_type": "stream",
     "text": [
      "0.999945611744\n"
     ]
    }
   ],
   "source": [
    "print(4*np.sqrt(np.trapz(np.flipud(u[-31:]),np.flipud(small_sigmas))))"
   ]
  },
  {
   "cell_type": "code",
   "execution_count": 9,
   "metadata": {},
   "outputs": [
    {
     "name": "stdout",
     "output_type": "stream",
     "text": [
      "[  0.25   0.25   0.25 ...,  20.    20.    20.  ]\n"
     ]
    }
   ],
   "source": [
    "print(depths)"
   ]
  },
  {
   "cell_type": "code",
   "execution_count": 10,
   "metadata": {},
   "outputs": [
    {
     "name": "stdout",
     "output_type": "stream",
     "text": [
      "[ 2.          1.94166667  1.88333333  1.825       1.76666667  1.70833333\n",
      "  1.65        1.59166667  1.53333333  1.475       1.41666667  1.35833333\n",
      "  1.3         1.24166667  1.18333333  1.125       1.06666667  1.00833333\n",
      "  0.95        0.89166667  0.83333333  0.775       0.71666667  0.65833333\n",
      "  0.6         0.54166667  0.48333333  0.425       0.36666667  0.30833333\n",
      "  0.25      ]\n",
      "[  3.46991148e-42   8.73825187e-39   1.56584929e-35   1.99661624e-32\n",
      "   1.81158401e-29   1.16961141e-26   5.37333541e-24   1.75657034e-21\n",
      "   4.08607543e-19   6.76342147e-17   7.96610017e-15   6.67643021e-13\n",
      "   3.98164102e-11   1.68965925e-09   5.10217554e-08   1.09630376e-06\n",
      "   1.67619926e-05   1.82364218e-04   1.41179894e-03   7.77723659e-03\n",
      "   3.04857589e-02   8.50330875e-02   1.68771117e-01   2.38356797e-01\n",
      "   2.39538980e-01   1.71294764e-01   8.71628095e-02   3.15600434e-02\n",
      "   8.13136022e-03   1.49076109e-03   1.94478742e-04]\n"
     ]
    },
    {
     "data": {
      "text/plain": [
       "0.99994561174407404"
      ]
     },
     "execution_count": 10,
     "metadata": {},
     "output_type": "execute_result"
    },
    {
     "data": {
      "image/png": "[encoded data removed]",
      "text/plain": [
       "<Figure size 432x288 with 1 Axes>"
      ]
     },
     "metadata": {
      "needs_background": "light"
     },
     "output_type": "display_data"
    }
   ],
   "source": [
    "mesh22 = IntervalMesh(30,omega_min,omega_max)\n",
    "V22 = FunctionSpace(mesh22, 'P', 1)\n",
    "sigmas2 = V22.tabulate_dof_coordinates()[:,0]\n",
    "print(sigmas2)\n",
    "F_peak=0.1\n",
    "F_std=0.1\n",
    "HS=1\n",
    "aux1 = HS**2/(16*np.sqrt(2*np.pi)*F_std)\n",
    "aux3 = 2*F_std**2\n",
    "\n",
    "outvec = aux1*np.exp(-(sigmas2 - 2*np.pi*F_peak)**2/aux3)\n",
    "print(outvec)\n",
    "plt.plot(sigmas2,outvec)\n",
    "\n",
    "4*np.sqrt(-np.trapz(outvec,sigmas2))"
   ]
  },
  {
   "cell_type": "code",
   "execution_count": 11,
   "metadata": {},
   "outputs": [
    {
     "name": "stdout",
     "output_type": "stream",
     "text": [
      "[ 0.  0.  0.  0.  0.  0.  0.  0.  0.  0.  0.  0.  0.  0.  0.  0.  0.  0.\n",
      "  0.  0.  0.  0.  0.  0.  0.  0.  0.  0.  0.  0.  0.]\n"
     ]
    }
   ],
   "source": [
    "print(u[-31:]-outvec)"
   ]
  },
  {
   "cell_type": "code",
   "execution_count": null,
   "metadata": {},
   "outputs": [],
   "source": []
  }
 ],
 "metadata": {
  "kernelspec": {
   "display_name": "Python 3",
   "language": "python",
   "name": "python3"
  },
  "language_info": {
   "codemirror_mode": {
    "name": "ipython",
    "version": 3
   },
   "file_extension": ".py",
   "mimetype": "text/x-python",
   "name": "python",
   "nbconvert_exporter": "python",
   "pygments_lexer": "ipython3",
   "version": "3.6.9"
  }
 },
 "nbformat": 4,
 "nbformat_minor": 4
}
