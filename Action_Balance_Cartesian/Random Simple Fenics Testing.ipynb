{
 "cells": [
  {
   "cell_type": "markdown",
   "metadata": {},
   "source": [
    "## Testing Various Fenics Specific Implementation Issues\n",
    "\n",
    "There is issue with implementing full action balance code. Cartesian product doesn't allow for intergation over whole domain so it isn't clear how to assemble mass matrix:\n",
    "\n",
    "$\\int_{\\Omega} \\mathbf{c}N \\cdot \\nabla v dx$\n",
    "\n",
    "Actually is discretized and computed in each subdomain but $\\mathbf{c}$ is function of both subdomains and is not seperable:\n",
    "\n",
    "$\\int_{\\Omega_1}  \\int_{\\Omega_2} \\mathbf{c} N \\cdot  \\nabla v dy dx$\n",
    "\n",
    "Now using tensor product basis for $N$ and $v$ defined as:\n",
    "\n",
    "$N(x,y) = \\sum_i \\sum_k N_{ik} \\phi_i(x) \\beta_k(y)$ and $v = \\sum_j \\sum_l v_{jl} \\psi_j(x) \\gamma_l(y)$\n",
    "\n",
    "Substituting this into continuous equation gives:\n",
    "\n",
    "$\\int_{\\Omega_1} \\int_{\\Omega_2} \\mathbf{c}(x,y) \\sum_i \\sum_k N_{ik} \\phi_i(x) \\beta_k(y) \\cdot \\nabla \\sum_j \\sum_l \\psi_j(x) \\gamma_l(y) dy dx $\n",
    "\n",
    "Arbitrariness of test functions leads to tensor product equations:\n",
    "\n",
    "$\\sum_i \\sum_k \\int_{\\Omega_1} \\int_{\\Omega_2} \\mathbf{c}(x,y)  \\phi_i(x) \\beta_k(y) \\cdot \\nabla  \\psi_j(x) \\gamma_l(y) dy dx  N_{ik} $\n",
    "\n",
    "Chain rule can allow for this system of equations to be expressed as a sum of some tensor products (note $\\mathbf{c} = (\\mathbf{c}_1,\\mathbf{c}_2) )$:\n",
    "\n",
    "$\\sum_i \\sum_k \\int_{\\Omega_1} \\int_{\\Omega_2} (\\mathbf{c}_1(x,y)  \\phi_i(x) \\beta_k(y), \\mathbf{c}_2(x,y)\\phi_i(x) \\beta_k(y)) \\cdot (\\gamma_l(y) \\nabla_1  \\psi_j(x), \\psi_j(x) \\nabla_2  \\gamma_l(y)) dy dx  N_{ik} $\n",
    "\n",
    "Now distributing this we obtain:\n",
    "\n",
    "$\\sum_i \\sum_k \\int_{\\Omega_1} \\int_{\\Omega_2} \\mathbf{c}_1(x,y)  \\phi_i(x) \\beta_k(y)\\gamma_l(y) \\cdot \\nabla_1  \\psi_j(x) + \\mathbf{c}_2(x,y)\\phi_i(x) \\beta_k(y) \\psi_j(x) \\cdot \\nabla_2  \\gamma_l(y) dy dx  N_{ik} $\n",
    "\n",
    "By Liebniz rule we can simplify, recall we can only integrate in subdomains in this case so we need to do the following. For simplicity we will just assume each subdomain is only 1 dimension but in general this is not the case and the sum will have to be written out:\n",
    "\n",
    "$\\sum_i \\sum_k \\left[ \\int_{\\Omega_1} \\phi_i(x) \\nabla_1 \\psi_j(x) \\int_{\\Omega_2}  \\mathbf{c}_1(x,y)  \\beta_k(y)\\gamma_l(y) dy dx   +  \\int_{\\Omega_1} \\phi_i(x) \\psi_j(x) \\int_{\\Omega_2} \\mathbf{c}_2(x,y) \\beta_k(y) \\nabla_2  \\gamma_l(y) dy dx\\right]  N_{ik} $\n",
    "\n",
    "Typically, these integrals can be evaluated as long as you have $\\mathbf{c}$ at each quadrature point which we do have. However we don't have access to this in FENICS, moreover we don't want to because this would result in the matrix assembly to be far more (basically we would have to assemble a separate stiffness matrix for each degree of freedom). So how can we handle this.\n",
    "\n",
    "For a moment let's ignore Cartesian product problem and just look at basic FEM and in 1-D, maybe instead of considering polynomial expansion of $N$ and $v$, we can consider polynomial expansion of $cN$ as so:\n",
    "\n",
    "$N(x) = \\sum_j (cN)_j \\phi_j(x)$ and $v(x) = \\sum_i v_i \\psi_i$\n",
    "\n",
    "Which gives following discrete system:\n",
    "\n",
    "$\\int_{\\Omega} \\sum_j (cN)_j \\phi_j(x) \\sum_i v_i \\psi_{i,x} dx  $\n",
    "\n",
    "Arbitrariness of $v$ implies the following matrix/vector product:\n",
    "\n",
    "$\\sum_j \\int_{\\Omega}    \\phi_j(x)  \\psi_{i,x} dx  (cN)_j $\n",
    "\n",
    "Here $A = \\int_{\\Omega}    \\phi_j(x)  \\psi_{i,x} dx $  and vector $x =  (cN)_j$\n",
    "Now I could just solve for $cN$ and then just divide as post processing step? This I think will work for 1D but in general will not.\n",
    "what if I multiply by identity matrix (c_j/c_j) to get:\n",
    "\n",
    "$\\sum_j \\int_{\\Omega}    \\phi_j(x)  \\psi_{i,x} dx  (cN)_j = I_{c_j}\\sum_j \\int_{\\Omega}    \\phi_j(x)  \\psi_{i,x} dx  (N)_j  $\n",
    "\n",
    "Where $I_{c_j}$ is a diagonal matrix with the $j^{th}$ entry of $c$ which would be the value of $c$ at the $j^{th}$ degree of freedom"
   ]
  },
  {
   "cell_type": "code",
   "execution_count": 1,
   "metadata": {},
   "outputs": [],
   "source": [
    "from __future__ import print_function\n",
    "from fenics import *\n",
    "from ufl import nabla_div\n",
    "import numpy as np\n",
    "import matplotlib.pyplot as plt\n",
    "from matplotlib import cm\n",
    "from matplotlib.ticker import LinearLocator\n",
    "from mpl_toolkits.mplot3d import Axes3D\n",
    "%matplotlib inline"
   ]
  },
  {
   "cell_type": "markdown",
   "metadata": {},
   "source": [
    "## Simple Example:\n",
    "\n",
    "Let's try a diffusion type equation with Dirichlet Boundary conditions:\n",
    "\n",
    "$ -(c(x) u_x)_x = f$\n",
    "\n",
    "which leads to weak form:\n",
    "\n",
    "$\\int_{\\Omega} c u_x v_x dx = \\int_{\\Omega} f v dx$ \n",
    "\n",
    "Now we will use method of manufactured solutions, lets let $u = exp(-x)$ and $c = x$\n",
    "so we will get $f = (1-x)e^{-x}$"
   ]
  },
  {
   "cell_type": "code",
   "execution_count": 2,
   "metadata": {},
   "outputs": [
    {
     "data": {
      "image/png": "[encoded data removed]",
      "text/plain": [
       "<Figure size 432x288 with 1 Axes>"
      ]
     },
     "metadata": {
      "needs_background": "light"
     },
     "output_type": "display_data"
    }
   ],
   "source": [
    "nx = 11\n",
    "a = 0\n",
    "b = 1\n",
    "mesh = IntervalMesh(nx,a,b)\n",
    "V1 = FunctionSpace(mesh,'P',1)\n",
    "v = TestFunction(V1)\n",
    "u= Function(V1)\n",
    "u_trial = TrialFunction(V1)\n",
    "v_test = TestFunction(V1)\n",
    "dof_coordinates=V1.tabulate_dof_coordinates()\n",
    "c = Expression('x[0]',domain=mesh,degree=4)\n",
    "f = Expression('(1-x[0])*exp(-x[0])',domain=mesh,degree=4)\n",
    "\n",
    "#first lets try with built in FENICS\n",
    "F = c*u_trial.dx(0)*v_test.dx(0)*dx - f*v_test*dx\n",
    "a,L = lhs(F),rhs(F)\n",
    "\n",
    "def boundary(x,on_boundary):\n",
    "    return on_boundary\n",
    "\n",
    "\n",
    "u_D = Expression('exp(-x[0])',domain=mesh,degree=4)\n",
    "bc = DirichletBC(V1, u_D, boundary)\n",
    "\n",
    "solve(a==L,u,bc)\n",
    "\n",
    "\n",
    "#A=assemble(a)\n",
    "#bc.apply(A)\n",
    "#b1 = assemble(L)\n",
    "#bc.apply(b1)\n",
    "#print(A.array())\n",
    "#print(np.array(b1))\n",
    "\n",
    "#print(u.vector()[:])\n",
    "plot(u)\n",
    "u_save=u"
   ]
  },
  {
   "cell_type": "code",
   "execution_count": 3,
   "metadata": {},
   "outputs": [
    {
     "data": {
      "text/plain": [
       "[<matplotlib.lines.Line2D at 0x40556be0b8>]"
      ]
     },
     "execution_count": 3,
     "metadata": {},
     "output_type": "execute_result"
    },
    {
     "data": {
      "image/png": "[encoded data removed]",
      "text/plain": [
       "<Figure size 432x288 with 1 Axes>"
      ]
     },
     "metadata": {
      "needs_background": "light"
     },
     "output_type": "display_data"
    }
   ],
   "source": [
    "plot(u_D,mesh=mesh)"
   ]
  },
  {
   "cell_type": "code",
   "execution_count": 4,
   "metadata": {},
   "outputs": [],
   "source": [
    "# Now try alternative strategy:\n",
    "#nx = 500\n",
    "#a = 0.5\n",
    "#b = 1\n",
    "#mesh = IntervalMesh(nx,a,b)\n",
    "V1 = FunctionSpace(mesh,'P',1)\n",
    "v = TestFunction(V1)\n",
    "u_trial = TrialFunction(V1)\n",
    "v_test = TestFunction(V1)\n",
    "dof_coordinates=V1.tabulate_dof_coordinates()\n",
    "#c = Expression('x[0]',domain=mesh,degree=4)\n",
    "f = Expression('(1-x[0])*exp(-x[0])',domain=mesh,degree=4)\n",
    "\n",
    "#first lets try with built in FENICS\n",
    "F = u_trial.dx(0)*v_test.dx(0)*dx - f*v_test*dx\n",
    "a,L = lhs(F),rhs(F)\n",
    "\n",
    "c_dof = dof_coordinates\n",
    "\n",
    "A = assemble(a)\n",
    "\n",
    "b = assemble(L)\n",
    "\n",
    "def boundary(x,on_boundary):\n",
    "    return on_boundary\n",
    "#if we are using cN then need to multiply in for BC\n",
    "u_D = Expression('exp(-x[0])',domain=mesh,degree=4)\n",
    "bc = DirichletBC(V1, u_D, boundary)\n",
    "#apply bc\n",
    "bc.apply(A)\n",
    "\n",
    "bc.apply(b)\n",
    "\n",
    "#after the fact apply c\n",
    "A=np.array(A.array())\n",
    "#print(A)\n",
    "b=np.array(b)\n",
    "#print(A.shape)\n",
    "#print(c_dof)\n",
    "#note, the boundary must be skipped for dirchlet BC!\n",
    "#in this case I already know boundary entries so i'll fix it after fact\n",
    "num_dof = len(c_dof)\n",
    "for i in range(num_dof):\n",
    "    A[:,i] = c_dof[i]*A[:,i]\n",
    "A[0,0] = 1\n",
    "A[-1,-1] = 1\n",
    "\n",
    "#print(A)\n",
    "#print(b)\n",
    "\n",
    "u = np.linalg.solve(A,b)\n",
    "\n",
    "\n",
    "#print(u)\n"
   ]
  },
  {
   "cell_type": "code",
   "execution_count": 5,
   "metadata": {},
   "outputs": [
    {
     "name": "stdout",
     "output_type": "stream",
     "text": [
      "L2 discrepancy between u with different ways of estimating c\n",
      "0.175024133828\n"
     ]
    },
    {
     "data": {
      "text/plain": [
       "[<matplotlib.lines.Line2D at 0x4055db7ef0>]"
      ]
     },
     "execution_count": 5,
     "metadata": {},
     "output_type": "execute_result"
    },
    {
     "data": {
      "image/png": "[encoded data removed]",
      "text/plain": [
       "<Figure size 432x288 with 1 Axes>"
      ]
     },
     "metadata": {
      "needs_background": "light"
     },
     "output_type": "display_data"
    }
   ],
   "source": [
    "u_exact = Expression('exp(-x[0])',domain=mesh,degree=4)\n",
    "print('L2 discrepancy between u with different ways of estimating c')\n",
    "u_func = Function(V1)\n",
    "u_func.vector()[:]=u\n",
    "print(np.sqrt(assemble(inner(u_save-u_func,u_save-u_func)*dx)))\n",
    "#print(np.sqrt(np.dot(np.absolute(u-u_save),np.absolute(u-u_save))/num_dof))\n",
    "plot(u_func)\n",
    "plot(u_exact, mesh=mesh)\n",
    "plot(u_save)\n",
    "#orang i"
   ]
  },
  {
   "cell_type": "markdown",
   "metadata": {},
   "source": [
    "## Clearly there is a big problem with just picking c, if it varies alot. Even refining doesn't seem to help much, this is maybe because we have velocity of 0 at end. If i change to case where velocity isn't zero then it works out better, but still really bad. Also seems to be error that is invariant to refinement. Also solving for cN first and dividing by c does NOT work! (its same as other way it looks like) I think problem isn't consistent because rhs will change/ (I think second way I tried is wrong since it is not advection problem it is poisson so you can't just do that)"
   ]
  },
  {
   "cell_type": "code",
   "execution_count": 6,
   "metadata": {},
   "outputs": [],
   "source": [
    "#alrernatively (this may only work for 1-D) we can 'average c' in a smarter way instead of just the coordinate  \n",
    "# for 1 D and linear basis it makes sense to use c as average between i and jth degree of freedom"
   ]
  },
  {
   "cell_type": "code",
   "execution_count": 7,
   "metadata": {},
   "outputs": [],
   "source": [
    "# Now try alternative strategy:\n",
    "#nx = 500\n",
    "#a = 0.5\n",
    "#b = 1\n",
    "#mesh = IntervalMesh(nx,a,b)\n",
    "V1 = FunctionSpace(mesh,'P',1)\n",
    "v = TestFunction(V1)\n",
    "u_trial = TrialFunction(V1)\n",
    "v_test = TestFunction(V1)\n",
    "dof_coordinates=V1.tabulate_dof_coordinates()\n",
    "#c = Expression('x[0]',domain=mesh,degree=4)\n",
    "f = Expression('(1-x[0])*exp(-x[0])',domain=mesh,degree=4)\n",
    "\n",
    "#first lets try with built in FENICS\n",
    "F = u_trial.dx(0)*v_test.dx(0)*dx - f*v_test*dx\n",
    "a,L = lhs(F),rhs(F)\n",
    "\n",
    "c_dof = dof_coordinates\n",
    "\n",
    "A = assemble(a)\n",
    "\n",
    "b = assemble(L)\n",
    "\n",
    "def boundary(x,on_boundary):\n",
    "    return on_boundary\n",
    "\n",
    "u_D = Expression('exp(-x[0])',domain=mesh,degree=4)\n",
    "bc = DirichletBC(V1, u_D, boundary)\n",
    "#apply bc\n",
    "bc.apply(A)\n",
    "\n",
    "bc.apply(b)\n",
    "\n",
    "#after the fact apply c\n",
    "A=np.array(A.array())\n",
    "#print(A)\n",
    "b=np.array(b)\n",
    "#print(A.shape)\n",
    "#print(c_dof)\n",
    "#note, the boundary must be skipped for dirchlet BC!\n",
    "#in this case I already know boundary entries so i'll fix it after fact\n",
    "num_dof = len(c_dof)\n",
    "for i in range(num_dof):\n",
    "    for j in range(num_dof):\n",
    "        A[i,j] = (c_dof[i]+c_dof[j])/2*A[i,j]\n",
    "A[0,0] = 1\n",
    "A[-1,-1] = 1\n",
    "\n",
    "#print(A)\n",
    "#print(b)\n",
    "\n",
    "u = np.linalg.solve(A,b)\n",
    "\n",
    "\n"
   ]
  },
  {
   "cell_type": "code",
   "execution_count": 8,
   "metadata": {},
   "outputs": [
    {
     "name": "stdout",
     "output_type": "stream",
     "text": [
      "L2 discrepancy between u with different ways of estimating c\n",
      "3.31802891794e-16\n"
     ]
    },
    {
     "data": {
      "text/plain": [
       "[<matplotlib.lines.Line2D at 0x4056ecdf98>]"
      ]
     },
     "execution_count": 8,
     "metadata": {},
     "output_type": "execute_result"
    },
    {
     "data": {
      "image/png": "[encoded data removed]",
      "text/plain": [
       "<Figure size 432x288 with 1 Axes>"
      ]
     },
     "metadata": {
      "needs_background": "light"
     },
     "output_type": "display_data"
    }
   ],
   "source": [
    "u_exact = Expression('exp(-x[0])',domain=mesh,degree=4)\n",
    "print('L2 discrepancy between u with different ways of estimating c')\n",
    "u_func = Function(V1)\n",
    "u_func.vector()[:]=u\n",
    "print(np.sqrt(assemble(inner(u_save-u_func,u_save-u_func)*dx)))\n",
    "#print(np.sqrt(np.dot(np.absolute(u-u_save),np.absolute(u-u_save))/num_dof))\n",
    "plot(u_func)\n",
    "plot(u_exact, mesh=mesh)\n",
    "plot(u_save)\n",
    "#orang i"
   ]
  },
  {
   "cell_type": "markdown",
   "metadata": {},
   "source": [
    "## This works!! Not clear how this generalizes to 2D tho unfortunately since quadrature is much mire complex.\n",
    "## maybe we can get reasonable estimate with same approach but lets try:\n",
    "\n",
    " $ -\\nabla \\cdot (c(x,y) \\nabla u) = f$\n",
    " \n",
    "which leads to weak form:\n",
    "\n",
    "$\\int_{\\Omega} c \\nabla u \\cdot \\nabla v dx = \\int_{\\Omega} f v dx$ \n",
    "\n",
    "Now we will use method of manufactured solutions, lets let $u = exp(-x-y)$ and $c = x+y$\n",
    "so we will get $f = 2*(1-x-y)e^{-x-y}$\n",
    "\n",
    "First trying with standard FENICS"
   ]
  },
  {
   "cell_type": "code",
   "execution_count": 9,
   "metadata": {},
   "outputs": [
    {
     "data": {
      "image/png": "[encoded data removed]",
      "text/plain": [
       "<Figure size 432x288 with 1 Axes>"
      ]
     },
     "metadata": {
      "needs_background": "light"
     },
     "output_type": "display_data"
    }
   ],
   "source": [
    "nx = 11\n",
    "ny = 11\n",
    "x0 = 0\n",
    "y0 = 0\n",
    "x1 = 1\n",
    "y1 = 1\n",
    "\n",
    "mesh = RectangleMesh(Point(x0,y0),Point(x1,y1),nx,ny)\n",
    "V1 = FunctionSpace(mesh,'P',1)\n",
    "v = TestFunction(V1)\n",
    "u= Function(V1)\n",
    "u_trial = TrialFunction(V1)\n",
    "v_test = TestFunction(V1)\n",
    "dof_coordinates=V1.tabulate_dof_coordinates()\n",
    "c = Expression('x[0]+x[1]',domain=mesh,degree=4)\n",
    "f = Expression('2*(1-x[0]-x[1])*exp(-x[0]-x[1])',domain=mesh,degree=4)\n",
    "\n",
    "#first lets try with built in FENICS\n",
    "F = c*u_trial.dx(0)*v_test.dx(0)*dx - f*v_test*dx\n",
    "a,L = lhs(F),rhs(F)\n",
    "\n",
    "def boundary(x,on_boundary):\n",
    "    return on_boundary\n",
    "\n",
    "\n",
    "u_D = Expression('exp(-x[0]-x[1])',domain=mesh,degree=4)\n",
    "bc = DirichletBC(V1, u_D, boundary)\n",
    "\n",
    "solve(a==L,u,bc)\n",
    "\n",
    "\n",
    "#A=assemble(a)\n",
    "#bc.apply(A)\n",
    "#b1 = assemble(L)\n",
    "#bc.apply(b1)\n",
    "#print(A.array())\n",
    "#print(np.array(b1))\n",
    "\n",
    "#print(u.vector()[:])\n",
    "plot(u)\n",
    "u_save=u"
   ]
  },
  {
   "cell_type": "code",
   "execution_count": 10,
   "metadata": {},
   "outputs": [
    {
     "data": {
      "text/plain": [
       "<matplotlib.tri.tricontour.TriContourSet at 0x4058cae0f0>"
      ]
     },
     "execution_count": 10,
     "metadata": {},
     "output_type": "execute_result"
    },
    {
     "data": {
      "image/png": "[encoded data removed]",
      "text/plain": [
       "<Figure size 432x288 with 1 Axes>"
      ]
     },
     "metadata": {
      "needs_background": "light"
     },
     "output_type": "display_data"
    }
   ],
   "source": [
    "plot(u_D,mesh=mesh)"
   ]
  },
  {
   "cell_type": "code",
   "execution_count": 11,
   "metadata": {},
   "outputs": [],
   "source": [
    "#now aproximate way:\n",
    "#nx = 11\n",
    "#ny = 11\n",
    "#x0 = 0.2\n",
    "#y0 = 0.2\n",
    "#x1 = 1\n",
    "#y1 = 1\n",
    "\n",
    "#mesh = RectangleMesh(Point(x0,y0),Point(x1,y1),nx,ny)\n",
    "V1 = FunctionSpace(mesh,'P',1)\n",
    "v = TestFunction(V1)\n",
    "u= Function(V1)\n",
    "u_trial = TrialFunction(V1)\n",
    "v_test = TestFunction(V1)\n",
    "c = Expression('x[0]+x[1]',domain=mesh,degree=4)\n",
    "f = Expression('2*(1-x[0]-x[1])*exp(-x[0]-x[1])',domain=mesh,degree=4)\n",
    "\n",
    "#Construct weak form\n",
    "F = u_trial.dx(0)*v_test.dx(0)*dx - f*v_test*dx\n",
    "a,L = lhs(F),rhs(F)\n",
    "\n",
    "def boundary(x,on_boundary):\n",
    "    return on_boundary\n",
    "\n",
    "\n",
    "u_D = Expression('exp(-x[0]-x[1])',domain=mesh,degree=4)\n",
    "bc = DirichletBC(V1, u_D, boundary)\n",
    "\n",
    "\n",
    "\n",
    "A=assemble(a)\n",
    "bc.apply(A)\n",
    "b1 = assemble(L)\n",
    "bc.apply(b1)\n",
    "\n",
    "A=np.array(A.array())\n",
    "b1  = np.array(b1)\n",
    "#compute c at dof\n",
    "dof_coordinates=V1.tabulate_dof_coordinates()\n",
    "n=V1.dim()\n",
    "d=mesh.geometry().dim()\n",
    "dof_coordinates.resize((n,d))\n",
    "c_dof = dof_coordinates[:,0] + dof_coordinates[:,1]\n",
    "\n",
    "num_dof = len(c_dof)\n",
    "for i in range(num_dof):\n",
    "    for j in range(num_dof):\n",
    "        A[i,j] = (c_dof[i]+c_dof[j])/2*A[i,j]\n",
    "\n",
    "#at boundary replace all dirichlet rows with 1\n",
    "dum1=Function(V1)\n",
    "u_D1 = Expression('1.0', degree=2)\n",
    "bc1 = DirichletBC(V1, u_D1, boundary)\n",
    "bc1.apply(dum1.vector())\n",
    "boundary_dofs = np.where(dum1.vector()==1.0)[0]\n",
    "for i in boundary_dofs:\n",
    "    A[i,i] = 1\n",
    "\n",
    "\n",
    "u = np.linalg.solve(A,b1)\n"
   ]
  },
  {
   "cell_type": "code",
   "execution_count": 12,
   "metadata": {},
   "outputs": [
    {
     "name": "stdout",
     "output_type": "stream",
     "text": [
      "L2 discrepancy between u with different ways of estimating c\n",
      "3.1397793921e-16\n"
     ]
    },
    {
     "data": {
      "text/plain": [
       "<matplotlib.tri.tricontour.TriContourSet at 0x4054fe8b00>"
      ]
     },
     "execution_count": 12,
     "metadata": {},
     "output_type": "execute_result"
    },
    {
     "data": {
      "image/png": "[encoded data removed]",
      "text/plain": [
       "<Figure size 432x288 with 1 Axes>"
      ]
     },
     "metadata": {
      "needs_background": "light"
     },
     "output_type": "display_data"
    }
   ],
   "source": [
    "#u_exact = Expression('exp(-x[0])',domain=mesh,degree=4)\n",
    "print('L2 discrepancy between u with different ways of estimating c')\n",
    "u_func = Function(V1)\n",
    "u_func.vector()[:]=u\n",
    "print(np.sqrt(assemble(inner(u_save-u_func,u_save-u_func)*dx)))\n",
    "#print(np.sqrt(np.dot(np.absolute(u-u_save),np.absolute(u-u_save))/num_dof))\n",
    "plot(u_func)\n",
    "#plot(u_exact, mesh=mesh)\n",
    "#plot(u_save)\n",
    "#orang i\n"
   ]
  },
  {
   "cell_type": "code",
   "execution_count": 16,
   "metadata": {},
   "outputs": [
    {
     "name": "stdout",
     "output_type": "stream",
     "text": [
      "0.102319734009\n"
     ]
    }
   ],
   "source": [
    "#print(abs(u_func.vector()[:] - np.exp(-dof_coordinates[:,0] - dof_coordinates[:,1])))\n",
    "print(max(abs(u_func.vector()[:] - np.exp(-dof_coordinates[:,0] - dof_coordinates[:,1]))))"
   ]
  },
  {
   "cell_type": "code",
   "execution_count": 17,
   "metadata": {},
   "outputs": [],
   "source": [
    "#now lets try cartesian product one and see if it works\n",
    "nx = 11\n",
    "ny = 11\n",
    "x0 = 0\n",
    "y0 = 0\n",
    "x1 = 1\n",
    "y1 = 1\n",
    "\n",
    "mesh1 = IntervalMesh(nx,x0,x1)\n",
    "mesh2 = IntervalMesh(ny,y0,y1)\n",
    "\n",
    "V1 = FunctionSpace(mesh1, 'P', 1)\n",
    "V2 = FunctionSpace(mesh2, 'P', 1)\n",
    "\n",
    "\n",
    "#create trial and test functions\n",
    "u1_trial = TrialFunction(V1)\n",
    "v1_test = TestFunction(V1)\n",
    "u2_trial = TrialFunction(V2)\n",
    "v2_test = TestFunction(V2)\n",
    "\n",
    "K11 = u1_trial.dx(0)*v1_test.dx(0)*dx\n",
    "K12 = u1_trial*v1_test*dx\n",
    "K21 = u2_trial.dx(0)*v2_test.dx(0)*dx\n",
    "K22 = u2_trial*v2_test*dx\n",
    "\n",
    "K11 = assemble(K11)\n",
    "K12 = assemble(K12)\n",
    "K21 = assemble(K21) \n",
    "K22 = assemble(K22)\n",
    "\n",
    "\n",
    "F1 = v1_test*dx\n",
    "F2 = v2_test*dx\n",
    "\n",
    "\n",
    "F1 = assemble(F1)\n",
    "F2 = assemble(F2)\n",
    "\n",
    "\n",
    "#use this to mark boundary (Dirichlet) \n",
    "def boundary(x, on_boundary):\n",
    "    return on_boundary\n",
    "\n",
    "#This function is simply used to mark the boundary (not the actual boundary condition)\n",
    "u_D1 = Expression('1.0', degree=2)\n",
    "\n",
    "\n",
    "#establish dummy functions\n",
    "dum1=Function(V1)\n",
    "dum2=Function(V2)\n",
    "\n",
    "\n",
    "#create boundary conditions\n",
    "bc1 = DirichletBC(V1, u_D1, boundary)\n",
    "bc2 = DirichletBC(V2, u_D1, boundary)\n",
    "\n",
    "#apply to vectors to mark boundaries\n",
    "bc1.apply(dum1.vector())\n",
    "bc2.apply(dum2.vector())\n",
    "\n",
    "#get index number for each boundary cooordinates in subdomain\n",
    "boundary_dofs1 = np.where(dum1.vector()==1.0)[0]\n",
    "boundary_dofs2 = np.where(dum2.vector()==1.0)[0]\n",
    "\n",
    "#need all physical coordinates in case we need for calculations\n",
    "dof_coordinates1=V1.tabulate_dof_coordinates()\n",
    "dof_coordinates2=V2.tabulate_dof_coordinates()\n",
    "\n",
    "def cartesian_product_dofs(array1,array2):\n",
    "    #gives cartesian product of 2 1d vectors\n",
    "    dim1=len(array1)\n",
    "    dim2=len(array2)\n",
    "    out_arr=np.zeros((dim1*dim2,2))\n",
    "    c=0\n",
    "    for a in range(dim1):\n",
    "        for b in range(dim2):\n",
    "            out_arr[c,:]=[array1[a],array2[b]]\n",
    "            c=c+1\n",
    "    return out_arr\n",
    "\n",
    "def cartesian_product_coords(array1,array2):\n",
    "    #gives cartesian product of 2 vectors\n",
    "    dim1,n1=array1.shape\n",
    "    dim2,n2=array2.shape\n",
    "    out_arr=np.zeros((dim1*dim2,n1+n2))\n",
    "    c=0\n",
    "    for a in range(dim1):\n",
    "        for b in range(dim2):\n",
    "            #print(array1[a,:])\n",
    "            #print(array2[b,:])\n",
    "            out_arr[c,:]=np.append(array1[a,:],array2[b,:])\n",
    "            c=c+1\n",
    "    return out_arr\n",
    "\n",
    "def cartesian_form_to_kroneck_form(indeces, len_dim_2):\n",
    "    #designed to take list of indexes in the cartesian form\n",
    "    #translate to single form as kron product would\n",
    "    #only for cartesian product between 2 spaces\n",
    "    #expects matrix with n rows, 2 columns\n",
    "    num_indeces=indeces.shape[0]\n",
    "    out_arr=np.zeros(num_indeces)\n",
    "    for n in range(num_indeces):\n",
    "        out_arr[n] = indeces[n,0]*len_dim_2 + indeces[n,1]\n",
    "    return out_arr\n",
    "\n",
    "#physical coordinates should be just cartesian product of 2 dof maps in same order that kron product operates\n",
    "global_dof=cartesian_product_coords(dof_coordinates1,dof_coordinates2)\n",
    "\n",
    "#coordinates of boundary in each subdomain\n",
    "boundary_coord1 = dof_coordinates1[boundary_dofs1]\n",
    "boundary_coord2 = dof_coordinates2[boundary_dofs2]\n",
    "\n",
    "#now connect subdomain indeces to global boundary (turn this into function in future)\n",
    "#maybe in future for speed we can precompute number of boundary dofs\n",
    "global_boundary_dofs=np.empty((len(boundary_dofs1)*len(dof_coordinates2) + len(dof_coordinates1)*len(boundary_dofs2),2))\n",
    "\n",
    "ctr=0\n",
    "for j in boundary_dofs1:\n",
    "    global_boundary_dofs[ctr*len(dof_coordinates2):(ctr+1)*len(dof_coordinates2),:] = \\\n",
    "    cartesian_product_dofs(np.array([j]),np.arange(dof_coordinates2.shape[0]))\n",
    "    ctr=ctr+1\n",
    "    \n",
    "last_ind = (ctr)*len(dof_coordinates2)\n",
    "\n",
    "\n",
    "for j in boundary_dofs2:\n",
    "    global_boundary_dofs[last_ind:last_ind+len(dof_coordinates1),:] = \\\n",
    "    cartesian_product_dofs(np.arange(dof_coordinates1.shape[0]),np.array([j]))\n",
    "    last_ind = last_ind+len(dof_coordinates1)    \n",
    "\n",
    "\n",
    "#sorts and also eliminates duplicates of \"corners\"\n",
    "global_boundary_dofs=np.unique(global_boundary_dofs,axis=0)\n",
    "\n",
    "\n",
    "#have cartesian product of dof at entire boundary (this form should be easy to get coordinates in if needed)\n",
    "#now need to convert to global system dof as the kron function does\n",
    "global_boundary_dofs=cartesian_form_to_kroneck_form(global_boundary_dofs, len(dof_coordinates2))\n",
    "global_boundary_dofs=global_boundary_dofs.astype(int)\n",
    "\n",
    "#assemble global system using kronecker product\n",
    "K11 = np.array(K11.array())\n",
    "K12 = np.array(K12.array())\n",
    "K21 = np.array(K21.array())\n",
    "K22 = np.array(K22.array())\n",
    "\n",
    "A = np.kron(K11,K22) + np.kron(K12,K21)\n",
    "\n",
    "#now need to multiply by c at each dof\n",
    "x = global_dof[:,0]\n",
    "y = global_dof[:,1]\n",
    "c_dof = x + y\n",
    "\n",
    "num_dof = len(c_dof)\n",
    "for i in range(num_dof):\n",
    "    for j in range(num_dof):\n",
    "        A[i,j] = (c_dof[i]+c_dof[j])/2*A[i,j]\n",
    "\n",
    "#for dirichlet boundaries\n",
    "K_bound = np.zeros(A.shape)\n",
    "for i in global_boundary_dofs:\n",
    "    K_bound[i,i] = 1\n",
    "\n",
    "A[global_boundary_dofs,:] = K_bound[global_boundary_dofs,:]\n",
    "\n",
    "b1 = np.array(F1)\n",
    "b2 = np.array(F2)\n",
    "B=np.kron(b1,b2)\n",
    "\n",
    "f_dof = 2*(1-x-y)*np.exp(-x-y)\n",
    "b = f_dof*B\n",
    "\n",
    "#set the value of solution on boundary as rhs\n",
    "B[global_boundary_dofs] = np.exp(-x[global_boundary_dofs] - y[global_boundary_dofs])\n",
    "\n",
    "#now solve\n",
    "u=np.linalg.solve(A,B)"
   ]
  },
  {
   "cell_type": "code",
   "execution_count": 18,
   "metadata": {},
   "outputs": [
    {
     "name": "stdout",
     "output_type": "stream",
     "text": [
      "0.0725041864432\n"
     ]
    }
   ],
   "source": [
    "#evaluate errors\n",
    "#print(abs(u - np.exp(-x-y)))\n",
    "print(max(abs(u - np.exp(-x-y))))"
   ]
  },
  {
   "cell_type": "code",
   "execution_count": 19,
   "metadata": {},
   "outputs": [
    {
     "data": {
      "image/png": "[encoded data removed]",
      "text/plain": [
       "<Figure size 432x288 with 2 Axes>"
      ]
     },
     "metadata": {
      "needs_background": "light"
     },
     "output_type": "display_data"
    }
   ],
   "source": [
    "#now find way to plot (we know we have regular grid in this case)\n",
    "fig,  ax2 = plt.subplots(nrows=1)\n",
    "\n",
    "ax2.tricontour(global_dof[:,0], global_dof[:,1], u, levels=14, linewidths=0.5, colors='k')\n",
    "cntr2 = ax2.tricontourf(global_dof[:,0], global_dof[:,1], u, levels=14, cmap=\"RdBu_r\")\n",
    "\n",
    "fig.colorbar(cntr2, ax=ax2)\n",
    "ax2.plot(global_dof[:,0], global_dof[:,1], 'ko', ms=3)\n",
    "ax2.set(xlim=(0, 1), ylim=(0, 1))\n",
    "ax2.set_title('Cartesian Product Solution')\n",
    "\n",
    "plt.subplots_adjust(hspace=0.5)\n",
    "plt.show()"
   ]
  },
  {
   "cell_type": "code",
   "execution_count": null,
   "metadata": {},
   "outputs": [],
   "source": []
  },
  {
   "cell_type": "code",
   "execution_count": null,
   "metadata": {},
   "outputs": [],
   "source": []
  }
 ],
 "metadata": {
  "kernelspec": {
   "display_name": "Python 3",
   "language": "python",
   "name": "python3"
  },
  "language_info": {
   "codemirror_mode": {
    "name": "ipython",
    "version": 3
   },
   "file_extension": ".py",
   "mimetype": "text/x-python",
   "name": "python",
   "nbconvert_exporter": "python",
   "pygments_lexer": "ipython3",
   "version": "3.6.9"
  }
 },
 "nbformat": 4,
 "nbformat_minor": 4
}
