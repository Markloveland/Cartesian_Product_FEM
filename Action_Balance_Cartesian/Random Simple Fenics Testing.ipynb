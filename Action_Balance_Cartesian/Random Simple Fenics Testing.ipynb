{
 "cells": [
  {
   "cell_type": "markdown",
   "metadata": {},
   "source": [
    "## Testing Various Fenics Specific Implementation Issues\n",
    "\n",
    "There is issue with implementing full action balance code. Cartesian product doesn't allow for intergation over whole domain so it isn't clear how to assemble mass matrix:\n",
    "\n",
    "$\\int_{\\Omega} \\mathbf{c}N \\cdot \\nabla v dx$\n",
    "\n",
    "Actually is discretized and computed in each subdomain but $\\mathbf{c}$ is function of both subdomains and is not seperable:\n",
    "\n",
    "$\\int_{\\Omega_1}  \\int_{\\Omega_2} \\mathbf{c} N \\cdot  \\nabla v dy dx$\n",
    "\n",
    "Now using tensor product basis for $N$ and $v$ defined as:\n",
    "\n",
    "$N(x,y) = \\sum_i \\sum_k N_{ik} \\phi_i(x) \\beta_k(y)$ and $v = \\sum_j \\sum_l v_{jl} \\psi_j(x) \\gamma_l(y)$\n",
    "\n",
    "Substituting this into continuous equation gives:\n",
    "\n",
    "$\\int_{\\Omega_1} \\int_{\\Omega_2} \\mathbf{c}(x,y) \\sum_i \\sum_k N_{ik} \\phi_i(x) \\beta_k(y) \\cdot \\nabla \\sum_j \\sum_l \\psi_j(x) \\gamma_l(y) dy dx $\n",
    "\n",
    "Arbitrariness of test functions leads to tensor product equations:\n",
    "\n",
    "$\\sum_i \\sum_k \\int_{\\Omega_1} \\int_{\\Omega_2} \\mathbf{c}(x,y)  \\phi_i(x) \\beta_k(y) \\cdot \\nabla  \\psi_j(x) \\gamma_l(y) dy dx  N_{ik} $\n",
    "\n",
    "Chain rule can allow for this system of equations to be expressed as a sum of some tensor products (note $\\mathbf{c} = (\\mathbf{c}_1,\\mathbf{c}_2) )$:\n",
    "\n",
    "$\\sum_i \\sum_k \\int_{\\Omega_1} \\int_{\\Omega_2} (\\mathbf{c}_1(x,y)  \\phi_i(x) \\beta_k(y), \\mathbf{c}_2(x,y)\\phi_i(x) \\beta_k(y)) \\cdot (\\gamma_l(y) \\nabla_1  \\psi_j(x), \\psi_j(x) \\nabla_2  \\gamma_l(y)) dy dx  N_{ik} $\n",
    "\n",
    "Now distributing this we obtain:\n",
    "\n",
    "$\\sum_i \\sum_k \\int_{\\Omega_1} \\int_{\\Omega_2} \\mathbf{c}_1(x,y)  \\phi_i(x) \\beta_k(y)\\gamma_l(y) \\cdot \\nabla_1  \\psi_j(x) + \\mathbf{c}_2(x,y)\\phi_i(x) \\beta_k(y) \\psi_j(x) \\cdot \\nabla_2  \\gamma_l(y) dy dx  N_{ik} $\n",
    "\n",
    "By Liebniz rule we can simplify, recall we can only integrate in subdomains in this case so we need to do the following. For simplicity we will just assume each subdomain is only 1 dimension but in general this is not the case and the sum will have to be written out:\n",
    "\n",
    "$\\sum_i \\sum_k \\left[ \\int_{\\Omega_1} \\phi_i(x) \\nabla_1 \\psi_j(x) \\int_{\\Omega_2}  \\mathbf{c}_1(x,y)  \\beta_k(y)\\gamma_l(y) dy dx   +  \\int_{\\Omega_1} \\phi_i(x) \\psi_j(x) \\int_{\\Omega_2} \\mathbf{c}_2(x,y) \\beta_k(y) \\nabla_2  \\gamma_l(y) dy dx\\right]  N_{ik} $\n",
    "\n",
    "Typically, these integrals can be evaluated as long as you have $\\mathbf{c}$ at each quadrature point which we do have. However we don't have access to this in FENICS, moreover we don't want to because this would result in the matrix assembly to be far more (basically we would have to assemble a separate stiffness matrix for each degree of freedom). So how can we handle this.\n",
    "\n",
    "For a moment let's ignore Cartesian product problem and just look at basic FEM and in 1-D, maybe instead of considering polynomial expansion of $N$ and $v$, we can consider polynomial expansion of $cN$ as so:\n",
    "\n",
    "$N(x) = \\sum_j (cN)_j \\phi_j(x)$ and $v(x) = \\sum_i v_i \\psi_i$\n",
    "\n",
    "Which gives following discrete system:\n",
    "\n",
    "$\\int_{\\Omega} \\sum_j (cN)_j \\phi_j(x) \\sum_i v_i \\psi_{i,x} dx  $\n",
    "\n",
    "Arbitrariness of $v$ implies the following matrix/vector product:\n",
    "\n",
    "$\\sum_j \\int_{\\Omega}    \\phi_j(x)  \\psi_{i,x} dx  (cN)_j $\n",
    "\n",
    "Here $A = \\int_{\\Omega}    \\phi_j(x)  \\psi_{i,x} dx $  and vector $x =  (cN)_j$\n",
    "Now I could just solve for $cN$ and then just divide as post processing step? This I think will work for 1D but in general will not.\n",
    "what if I multiply by identity matrix (c_j/c_j) to get:\n",
    "\n",
    "$\\sum_j \\int_{\\Omega}    \\phi_j(x)  \\psi_{i,x} dx  (cN)_j = I_{c_j}\\sum_j \\int_{\\Omega}    \\phi_j(x)  \\psi_{i,x} dx  (N)_j  $\n",
    "\n",
    "Where $I_{c_j}$ is a diagonal matrix with the $j^{th}$ entry of $c$ which would be the value of $c$ at the $j^{th}$ degree of freedom"
   ]
  },
  {
   "cell_type": "code",
   "execution_count": 1,
   "metadata": {},
   "outputs": [],
   "source": [
    "from __future__ import print_function\n",
    "from fenics import *\n",
    "from ufl import nabla_div\n",
    "import numpy as np\n",
    "import matplotlib.pyplot as plt\n",
    "from matplotlib import cm\n",
    "from matplotlib.ticker import LinearLocator\n",
    "from mpl_toolkits.mplot3d import Axes3D\n",
    "%matplotlib inline"
   ]
  },
  {
   "cell_type": "markdown",
   "metadata": {},
   "source": [
    "## Simple Example:\n",
    "\n",
    "Let's try a diffusion type equation with Dirichlet Boundary conditions:\n",
    "\n",
    "$ -(c(x) u_x)_x = f$\n",
    "\n",
    "which leads to weak form:\n",
    "\n",
    "$\\int_{\\Omega} c u_x v_x dx = \\int_{\\Omega} f v dx$ \n",
    "\n",
    "Now we will use method of manufactured solutions, lets let $u = exp(-x)$ and $c = x$\n",
    "so we will get $f = (1-x)e^{-x}$\n",
    "\n",
    "Second case, try nonlinear $c = x^2 + 1$ which means $f = (2x-x^2-1)e^{-x}$"
   ]
  },
  {
   "cell_type": "code",
   "execution_count": 3,
   "metadata": {},
   "outputs": [
    {
     "data": {
      "image/png": "[encoded data removed]",
      "text/plain": [
       "<Figure size 432x288 with 1 Axes>"
      ]
     },
     "metadata": {
      "needs_background": "light"
     },
     "output_type": "display_data"
    }
   ],
   "source": [
    "nx = 11\n",
    "a = 0\n",
    "b = 1\n",
    "mesh = IntervalMesh(nx,a,b)\n",
    "V1 = FunctionSpace(mesh,'P',1)\n",
    "v = TestFunction(V1)\n",
    "u= Function(V1)\n",
    "u_trial = TrialFunction(V1)\n",
    "v_test = TestFunction(V1)\n",
    "dof_coordinates=V1.tabulate_dof_coordinates()\n",
    "c = Expression('x[0]*x[0] +1',domain=mesh,degree=4)\n",
    "f = Expression('(-1+2*x[0]-x[0]*x[0])*exp(-x[0])',domain=mesh,degree=4)\n",
    "\n",
    "#first lets try with built in FENICS\n",
    "F = c*u_trial.dx(0)*v_test.dx(0)*dx - f*v_test*dx\n",
    "a,L = lhs(F),rhs(F)\n",
    "\n",
    "def boundary(x,on_boundary):\n",
    "    return on_boundary\n",
    "\n",
    "\n",
    "u_D = Expression('exp(-x[0])',domain=mesh,degree=4)\n",
    "bc = DirichletBC(V1, u_D, boundary)\n",
    "\n",
    "solve(a==L,u,bc)\n",
    "\n",
    "\n",
    "#A=assemble(a)\n",
    "#bc.apply(A)\n",
    "#b1 = assemble(L)\n",
    "#bc.apply(b1)\n",
    "#print(A.array())\n",
    "#print(np.array(b1))\n",
    "\n",
    "#print(u.vector()[:])\n",
    "plot(u)\n",
    "u_save=u"
   ]
  },
  {
   "cell_type": "code",
   "execution_count": 4,
   "metadata": {},
   "outputs": [
    {
     "data": {
      "text/plain": [
       "[<matplotlib.lines.Line2D at 0x4051b9d908>]"
      ]
     },
     "execution_count": 4,
     "metadata": {},
     "output_type": "execute_result"
    },
    {
     "data": {
      "image/png": "[encoded data removed]",
      "text/plain": [
       "<Figure size 432x288 with 1 Axes>"
      ]
     },
     "metadata": {
      "needs_background": "light"
     },
     "output_type": "display_data"
    }
   ],
   "source": [
    "plot(u_D,mesh=mesh)"
   ]
  },
  {
   "cell_type": "code",
   "execution_count": 5,
   "metadata": {},
   "outputs": [],
   "source": [
    "# Now try alternative strategy:\n",
    "#nx = 500\n",
    "#a = 0.5\n",
    "#b = 1\n",
    "#mesh = IntervalMesh(nx,a,b)\n",
    "V1 = FunctionSpace(mesh,'P',1)\n",
    "v = TestFunction(V1)\n",
    "u_trial = TrialFunction(V1)\n",
    "v_test = TestFunction(V1)\n",
    "dof_coordinates=V1.tabulate_dof_coordinates()\n",
    "#c = Expression('x[0]',domain=mesh,degree=4)\n",
    "#f = Expression('(1-x[0])*exp(-x[0])',domain=mesh,degree=4)\n",
    "f = Expression('(-1+2*x[0]-x[0]*x[0])*exp(-x[0])',domain=mesh,degree=4)\n",
    "#first lets try with built in FENICS\n",
    "F = u_trial.dx(0)*v_test.dx(0)*dx - f*v_test*dx\n",
    "a,L = lhs(F),rhs(F)\n",
    "\n",
    "c_dof = dof_coordinates**2 + 1\n",
    "\n",
    "A = assemble(a)\n",
    "\n",
    "b = assemble(L)\n",
    "\n",
    "def boundary(x,on_boundary):\n",
    "    return on_boundary\n",
    "#if we are using cN then need to multiply in for BC\n",
    "u_D = Expression('exp(-x[0])',domain=mesh,degree=4)\n",
    "bc = DirichletBC(V1, u_D, boundary)\n",
    "#apply bc\n",
    "bc.apply(A)\n",
    "\n",
    "bc.apply(b)\n",
    "\n",
    "#after the fact apply c\n",
    "A=np.array(A.array())\n",
    "#print(A)\n",
    "b=np.array(b)\n",
    "#print(A.shape)\n",
    "#print(c_dof)\n",
    "#note, the boundary must be skipped for dirchlet BC!\n",
    "#in this case I already know boundary entries so i'll fix it after fact\n",
    "num_dof = len(c_dof)\n",
    "for i in range(num_dof):\n",
    "    A[:,i] = c_dof[i]*A[:,i]\n",
    "A[0,0] = 1\n",
    "A[-1,-1] = 1\n",
    "\n",
    "#print(A)\n",
    "#print(b)\n",
    "\n",
    "u = np.linalg.solve(A,b)\n",
    "\n",
    "\n",
    "#print(u)\n"
   ]
  },
  {
   "cell_type": "code",
   "execution_count": 6,
   "metadata": {},
   "outputs": [
    {
     "name": "stdout",
     "output_type": "stream",
     "text": [
      "L2 discrepancy between u with different ways of estimating c\n",
      "0.0524523228086\n"
     ]
    },
    {
     "data": {
      "text/plain": [
       "[<matplotlib.lines.Line2D at 0x40520a0a58>]"
      ]
     },
     "execution_count": 6,
     "metadata": {},
     "output_type": "execute_result"
    },
    {
     "data": {
      "image/png": "[encoded data removed]",
      "text/plain": [
       "<Figure size 432x288 with 1 Axes>"
      ]
     },
     "metadata": {
      "needs_background": "light"
     },
     "output_type": "display_data"
    }
   ],
   "source": [
    "u_exact = Expression('exp(-x[0])',domain=mesh,degree=4)\n",
    "print('L2 discrepancy between u with different ways of estimating c')\n",
    "u_func = Function(V1)\n",
    "u_func.vector()[:]=u\n",
    "print(np.sqrt(assemble(inner(u_save-u_func,u_save-u_func)*dx)))\n",
    "#print(np.sqrt(np.dot(np.absolute(u-u_save),np.absolute(u-u_save))/num_dof))\n",
    "plot(u_func)\n",
    "plot(u_exact, mesh=mesh)\n",
    "plot(u_save)\n",
    "#orang i"
   ]
  },
  {
   "cell_type": "markdown",
   "metadata": {},
   "source": [
    "## Clearly there is a big problem with just picking c, if it varies alot. Even refining doesn't seem to help much, this is maybe because we have velocity of 0 at end. If i change to case where velocity isn't zero then it works out better, but still really bad. Also seems to be error that is invariant to refinement. Also solving for cN first and dividing by c does NOT work! (its same as other way it looks like) I think problem isn't consistent because rhs will change/ (I think second way I tried is wrong since it is not advection problem it is poisson so you can't just do that)"
   ]
  },
  {
   "cell_type": "code",
   "execution_count": 7,
   "metadata": {},
   "outputs": [],
   "source": [
    "#alrernatively (this may only work for 1-D) we can 'average c' in a smarter way instead of just the coordinate  \n",
    "# for 1 D and linear basis it makes sense to use c as average between i and jth degree of freedom"
   ]
  },
  {
   "cell_type": "code",
   "execution_count": 8,
   "metadata": {},
   "outputs": [],
   "source": [
    "# Now try alternative strategy:\n",
    "#nx = 500\n",
    "#a = 0.5\n",
    "#b = 1\n",
    "#mesh = IntervalMesh(nx,a,b)\n",
    "V1 = FunctionSpace(mesh,'P',1)\n",
    "v = TestFunction(V1)\n",
    "u_trial = TrialFunction(V1)\n",
    "v_test = TestFunction(V1)\n",
    "dof_coordinates=V1.tabulate_dof_coordinates()\n",
    "#c = Expression('x[0]',domain=mesh,degree=4)\n",
    "#f = Expression('(1-x[0])*exp(-x[0])',domain=mesh,degree=4)\n",
    "f = Expression('(-1+2*x[0]-x[0]*x[0])*exp(-x[0])',domain=mesh,degree=4)\n",
    "#first lets try with built in FENICS\n",
    "F = u_trial.dx(0)*v_test.dx(0)*dx - f*v_test*dx\n",
    "a,L = lhs(F),rhs(F)\n",
    "\n",
    "c_dof = dof_coordinates*dof_coordinates+1\n",
    "\n",
    "A = assemble(a)\n",
    "\n",
    "b = assemble(L)\n",
    "\n",
    "def boundary(x,on_boundary):\n",
    "    return on_boundary\n",
    "\n",
    "u_D = Expression('exp(-x[0])',domain=mesh,degree=4)\n",
    "bc = DirichletBC(V1, u_D, boundary)\n",
    "#apply bc\n",
    "bc.apply(A)\n",
    "\n",
    "bc.apply(b)\n",
    "\n",
    "#after the fact apply c\n",
    "A=np.array(A.array())\n",
    "#print(A)\n",
    "b=np.array(b)\n",
    "#print(A.shape)\n",
    "#print(c_dof)\n",
    "#note, the boundary must be skipped for dirchlet BC!\n",
    "#in this case I already know boundary entries so i'll fix it after fact\n",
    "num_dof = len(c_dof)\n",
    "for i in range(num_dof):\n",
    "    for j in range(num_dof):\n",
    "        A[i,j] = (c_dof[i]+c_dof[j])/2*A[i,j]\n",
    "A[0,0] = 1\n",
    "A[-1,-1] = 1\n",
    "\n",
    "#print(A)\n",
    "#print(b)\n",
    "\n",
    "u = np.linalg.solve(A,b)\n",
    "\n",
    "\n"
   ]
  },
  {
   "cell_type": "code",
   "execution_count": 9,
   "metadata": {},
   "outputs": [
    {
     "name": "stdout",
     "output_type": "stream",
     "text": [
      "L2 discrepancy between u with different ways of estimating c\n",
      "0.046630776711\n"
     ]
    },
    {
     "data": {
      "text/plain": [
       "[<matplotlib.lines.Line2D at 0x405303f2b0>]"
      ]
     },
     "execution_count": 9,
     "metadata": {},
     "output_type": "execute_result"
    },
    {
     "data": {
      "image/png": "[encoded data removed]",
      "text/plain": [
       "<Figure size 432x288 with 1 Axes>"
      ]
     },
     "metadata": {
      "needs_background": "light"
     },
     "output_type": "display_data"
    }
   ],
   "source": [
    "u_exact = Expression('exp(-x[0])',domain=mesh,degree=4)\n",
    "print('L2 discrepancy between u with different ways of estimating c')\n",
    "u_func = Function(V1)\n",
    "u_func.vector()[:]=u\n",
    "print(np.sqrt(assemble(inner(u_save-u_func,u_save-u_func)*dx)))\n",
    "#print(np.sqrt(np.dot(np.absolute(u-u_save),np.absolute(u-u_save))/num_dof))\n",
    "plot(u_func)\n",
    "plot(u_exact, mesh=mesh)\n",
    "#plot(u_save)\n",
    "#orang i"
   ]
  },
  {
   "cell_type": "markdown",
   "metadata": {},
   "source": [
    "## This only works for linear velocity case!! \n",
    "## Now lets try a 2D case with nonlinear velocity field\n",
    "\n",
    " $ -\\nabla \\cdot (c(x,y) \\nabla u) = f$\n",
    " \n",
    "which leads to weak form:\n",
    "\n",
    "$\\int_{\\Omega} c \\nabla u \\cdot \\nabla v dx = \\int_{\\Omega} f v dx$ \n",
    "\n",
    "Now we will use method of manufactured solutions, lets let $u = exp(-x-y)$ and $c = x^2+y^2$\n",
    "so we will get $f = 2(x^2+y^2 - x- y)e^{-x-y}$\n",
    "\n",
    "First trying with standard FENICS"
   ]
  },
  {
   "cell_type": "code",
   "execution_count": 17,
   "metadata": {},
   "outputs": [
    {
     "data": {
      "image/png": "[encoded data removed]",
      "text/plain": [
       "<Figure size 432x288 with 1 Axes>"
      ]
     },
     "metadata": {
      "needs_background": "light"
     },
     "output_type": "display_data"
    }
   ],
   "source": [
    "nx = 20\n",
    "ny = 20\n",
    "x0 = 0\n",
    "y0 = 0\n",
    "x1 = 1\n",
    "y1 = 1\n",
    "\n",
    "mesh = RectangleMesh(Point(x0,y0),Point(x1,y1),nx,ny)\n",
    "V = FunctionSpace(mesh,'P',1)\n",
    "v = TestFunction(V)\n",
    "u= Function(V)\n",
    "u_trial = TrialFunction(V)\n",
    "v_test = TestFunction(V)\n",
    "dof_coordinates=V.tabulate_dof_coordinates()\n",
    "#option 1,2,3,4\n",
    "#c = Expression('x[0]*x[0]+x[1]*x[1]',domain=mesh,degree=4)\n",
    "#c = Expression('x[0]+x[1]',domain=mesh,degree=4)\n",
    "c = Constant(1.0)\n",
    "#c = Expression('x[0]',domain=mesh,degree=4)\n",
    "#c = Expression('x[1]',domain=mesh,degree=4)\n",
    "#option1,2,3\n",
    "#f = Expression('-2*(x[0]*x[0]+x[1]*x[1]-x[0]-x[1])*exp(-x[0]-x[1])',domain=mesh,degree=4)\n",
    "#f = Expression('2*(1-x[0]-x[1])*exp(-x[0]-x[1])',domain=mesh,degree=4)\n",
    "f = Expression('-2*exp(-x[0]-x[1])',domain=mesh,degree=4)\n",
    "#f = Expression('(1-2*x[0])*exp(-x[0]-x[1])',domain=mesh,degree=4)\n",
    "#f = Expression('(1-2*x[1])*exp(-x[0]-x[1])',domain=mesh,degree=4)\n",
    "#first lets try with built in FENICS\n",
    "F = c*u_trial.dx(0)*v_test.dx(0)*dx + c*u_trial.dx(1)*v_test.dx(1)*dx - f*v_test*dx\n",
    "a,L = lhs(F),rhs(F)\n",
    "\n",
    "def boundary(x,on_boundary):\n",
    "    return on_boundary\n",
    "\n",
    "\n",
    "u_D = Expression('exp(-x[0]-x[1])',domain=mesh,degree=4)\n",
    "bc = DirichletBC(V, u_D, boundary)\n",
    "\n",
    "solve(a==L,u,bc)\n",
    "\n",
    "\n",
    "#A=assemble(a)\n",
    "#bc.apply(A)\n",
    "#b1 = assemble(L)\n",
    "#bc.apply(b1)\n",
    "#print(A.array())\n",
    "#print(np.array(b1))\n",
    "\n",
    "#print(u.vector()[:])\n",
    "plot(u)\n",
    "u_save=u"
   ]
  },
  {
   "cell_type": "code",
   "execution_count": 18,
   "metadata": {},
   "outputs": [
    {
     "name": "stdout",
     "output_type": "stream",
     "text": [
      "1.3320703231e-05\n",
      "2.42063634107e-05\n"
     ]
    }
   ],
   "source": [
    "u_D_func = interpolate(u_D,V)\n",
    "e0 = u-u_D_func\n",
    "print(np.sqrt(assemble(inner(e0,e0)*dx)))\n",
    "print(max(abs(u.vector()[:] - u_D_func.vector()[:])))"
   ]
  },
  {
   "cell_type": "code",
   "execution_count": 6,
   "metadata": {},
   "outputs": [
    {
     "name": "stdout",
     "output_type": "stream",
     "text": [
      "<class 'numpy.ndarray'>\n",
      "[ 1.    0.95  0.9   0.85  0.8   0.75  0.7   0.65  0.6   0.55  0.5   0.45\n",
      "  0.4   0.35  0.3   0.25  0.2   0.15  0.1   0.05  0.  ]\n",
      "[ 1.    0.95  0.9   0.85  0.8   0.75  0.7   0.65  0.6   0.55  0.5   0.45\n",
      "  0.4   0.35  0.3   0.25  0.2   0.15  0.1   0.05  0.  ]\n"
     ]
    },
    {
     "data": {
      "image/png": "[encoded data removed]",
      "text/plain": [
       "<Figure size 432x288 with 1 Axes>"
      ]
     },
     "metadata": {
      "needs_background": "light"
     },
     "output_type": "display_data"
    }
   ],
   "source": [
    "#now lets try cartesian product one and see if it works\n",
    "nx = 20\n",
    "ny = 20\n",
    "x0 = 0\n",
    "y0 = 0\n",
    "x1 = 1\n",
    "y1 = 1\n",
    "\n",
    "mesh1 = IntervalMesh(nx,x0,x1)\n",
    "mesh2 = IntervalMesh(ny,y0,y1)\n",
    "\n",
    "V1 = FunctionSpace(mesh1, 'P', 1)\n",
    "V2 = FunctionSpace(mesh2, 'P', 1)\n",
    "\n",
    "\n",
    "#create trial and test functions\n",
    "u1_trial = TrialFunction(V1)\n",
    "v1_test = TestFunction(V1)\n",
    "u2_trial = TrialFunction(V2)\n",
    "v2_test = TestFunction(V2)\n",
    "\n",
    "\n",
    "\n",
    "#use this to mark boundary (Dirichlet) \n",
    "def boundary(x, on_boundary):\n",
    "    return on_boundary\n",
    "\n",
    "#This function is simply used to mark the boundary (not the actual boundary condition)\n",
    "u_D1 = Expression('1.0', degree=2)\n",
    "\n",
    "\n",
    "#establish dummy functions\n",
    "dum1=Function(V1)\n",
    "dum2=Function(V2)\n",
    "\n",
    "\n",
    "#create boundary conditions\n",
    "bc1 = DirichletBC(V1, u_D1, boundary)\n",
    "bc2 = DirichletBC(V2, u_D1, boundary)\n",
    "\n",
    "#apply to vectors to mark boundaries\n",
    "bc1.apply(dum1.vector())\n",
    "bc2.apply(dum2.vector())\n",
    "\n",
    "#get index number for each boundary cooordinates in subdomain\n",
    "boundary_dofs1 = np.where(dum1.vector()==1.0)[0]\n",
    "boundary_dofs2 = np.where(dum2.vector()==1.0)[0]\n",
    "\n",
    "#need all physical coordinates in case we need for calculations\n",
    "dof_coordinates1=V1.tabulate_dof_coordinates()\n",
    "dof_coordinates2=V2.tabulate_dof_coordinates()\n",
    "N_dof_1 = len(dof_coordinates1)\n",
    "N_dof_2 = len(dof_coordinates2)\n",
    "\n",
    "def cartesian_product_dofs(array1,array2):\n",
    "    #gives cartesian product of 2 1d vectors\n",
    "    dim1=len(array1)\n",
    "    dim2=len(array2)\n",
    "    out_arr=np.zeros((dim1*dim2,2))\n",
    "    c=0\n",
    "    for a in range(dim1):\n",
    "        for b in range(dim2):\n",
    "            out_arr[c,:]=[array1[a],array2[b]]\n",
    "            c=c+1\n",
    "    return out_arr\n",
    "\n",
    "def cartesian_product_coords(array1,array2):\n",
    "    #gives cartesian product of 2 vectors\n",
    "    dim1,n1=array1.shape\n",
    "    dim2,n2=array2.shape\n",
    "    out_arr=np.zeros((dim1*dim2,n1+n2))\n",
    "    c=0\n",
    "    for a in range(dim1):\n",
    "        for b in range(dim2):\n",
    "            #print(array1[a,:])\n",
    "            #print(array2[b,:])\n",
    "            out_arr[c,:]=np.append(array1[a,:],array2[b,:])\n",
    "            c=c+1\n",
    "    return out_arr\n",
    "\n",
    "def cartesian_form_to_kroneck_form(indeces, len_dim_2):\n",
    "    #designed to take list of indexes in the cartesian form\n",
    "    #translate to single form as kron product would\n",
    "    #only for cartesian product between 2 spaces\n",
    "    #expects matrix with n rows, 2 columns\n",
    "    num_indeces=indeces.shape[0]\n",
    "    out_arr=np.zeros(num_indeces)\n",
    "    for n in range(num_indeces):\n",
    "        out_arr[n] = indeces[n,0]*len_dim_2 + indeces[n,1]\n",
    "    return out_arr\n",
    "\n",
    "#physical coordinates should be just cartesian product of 2 dof maps in same order that kron product operates\n",
    "global_dof=cartesian_product_coords(dof_coordinates1,dof_coordinates2)\n",
    "x = global_dof[:,0]\n",
    "y = global_dof[:,1]\n",
    "\n",
    "#coordinates of boundary in each subdomain\n",
    "boundary_coord1 = dof_coordinates1[boundary_dofs1]\n",
    "boundary_coord2 = dof_coordinates2[boundary_dofs2]\n",
    "\n",
    "#now connect subdomain indeces to global boundary (turn this into function in future)\n",
    "#maybe in future for speed we can precompute number of boundary dofs\n",
    "global_boundary_dofs=np.empty((len(boundary_dofs1)*len(dof_coordinates2) + len(dof_coordinates1)*len(boundary_dofs2),2))\n",
    "\n",
    "ctr=0\n",
    "for j in boundary_dofs1:\n",
    "    global_boundary_dofs[ctr*len(dof_coordinates2):(ctr+1)*len(dof_coordinates2),:] = \\\n",
    "    cartesian_product_dofs(np.array([j]),np.arange(dof_coordinates2.shape[0]))\n",
    "    ctr=ctr+1\n",
    "    \n",
    "last_ind = (ctr)*len(dof_coordinates2)\n",
    "\n",
    "\n",
    "for j in boundary_dofs2:\n",
    "    global_boundary_dofs[last_ind:last_ind+len(dof_coordinates1),:] = \\\n",
    "    cartesian_product_dofs(np.arange(dof_coordinates1.shape[0]),np.array([j]))\n",
    "    last_ind = last_ind+len(dof_coordinates1)    \n",
    "\n",
    "\n",
    "#sorts and also eliminates duplicates of \"corners\"\n",
    "global_boundary_dofs=np.unique(global_boundary_dofs,axis=0)\n",
    "\n",
    "\n",
    "#have cartesian product of dof at entire boundary (this form should be easy to get coordinates in if needed)\n",
    "#now need to convert to global system dof as the kron function does\n",
    "global_boundary_dofs=cartesian_form_to_kroneck_form(global_boundary_dofs, len(dof_coordinates2))\n",
    "global_boundary_dofs=global_boundary_dofs.astype(int)\n",
    "\n",
    "\n",
    "#option 1,2,or 3\n",
    "#c = x**2 + y**2\n",
    "#c = x+y\n",
    "#c = np.ones(x.shape)\n",
    "c = x\n",
    "#c = y\n",
    "\n",
    "c1 = Function(V1)\n",
    "#at each degree of freedom, create a stiffness matrix\n",
    "A1 = np.zeros((N_dof_1,N_dof_1,N_dof_2))\n",
    "A2 = np.zeros((N_dof_1,N_dof_1,N_dof_2))\n",
    "\n",
    "for i in range(N_dof_2):\n",
    "    #function of x at a specific y dof\n",
    "    c1.vector()[:] = np.array(c[i::N_dof_2])\n",
    "    K12 = c1*inner(u1_trial.dx(0),v1_test.dx(0))*dx\n",
    "    K12 = assemble(K12)\n",
    "    K12 = np.array(K12.array())\n",
    "    #enter into vector of arrays\n",
    "    A1[:,:,i] = K12\n",
    "    \n",
    "    #do same for second matrix\n",
    "    K14 = c1*u1_trial*v1_test*dx\n",
    "    K14 = assemble(K14)\n",
    "    K14 = np.array(K14.array())\n",
    "    A2[:,:,i] = K14\n",
    "\n",
    "    \n",
    "\n",
    "\n",
    "#also assemble the separable ones for RHS\n",
    "K11 = u1_trial*v1_test*dx\n",
    "K21 = u2_trial*v2_test*dx\n",
    "\n",
    "\n",
    "K11 = assemble(K11)\n",
    "K21 = assemble(K21)\n",
    "\n",
    "\n",
    "K11 = np.array(K11.array())\n",
    "K21 = np.array(K21.array())\n",
    "\n",
    "#now build the global one\n",
    "A = np.zeros((N_dof_1*N_dof_2,N_dof_1*N_dof_2))\n",
    "fy = Function(V2)\n",
    "for i in range(N_dof_1):\n",
    "    for j in range(N_dof_1):\n",
    "        fy.vector()[:] = np.array(A1[i,j,:])\n",
    "        \n",
    "        #integrate to create one of the stiffness matrices\n",
    "        A_temp = fy*u2_trial*v2_test*dx\n",
    "        A_temp = assemble(A_temp)\n",
    "        A_temp = np.array(A_temp.array())\n",
    "        \n",
    "        #add in the other one\n",
    "        fy.vector()[:] = np.array(A2[i,j,:])\n",
    "        A_temp2 = fy*u2_trial.dx(0)*v2_test.dx(0)*dx\n",
    "        A_temp2 = assemble(A_temp2)\n",
    "        A_temp2 = np.array(A_temp2.array())\n",
    "        \n",
    "        \n",
    "        A[i*N_dof_2:(i+1)*N_dof_2,j*N_dof_2:(j+1)*N_dof_2] = A_temp + A_temp2\n",
    "        \n",
    "        \n",
    "        \n",
    "#add on separable part\n",
    "F =  np.kron(K11,K21)\n",
    "\n",
    "\n",
    "\n",
    "#S = -2*(x**2+y**2-x-y)*np.exp(-x-y)\n",
    "#S = 2*(1-x-y)*np.exp(-x-y)\n",
    "#S = -2*np.exp(-x-y)\n",
    "S = (1-2*x)*np.exp(-x-y)\n",
    "#S = (1-2*y)*np.exp(-x-y)\n",
    "\n",
    "\n",
    "RHS = F.dot(S)\n",
    "#wipe out rows of global matrix that need to be dirichlet\n",
    "K_bound = np.zeros(A.shape)\n",
    "for i in global_boundary_dofs:\n",
    "    K_bound[i,i] = 1\n",
    "\n",
    "A[global_boundary_dofs,:] = K_bound[global_boundary_dofs,:]\n",
    "\n",
    "\n",
    "RHS[global_boundary_dofs] = np.exp(-x[global_boundary_dofs]-y[global_boundary_dofs])\n",
    "u=np.linalg.solve(A,RHS)\n",
    "\n",
    "\n"
   ]
  },
  {
   "cell_type": "code",
   "execution_count": 79,
   "metadata": {},
   "outputs": [
    {
     "name": "stdout",
     "output_type": "stream",
     "text": [
      "3.36315345141e-06\n",
      "0.000470493534191\n"
     ]
    }
   ],
   "source": [
    "#evaluate errors\n",
    "print(np.linalg.norm(F.dot(u-np.exp(-x-y))))\n",
    "print(max(abs(u - np.exp(-x-y))))"
   ]
  },
  {
   "cell_type": "code",
   "execution_count": 80,
   "metadata": {},
   "outputs": [
    {
     "data": {
      "image/png": "[encoded data removed]",
      "text/plain": [
       "<Figure size 432x288 with 2 Axes>"
      ]
     },
     "metadata": {
      "needs_background": "light"
     },
     "output_type": "display_data"
    }
   ],
   "source": [
    "#now find way to plot (we know we have regular grid in this case)\n",
    "fig,  ax2 = plt.subplots(nrows=1)\n",
    "\n",
    "ax2.tricontour(global_dof[:,0], global_dof[:,1], u, levels=14, linewidths=0.5, colors='k')\n",
    "cntr2 = ax2.tricontourf(global_dof[:,0], global_dof[:,1], u, levels=14, cmap=\"RdBu_r\")\n",
    "\n",
    "fig.colorbar(cntr2, ax=ax2)\n",
    "ax2.plot(global_dof[:,0], global_dof[:,1], 'ko', ms=3)\n",
    "ax2.set(xlim=(0, 1), ylim=(0, 1))\n",
    "ax2.set_title('Cartesian Product Solution')\n",
    "\n",
    "plt.subplots_adjust(hspace=0.5)\n",
    "plt.show()"
   ]
  },
  {
   "cell_type": "code",
   "execution_count": 75,
   "metadata": {},
   "outputs": [
    {
     "name": "stdout",
     "output_type": "stream",
     "text": [
      "0.0\n",
      "[ 1.    1.    1.    1.    1.    1.    1.    1.    1.    1.    1.    1.    1.\n",
      "  1.    1.    1.    1.    1.    1.    1.    1.    0.95  0.95  0.9   0.9\n",
      "  0.85  0.85  0.8   0.8   0.75  0.75  0.7   0.7   0.65  0.65  0.6   0.6\n",
      "  0.55  0.55  0.5   0.5   0.45  0.45  0.4   0.4   0.35  0.35  0.3   0.3\n",
      "  0.25  0.25  0.2   0.2   0.15  0.15  0.1   0.1   0.05  0.05  0.    0.    0.\n",
      "  0.    0.    0.    0.    0.    0.    0.    0.    0.    0.    0.    0.    0.\n",
      "  0.    0.    0.    0.    0.  ]\n",
      "[ 1.    0.95  0.9   0.85  0.8   0.75  0.7   0.65  0.6   0.55  0.5   0.45\n",
      "  0.4   0.35  0.3   0.25  0.2   0.15  0.1   0.05  0.    1.    0.    1.    0.\n",
      "  1.    0.    1.    0.    1.    0.    1.    0.    1.    0.    1.    0.    1.\n",
      "  0.    1.    0.    1.    0.    1.    0.    1.    0.    1.    0.    1.    0.\n",
      "  1.    0.    1.    0.    1.    0.    1.    0.    1.    0.95  0.9   0.85\n",
      "  0.8   0.75  0.7   0.65  0.6   0.55  0.5   0.45  0.4   0.35  0.3   0.25\n",
      "  0.2   0.15  0.1   0.05  0.  ]\n"
     ]
    }
   ],
   "source": [
    "print(max(abs(u[global_boundary_dofs] - np.exp(-x[global_boundary_dofs]-y[global_boundary_dofs]))))\n",
    "print(x[global_boundary_dofs])\n",
    "print(y[global_boundary_dofs])"
   ]
  },
  {
   "cell_type": "code",
   "execution_count": 59,
   "metadata": {},
   "outputs": [
    {
     "name": "stdout",
     "output_type": "stream",
     "text": [
      "[ 1.    0.95  0.9   0.85  0.8   0.75  0.7   0.65  0.6   0.55  0.5   0.45\n",
      "  0.4   0.35  0.3   0.25  0.2   0.15  0.1   0.05  0.  ]\n"
     ]
    }
   ],
   "source": [
    "print(c[20::N_dof_2])"
   ]
  },
  {
   "cell_type": "code",
   "execution_count": null,
   "metadata": {},
   "outputs": [],
   "source": []
  }
 ],
 "metadata": {
  "kernelspec": {
   "display_name": "Python 3",
   "language": "python",
   "name": "python3"
  },
  "language_info": {
   "codemirror_mode": {
    "name": "ipython",
    "version": 3
   },
   "file_extension": ".py",
   "mimetype": "text/x-python",
   "name": "python",
   "nbconvert_exporter": "python",
   "pygments_lexer": "ipython3",
   "version": "3.6.9"
  }
 },
 "nbformat": 4,
 "nbformat_minor": 4
}
