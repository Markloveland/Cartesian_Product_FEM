{
 "cells": [
  {
   "cell_type": "code",
   "execution_count": 2,
   "metadata": {},
   "outputs": [],
   "source": [
    "from __future__ import print_function\n",
    "#from fenics import *\n",
    "import dolfin as dl\n",
    "import matplotlib.pyplot as plt\n",
    "import numpy as np\n",
    "%matplotlib inline\n"
   ]
  },
  {
   "cell_type": "markdown",
   "metadata": {},
   "source": [
    "# 1D Poisson Example"
   ]
  },
  {
   "cell_type": "code",
   "execution_count": 12,
   "metadata": {},
   "outputs": [
    {
     "name": "stdout",
     "output_type": "stream",
     "text": [
      "Before BC\n",
      "[-0.375 -0.75  -0.75  -0.75  -0.75  -0.75  -0.75  -0.75  -0.375]\n",
      "[[  8.  -8.   0.   0.   0.   0.   0.   0.   0.]\n",
      " [ -8.  16.  -8.   0.   0.   0.   0.   0.   0.]\n",
      " [  0.  -8.  16.  -8.   0.   0.   0.   0.   0.]\n",
      " [  0.   0.  -8.  16.  -8.   0.   0.   0.   0.]\n",
      " [  0.   0.   0.  -8.  16.  -8.   0.   0.   0.]\n",
      " [  0.   0.   0.   0.  -8.  16.  -8.   0.   0.]\n",
      " [  0.   0.   0.   0.   0.  -8.  16.  -8.   0.]\n",
      " [  0.   0.   0.   0.   0.   0.  -8.  16.  -8.]\n",
      " [  0.   0.   0.   0.   0.   0.   0.  -8.   8.]]\n",
      "Left BC applied\n",
      "[-0.375 -0.75  -0.75  -0.75  -0.75  -0.75  -0.75  -0.75   1.   ]\n",
      "[[  8.  -8.   0.   0.   0.   0.   0.   0.   0.]\n",
      " [ -8.  16.  -8.   0.   0.   0.   0.   0.   0.]\n",
      " [  0.  -8.  16.  -8.   0.   0.   0.   0.   0.]\n",
      " [  0.   0.  -8.  16.  -8.   0.   0.   0.   0.]\n",
      " [  0.   0.   0.  -8.  16.  -8.   0.   0.   0.]\n",
      " [  0.   0.   0.   0.  -8.  16.  -8.   0.   0.]\n",
      " [  0.   0.   0.   0.   0.  -8.  16.  -8.   0.]\n",
      " [  0.   0.   0.   0.   0.   0.  -8.  16.  -8.]\n",
      " [  0.   0.   0.   0.   0.   0.   0.   0.   1.]]\n",
      "Right BC applied\n",
      "[ 4.   -0.75 -0.75 -0.75 -0.75 -0.75 -0.75 -0.75  1.  ]\n",
      "[[  1.   0.   0.   0.   0.   0.   0.   0.   0.]\n",
      " [ -8.  16.  -8.   0.   0.   0.   0.   0.   0.]\n",
      " [  0.  -8.  16.  -8.   0.   0.   0.   0.   0.]\n",
      " [  0.   0.  -8.  16.  -8.   0.   0.   0.   0.]\n",
      " [  0.   0.   0.  -8.  16.  -8.   0.   0.   0.]\n",
      " [  0.   0.   0.   0.  -8.  16.  -8.   0.   0.]\n",
      " [  0.   0.   0.   0.   0.  -8.  16.  -8.   0.]\n",
      " [  0.   0.   0.   0.   0.   0.  -8.  16.  -8.]\n",
      " [  0.   0.   0.   0.   0.   0.   0.   0.   1.]]\n"
     ]
    }
   ],
   "source": [
    "# Create mesh and define function space\n",
    "mesh = dl.UnitIntervalMesh(8)\n",
    "V = dl.FunctionSpace(mesh, 'P', 1)\n",
    "\n",
    "# Define boundary condition\n",
    "#u_D = dl.Expression('1 + x[0]*x[0] + 2*x[1]*x[1]', degree=2)\n",
    "#try a simpler one\n",
    "u_D = dl.Expression('1  + 3*x[0]*x[0]', degree=2)\n",
    "def left_boundary(x, on_boundary):\n",
    "    if on_boundary and np.abs(x - 0.0) < 1e-8:\n",
    "        return True\n",
    "    else:\n",
    "        return False\n",
    "def right_boundary(x, on_boundary):\n",
    "    if on_boundary and np.abs(x - 1.0) < 1e-8:\n",
    "        return True\n",
    "    else:\n",
    "        return False    \n",
    "\n",
    "bc_left = dl.DirichletBC(V, u_D, left_boundary)\n",
    "bc_right = dl.DirichletBC(V,u_D,right_boundary)\n",
    "\n",
    "# Define variational problem\n",
    "u = dl.TrialFunction(V)\n",
    "v = dl.TestFunction(V)\n",
    "f = dl.Constant(-6.0)\n",
    "\n",
    "a = dl.dot(dl.grad(u), dl.grad(v))*dl.dx\n",
    "L = f*v*dl.dx\n",
    "\n",
    "\n",
    "#construct matrices and see how applying boundaries works\n",
    "K = dl.assemble(a)\n",
    "b = dl.assemble(L)\n",
    "\n",
    "print('Before BC')\n",
    "print(b[:])\n",
    "print(K.array())\n",
    "\n",
    "#apply left boundary\n",
    "print('Left BC applied')\n",
    "bc_left.apply(K)\n",
    "bc_left.apply(b)\n",
    "print(b[:])\n",
    "print(K.array())\n",
    "\n",
    "\n",
    "#apply right boundary\n",
    "print('Right BC applied')\n",
    "bc_right.apply(K)\n",
    "bc_right.apply(b)\n",
    "print(b[:])\n",
    "print(K.array())"
   ]
  },
  {
   "cell_type": "code",
   "execution_count": 13,
   "metadata": {},
   "outputs": [
    {
     "name": "stdout",
     "output_type": "stream",
     "text": [
      "[ 4.        3.296875  2.6875    2.171875  1.75      1.421875  1.1875\n",
      "  1.046875  1.      ]\n"
     ]
    }
   ],
   "source": [
    "#see if there is discrepancy between numpy solve and fenics\n",
    "np_u = np.linalg.solve(np.array(K.array()),np.array(b))\n",
    "print(np_u)"
   ]
  },
  {
   "cell_type": "code",
   "execution_count": 16,
   "metadata": {},
   "outputs": [
    {
     "name": "stdout",
     "output_type": "stream",
     "text": [
      "Calling FFC just-in-time (JIT) compiler, this may take some time.\n",
      "Calling FFC just-in-time (JIT) compiler, this may take some time.\n",
      "Calling FFC just-in-time (JIT) compiler, this may take some time.\n",
      "error_L2  = 0.00855816496101859\n",
      "error_max = 8.881784197e-16\n"
     ]
    },
    {
     "data": {
      "image/png": "[encoded data removed]",
      "text/plain": [
       "<Figure size 432x288 with 1 Axes>"
      ]
     },
     "metadata": {
      "needs_background": "light"
     },
     "output_type": "display_data"
    },
    {
     "name": "stdout",
     "output_type": "stream",
     "text": [
      "[ 4.        3.296875  2.6875    2.171875  1.75      1.421875  1.1875\n",
      "  1.046875  1.      ]\n"
     ]
    }
   ],
   "source": [
    "# Compute solution\n",
    "u = dl.Function(V)\n",
    "dl.solve(K, u.vector(), b)\n",
    "\n",
    "# Plot solution and mesh\n",
    "dl.plot(u)\n",
    "dl.plot(mesh)\n",
    "#plt.colorbar(cm)\n",
    "# Save solution to file in VTK format\n",
    "#vtkfile = File('poisson/solution.pvd')\n",
    "#vtkfile << u\n",
    "\n",
    "# Compute error in L2 norm\n",
    "error_L2 = dl.errornorm(u_D, u, 'L2')\n",
    "\n",
    "# Compute maximum error at vertices\n",
    "vertex_values_u_D = u_D.compute_vertex_values(mesh)\n",
    "vertex_values_u = u.compute_vertex_values(mesh)\n",
    "\n",
    "error_max = np.max(np.abs(vertex_values_u_D - vertex_values_u))\n",
    "\n",
    "# Print errors\n",
    "print('error_L2  =', error_L2)\n",
    "print('error_max =', error_max)\n",
    "\n",
    "# Hold plot\n",
    "#interactive()\n",
    "plt.show()\n",
    "print(u.vector()[:])"
   ]
  },
  {
   "cell_type": "markdown",
   "metadata": {},
   "source": [
    "# Poisson 2D Example\n"
   ]
  },
  {
   "cell_type": "code",
   "execution_count": 18,
   "metadata": {},
   "outputs": [
    {
     "name": "stdout",
     "output_type": "stream",
     "text": [
      "Calling FFC just-in-time (JIT) compiler, this may take some time.\n",
      "Calling FFC just-in-time (JIT) compiler, this may take some time.\n",
      "Before BC\n",
      "[-0.0625 -0.1875 -0.1875 -0.1875 -0.375  -0.1875 -0.1875 -0.375  -0.375\n",
      " -0.1875 -0.125  -0.375  -0.375  -0.375  -0.125  -0.1875 -0.375  -0.375\n",
      " -0.1875 -0.1875 -0.375  -0.1875 -0.1875 -0.1875 -0.0625]\n",
      "[[ 1.  -0.5 -0.5  0.   0.   0.   0.   0.   0.   0.   0.   0.   0.   0.   0.\n",
      "   0.   0.   0.   0.   0.   0.   0.   0.   0.   0. ]\n",
      " [-0.5  2.   0.  -0.5 -1.   0.   0.   0.   0.   0.   0.   0.   0.   0.   0.\n",
      "   0.   0.   0.   0.   0.   0.   0.   0.   0.   0. ]\n",
      " [-0.5  0.   2.   0.  -1.  -0.5  0.   0.   0.   0.   0.   0.   0.   0.   0.\n",
      "   0.   0.   0.   0.   0.   0.   0.   0.   0.   0. ]\n",
      " [ 0.  -0.5  0.   2.   0.   0.  -0.5 -1.   0.   0.   0.   0.   0.   0.   0.\n",
      "   0.   0.   0.   0.   0.   0.   0.   0.   0.   0. ]\n",
      " [ 0.  -1.  -1.   0.   4.   0.   0.  -1.  -1.   0.   0.   0.   0.   0.   0.\n",
      "   0.   0.   0.   0.   0.   0.   0.   0.   0.   0. ]\n",
      " [ 0.   0.  -0.5  0.   0.   2.   0.   0.  -1.  -0.5  0.   0.   0.   0.   0.\n",
      "   0.   0.   0.   0.   0.   0.   0.   0.   0.   0. ]\n",
      " [ 0.   0.   0.  -0.5  0.   0.   2.   0.   0.   0.  -0.5 -1.   0.   0.   0.\n",
      "   0.   0.   0.   0.   0.   0.   0.   0.   0.   0. ]\n",
      " [ 0.   0.   0.  -1.  -1.   0.   0.   4.   0.   0.   0.  -1.  -1.   0.   0.\n",
      "   0.   0.   0.   0.   0.   0.   0.   0.   0.   0. ]\n",
      " [ 0.   0.   0.   0.  -1.  -1.   0.   0.   4.   0.   0.   0.  -1.  -1.   0.\n",
      "   0.   0.   0.   0.   0.   0.   0.   0.   0.   0. ]\n",
      " [ 0.   0.   0.   0.   0.  -0.5  0.   0.   0.   2.   0.   0.   0.  -1.  -0.5\n",
      "   0.   0.   0.   0.   0.   0.   0.   0.   0.   0. ]\n",
      " [ 0.   0.   0.   0.   0.   0.  -0.5  0.   0.   0.   1.   0.   0.   0.   0.\n",
      "  -0.5  0.   0.   0.   0.   0.   0.   0.   0.   0. ]\n",
      " [ 0.   0.   0.   0.   0.   0.  -1.  -1.   0.   0.   0.   4.   0.   0.   0.\n",
      "  -1.  -1.   0.   0.   0.   0.   0.   0.   0.   0. ]\n",
      " [ 0.   0.   0.   0.   0.   0.   0.  -1.  -1.   0.   0.   0.   4.   0.   0.\n",
      "   0.  -1.  -1.   0.   0.   0.   0.   0.   0.   0. ]\n",
      " [ 0.   0.   0.   0.   0.   0.   0.   0.  -1.  -1.   0.   0.   0.   4.   0.\n",
      "   0.   0.  -1.  -1.   0.   0.   0.   0.   0.   0. ]\n",
      " [ 0.   0.   0.   0.   0.   0.   0.   0.   0.  -0.5  0.   0.   0.   0.   1.\n",
      "   0.   0.   0.  -0.5  0.   0.   0.   0.   0.   0. ]\n",
      " [ 0.   0.   0.   0.   0.   0.   0.   0.   0.   0.  -0.5 -1.   0.   0.   0.\n",
      "   2.   0.   0.   0.  -0.5  0.   0.   0.   0.   0. ]\n",
      " [ 0.   0.   0.   0.   0.   0.   0.   0.   0.   0.   0.  -1.  -1.   0.   0.\n",
      "   0.   4.   0.   0.  -1.  -1.   0.   0.   0.   0. ]\n",
      " [ 0.   0.   0.   0.   0.   0.   0.   0.   0.   0.   0.   0.  -1.  -1.   0.\n",
      "   0.   0.   4.   0.   0.  -1.  -1.   0.   0.   0. ]\n",
      " [ 0.   0.   0.   0.   0.   0.   0.   0.   0.   0.   0.   0.   0.  -1.  -0.5\n",
      "   0.   0.   0.   2.   0.   0.  -0.5  0.   0.   0. ]\n",
      " [ 0.   0.   0.   0.   0.   0.   0.   0.   0.   0.   0.   0.   0.   0.   0.\n",
      "  -0.5 -1.   0.   0.   2.   0.   0.  -0.5  0.   0. ]\n",
      " [ 0.   0.   0.   0.   0.   0.   0.   0.   0.   0.   0.   0.   0.   0.   0.\n",
      "   0.  -1.  -1.   0.   0.   4.   0.  -1.  -1.   0. ]\n",
      " [ 0.   0.   0.   0.   0.   0.   0.   0.   0.   0.   0.   0.   0.   0.   0.\n",
      "   0.   0.  -1.  -0.5  0.   0.   2.   0.  -0.5  0. ]\n",
      " [ 0.   0.   0.   0.   0.   0.   0.   0.   0.   0.   0.   0.   0.   0.   0.\n",
      "   0.   0.   0.   0.  -0.5 -1.   0.   2.   0.  -0.5]\n",
      " [ 0.   0.   0.   0.   0.   0.   0.   0.   0.   0.   0.   0.   0.   0.   0.\n",
      "   0.   0.   0.   0.   0.  -1.  -0.5  0.   2.  -0.5]\n",
      " [ 0.   0.   0.   0.   0.   0.   0.   0.   0.   0.   0.   0.   0.   0.   0.\n",
      "   0.   0.   0.   0.   0.   0.   0.  -0.5 -0.5  1. ]]\n",
      "BC applied\n",
      "[ 4.      2.6875  4.      1.75   -0.375   4.      1.1875 -0.375  -0.375   4.\n",
      "  1.     -0.375  -0.375  -0.375   4.      1.     -0.375  -0.375   2.6875\n",
      "  1.     -0.375   1.75    1.      1.1875  1.    ]\n",
      "[[ 1.  0.  0.  0.  0.  0.  0.  0.  0.  0.  0.  0.  0.  0.  0.  0.  0.  0.\n",
      "   0.  0.  0.  0.  0.  0.  0.]\n",
      " [ 0.  1.  0.  0.  0.  0.  0.  0.  0.  0.  0.  0.  0.  0.  0.  0.  0.  0.\n",
      "   0.  0.  0.  0.  0.  0.  0.]\n",
      " [ 0.  0.  1.  0.  0.  0.  0.  0.  0.  0.  0.  0.  0.  0.  0.  0.  0.  0.\n",
      "   0.  0.  0.  0.  0.  0.  0.]\n",
      " [ 0.  0.  0.  1.  0.  0.  0.  0.  0.  0.  0.  0.  0.  0.  0.  0.  0.  0.\n",
      "   0.  0.  0.  0.  0.  0.  0.]\n",
      " [ 0. -1. -1.  0.  4.  0.  0. -1. -1.  0.  0.  0.  0.  0.  0.  0.  0.  0.\n",
      "   0.  0.  0.  0.  0.  0.  0.]\n",
      " [ 0.  0.  0.  0.  0.  1.  0.  0.  0.  0.  0.  0.  0.  0.  0.  0.  0.  0.\n",
      "   0.  0.  0.  0.  0.  0.  0.]\n",
      " [ 0.  0.  0.  0.  0.  0.  1.  0.  0.  0.  0.  0.  0.  0.  0.  0.  0.  0.\n",
      "   0.  0.  0.  0.  0.  0.  0.]\n",
      " [ 0.  0.  0. -1. -1.  0.  0.  4.  0.  0.  0. -1. -1.  0.  0.  0.  0.  0.\n",
      "   0.  0.  0.  0.  0.  0.  0.]\n",
      " [ 0.  0.  0.  0. -1. -1.  0.  0.  4.  0.  0.  0. -1. -1.  0.  0.  0.  0.\n",
      "   0.  0.  0.  0.  0.  0.  0.]\n",
      " [ 0.  0.  0.  0.  0.  0.  0.  0.  0.  1.  0.  0.  0.  0.  0.  0.  0.  0.\n",
      "   0.  0.  0.  0.  0.  0.  0.]\n",
      " [ 0.  0.  0.  0.  0.  0.  0.  0.  0.  0.  1.  0.  0.  0.  0.  0.  0.  0.\n",
      "   0.  0.  0.  0.  0.  0.  0.]\n",
      " [ 0.  0.  0.  0.  0.  0. -1. -1.  0.  0.  0.  4.  0.  0.  0. -1. -1.  0.\n",
      "   0.  0.  0.  0.  0.  0.  0.]\n",
      " [ 0.  0.  0.  0.  0.  0.  0. -1. -1.  0.  0.  0.  4.  0.  0.  0. -1. -1.\n",
      "   0.  0.  0.  0.  0.  0.  0.]\n",
      " [ 0.  0.  0.  0.  0.  0.  0.  0. -1. -1.  0.  0.  0.  4.  0.  0.  0. -1.\n",
      "  -1.  0.  0.  0.  0.  0.  0.]\n",
      " [ 0.  0.  0.  0.  0.  0.  0.  0.  0.  0.  0.  0.  0.  0.  1.  0.  0.  0.\n",
      "   0.  0.  0.  0.  0.  0.  0.]\n",
      " [ 0.  0.  0.  0.  0.  0.  0.  0.  0.  0.  0.  0.  0.  0.  0.  1.  0.  0.\n",
      "   0.  0.  0.  0.  0.  0.  0.]\n",
      " [ 0.  0.  0.  0.  0.  0.  0.  0.  0.  0.  0. -1. -1.  0.  0.  0.  4.  0.\n",
      "   0. -1. -1.  0.  0.  0.  0.]\n",
      " [ 0.  0.  0.  0.  0.  0.  0.  0.  0.  0.  0.  0. -1. -1.  0.  0.  0.  4.\n",
      "   0.  0. -1. -1.  0.  0.  0.]\n",
      " [ 0.  0.  0.  0.  0.  0.  0.  0.  0.  0.  0.  0.  0.  0.  0.  0.  0.  0.\n",
      "   1.  0.  0.  0.  0.  0.  0.]\n",
      " [ 0.  0.  0.  0.  0.  0.  0.  0.  0.  0.  0.  0.  0.  0.  0.  0.  0.  0.\n",
      "   0.  1.  0.  0.  0.  0.  0.]\n",
      " [ 0.  0.  0.  0.  0.  0.  0.  0.  0.  0.  0.  0.  0.  0.  0.  0. -1. -1.\n",
      "   0.  0.  4.  0. -1. -1.  0.]\n",
      " [ 0.  0.  0.  0.  0.  0.  0.  0.  0.  0.  0.  0.  0.  0.  0.  0.  0.  0.\n",
      "   0.  0.  0.  1.  0.  0.  0.]\n",
      " [ 0.  0.  0.  0.  0.  0.  0.  0.  0.  0.  0.  0.  0.  0.  0.  0.  0.  0.\n",
      "   0.  0.  0.  0.  1.  0.  0.]\n",
      " [ 0.  0.  0.  0.  0.  0.  0.  0.  0.  0.  0.  0.  0.  0.  0.  0.  0.  0.\n",
      "   0.  0.  0.  0.  0.  1.  0.]\n",
      " [ 0.  0.  0.  0.  0.  0.  0.  0.  0.  0.  0.  0.  0.  0.  0.  0.  0.  0.\n",
      "   0.  0.  0.  0.  0.  0.  1.]]\n"
     ]
    }
   ],
   "source": [
    "# Create mesh and define function space\n",
    "mesh = dl.UnitSquareMesh(4, 4)\n",
    "V = dl.FunctionSpace(mesh, 'P', 1)\n",
    "\n",
    "# Define boundary condition\n",
    "#u_D = dl.Expression('1 + x[0]*x[0] + 2*x[1]*x[1]', degree=2)\n",
    "#try a simpler one\n",
    "u_D = dl.Expression('1  + 3*x[1]*x[1]', degree=2)\n",
    "def boundary(x, on_boundary):\n",
    "    return on_boundary\n",
    "bc = dl.DirichletBC(V, u_D, boundary)\n",
    "# Define variational problem\n",
    "u = dl.TrialFunction(V)\n",
    "v = dl.TestFunction(V)\n",
    "f = dl.Constant(-6.0)\n",
    "a = dl.dot(dl.grad(u), dl.grad(v))*dl.dx\n",
    "L = f*v*dl.dx\n",
    "\n",
    "#Assemble explicitly and see what boundary conditions do\n",
    "#construct matrices and see how applying boundaries works\n",
    "K = dl.assemble(a)\n",
    "b = dl.assemble(L)\n",
    "\n",
    "print('Before BC')\n",
    "print(b[:])\n",
    "print(K.array())\n",
    "\n",
    "#apply boundary\n",
    "print('BC applied')\n",
    "bc.apply(K)\n",
    "bc.apply(b)\n",
    "print(b[:])\n",
    "print(K.array())\n",
    "\n",
    "\n"
   ]
  },
  {
   "cell_type": "code",
   "execution_count": 19,
   "metadata": {},
   "outputs": [
    {
     "name": "stdout",
     "output_type": "stream",
     "text": [
      "[ 4.      2.6875  4.      1.75    2.6875  4.      1.1875  1.75    2.6875\n",
      "  4.      1.      1.1875  1.75    2.6875  4.      1.      1.1875  1.75\n",
      "  2.6875  1.      1.1875  1.75    1.      1.1875  1.    ]\n"
     ]
    }
   ],
   "source": [
    "#see if there is difference between numpy and fenics solve\n",
    "np_u = np.linalg.solve(np.array(K.array()),np.array(b))\n",
    "print(np_u)"
   ]
  },
  {
   "cell_type": "code",
   "execution_count": 20,
   "metadata": {},
   "outputs": [
    {
     "name": "stdout",
     "output_type": "stream",
     "text": [
      "error_L2  = 0.034232659844072956\n",
      "error_max = 2.22044604925e-16\n"
     ]
    },
    {
     "data": {
      "image/png": "[encoded data removed]",
      "text/plain": [
       "<Figure size 432x288 with 2 Axes>"
      ]
     },
     "metadata": {
      "needs_background": "light"
     },
     "output_type": "display_data"
    },
    {
     "name": "stdout",
     "output_type": "stream",
     "text": [
      "[ 4.      2.6875  4.      1.75    2.6875  4.      1.1875  1.75    2.6875\n",
      "  4.      1.      1.1875  1.75    2.6875  4.      1.      1.1875  1.75\n",
      "  2.6875  1.      1.1875  1.75    1.      1.1875  1.    ]\n"
     ]
    }
   ],
   "source": [
    "# Compute solution\n",
    "u = dl.Function(V)\n",
    "# Compute solution\n",
    "u = dl.Function(V)\n",
    "dl.solve(K, u.vector(), b)\n",
    "\n",
    "\n",
    "# Plot solution and mesh\n",
    "cm=dl.plot(u)\n",
    "dl.plot(mesh)\n",
    "plt.colorbar(cm)\n",
    "# Save solution to file in VTK format\n",
    "#vtkfile = File('poisson/solution.pvd')\n",
    "#vtkfile << u\n",
    "\n",
    "# Compute error in L2 norm\n",
    "error_L2 = dl.errornorm(u_D, u, 'L2')\n",
    "\n",
    "# Compute maximum error at vertices\n",
    "vertex_values_u_D = u_D.compute_vertex_values(mesh)\n",
    "vertex_values_u = u.compute_vertex_values(mesh)\n",
    "\n",
    "error_max = np.max(np.abs(vertex_values_u_D - vertex_values_u))\n",
    "\n",
    "# Print errors\n",
    "print('error_L2  =', error_L2)\n",
    "print('error_max =', error_max)\n",
    "\n",
    "# Hold plot\n",
    "#interactive()\n",
    "plt.show()\n",
    "print(u.vector()[:])"
   ]
  },
  {
   "cell_type": "code",
   "execution_count": 22,
   "metadata": {},
   "outputs": [
    {
     "name": "stdout",
     "output_type": "stream",
     "text": [
      "[ 0.  0.  0.  0.  0.]\n"
     ]
    }
   ],
   "source": []
  },
  {
   "cell_type": "code",
   "execution_count": null,
   "metadata": {},
   "outputs": [],
   "source": []
  }
 ],
 "metadata": {
  "kernelspec": {
   "display_name": "Python 3",
   "language": "python",
   "name": "python3"
  },
  "language_info": {
   "codemirror_mode": {
    "name": "ipython",
    "version": 3
   },
   "file_extension": ".py",
   "mimetype": "text/x-python",
   "name": "python",
   "nbconvert_exporter": "python",
   "pygments_lexer": "ipython3",
   "version": "3.6.9"
  }
 },
 "nbformat": 4,
 "nbformat_minor": 4
}
