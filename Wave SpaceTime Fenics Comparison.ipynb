{
 "cells": [
  {
   "cell_type": "markdown",
   "metadata": {},
   "source": [
    "# Use Fenics 3d elements to compare against, see what is happening"
   ]
  },
  {
   "cell_type": "code",
   "execution_count": 1,
   "metadata": {},
   "outputs": [],
   "source": [
    "#Import modules\n",
    "from __future__ import print_function\n",
    "import dolfin as dl\n",
    "import matplotlib.pyplot as plt\n",
    "import numpy as np\n",
    "%matplotlib inline"
   ]
  },
  {
   "cell_type": "code",
   "execution_count": 41,
   "metadata": {},
   "outputs": [],
   "source": [
    "num_elem= 12\n",
    "num_t = 16\n",
    "mesh1 = dl.UnitCubeMesh(num_elem,num_elem,num_t)\n",
    "#wave speed\n",
    "c1=0.333\n",
    "\n",
    "V1 = dl.FunctionSpace(mesh1, 'P', 1)\n",
    "\n",
    "u1_trial = dl.TrialFunction(V1)\n",
    "v1_test = dl.TestFunction(V1)\n",
    "\n",
    "weak_form =  (c1**2)*(u1_trial.dx(0)*v1_test.dx(0) + u1_trial.dx(1)*v1_test.dx(1) ) * dl.dx \\\n",
    "- u1_trial.dx(2)*v1_test.dx(2)*dl.dx\n",
    "\n",
    "a,L = dl.lhs(weak_form), dl.rhs(weak_form)\n",
    "\n",
    "def boundary(x, on_boundary):\n",
    "    return on_boundary\n",
    "\n",
    "u_exact = dl.Expression('sin(x[0] - c1*x[2]) + sin(x[1] - c1*x[2])',degree=4,domain=mesh1,c1=c1)\n",
    "\n",
    "\n",
    "\n",
    "bc1 = dl.DirichletBC(V1, u_exact, boundary)\n",
    "\n",
    "u=dl.Function(V1)\n",
    "dl.solve(a == L,u,bc1)\n",
    "\n"
   ]
  },
  {
   "cell_type": "code",
   "execution_count": 42,
   "metadata": {},
   "outputs": [],
   "source": [
    "u_exact = dl.interpolate(u_exact,V1)\n",
    "u_true = u_exact.vector()[:]\n",
    "u =u.vector()[:]"
   ]
  },
  {
   "cell_type": "code",
   "execution_count": 43,
   "metadata": {},
   "outputs": [
    {
     "name": "stdout",
     "output_type": "stream",
     "text": [
      "dof\n",
      "2873\n",
      "h\n",
      "0.08333333333333333\n",
      "dt\n",
      "0.0625\n",
      "cfl\n",
      "0.24975000000000003\n",
      "l infinity\n",
      "8.55959415935e-05\n",
      "l2\n",
      "9.44305347884e-07\n",
      "sum of absolute error\n",
      "0.0326054929529\n"
     ]
    }
   ],
   "source": [
    "print('dof')\n",
    "print(len(u))\n",
    "print('h')\n",
    "print(1/num_elem)\n",
    "print('dt')\n",
    "print(1/num_t)\n",
    "print('cfl')\n",
    "print(c1*num_elem/num_t)\n",
    "print('l infinity')\n",
    "print(max(np.absolute(u-u_true)))\n",
    "print('l2')\n",
    "print(np.dot(np.absolute(u-u_true),np.absolute(u-u_true)))\n",
    "print('sum of absolute error')\n",
    "print(np.sum(np.absolute(u-u_true)))"
   ]
  },
  {
   "cell_type": "code",
   "execution_count": null,
   "metadata": {},
   "outputs": [],
   "source": []
  },
  {
   "cell_type": "code",
   "execution_count": null,
   "metadata": {},
   "outputs": [],
   "source": []
  }
 ],
 "metadata": {
  "kernelspec": {
   "display_name": "Python 3",
   "language": "python",
   "name": "python3"
  },
  "language_info": {
   "codemirror_mode": {
    "name": "ipython",
    "version": 3
   },
   "file_extension": ".py",
   "mimetype": "text/x-python",
   "name": "python",
   "nbconvert_exporter": "python",
   "pygments_lexer": "ipython3",
   "version": "3.6.9"
  }
 },
 "nbformat": 4,
 "nbformat_minor": 4
}
