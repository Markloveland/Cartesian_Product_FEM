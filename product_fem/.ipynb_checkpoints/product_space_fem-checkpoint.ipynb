{
 "cells": [
  {
   "cell_type": "markdown",
   "metadata": {},
   "source": [
    "# Product Space FEM\n",
    "Finite Element Method performed on spatial domains\n",
    "of the form $\\Omega\\times\\Omega$. Uses FEniCS for \n",
    "assembly in the marginal domain $\\Omega$."
   ]
  },
  {
   "cell_type": "code",
   "execution_count": 1,
   "metadata": {
    "ExecuteTime": {
     "end_time": "2022-01-04T00:52:49.571563Z",
     "start_time": "2022-01-04T00:52:46.614141Z"
    }
   },
   "outputs": [],
   "source": [
    "import numpy as np\n",
    "from fenics import *\n",
    "import product_fem as prod"
   ]
  },
  {
   "cell_type": "markdown",
   "metadata": {},
   "source": [
    "## Usage\n",
    "First, create a `FunctionSpace` $V$ on a mesh of\n",
    "$\\Omega$ using FEniCS, as per usual. Next\n",
    "define $\\partial\\Omega$, if desired, and create\n",
    "a `ProductFunctionSpace` $W$ defined on\n",
    "$\\Omega\\times\\Omega$. By default, we use\n",
    "$\\partial(\\Omega\\times\\Omega) = \n",
    "\\partial\\Omega\\times\\Omega \\cup \n",
    "\\Omega\\times\\partial\\Omega$\n",
    "but this can be changed with the `ProductBoundary`\n",
    "object. The boundary values can be set with\n",
    "`ProductDirichletBC`. \n",
    "\n",
    "Now we can express the associated linear system\n",
    "$AU=b$\n",
    "entirely in terms of integrals over $\\Omega$ such\n",
    "that $A=B_x\\otimes C_y + C_x\\otimes B_y$ and \n",
    "$b = c_x\\otimes d_y$ where subscripts denote the\n",
    "variable of integration. These 4 forms are assembled\n",
    "and combined into $A$ and $b$ using `assemble_product`, \n",
    "then the boundary conditions are applied with `bc.apply`.\n",
    "Alternatively, one may combine these last two steps\n",
    "by using `assemble_product_system`.\n"
   ]
  },
  {
   "cell_type": "markdown",
   "metadata": {},
   "source": [
    "The purpose of `ProductFunctionSpace` is to store \n",
    "the marginal function space $V$ and product\n",
    "indexing information. For example, the `dofmap`\n",
    "attribute is an instance of the `ProductDofMap` object, which handles various maps between dofs \n",
    "(product and marginal) and the dof coordinates \n",
    "(product and marginal)."
   ]
  },
  {
   "cell_type": "code",
   "execution_count": 2,
   "metadata": {
    "ExecuteTime": {
     "end_time": "2022-01-04T00:52:49.580000Z",
     "start_time": "2022-01-04T00:52:49.573888Z"
    }
   },
   "outputs": [],
   "source": [
    "n = 22\n",
    "mesh = UnitIntervalMesh(n-1)\n",
    "V = FunctionSpace(mesh, 'CG', 1)\n",
    "W = prod.ProductFunctionSpace(V)"
   ]
  },
  {
   "cell_type": "markdown",
   "metadata": {},
   "source": [
    "Now we should set the `ProductDirichletBC`.\n",
    "The usage is similar to `DirichletBC` except we\n",
    "instantiate it with a `ProductFunctionSpace`.\n",
    "For example, say we want to use the default product\n",
    "boundary and the solution should vanish on this boundary.\n",
    "Then we need only write\n",
    "```\n",
    "bc = ProductDirichletBC(W, 0, 'on_boundary')\n",
    "```\n",
    "In the case we have a non-constant boundary condition\n",
    "on a boundary other than the default product boundary,\n",
    "we just define the boundary value function `g` that\n",
    "maps $(x,y)\\mapsto g(x,y)$ as well as a boundary\n",
    "defining function `on_product_boundary` that maps \n",
    "$(x,y)$ to a boolean that allows us to identify the\n",
    "correct subset of dofs that are on the boundary."
   ]
  },
  {
   "cell_type": "markdown",
   "metadata": {},
   "source": [
    "### Example\n",
    "To demonstrate a product space solve, we'll consider\n",
    "\n",
    "$$\n",
    "\\begin{align*}\n",
    "    -\\Delta u &= f \\text{ in }\\Omega\\times\\Omega\\\\\n",
    "    u &= 0 \\text{ on }\\partial(\\Omega\\times\\Omega)\n",
    "\\end{align*}\n",
    "$$\n",
    "\n",
    "We can manufacture the analytic solution to be\n",
    "$u(x,y) = -x(1-x)y(1-y)\\exp(x-y)$\n",
    "by defining $f(x,y) = -\\Delta u$.\n",
    "Notice this example is a fine test case since\n",
    "$u$ vanishes on the boundary\n",
    "but is nontrivial inside $\\Omega$.\n",
    "It turns out that the explicit definition of $f$ is\n",
    "$f(x,y) = 2x(y-1)(xy-2x+y+2)\\exp(x-y)$,\n",
    "which can be expressed as an inner product of vector-valued functions on $\\Omega$, i.e.\n",
    "$f(x,y) = \\langle X(x), Y(y)\\rangle$."
   ]
  },
  {
   "cell_type": "code",
   "execution_count": 3,
   "metadata": {
    "ExecuteTime": {
     "end_time": "2022-01-04T00:52:49.615536Z",
     "start_time": "2022-01-04T00:52:49.582504Z"
    }
   },
   "outputs": [
    {
     "name": "stdout",
     "output_type": "stream",
     "text": [
      "Calling FFC just-in-time (JIT) compiler, this may take some time.\n"
     ]
    }
   ],
   "source": [
    "bc = prod.ProductDirichletBC(W, 0)\n",
    "\n",
    "# force function sum_i X_iY_i\n",
    "X = ['2 * x[0] * exp(x[0])', \n",
    "     '-4 * x[0] * x[0] * exp(x[0])',\n",
    "     '2 * x[0] * x[0] * exp(x[0])', \n",
    "     '4 * x[0] * exp(x[0])']\n",
    "X = [Expression(x, element=V.ufl_element()) for x in X]\n",
    "\n",
    "Y = ['x[0] * (x[0] - 1) * exp(-x[0])', \n",
    "     '(x[0] - 1) * exp(-x[0])',\n",
    "     'x[0] * (x[0] - 1) * exp(-x[0])', \n",
    "     '(x[0] - 1) * exp(-x[0])']\n",
    "Y = [Expression(y, element=V.ufl_element()) for y in Y]\n",
    "\n",
    "# assembly\n",
    "u, v = TrialFunction(V), TestFunction(V)\n",
    "B_form = u.dx(0) * v.dx(0) * dx\n",
    "C_form = u * v * dx\n",
    "A_forms = [B_form, C_form]\n",
    "\n",
    "c_forms = [fx * v * dx for fx in X]\n",
    "d_forms = [fy * v * dx for fy in Y]\n",
    "b_forms = [c_forms, d_forms]\n",
    "\n",
    "A, b = prod.assemble_product_system(A_forms, b_forms, bc)\n",
    "u = np.linalg.solve(A, b)"
   ]
  },
  {
   "cell_type": "markdown",
   "metadata": {},
   "source": [
    "### $L^2$ error convergence\n",
    "We should expect the $L^2$ norm to decay with\n",
    "increasing mesh resolution.\n",
    "Theory tells us (need source) that for this family of \n",
    "elliptic PDEs, using CG1 elements with mesh resolution $h$ \n",
    "will result in \n",
    "\n",
    "$$\n",
    "\\| u - u_h \\|_2 \\approx Ch^2\n",
    "$$\n",
    "\n",
    "for some constant $C$. Here we take $h$ to be the \n",
    "maximum edge length of the mesh.\n",
    "For example, a mesh on $[0,1]$ with $n$ evenly spaced\n",
    "nodes will have $h=\\frac{1}{n-1}$.\n",
    "To sanity check this we'll compute $\\|u - u_h\\|_2$ \n",
    "for increasing values of $n$, fit a linear model\n",
    "to $\\log(\\|u - u_h\\|_2) \\sim \\log(h)$, \n",
    "and confirm the slope is 2."
   ]
  },
  {
   "cell_type": "code",
   "execution_count": 9,
   "metadata": {
    "ExecuteTime": {
     "end_time": "2022-01-04T00:52:50.635276Z",
     "start_time": "2022-01-04T00:52:49.617626Z"
    }
   },
   "outputs": [],
   "source": [
    "from scipy import stats\n",
    "import matplotlib.pyplot as plt\n",
    "#import seaborn as sns\n",
    "#import pandas as pd\n",
    "\n",
    "def mesh_res_error(n):\n",
    "    mesh = UnitIntervalMesh(n-1)\n",
    "    h = mesh.hmax()\n",
    "    V = FunctionSpace(mesh, 'CG', 1)\n",
    "    W = prod.ProductFunctionSpace(V)\n",
    "\n",
    "    bc = prod.ProductDirichletBC(W, 0)\n",
    "\n",
    "    # force function sum_i X_iY_i\n",
    "    X = ['2 * x[0] * exp(x[0])', \n",
    "         '-4 * x[0] * x[0] * exp(x[0])',\n",
    "         '2 * x[0] * x[0] * exp(x[0])', \n",
    "         '4 * x[0] * exp(x[0])']\n",
    "    X = [Expression(x, element=V.ufl_element()) for x in X]\n",
    "\n",
    "    Y = ['x[0] * (x[0] - 1) * exp(-x[0])', \n",
    "         '(x[0] - 1) * exp(-x[0])',\n",
    "         'x[0] * (x[0] - 1) * exp(-x[0])', \n",
    "         '(x[0] - 1) * exp(-x[0])']\n",
    "    Y = [Expression(y, element=V.ufl_element()) for y in Y]\n",
    "\n",
    "    # assembly\n",
    "    u, v = TrialFunction(V), TestFunction(V)\n",
    "    B_form = u.dx(0) * v.dx(0) * dx\n",
    "    C_form = u * v * dx\n",
    "    A_forms = [B_form, C_form]\n",
    "\n",
    "    c_forms = [fx * v * dx for fx in X]\n",
    "    d_forms = [fy * v * dx for fy in Y]\n",
    "    b_forms = [c_forms, d_forms]\n",
    "\n",
    "    A, b = prod.assemble_product_system(A_forms, b_forms, bc)\n",
    "    u = np.linalg.solve(A, b)\n",
    "\n",
    "    # can compute integrals using mass matrix M_ij = int phi_i dx * int phi_j dy\n",
    "    # then int f(x,y) dxdy = sum_ij int f_ij phi_i(x) phi_j(y) dxdy\n",
    "    #                      = sum_ij f_ij M_ij\n",
    "    mass = assemble(v * dx)[:]\n",
    "    mass = np.kron(mass, mass)\n",
    "\n",
    "    # convergence checking\n",
    "    # errornorm(u, u_anal) = int (u-u_anal)^2 dx\n",
    "    dof_to_coords = W.dofmap._dofs_to_coords\n",
    "    u_anal = np.zeros_like(u)\n",
    "    analytic_u = lambda x,y: x * (x - 1) * y * (1 - y) * np.exp(x - y)\n",
    "    for dof, xy in dof_to_coords.items():\n",
    "        u_anal[dof] = analytic_u(xy[0], xy[1])\n",
    "    l2_error = np.dot((u - u_anal)**2, mass)\n",
    "\n",
    "    return h, np.sqrt(l2_error)"
   ]
  },
  {
   "cell_type": "code",
   "execution_count": 10,
   "metadata": {
    "ExecuteTime": {
     "end_time": "2022-01-04T00:52:51.425451Z",
     "start_time": "2022-01-04T00:52:50.637328Z"
    }
   },
   "outputs": [
    {
     "ename": "NameError",
     "evalue": "name 'pd' is not defined",
     "output_type": "error",
     "traceback": [
      "\u001b[0;31m---------------------------------------------------------------------------\u001b[0m",
      "\u001b[0;31mNameError\u001b[0m                                 Traceback (most recent call last)",
      "\u001b[0;32m<ipython-input-10-bf3a71e4b404>\u001b[0m in \u001b[0;36m<module>\u001b[0;34m\u001b[0m\n\u001b[1;32m      4\u001b[0m \u001b[0mhs\u001b[0m\u001b[0;34m,\u001b[0m \u001b[0ml2_err\u001b[0m \u001b[0;34m=\u001b[0m \u001b[0mh_errors\u001b[0m\u001b[0;34m[\u001b[0m\u001b[0;34m:\u001b[0m\u001b[0;34m,\u001b[0m\u001b[0;36m0\u001b[0m\u001b[0;34m]\u001b[0m\u001b[0;34m,\u001b[0m \u001b[0mh_errors\u001b[0m\u001b[0;34m[\u001b[0m\u001b[0;34m:\u001b[0m\u001b[0;34m,\u001b[0m\u001b[0;36m1\u001b[0m\u001b[0;34m]\u001b[0m\u001b[0;34m\u001b[0m\u001b[0;34m\u001b[0m\u001b[0m\n\u001b[1;32m      5\u001b[0m \u001b[0mdata\u001b[0m \u001b[0;34m=\u001b[0m \u001b[0;34m{\u001b[0m\u001b[0;34m'n'\u001b[0m\u001b[0;34m:\u001b[0m \u001b[0mns\u001b[0m\u001b[0;34m,\u001b[0m \u001b[0;34m'h'\u001b[0m\u001b[0;34m:\u001b[0m \u001b[0mhs\u001b[0m\u001b[0;34m,\u001b[0m \u001b[0;34m'log_h'\u001b[0m\u001b[0;34m:\u001b[0m \u001b[0mnp\u001b[0m\u001b[0;34m.\u001b[0m\u001b[0mlog\u001b[0m\u001b[0;34m(\u001b[0m\u001b[0mhs\u001b[0m\u001b[0;34m)\u001b[0m\u001b[0;34m,\u001b[0m \u001b[0;34m'l2_err'\u001b[0m\u001b[0;34m:\u001b[0m \u001b[0ml2_err\u001b[0m\u001b[0;34m,\u001b[0m \u001b[0;34m'log_l2_err'\u001b[0m\u001b[0;34m:\u001b[0m \u001b[0mnp\u001b[0m\u001b[0;34m.\u001b[0m\u001b[0mlog\u001b[0m\u001b[0;34m(\u001b[0m\u001b[0ml2_err\u001b[0m\u001b[0;34m)\u001b[0m\u001b[0;34m}\u001b[0m\u001b[0;34m\u001b[0m\u001b[0;34m\u001b[0m\u001b[0m\n\u001b[0;32m----> 6\u001b[0;31m \u001b[0mdata\u001b[0m \u001b[0;34m=\u001b[0m \u001b[0mpd\u001b[0m\u001b[0;34m.\u001b[0m\u001b[0mDataFrame\u001b[0m\u001b[0;34m(\u001b[0m\u001b[0mdata\u001b[0m\u001b[0;34m)\u001b[0m\u001b[0;34m\u001b[0m\u001b[0;34m\u001b[0m\u001b[0m\n\u001b[0m\u001b[1;32m      7\u001b[0m \u001b[0;34m\u001b[0m\u001b[0m\n\u001b[1;32m      8\u001b[0m \u001b[0;31m# perform regression and plot\u001b[0m\u001b[0;34m\u001b[0m\u001b[0;34m\u001b[0m\u001b[0;34m\u001b[0m\u001b[0m\n",
      "\u001b[0;31mNameError\u001b[0m: name 'pd' is not defined"
     ]
    }
   ],
   "source": [
    "# organize data frame\n",
    "ns = [5, 10, 15, 20, 25, 30, 35, 40]\n",
    "h_errors = np.array([mesh_res_error(n) for n in ns])\n",
    "hs, l2_err = h_errors[:,0], h_errors[:,1]\n",
    "data = {'n': ns, 'h': hs, 'log_h': np.log(hs), 'l2_err': l2_err, 'log_l2_err': np.log(l2_err)}\n",
    "data = pd.DataFrame(data)\n",
    "\n",
    "# perform regression and plot\n",
    "slope, intercept, r, p, se = stats.linregress(data['log_h'], data['log_l2_err'])\n",
    "line_kws={'label':fr'$\\log(\\parallel u - u_h\\parallel_2) = {np.round(slope, 4)} \\log(h) + {np.round(intercept, 1)}$'}\n",
    "ax = sns.regplot(x='log_h', y='log_l2_err', data=data, \n",
    "                 ci=None, order=1, line_kws=line_kws)\n",
    "# aesthetics\n",
    "ax.figure.set_dpi(100)\n",
    "ax.figure.set_figheight(6)\n",
    "ax.figure.set_figwidth(6)\n",
    "ax.set_xlabel(r'$\\log(h)$')\n",
    "ax.set_ylabel(r\"$ log(\\parallel u - u_h\\parallel_2)$\")\n",
    "ax.set_title(fr'$r^2 = {r**2}$')\n",
    "ax.legend()\n",
    "plt.show()"
   ]
  },
  {
   "cell_type": "markdown",
   "metadata": {},
   "source": [
    "Evidently $\\|u - u_h\\|_2 \\approx \\mathcal{O}(h^2)$, as claimed."
   ]
  },
  {
   "cell_type": "code",
   "execution_count": 14,
   "metadata": {},
   "outputs": [
    {
     "data": {
      "text/plain": [
       "[<matplotlib.lines.Line2D at 0x40619524e0>]"
      ]
     },
     "execution_count": 14,
     "metadata": {},
     "output_type": "execute_result"
    },
    {
     "data": {
      "image/png": "[encoded data removed]",
      "text/plain": [
       "<Figure size 432x288 with 1 Axes>"
      ]
     },
     "metadata": {
      "needs_background": "light"
     },
     "output_type": "display_data"
    }
   ],
   "source": [
    "plt.plot(np.log(hs),np.log(l2_err))"
   ]
  },
  {
   "cell_type": "code",
   "execution_count": null,
   "metadata": {},
   "outputs": [],
   "source": []
  }
 ],
 "metadata": {
  "kernelspec": {
   "display_name": "Python 3",
   "language": "python",
   "name": "python3"
  },
  "language_info": {
   "codemirror_mode": {
    "name": "ipython",
    "version": 3
   },
   "file_extension": ".py",
   "mimetype": "text/x-python",
   "name": "python",
   "nbconvert_exporter": "python",
   "pygments_lexer": "ipython3",
   "version": "3.6.9"
  }
 },
 "nbformat": 4,
 "nbformat_minor": 5
}
