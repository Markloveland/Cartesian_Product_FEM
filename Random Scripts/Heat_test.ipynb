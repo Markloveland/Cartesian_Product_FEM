{
 "cells": [
  {
   "cell_type": "code",
   "execution_count": 5,
   "metadata": {},
   "outputs": [
    {
     "data": {
      "image/png": "[encoded data removed]",
      "text/plain": [
       "<Figure size 432x288 with 1 Axes>"
      ]
     },
     "metadata": {
      "needs_background": "light"
     },
     "output_type": "display_data"
    }
   ],
   "source": [
    "from fenics import *\n",
    "import numpy as np\n",
    "import time\n",
    "\n",
    "T = 2.0            # final time\n",
    "num_steps = 1     # number of time steps\n",
    "dt = T / num_steps # time step size\n",
    "\n",
    "# Create mesh and define function space\n",
    "nx = 30\n",
    "mesh = IntervalMesh( nx, -2,2)\n",
    "V = FunctionSpace(mesh, 'P', 1)\n",
    "\n",
    "# Define boundary condition\n",
    "def boundary(x, on_boundary):\n",
    "    return on_boundary\n",
    "\n",
    "bc = DirichletBC(V, Constant(0), boundary)\n",
    "\n",
    "# Define initial value\n",
    "u_0 = Expression('exp(-a*pow(x[0], 2))',\n",
    "                 degree=2, a=5)\n",
    "u_n = interpolate(u_0, V)\n",
    "\n",
    "# Define variational problem\n",
    "u = TrialFunction(V)\n",
    "v = TestFunction(V)\n",
    "f = Constant(0)\n",
    "\n",
    "F = u*v*dx + dt*dot(grad(u), grad(v))*dx - (u_n + dt*f)*v*dx\n",
    "a, L = lhs(F), rhs(F)\n",
    "\n",
    "# Create VTK file for saving solution\n",
    "#vtkfile = File('heat_gaussian/solution.pvd')\n",
    "\n",
    "# Time-stepping\n",
    "u = Function(V)\n",
    "t = 0\n",
    "for n in range(num_steps):\n",
    "\n",
    "    # Update current time\n",
    "    t += dt\n",
    "\n",
    "    # Compute solution\n",
    "    solve(a == L, u, bc)\n",
    "\n",
    "    # Save to file and plot solution\n",
    "    #vtkfile << (u, t)\n",
    "    plot(u)\n",
    "\n",
    "    # Update previous solution\n",
    "    u_n.assign(u)\n"
   ]
  },
  {
   "cell_type": "code",
   "execution_count": 18,
   "metadata": {},
   "outputs": [
    {
     "name": "stdout",
     "output_type": "stream",
     "text": [
      "0.8000000000000003\n",
      "[[ 0.33333333  0.16666667  0.          0.          0.          0.        ]\n",
      " [ 0.16666667  0.66666667  0.16666667  0.          0.          0.        ]\n",
      " [ 0.          0.16666667  0.66666667  0.16666667  0.          0.        ]\n",
      " [ 0.          0.          0.16666667  0.66666667  0.16666667  0.        ]\n",
      " [ 0.          0.          0.          0.16666667  0.66666667  0.16666667]\n",
      " [ 0.          0.          0.          0.          0.16666667  0.33333333]]\n",
      "[[ 1. -1.  0.  0.  0.  0.]\n",
      " [-1.  2. -1.  0.  0.  0.]\n",
      " [ 0. -1.  2. -1.  0.  0.]\n",
      " [ 0.  0. -1.  2. -1.  0.]\n",
      " [ 0.  0.  0. -1.  2. -1.]\n",
      " [ 0.  0.  0.  0. -1.  1.]]\n"
     ]
    }
   ],
   "source": [
    "nx = 5\n",
    "mesh = IntervalMesh( nx, -2,2)\n",
    "V = FunctionSpace(mesh, 'P', 1)\n",
    "u = TrialFunction(V)\n",
    "v = TestFunction(V)\n",
    "A = u*v*dx\n",
    "K = u.dx(0)*v.dx(0)*dx\n",
    "A11 =assemble(A)\n",
    "A22 = assemble(K)\n",
    "\n",
    "h=mesh.hmax()\n",
    "print(mesh.hmax())\n",
    "print(1/h*np.array(A11.array()))\n",
    "print(h*np.array(A22.array()))"
   ]
  },
  {
   "cell_type": "code",
   "execution_count": 10,
   "metadata": {},
   "outputs": [
    {
     "name": "stdout",
     "output_type": "stream",
     "text": [
      "0.044444444444444585\n"
     ]
    }
   ],
   "source": [
    "print(mesh.hmax()/3)"
   ]
  },
  {
   "cell_type": "code",
   "execution_count": 16,
   "metadata": {},
   "outputs": [
    {
     "data": {
      "text/plain": [
       "0.16666666666666666"
      ]
     },
     "execution_count": 16,
     "metadata": {},
     "output_type": "execute_result"
    }
   ],
   "source": [
    "1/6"
   ]
  },
  {
   "cell_type": "code",
   "execution_count": null,
   "metadata": {},
   "outputs": [],
   "source": []
  }
 ],
 "metadata": {
  "kernelspec": {
   "display_name": "Python 3",
   "language": "python",
   "name": "python3"
  },
  "language_info": {
   "codemirror_mode": {
    "name": "ipython",
    "version": 3
   },
   "file_extension": ".py",
   "mimetype": "text/x-python",
   "name": "python",
   "nbconvert_exporter": "python",
   "pygments_lexer": "ipython3",
   "version": "3.6.9"
  }
 },
 "nbformat": 4,
 "nbformat_minor": 4
}
