{
 "cells": [
  {
   "cell_type": "code",
   "execution_count": 1,
   "metadata": {},
   "outputs": [],
   "source": [
    "from __future__ import print_function\n",
    "from fenics import *\n",
    "from ufl import nabla_div\n",
    "import numpy as np\n",
    "import matplotlib.pyplot as plt\n",
    "from matplotlib import cm\n",
    "from matplotlib.ticker import LinearLocator\n",
    "from mpl_toolkits.mplot3d import Axes3D\n",
    "import petsc4py\n",
    "petsc4py.init()\n",
    "from petsc4py import PETSc\n",
    "%matplotlib inline\n"
   ]
  },
  {
   "cell_type": "markdown",
   "metadata": {},
   "source": [
    "# PETSc Tutorial \n",
    "\n",
    "https://computationalmechanics.in/vector-and-matrix-operations-in-petsc-via-petsc4py/"
   ]
  },
  {
   "cell_type": "code",
   "execution_count": 3,
   "metadata": {},
   "outputs": [
    {
     "name": "stdout",
     "output_type": "stream",
     "text": [
      "[ 0.  1.  2.  3.  4.  5.  6.  7.  8.  9.]\n",
      "3.0\n",
      "[ 1.  2.]\n"
     ]
    }
   ],
   "source": [
    "n = 10 # Size of vector\n",
    "x = PETSc.Vec().createSeq(n) # Faster way to create a sequential vector.\n",
    "x.setValues(range(n), range(n))\n",
    "print(x.getArray())\n",
    "print(x.getValues(3))\n",
    "print(x.getValues([1, 2]))"
   ]
  },
  {
   "cell_type": "code",
   "execution_count": 4,
   "metadata": {},
   "outputs": [
    {
     "name": "stdout",
     "output_type": "stream",
     "text": [
      "[  1.   2.   3.   4.   5.   6.   7.   8.   9.  10.]\n",
      "[ 0.  1.  2.  3.  4.  5.  6.  7.  8.  9.]\n"
     ]
    }
   ],
   "source": [
    "#add scalar to a vector\n",
    "x.setValues(range(n), range(n))\n",
    "x.shift(1)\n",
    "print(x.getArray())\n",
    "x.shift(-1)\n",
    "print(x.getArray())"
   ]
  },
  {
   "cell_type": "code",
   "execution_count": 6,
   "metadata": {},
   "outputs": [
    {
     "name": "stdout",
     "output_type": "stream",
     "text": [
      "[  0.   2.   4.   6.   8.  10.  12.  14.  16.  18.]\n"
     ]
    }
   ],
   "source": [
    "#adding 2 vectors\n",
    "x.setValues(range(n), range(n))\n",
    "y = PETSc.Vec().createSeq(n)\n",
    "y.setValues(range(n), range(n))\n",
    "z=x+y\n",
    "print(z.getArray())"
   ]
  },
  {
   "cell_type": "code",
   "execution_count": 7,
   "metadata": {},
   "outputs": [
    {
     "name": "stdout",
     "output_type": "stream",
     "text": [
      "45.0\n",
      "(0, 0.0)\n",
      "(9, 9.0)\n"
     ]
    }
   ],
   "source": [
    "#sum entries of vector\n",
    "print(x.sum())\n",
    "print(x.min())\n",
    "print(x.max())"
   ]
  },
  {
   "cell_type": "code",
   "execution_count": 8,
   "metadata": {},
   "outputs": [
    {
     "name": "stdout",
     "output_type": "stream",
     "text": [
      "285.0\n",
      "285.0\n"
     ]
    }
   ],
   "source": [
    "#vector dot product\n",
    "print(x.dot(x)) # dot product with self\n",
    "print(x.dot(y)) # dot product with another vector"
   ]
  },
  {
   "cell_type": "code",
   "execution_count": 9,
   "metadata": {},
   "outputs": [
    {
     "name": "stdout",
     "output_type": "stream",
     "text": [
      "2-norm = 16.881943016134134\n",
      "Infinity-norm = 9.0\n"
     ]
    }
   ],
   "source": [
    "print ('2-norm =', x.norm())\n",
    "print ('Infinity-norm =', x.norm(PETSc.NormType.NORM_INFINITY))"
   ]
  },
  {
   "cell_type": "code",
   "execution_count": 10,
   "metadata": {},
   "outputs": [],
   "source": [
    "m, n = 4, 4 # size of the matrix\n",
    "A = PETSc.Mat().createAIJ([m, n]) # AIJ represents sparse matrix\n",
    "A.setUp()\n",
    "A.assemble()"
   ]
  },
  {
   "cell_type": "code",
   "execution_count": 11,
   "metadata": {},
   "outputs": [
    {
     "name": "stdout",
     "output_type": "stream",
     "text": [
      "[[ 0.  0.  0.  0.]\n",
      " [ 0.  0.  0.  0.]\n",
      " [ 0.  0.  0.  0.]\n",
      " [ 0.  0.  0.  0.]]\n",
      "[[ 0.]\n",
      " [ 0.]]\n"
     ]
    }
   ],
   "source": [
    "#use getValues method to print\n",
    "print(A.getValues(range(m), range(n)))\n",
    "print(A.getValues(range(2), range(1)))"
   ]
  },
  {
   "cell_type": "code",
   "execution_count": 15,
   "metadata": {},
   "outputs": [
    {
     "name": "stdout",
     "output_type": "stream",
     "text": [
      "[[-2.  0.  1.  2.]\n",
      " [ 0. -9.  4.  8.]\n",
      " [ 0.  0. -5.  0.]\n",
      " [ 0.  0.  0.  6.]]\n"
     ]
    }
   ],
   "source": [
    "#setting values to matrix\n",
    "#setValue(self, row, col, value, addv=None) will assign the value to the mentioned [row][col] index of the matrix \n",
    "#and setValues(self, rows, cols, values, addv=None) will assign values to the positions obtained from the tensor product of rows and cols.\n",
    "A.setValue(1, 1, -9)\n",
    "A.setValue(0, 0, -2)\n",
    "A.setValue(2, 2, -5)\n",
    "A.setValue(3, 3, 6)\n",
    "#looks like row major\n",
    "A.setValues([0, 1], [2, 3], [1, 2, 4, 8])\n",
    "A.assemble()\n",
    "print(A.getValues(range(m), range(n)))"
   ]
  },
  {
   "cell_type": "code",
   "execution_count": 16,
   "metadata": {},
   "outputs": [
    {
     "name": "stdout",
     "output_type": "stream",
     "text": [
      "(4, 4)\n",
      "(4, 4) (4, 4)\n",
      "[[-2.  0.  0.  0.]\n",
      " [ 0. -9.  0.  0.]\n",
      " [ 1.  4. -5.  0.]\n",
      " [ 2.  8.  0.  6.]]\n"
     ]
    }
   ],
   "source": [
    "#get size and transpose\n",
    "print(A.getSize())\n",
    "B = A.copy()\n",
    "B.transpose()\n",
    "print(A.getSize(), B.getSize())\n",
    "print(B.getValues(range(4), range(4)))\n"
   ]
  },
  {
   "cell_type": "code",
   "execution_count": 17,
   "metadata": {},
   "outputs": [
    {
     "name": "stdout",
     "output_type": "stream",
     "text": [
      "[[   9.   20.   -5.   12.]\n",
      " [  20.  161.  -20.   48.]\n",
      " [  -5.  -20.   25.    0.]\n",
      " [  12.   48.    0.   36.]]\n"
     ]
    }
   ],
   "source": [
    "#matrix multiplication\n",
    "C = A.matMult(B)\n",
    "print(C.getValues(range(m), range(n)))"
   ]
  },
  {
   "cell_type": "code",
   "execution_count": 19,
   "metadata": {},
   "outputs": [
    {
     "name": "stdout",
     "output_type": "stream",
     "text": [
      "[ 1.  3. -5.  6.]\n"
     ]
    }
   ],
   "source": [
    "#mult(self, Vec x, Vec y) multiply matrix with vector x where y is the resulting vector\n",
    "x = PETSc.Vec().createSeq(4) # making the x vector\n",
    "x.set(1) # assigning value 1 to all the elements\n",
    "y = PETSc.Vec().createSeq(4) # Put answer here.\n",
    "A.mult(x, y) # A*x = y\n",
    "print(y.getArray())"
   ]
  },
  {
   "cell_type": "code",
   "execution_count": 20,
   "metadata": {},
   "outputs": [
    {
     "name": "stdout",
     "output_type": "stream",
     "text": [
      "Matrix A: \n",
      "[[-2.  0.  1.  2.]\n",
      " [ 0. -9.  4.  8.]\n",
      " [ 0.  0. -5.  0.]\n",
      " [ 0.  0.  0.  6.]]\n",
      "\\n Vector b: \n",
      "[ 10.   5.   3.   6.]\n",
      "\\n Solving with: gmres\n",
      "\\n Solution vector x: \n",
      "[-4.3         0.06666667 -0.6         1.        ]\n"
     ]
    }
   ],
   "source": [
    "#most simple solver is krylov\n",
    "print(\"Matrix A: \")\n",
    "print(A.getValues(range(m), range(n))) # printing the matrix A defined above\n",
    "\n",
    "b = PETSc.Vec().createSeq(4) # creating a vector\n",
    "b.setValues(range(4), [10, 5, 3, 6]) # assigning values to the vector\n",
    "\n",
    "print('\\\\n Vector b: ')\n",
    "print(b.getArray()) # printing the vector \n",
    "\n",
    "x = PETSc.Vec().createSeq(4) # create the solution vector x\n",
    "\n",
    "ksp = PETSc.KSP().create() # creating a KSP object named ksp\n",
    "ksp.setOperators(A)\n",
    "\n",
    "# Allow for solver choice to be set from command line with -ksp_type <solver>.\n",
    "ksp.setFromOptions()\n",
    "print ('\\\\n Solving with:', ksp.getType()) # prints the type of solver\n",
    "\n",
    "# Solve!\n",
    "ksp.solve(b, x) \n",
    "\n",
    "print('\\\\n Solution vector x: ')\n",
    "print(x.getArray())"
   ]
  },
  {
   "cell_type": "code",
   "execution_count": 12,
   "metadata": {},
   "outputs": [
    {
     "name": "stdout",
     "output_type": "stream",
     "text": [
      "<class 'dolfin.cpp.la.PETScMatrix'>\n",
      "<class 'petsc4py.PETSc.Mat'>\n",
      "<class 'dolfin.cpp.la.PETScVector'>\n",
      "<class 'petsc4py.PETSc.Vec'>\n"
     ]
    }
   ],
   "source": [
    "#now using PETSc interface to FEniCS\n",
    "nx = 10\n",
    "mesh = UnitIntervalMesh(nx)\n",
    "V=FunctionSpace(mesh,'P',1)\n",
    "u = TrialFunction(V)\n",
    "v = TestFunction(V)\n",
    "\n",
    "k_form = u*v*dx\n",
    "f_form = v*dx\n",
    "\n",
    "K = PETScMatrix()\n",
    "\n",
    "assemble(k_form, tensor=K)\n",
    "print(type(K))\n",
    "#change to petsc objet\n",
    "Kp = as_backend_type(K).mat()\n",
    "print(type(Kp))\n",
    "\n",
    "\n",
    "#how to assemble vector?\n",
    "F = PETScVector()\n",
    "assemble(f_form, tensor=F)\n",
    "print(type(F))\n",
    "\n",
    "Fp = as_backend_type(F).vec()\n",
    "print(type(Fp))\n"
   ]
  },
  {
   "cell_type": "code",
   "execution_count": 6,
   "metadata": {},
   "outputs": [
    {
     "name": "stdout",
     "output_type": "stream",
     "text": [
      "[[ 1.  0.  0.  0.  0.  0.  0.  0.  0.  0.  0.  0.  0.  0.  0.  0.  0.  0.\n",
      "   0.  0.]\n",
      " [ 0.  1.  0.  0.  0.  0.  0.  0.  0.  0.  0.  0.  0.  0.  0.  0.  0.  0.\n",
      "   0.  0.]\n",
      " [ 0.  0.  1.  0.  0.  0.  0.  0.  0.  0.  0.  0.  0.  0.  0.  0.  0.  0.\n",
      "   0.  0.]\n",
      " [ 0.  0.  0.  1.  0.  0.  0.  0.  0.  0.  0.  0.  0.  0.  0.  0.  0.  0.\n",
      "   0.  0.]\n",
      " [ 0.  0.  0.  0.  1.  0.  0.  0.  0.  0.  0.  0.  0.  0.  0.  0.  0.  0.\n",
      "   0.  0.]\n",
      " [ 0.  0.  0.  0.  0.  1.  0.  0.  0.  0.  0.  0.  0.  0.  0.  0.  0.  0.\n",
      "   0.  0.]\n",
      " [ 0.  0.  0.  0.  0.  0.  1.  0.  0.  0.  0.  0.  0.  0.  0.  0.  0.  0.\n",
      "   0.  0.]\n",
      " [ 0.  0.  0.  0.  0.  0.  0.  1.  0.  0.  0.  0.  0.  0.  0.  0.  0.  0.\n",
      "   0.  0.]\n",
      " [ 0.  0.  0.  0.  0.  0.  0.  0.  1.  0.  0.  0.  0.  0.  0.  0.  0.  0.\n",
      "   0.  0.]\n",
      " [ 0.  0.  0.  0.  0.  0.  0.  0.  0.  1.  0.  0.  0.  0.  0.  0.  0.  0.\n",
      "   0.  0.]\n",
      " [ 0.  0.  0.  0.  0.  0.  0.  0.  0.  0.  1.  0.  0.  0.  0.  0.  0.  0.\n",
      "   0.  0.]\n",
      " [ 0.  0.  0.  0.  0.  0.  0.  0.  0.  0.  0.  1.  0.  0.  0.  0.  0.  0.\n",
      "   0.  0.]\n",
      " [ 0.  0.  0.  0.  0.  0.  0.  0.  0.  0.  0.  0.  1.  0.  0.  0.  0.  0.\n",
      "   0.  0.]\n",
      " [ 0.  0.  0.  0.  0.  0.  0.  0.  0.  0.  0.  0.  0.  1.  0.  0.  0.  0.\n",
      "   0.  0.]\n",
      " [ 0.  0.  0.  0.  0.  0.  0.  0.  0.  0.  0.  0.  0.  0.  1.  0.  0.  0.\n",
      "   0.  0.]\n",
      " [ 0.  0.  0.  0.  0.  0.  0.  0.  0.  0.  0.  0.  0.  0.  0.  1.  0.  0.\n",
      "   0.  0.]\n",
      " [ 0.  0.  0.  0.  0.  0.  0.  0.  0.  0.  0.  0.  0.  0.  0.  0.  1.  0.\n",
      "   0.  0.]\n",
      " [ 0.  0.  0.  0.  0.  0.  0.  0.  0.  0.  0.  0.  0.  0.  0.  0.  0.  1.\n",
      "   0.  0.]\n",
      " [ 0.  0.  0.  0.  0.  0.  0.  0.  0.  0.  0.  0.  0.  0.  0.  0.  0.  0.\n",
      "   1.  0.]\n",
      " [ 0.  0.  0.  0.  0.  0.  0.  0.  0.  0.  0.  0.  0.  0.  0.  0.  0.  0.\n",
      "   0.  1.]]\n"
     ]
    }
   ],
   "source": [
    "#other case, if I have a numpy matrix X\n",
    "X = np.eye(20)\n",
    "Xp = PETSc.Mat().createAIJ(X.T.shape)\n",
    "Xp.setUp()\n",
    "Xp.setValues(range(0, X.shape[1]), range(0, X.shape[0]), X.T) # copy X matrix into petsc matrix\n",
    "Xp.assemble()\n",
    "Xp.transpose()\n",
    "print(Xp.getValues(range(0, X.shape[0]), range(0, X.shape[1])))"
   ]
  },
  {
   "cell_type": "code",
   "execution_count": 5,
   "metadata": {},
   "outputs": [
    {
     "name": "stdout",
     "output_type": "stream",
     "text": [
      "20\n"
     ]
    }
   ],
   "source": [
    "print(X.shape[1])"
   ]
  },
  {
   "cell_type": "code",
   "execution_count": null,
   "metadata": {},
   "outputs": [],
   "source": []
  }
 ],
 "metadata": {
  "kernelspec": {
   "display_name": "Python 3",
   "language": "python",
   "name": "python3"
  },
  "language_info": {
   "codemirror_mode": {
    "name": "ipython",
    "version": 3
   },
   "file_extension": ".py",
   "mimetype": "text/x-python",
   "name": "python",
   "nbconvert_exporter": "python",
   "pygments_lexer": "ipython3",
   "version": "3.6.9"
  }
 },
 "nbformat": 4,
 "nbformat_minor": 4
}
