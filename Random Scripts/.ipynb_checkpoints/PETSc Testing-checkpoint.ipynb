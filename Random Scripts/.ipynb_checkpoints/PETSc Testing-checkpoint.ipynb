{
 "cells": [
  {
   "cell_type": "code",
   "execution_count": 1,
   "metadata": {},
   "outputs": [],
   "source": [
    "from __future__ import print_function\n",
    "from fenics import *\n",
    "from ufl import nabla_div\n",
    "import numpy as np\n",
    "import matplotlib.pyplot as plt\n",
    "from matplotlib import cm\n",
    "from matplotlib.ticker import LinearLocator\n",
    "from mpl_toolkits.mplot3d import Axes3D\n",
    "import petsc4py\n",
    "petsc4py.init()\n",
    "from petsc4py import PETSc\n",
    "import time\n",
    "import CartFuncs as CF\n",
    "%matplotlib inline\n"
   ]
  },
  {
   "cell_type": "markdown",
   "metadata": {},
   "source": [
    "# PETSc Tutorial \n",
    "\n",
    "https://computationalmechanics.in/vector-and-matrix-operations-in-petsc-via-petsc4py/"
   ]
  },
  {
   "cell_type": "code",
   "execution_count": 2,
   "metadata": {},
   "outputs": [
    {
     "name": "stdout",
     "output_type": "stream",
     "text": [
      "[ 0.  1.  2.  3.  4.  5.  6.  7.  8.  9.]\n",
      "3.0\n",
      "[ 1.  2.]\n"
     ]
    }
   ],
   "source": [
    "n = 10 # Size of vector\n",
    "x = PETSc.Vec().createSeq(n) # Faster way to create a sequential vector.\n",
    "x.setValues(range(n), range(n))\n",
    "print(x.getArray())\n",
    "print(x.getValues(3))\n",
    "print(x.getValues([1, 2]))"
   ]
  },
  {
   "cell_type": "code",
   "execution_count": 3,
   "metadata": {},
   "outputs": [
    {
     "name": "stdout",
     "output_type": "stream",
     "text": [
      "[  1.   2.   3.   4.   5.   6.   7.   8.   9.  10.]\n",
      "[ 0.  1.  2.  3.  4.  5.  6.  7.  8.  9.]\n"
     ]
    }
   ],
   "source": [
    "#add scalar to a vector\n",
    "x.setValues(range(n), range(n))\n",
    "x.shift(1)\n",
    "print(x.getArray())\n",
    "x.shift(-1)\n",
    "print(x.getArray())"
   ]
  },
  {
   "cell_type": "code",
   "execution_count": 4,
   "metadata": {},
   "outputs": [
    {
     "name": "stdout",
     "output_type": "stream",
     "text": [
      "[  0.   2.   4.   6.   8.  10.  12.  14.  16.  18.]\n"
     ]
    }
   ],
   "source": [
    "#adding 2 vectors\n",
    "x.setValues(range(n), range(n))\n",
    "y = PETSc.Vec().createSeq(n)\n",
    "y.setValues(range(n), range(n))\n",
    "z=x+y\n",
    "print(z.getArray())"
   ]
  },
  {
   "cell_type": "code",
   "execution_count": 5,
   "metadata": {},
   "outputs": [
    {
     "name": "stdout",
     "output_type": "stream",
     "text": [
      "45.0\n",
      "(0, 0.0)\n",
      "(9, 9.0)\n"
     ]
    }
   ],
   "source": [
    "#sum entries of vector\n",
    "print(x.sum())\n",
    "print(x.min())\n",
    "print(x.max())"
   ]
  },
  {
   "cell_type": "code",
   "execution_count": 6,
   "metadata": {},
   "outputs": [
    {
     "name": "stdout",
     "output_type": "stream",
     "text": [
      "285.0\n",
      "285.0\n"
     ]
    }
   ],
   "source": [
    "#vector dot product\n",
    "print(x.dot(x)) # dot product with self\n",
    "print(x.dot(y)) # dot product with another vector"
   ]
  },
  {
   "cell_type": "code",
   "execution_count": 7,
   "metadata": {},
   "outputs": [
    {
     "name": "stdout",
     "output_type": "stream",
     "text": [
      "2-norm = 16.881943016134134\n",
      "Infinity-norm = 9.0\n"
     ]
    }
   ],
   "source": [
    "print ('2-norm =', x.norm())\n",
    "print ('Infinity-norm =', x.norm(PETSc.NormType.NORM_INFINITY))"
   ]
  },
  {
   "cell_type": "code",
   "execution_count": 8,
   "metadata": {},
   "outputs": [],
   "source": [
    "m, n = 4, 4 # size of the matrix\n",
    "A = PETSc.Mat().createAIJ([m, n]) # AIJ represents sparse matrix\n",
    "A.setUp()\n",
    "A.assemble()"
   ]
  },
  {
   "cell_type": "code",
   "execution_count": null,
   "metadata": {},
   "outputs": [],
   "source": [
    "#use getValues method to print\n",
    "print(A.getValues(range(m), range(n)))\n",
    "print(A.getValues(range(2), range(1)))"
   ]
  },
  {
   "cell_type": "code",
   "execution_count": 2,
   "metadata": {},
   "outputs": [
    {
     "name": "stdout",
     "output_type": "stream",
     "text": [
      "[[ 0.  0.  1.  2.]\n",
      " [ 0.  0.  0.  0.]\n",
      " [ 0.  0.  4.  8.]\n",
      " [ 0.  3.  0.  5.]]\n"
     ]
    }
   ],
   "source": [
    "#setting values to matrix\n",
    "#setValue(self, row, col, value, addv=None) will assign the value to the mentioned [row][col] index of the matrix \n",
    "#and setValues(self, rows, cols, values, addv=None) will assign values to the positions obtained from the tensor product of rows and cols.\n",
    "#A.setValue(1, 1, -9)\n",
    "#A.setValue(0, 0, -2)\n",
    "#A.setValue(2, 2, -5)\n",
    "#A.setValue(3, 3, 6)\n",
    "#looks like row major\n",
    "m, n = 4, 4 # size of the matrix\n",
    "A = PETSc.Mat().createAIJ([m, n]) # AIJ represents sparse matrix\n",
    "A.setUp()\n",
    "A.assemble()\n",
    "A.setValues([0, 2], [2, 3], [1, 2, 4, 8])\n",
    "A.setValues([3],[1,3],[3,5])\n",
    "A.assemble()\n",
    "print(A.getValues(range(m), range(n)))\n"
   ]
  },
  {
   "cell_type": "code",
   "execution_count": null,
   "metadata": {},
   "outputs": [],
   "source": [
    "#get size and transpose\n",
    "print(A.getSize())\n",
    "B = A.copy()\n",
    "B.transpose()\n",
    "print(A.getSize(), B.getSize())\n",
    "print(B.getValues(range(4), range(4)))\n"
   ]
  },
  {
   "cell_type": "code",
   "execution_count": null,
   "metadata": {},
   "outputs": [],
   "source": [
    "#matrix multiplication\n",
    "C = A.matMult(B)\n",
    "print(C.getValues(range(m), range(n)))"
   ]
  },
  {
   "cell_type": "code",
   "execution_count": null,
   "metadata": {},
   "outputs": [],
   "source": [
    "#mult(self, Vec x, Vec y) multiply matrix with vector x where y is the resulting vector\n",
    "x = PETSc.Vec().createSeq(4) # making the x vector\n",
    "x.set(1) # assigning value 1 to all the elements\n",
    "y = PETSc.Vec().createSeq(4) # Put answer here.\n",
    "A.mult(x, y) # A*x = y\n",
    "print(y.getArray())"
   ]
  },
  {
   "cell_type": "code",
   "execution_count": null,
   "metadata": {},
   "outputs": [],
   "source": [
    "#most simple solver is krylov\n",
    "print(\"Matrix A: \")\n",
    "print(A.getValues(range(m), range(n))) # printing the matrix A defined above\n",
    "\n",
    "b = PETSc.Vec().createSeq(4) # creating a vector\n",
    "b.setValues(range(4), [10, 5, 3, 6]) # assigning values to the vector\n",
    "\n",
    "print('\\\\n Vector b: ')\n",
    "print(b.getArray()) # printing the vector \n",
    "\n",
    "x = PETSc.Vec().createSeq(4) # create the solution vector x\n",
    "\n",
    "ksp = PETSc.KSP().create() # creating a KSP object named ksp\n",
    "ksp.setOperators(A)\n",
    "\n",
    "# Allow for solver choice to be set from command line with -ksp_type <solver>.\n",
    "ksp.setFromOptions()\n",
    "print ('\\\\n Solving with:', ksp.getType()) # prints the type of solver\n",
    "\n",
    "# Solve!\n",
    "ksp.solve(b, x) \n",
    "\n",
    "print('\\\\n Solution vector x: ')\n",
    "print(x.getArray())"
   ]
  },
  {
   "cell_type": "code",
   "execution_count": 5,
   "metadata": {},
   "outputs": [
    {
     "name": "stdout",
     "output_type": "stream",
     "text": [
      "(12, 12)\n",
      "[[ 0.03030303  0.01515152  0.          0.          0.          0.          0.\n",
      "   0.          0.          0.          0.          0.        ]\n",
      " [ 0.01515152  0.06060606  0.01515152  0.          0.          0.          0.\n",
      "   0.          0.          0.          0.          0.        ]\n",
      " [ 0.          0.01515152  0.06060606  0.01515152  0.          0.          0.\n",
      "   0.          0.          0.          0.          0.        ]\n",
      " [ 0.          0.          0.01515152  0.06060606  0.01515152  0.          0.\n",
      "   0.          0.          0.          0.          0.        ]\n",
      " [ 0.          0.          0.          0.01515152  0.06060606  0.01515152\n",
      "   0.          0.          0.          0.          0.          0.        ]\n",
      " [ 0.          0.          0.          0.          0.01515152  0.06060606\n",
      "   0.01515152  0.          0.          0.          0.          0.        ]\n",
      " [ 0.          0.          0.          0.          0.          0.01515152\n",
      "   0.06060606  0.01515152  0.          0.          0.          0.        ]\n",
      " [ 0.          0.          0.          0.          0.          0.\n",
      "   0.01515152  0.06060606  0.01515152  0.          0.          0.        ]\n",
      " [ 0.          0.          0.          0.          0.          0.          0.\n",
      "   0.01515152  0.06060606  0.01515152  0.          0.        ]\n",
      " [ 0.          0.          0.          0.          0.          0.          0.\n",
      "   0.          0.01515152  0.06060606  0.01515152  0.        ]\n",
      " [ 0.          0.          0.          0.          0.          0.          0.\n",
      "   0.          0.          0.01515152  0.06060606  0.01515152]\n",
      " [ 0.          0.          0.          0.          0.          0.          0.\n",
      "   0.          0.          0.          0.01515152  0.03030303]]\n",
      "[ 0  2  5  8 11 14 17 20 23 26 29 32 34]\n",
      "[ 0  1  0  1  2  1  2  3  2  3  4  3  4  5  4  5  6  5  6  7  6  7  8  7  8\n",
      "  9  8  9 10  9 10 11 10 11]\n",
      "[ 0.03030303  0.01515152  0.01515152  0.06060606  0.01515152  0.01515152\n",
      "  0.06060606  0.01515152  0.01515152  0.06060606  0.01515152  0.01515152\n",
      "  0.06060606  0.01515152  0.01515152  0.06060606  0.01515152  0.01515152\n",
      "  0.06060606  0.01515152  0.01515152  0.06060606  0.01515152  0.01515152\n",
      "  0.06060606  0.01515152  0.01515152  0.06060606  0.01515152  0.01515152\n",
      "  0.06060606  0.01515152  0.01515152  0.03030303]\n",
      "13\n",
      "34\n",
      "34\n",
      "[ 0.01515152  0.06060606  0.01515152]\n",
      "[ 0.01515152  0.03030303]\n",
      "[5 5 5]\n",
      "[2 3 3 3 3 3 3 3 3 3 3 2]\n"
     ]
    }
   ],
   "source": [
    "#now using PETSc interface to FEniCS\n",
    "nx = 11\n",
    "mesh = UnitIntervalMesh(nx)\n",
    "V=FunctionSpace(mesh,'P',1)\n",
    "u = TrialFunction(V)\n",
    "v = TestFunction(V)\n",
    "\n",
    "k_form = u*v*dx\n",
    "#print(type(k_form))\n",
    "object_methods = [method_name for method_name in dir(k_form)\n",
    "                  if callable(getattr(k_form, method_name))]\n",
    "#print(object_methods)\n",
    "f_form = v*dx\n",
    "\n",
    "K = PETScMatrix()\n",
    "\n",
    "assemble(k_form, tensor=K)\n",
    "letssee = assemble(k_form)\n",
    "#print(type(letssee))\n",
    "object_methods = [method_name for method_name in dir(K)\n",
    "                  if callable(getattr(K, method_name))]\n",
    "#print(object_methods)\n",
    "#print(type(K))\n",
    "object_methods = [method_name for method_name in dir(K)\n",
    "                  if callable(getattr(K, method_name))]\n",
    "#print(object_methods)\n",
    "\n",
    "#print('nnz value')\n",
    "#print(K.nnz())\n",
    "#change to petsc objet\n",
    "Kp = K.mat()\n",
    "#print(type(Kp))\n",
    "object_methods = [method_name for method_name in dir(Kp)\n",
    "                  if callable(getattr(Kp, method_name))]\n",
    "#print(object_methods)\n",
    "\n",
    "\n",
    "#print(Kp.getType())\n",
    "\n",
    "#how to assemble vector?\n",
    "F = PETScVector()\n",
    "assemble(f_form, tensor=F)\n",
    "#print(type(F))\n",
    "\n",
    "Fp = as_backend_type(F).vec()\n",
    "#print(type(Fp))\n",
    "\n",
    "\n",
    "print(Kp.getSize())\n",
    "print(Kp.getValues(range(12),range(12)))\n",
    "rows,cols,vals = Kp.getValuesCSR()\n",
    "\n",
    "print(rows)\n",
    "print(cols)\n",
    "print(vals)\n",
    "\n",
    "print(len(rows))\n",
    "print(len(cols))\n",
    "print(len(vals))\n",
    "\n",
    "row_num = 5\n",
    "print(vals[rows[row_num]:rows[row_num+1]])\n",
    "print(vals[32:34])\n",
    "row_ind = np.zeros(len(vals),dtype=np.int32)\n",
    "for i in range(nx+1):\n",
    "    row_ind[rows[i]:rows[i+1]] = i\n",
    "print(row_ind[rows[row_num]:rows[row_num+1]])\n",
    "print(rows[1:]-rows[:-1])"
   ]
  },
  {
   "cell_type": "code",
   "execution_count": 17,
   "metadata": {},
   "outputs": [
    {
     "ename": "Error",
     "evalue": "error code 73\n[0] MatGetValues() line 1904 in /tmp/petsc-src/src/mat/interface/matrix.c\n[0] Object is in wrong state\n[0] Not for unassembled matrix",
     "output_type": "error",
     "traceback": [
      "\u001b[0;31m---------------------------------------------------------------------------\u001b[0m",
      "\u001b[0;31mError\u001b[0m                                     Traceback (most recent call last)",
      "\u001b[0;32m<ipython-input-17-1f380a960ddb>\u001b[0m in \u001b[0;36m<module>\u001b[0;34m\u001b[0m\n\u001b[1;32m     16\u001b[0m \u001b[0mB\u001b[0m\u001b[0;34m.\u001b[0m\u001b[0msetValues\u001b[0m\u001b[0;34m(\u001b[0m\u001b[0;36m3\u001b[0m\u001b[0;34m,\u001b[0m\u001b[0;36m1\u001b[0m\u001b[0;34m,\u001b[0m\u001b[0;36m4\u001b[0m\u001b[0;34m)\u001b[0m\u001b[0;34m\u001b[0m\u001b[0;34m\u001b[0m\u001b[0m\n\u001b[1;32m     17\u001b[0m \u001b[0;34m\u001b[0m\u001b[0m\n\u001b[0;32m---> 18\u001b[0;31m \u001b[0mr\u001b[0m\u001b[0;34m,\u001b[0m\u001b[0mc\u001b[0m\u001b[0;34m,\u001b[0m\u001b[0mv\u001b[0m\u001b[0;34m=\u001b[0m\u001b[0mB\u001b[0m\u001b[0;34m.\u001b[0m\u001b[0mgetValuesCSR\u001b[0m\u001b[0;34m(\u001b[0m\u001b[0;34m)\u001b[0m\u001b[0;34m\u001b[0m\u001b[0;34m\u001b[0m\u001b[0m\n\u001b[0m\u001b[1;32m     19\u001b[0m \u001b[0;31m#try a new method\u001b[0m\u001b[0;34m\u001b[0m\u001b[0;34m\u001b[0m\u001b[0;34m\u001b[0m\u001b[0m\n\u001b[1;32m     20\u001b[0m \u001b[0mC1\u001b[0m \u001b[0;34m=\u001b[0m \u001b[0mPETSc\u001b[0m\u001b[0;34m.\u001b[0m\u001b[0mMat\u001b[0m\u001b[0;34m(\u001b[0m\u001b[0;34m)\u001b[0m\u001b[0;34m.\u001b[0m\u001b[0mcreateAIJ\u001b[0m\u001b[0;34m(\u001b[0m\u001b[0;34m[\u001b[0m\u001b[0mm\u001b[0m\u001b[0;34m,\u001b[0m\u001b[0mm\u001b[0m\u001b[0;34m]\u001b[0m\u001b[0;34m,\u001b[0m\u001b[0mnnz\u001b[0m\u001b[0;34m=\u001b[0m\u001b[0;36m1\u001b[0m\u001b[0;34m)\u001b[0m \u001b[0;31m# AIJ represents sparse matrix\u001b[0m\u001b[0;34m\u001b[0m\u001b[0;34m\u001b[0m\u001b[0m\n",
      "\u001b[0;32mPETSc/Mat.pyx\u001b[0m in \u001b[0;36mpetsc4py.PETSc.Mat.getValuesCSR\u001b[0;34m()\u001b[0m\n",
      "\u001b[0;31mError\u001b[0m: error code 73\n[0] MatGetValues() line 1904 in /tmp/petsc-src/src/mat/interface/matrix.c\n[0] Object is in wrong state\n[0] Not for unassembled matrix"
     ]
    }
   ],
   "source": [
    "#lets test my kron product thingy\n",
    "m = 4\n",
    "A = PETSc.Mat().createAIJ([m,m],nnz=1) # AIJ represents sparse matrix\n",
    "A.setUp()\n",
    "A.setValues(0,0,1)\n",
    "A.setValues(1,1,2)\n",
    "A.setValues(2,2,3)\n",
    "A.setValues(3,3,4)\n",
    "\n",
    "\n",
    "B = PETSc.Mat().createAIJ([m,m],nnz=1) # AIJ represents sparse matrix\n",
    "B.setUp()\n",
    "B.setValues(0,1,5)\n",
    "B.setValues(1,1,1)\n",
    "B.setValues(2,1,3)\n",
    "B.setValues(3,1,4)\n",
    "\n",
    "\n",
    "#try a new method\n",
    "C1 = PETSc.Mat().createAIJ([m,m],nnz=1) # AIJ represents sparse matrix\n",
    "C1.setUp()\n",
    "\n",
    "#C1.setValues()\n",
    "A.assemble()\n",
    "B.assemble()\n",
    "\n",
    "\n",
    "C=A+B\n",
    "\n",
    "print(A.getValues(range(m),range(m)))\n",
    "print(B.getValues(range(m),range(m)))\n",
    "\n",
    "print(C.getValues(range(m),range(m)))\n",
    "AB =CF.kron_PETSC(A,B)\n",
    "AB.assemble()\n",
    "print(AB.getValues(range(m*m),range(m*m)))"
   ]
  },
  {
   "cell_type": "code",
   "execution_count": null,
   "metadata": {},
   "outputs": [],
   "source": [
    "#other case, if I have a numpy matrix X\n",
    "X = np.array([[1,2,3],[4,5,6]])\n",
    "print(X.shape)\n",
    "print(X)\n",
    "Xp = PETSc.Mat().createAIJ(X.shape)\n",
    "Xp.setUp()\n",
    "Xp.setValues(range(0, X.shape[0]), range(0, X.shape[1]), X) # copy X matrix into petsc matrix\n",
    "Xp.assemble()\n",
    "print(Xp.getValues(range(0, X.shape[0]), range(0, X.shape[1])))\n"
   ]
  },
  {
   "cell_type": "code",
   "execution_count": null,
   "metadata": {},
   "outputs": [],
   "source": [
    "print(X.shape[1])"
   ]
  },
  {
   "cell_type": "code",
   "execution_count": 54,
   "metadata": {},
   "outputs": [
    {
     "name": "stdout",
     "output_type": "stream",
     "text": [
      "<class 'dolfin.cpp.la.PETScMatrix'>\n",
      "<class 'petsc4py.PETSc.Mat'>\n",
      "<class 'dolfin.cpp.la.PETScVector'>\n",
      "<class 'dolfin.cpp.la.PETScVector'>\n",
      "[[ 0.08333333  0.04166667  0.          0.          0.        ]\n",
      " [ 0.04166667  0.16666667  0.04166667  0.          0.        ]\n",
      " [ 0.          0.04166667  0.16666667  0.04166667  0.        ]\n",
      " [ 0.          0.          0.04166667  0.16666667  0.04166667]\n",
      " [ 0.          0.          0.          0.04166667  0.08333333]]\n",
      "[[ 0.00694444  0.00347222  0.          0.          0.        ]\n",
      " [ 1.          1.          1.          1.          1.        ]\n",
      " [ 0.          0.00347222  0.01388889  0.00347222  0.        ]\n",
      " [ 0.          0.          0.00347222  0.01388889  0.00347222]\n",
      " [ 0.          0.          0.          0.00347222  0.00694444]]\n",
      "(25, 25)\n"
     ]
    }
   ],
   "source": [
    "#try np kron of 2 fenics matrices\n",
    "nx = 4\n",
    "mesh = UnitIntervalMesh(nx)\n",
    "V=FunctionSpace(mesh,'P',1)\n",
    "u = TrialFunction(V)\n",
    "v = TestFunction(V)\n",
    "\n",
    "k_form = u*v*dx\n",
    "f_form = v*dx\n",
    "\n",
    "K = PETScMatrix()\n",
    "\n",
    "assemble(k_form, tensor=K)\n",
    "print(type(K))\n",
    "#change to petsc objet\n",
    "Kp = K.mat()\n",
    "print(type(Kp))\n",
    "\n",
    "\n",
    "#how to assemble vector?\n",
    "F = PETScVector()\n",
    "assemble(f_form, tensor=F)\n",
    "print(type(F))\n",
    "\n",
    "Fp = F.vec()\n",
    "print(type(F))\n",
    "\n",
    "#do petsc kron, looks like it has to be manual\n",
    "\n",
    "Big_K = CF.kron_PETSC(Kp,Kp)\n",
    "Big_K.setValues(1,range(nx+1),np.ones(nx+1))\n",
    "Big_K.assemble()\n",
    "\n",
    "print(Kp.getValues(range(nx+1),range(nx+1)))\n",
    "print(Big_K.getValues(range(nx+1),range(nx+1)))\n",
    "print(Big_K.getSize())\n"
   ]
  },
  {
   "cell_type": "markdown",
   "metadata": {},
   "source": [
    "# Let's try a steady state example and compare timing"
   ]
  },
  {
   "cell_type": "code",
   "execution_count": 2,
   "metadata": {},
   "outputs": [],
   "source": [
    "t0 = time.time()\n",
    "#first create mesh, mesh 1 is space, mesh 2 is sigma\n",
    "x_min = -0.5\n",
    "x_max = 0.5\n",
    "y_min = -0.5\n",
    "y_max = 0.5\n",
    "nx = 25\n",
    "ny = 25\n",
    "\n",
    "\n",
    "mesh1 = IntervalMesh(nx,x_min,x_max)\n",
    "mesh2 = IntervalMesh(ny,y_min,y_max)\n",
    "\n",
    "V1 = FunctionSpace(mesh1, 'P', 1)\n",
    "V2 = FunctionSpace(mesh2, 'P', 1)\n",
    "dof_coordinates1=V1.tabulate_dof_coordinates()\n",
    "dof_coordinates2=V2.tabulate_dof_coordinates()\n",
    "\n",
    "#create trial and test functions\n",
    "u1_trial = TrialFunction(V1)\n",
    "v1_test = TestFunction(V1)\n",
    "u2_trial = TrialFunction(V2)\n",
    "v2_test = TestFunction(V2)\n",
    "#generate weak forms\n",
    "n1=FacetNormal(mesh1)\n",
    "n2=FacetNormal(mesh2)\n",
    "\n",
    "\n",
    "\n",
    "K11 = u1_trial*v1_test*dx\n",
    "K12 = u1_trial*v1_test.dx(0)*dx\n",
    "K14 = dot(n1,as_vector((u1_trial,)))*v1_test*ds\n",
    "K21 = u2_trial*v2_test*dx\n",
    "K22 = u2_trial*v2_test.dx(0)*dx\n",
    "K24 = dot(n2,as_vector((u2_trial,)))*v2_test*ds\n",
    "\n",
    "K11 = assemble(K11)\n",
    "K12 = assemble(K12)\n",
    "K14 = assemble(K14)\n",
    "K21 = assemble(K21) \n",
    "K22 = assemble(K22)\n",
    "K24 = assemble(K24)\n",
    "\n",
    "\n",
    "\n",
    "#use this to mark boundary (Dirichlet) \n",
    "def boundary(x, on_boundary):\n",
    "    return on_boundary and (near(x[0],x_min, 1e-14))\n",
    "\n",
    "#This function is simply used to mark the boundary (not the actual boundary condition)\n",
    "u_D1 = Expression('1.0', degree=2)\n",
    "\n",
    "\n",
    "#establish dummy functions\n",
    "dum1=Function(V1)\n",
    "dum2=Function(V2)\n",
    "\n",
    "\n",
    "#create boundary conditions\n",
    "#in this case, only dirichlet for one side of x and none for sigma\n",
    "#still need to mark boundaries tho ???,\n",
    "#there is probably a more efficient way to do this\n",
    "bc1 = DirichletBC(V1, u_D1, boundary)\n",
    "bc2 = DirichletBC(V2, u_D1, boundary)\n",
    "\n",
    "#apply to vectors to mark boundaries\n",
    "bc1.apply(dum1.vector())\n",
    "bc2.apply(dum2.vector())\n",
    "#get index number for each boundary cooordinates in subdomain\n",
    "boundary_dofs1 = np.where(dum1.vector()==1.0)[0]\n",
    "boundary_dofs2 = np.where(dum2.vector()==1.0)[0]\n",
    "#need all physical coordinates in case we need for calculations\n",
    "\n",
    "\n",
    "#physical coordinates should be just cartesian product of 2 dof maps in same order that kron product operates\n",
    "global_dof=CF.cartesian_product_coords(dof_coordinates1,dof_coordinates2)\n",
    "#split into x,y\n",
    "x = global_dof[:,0]\n",
    "y = global_dof[:,1]\n",
    "N_dof = len(x)\n",
    "\n",
    "#coordinates of boundary in each subdomain\n",
    "boundary_coord1 = dof_coordinates1[boundary_dofs1]\n",
    "boundary_coord2 = dof_coordinates2[boundary_dofs2]\n",
    "#now connect subdomain indeces to global boundary (turn this into function in future)\n",
    "#maybe in future for speed we can precompute number of boundary dofs\n",
    "#global_boundary_dofs=np.empty((len(boundary_dofs1)*len(dof_coordinates2),2))\n",
    "global_boundary_dofs=np.empty((len(boundary_dofs1)*len(dof_coordinates2) + len(dof_coordinates1)*len(boundary_dofs2),2))\n",
    "\n",
    "ctr=0\n",
    "for j in boundary_dofs1:\n",
    "    global_boundary_dofs[ctr*len(dof_coordinates2):(ctr+1)*len(dof_coordinates2),:] = \\\n",
    "    CF.cartesian_product_dofs(np.array([j]),np.arange(dof_coordinates2.shape[0]))\n",
    "    ctr=ctr+1\n",
    "\n",
    "last_ind = (ctr)*len(dof_coordinates2)\n",
    "\n",
    "\n",
    "for j in boundary_dofs2:\n",
    "    global_boundary_dofs[last_ind:last_ind+len(dof_coordinates1),:] = \\\n",
    "    CF.cartesian_product_dofs(np.arange(dof_coordinates1.shape[0]),np.array([j]))\n",
    "    last_ind = last_ind+len(dof_coordinates1)    \n",
    "    \n",
    "#sorts and also eliminates duplicates of \"corners\"\n",
    "global_boundary_dofs=np.unique(global_boundary_dofs,axis=0)\n",
    "\n",
    "#have cartesian product of dof at entire boundary (this form should be easy to get coordinates in if needed)\n",
    "#now need to convert to global system dof as the kron function does\n",
    "global_boundary_dofs=CF.cartesian_form_to_kroneck_form(global_boundary_dofs, len(dof_coordinates2))\n",
    "global_boundary_dofs=global_boundary_dofs.astype(int)\n",
    "\n",
    "#print(x[global_boundary_dofs])\n",
    "#print(y[global_boundary_dofs])\n",
    "\n",
    "#now manually for now select only left and bottom sides of rectangle\n",
    "#this is redundant\n",
    "dum1 = global_boundary_dofs[x[global_boundary_dofs]<=(x_min+1e-14)]\n",
    "dum2 = global_boundary_dofs[y[global_boundary_dofs]<=(y_min+1e-14)]\n",
    "global_boundary_dofs = np.unique(np.concatenate((dum1,dum2),0))\n",
    "\n",
    "#print(x[global_boundary_dofs])\n",
    "#print(y[global_boundary_dofs])\n",
    "\n",
    "\n",
    "\n",
    "#define velocities\n",
    "cx = np.ones(x.shape)\n",
    "cy = np.ones(y.shape)\n",
    "\n",
    "\n",
    "\n",
    "u = CF.u_pointwise(x,y)\n",
    "\n",
    "S = CF.S_pointwise(x,y)\n",
    "\n",
    "#establish global stiffness matrix\n",
    "K11 = np.array(K11.array())\n",
    "K12 = np.array(K12.array())\n",
    "K14 = np.array(K14.array())\n",
    "K21 = np.array(K21.array())\n",
    "K22 = np.array(K22.array())\n",
    "K24 = np.array(K24.array())\n",
    "\n",
    "#A = np.kron(K11,K21)-np.kron(K12,K21)-np.kron(K11,K22) + \\\n",
    "#    +np.kron(K14,K21) + \\\n",
    "#    + np.kron(K11,K24)\n",
    "#it simplifies\n",
    "A = np.kron(K11,K21 - K22+K24)-np.kron(K12-K14,K21)\n",
    "\n",
    "#Try trick from hughes\n",
    "F = np.kron(np.array(K11),np.array(K21))\n",
    "\n",
    "###for case 2 lets try a modified version instead of what we have been doing\n",
    "#RHS is (np.sin(x)*np.sin(y) + np.cos(x)*np.sin(y) + np.sin(x)*np.cos(y))*vdx\n",
    "#F = np.kron(np.array(F11),np.array(F21)) + np.kron(np.array(F12),np.array(F21)) + np.kron(np.array(F11),np.array(F22))\n",
    "\n",
    "\n",
    "#wipe out rows of global matrix that need to be dirichlet\n",
    "K_bound = np.zeros(A.shape)\n",
    "for i in global_boundary_dofs:\n",
    "    K_bound[i,i] = 1\n",
    "\n",
    "A[global_boundary_dofs,:] = K_bound[global_boundary_dofs,:]\n",
    "\n",
    "\n",
    "\n",
    "\n",
    "#now solve system\n",
    "\n",
    "RHS = F.dot(S)\n",
    "#RHS = F_old*S\n",
    "RHS[global_boundary_dofs] = u[global_boundary_dofs]\n",
    "\n",
    "\n",
    "#try petsc\n",
    "#'''\n",
    "\n",
    "#try to get sparsity pattern first to hasten assembly\n",
    "#hopefully this is row by row\n",
    "nnz = np.zeros(N_dof,dtype=np.int32)\n",
    "entry_list = []\n",
    "i=0\n",
    "for row in A:\n",
    "    temp = np.where(row!=0)[0]\n",
    "    temp=np.array([temp],dtype=np.int32)\n",
    "    entry_list.append(temp)\n",
    "    nnz[i] = len(temp[0])\n",
    "    i=i+1\n",
    "\n",
    "t_s = time.time()\n",
    "A_pet = PETSc.Mat().create()\n",
    "A_pet.setSizes(A.shape)\n",
    "A_pet.setType('aij')\n",
    "A_pet.setPreallocationNNZ(nnz)\n",
    "A_pet.setUp()\n",
    "\n",
    "#now try assigning row by row\n",
    "for i in range(N_dof):\n",
    "    temp = A[i,entry_list[i]]\n",
    "    A_pet.setValues(i, entry_list[i][0], temp[0]) # copy X matrix into petsc matrix\n",
    "\n",
    "A_pet.assemble()\n",
    "t_e = time.time()\n",
    "\n",
    "\n",
    "RHS_pet = PETSc.Vec().createSeq(N_dof)\n",
    "#RHS_pet.setUp()\n",
    "RHS_pet.setValues(range(0, RHS.shape[0]), RHS) # copy X matrix into petsc matrix\n",
    "#RHS_pet.assemble()\n",
    "\n",
    "#make krylov solver\n",
    "ksp = PETSc.KSP().create() # creating a KSP object named ksp\n",
    "ksp.setOperators(A_pet)\n",
    "ksp.setFromOptions()\n",
    "\n",
    "#set up solution vector\n",
    "u_cart = PETSc.Vec().createSeq(N_dof)\n",
    "#'''\n",
    "#end of petsc\n",
    "\n",
    "#for cas 2 just try F\n",
    "#RHS = F\n",
    "t1=time.time()\n",
    "ksp.solve(RHS_pet, u_cart)\n",
    "#u_cart=np.linalg.solve(A,RHS)\n",
    "t2=time.time()\n"
   ]
  },
  {
   "cell_type": "code",
   "execution_count": 3,
   "metadata": {},
   "outputs": [
    {
     "name": "stdout",
     "output_type": "stream",
     "text": [
      "Cartesian Errors\n",
      "l inf error\n",
      "0.000299575178732\n",
      "RMSE error\n",
      "0.000119963573791\n",
      "dof =  676\n",
      "Total assembly time:\n",
      "0.21602177619934082\n",
      "Petsc assignement time\n",
      "0.013519048690795898\n",
      "Solve time\n",
      "0.38909006118774414\n",
      "Total time\n",
      "0.605111837387085\n"
     ]
    }
   ],
   "source": [
    "u_cart = u_cart.getArray()\n",
    "print('Cartesian Errors')\n",
    "print('l inf error')\n",
    "print(max(abs(u-u_cart)))\n",
    "print('RMSE error')\n",
    "print(np.sqrt(1/len(u_cart)*np.dot(np.absolute(u_cart - u),np.absolute(u_cart-u))))\n",
    "print('dof = ',len(u_cart))\n",
    "\n",
    "print('Total assembly time:')\n",
    "print(t1-t0)\n",
    "print('Petsc assignement time')\n",
    "print(t_e-t_s)\n",
    "print('Solve time')\n",
    "print(t2-t1)\n",
    "print('Total time')\n",
    "print(t2-t0)"
   ]
  },
  {
   "cell_type": "code",
   "execution_count": 12,
   "metadata": {},
   "outputs": [
    {
     "data": {
      "image/png": "[encoded data removed]",
      "text/plain": [
       "<Figure size 432x288 with 2 Axes>"
      ]
     },
     "metadata": {
      "needs_background": "light"
     },
     "output_type": "display_data"
    }
   ],
   "source": [
    "fig,  ax2 = plt.subplots(nrows=1)\n",
    "\n",
    "ax2.tricontour(global_dof[:,0], global_dof[:,1], u_cart, levels=14, linewidths=0.5, colors='k')\n",
    "cntr2 = ax2.tricontourf(global_dof[:,0], global_dof[:,1], u_cart, levels=14)#, cmap=\"RdBu_r\")\n",
    "\n",
    "fig.colorbar(cntr2, ax=ax2)\n",
    "ax2.plot(global_dof[:,0], global_dof[:,1], 'ko', ms=3)\n",
    "#ax2.set(xlim=(0, 1), ylim=(0, 1))\n",
    "ax2.set_title('Cartesian Product Solution')\n",
    "\n",
    "plt.subplots_adjust(hspace=0.5)\n",
    "plt.show()"
   ]
  },
  {
   "cell_type": "markdown",
   "metadata": {},
   "source": [
    "# Try now if assembly procedure with PETSc gives speedup"
   ]
  },
  {
   "cell_type": "code",
   "execution_count": 2,
   "metadata": {},
   "outputs": [
    {
     "name": "stdout",
     "output_type": "stream",
     "text": [
      "[4 6 6 6 6 6 6 6 6 6 6 6 6 6 6 6 6 6 6 6 6 6 6 6 6 1 6 9 9 9 9 9 9 9 9 9 9\n",
      " 9 9 9 9 9 9 9 9 9 9 9 9 9 9 1 6 9 9 9 9 9 9 9 9 9 9 9 9 9 9 9 9 9 9 9 9 9\n",
      " 9 9 9 1 6 9 9 9 9 9 9 9 9 9 9 9 9 9 9 9 9 9 9 9 9 9 9 9 9 1 6 9 9 9 9 9 9\n",
      " 9 9 9 9 9 9 9 9 9 9 9 9 9 9 9 9 9 9 1 6 9 9 9 9 9 9 9 9 9 9 9 9 9 9 9 9 9\n",
      " 9 9 9 9 9 9 9 1 6 9 9 9 9 9 9 9 9 9 9 9 9 9 9 9 9 9 9 9 9 9 9 9 9 1 6 9 9\n",
      " 9 9 9 9 9 9 9 9 9 9 9 9 9 9 9 9 9 9 9 9 9 9 1 6 9 9 9 9 9 9 9 9 9 9 9 9 9\n",
      " 9 9 9 9 9 9 9 9 9 9 9 1 6 9 9 9 9 9 9 9 9 9 9 9 9 9 9 9 9 9 9 9 9 9 9 9 9\n",
      " 1 6 9 9 9 9 9 9 9 9 9 9 9 9 9 9 9 9 9 9 9 9 9 9 9 9 1 6 9 9 9 9 9 9 9 9 9\n",
      " 9 9 9 9 9 9 9 9 9 9 9 9 9 9 9 1 6 9 9 9 9 9 9 9 9 9 9 9 9 9 9 9 9 9 9 9 9\n",
      " 9 9 9 9 1 6 9 9 9 9 9 9 9 9 9 9 9 9 9 9 9 9 9 9 9 9 9 9 9 9 1 6 9 9 9 9 9\n",
      " 9 9 9 9 9 9 9 9 9 9 9 9 9 9 9 9 9 9 9 1 6 9 9 9 9 9 9 9 9 9 9 9 9 9 9 9 9\n",
      " 9 9 9 9 9 9 9 9 1 6 9 9 9 9 9 9 9 9 9 9 9 9 9 9 9 9 9 9 9 9 9 9 9 9 1 6 9\n",
      " 9 9 9 9 9 9 9 9 9 9 9 9 9 9 9 9 9 9 9 9 9 9 9 1 6 9 9 9 9 9 9 9 9 9 9 9 9\n",
      " 9 9 9 9 9 9 9 9 9 9 9 9 1 6 9 9 9 9 9 9 9 9 9 9 9 9 9 9 9 9 9 9 9 9 9 9 9\n",
      " 9 1 6 9 9 9 9 9 9 9 9 9 9 9 9 9 9 9 9 9 9 9 9 9 9 9 9 1 6 9 9 9 9 9 9 9 9\n",
      " 9 9 9 9 9 9 9 9 9 9 9 9 9 9 9 9 1 6 9 9 9 9 9 9 9 9 9 9 9 9 9 9 9 9 9 9 9\n",
      " 9 9 9 9 9 1 6 9 9 9 9 9 9 9 9 9 9 9 9 9 9 9 9 9 9 9 9 9 9 9 9 1 6 9 9 9 9\n",
      " 9 9 9 9 9 9 9 9 9 9 9 9 9 9 9 9 9 9 9 9 1 1 1 1 1 1 1 1 1 1 1 1 1 1 1 1 1\n",
      " 1 1 1 1 1 1 1 1 1 1]\n",
      "[ 25  51  77 103 129 155 181 207 233 259 285 311 337 363 389 415 441 467\n",
      " 493 519 545 571 597 623 649 650 651 652 653 654 655 656 657 658 659 660\n",
      " 661 662 663 664 665 666 667 668 669 670 671 672 673 674 675]\n"
     ]
    }
   ],
   "source": [
    "t0 = time.time()\n",
    "#first create mesh, mesh 1 is space, mesh 2 is sigma\n",
    "x_min = -0.5\n",
    "x_max = 0.5\n",
    "y_min = -0.5\n",
    "y_max = 0.5\n",
    "nx = 25\n",
    "ny = 25\n",
    "\n",
    "\n",
    "mesh1 = IntervalMesh(nx,x_min,x_max)\n",
    "mesh2 = IntervalMesh(ny,y_min,y_max)\n",
    "\n",
    "V1 = FunctionSpace(mesh1, 'P', 1)\n",
    "V2 = FunctionSpace(mesh2, 'P', 1)\n",
    "dof_coordinates1=V1.tabulate_dof_coordinates()\n",
    "dof_coordinates2=V2.tabulate_dof_coordinates()\n",
    "\n",
    "#create trial and test functions\n",
    "u1_trial = TrialFunction(V1)\n",
    "v1_test = TestFunction(V1)\n",
    "u2_trial = TrialFunction(V2)\n",
    "v2_test = TestFunction(V2)\n",
    "#generate weak forms\n",
    "n1=FacetNormal(mesh1)\n",
    "n2=FacetNormal(mesh2)\n",
    "\n",
    "\n",
    "K11_pet = PETScMatrix()\n",
    "K12_pet = PETScMatrix()\n",
    "K14_pet = PETScMatrix()\n",
    "K21_pet = PETScMatrix()\n",
    "K22_pet = PETScMatrix()\n",
    "K24_pet = PETScMatrix()\n",
    "\n",
    "K11 = u1_trial*v1_test*dx\n",
    "K12 = u1_trial*v1_test.dx(0)*dx\n",
    "K14 = dot(n1,as_vector((u1_trial,)))*v1_test*ds\n",
    "K21 = u2_trial*v2_test*dx\n",
    "K22 = u2_trial*v2_test.dx(0)*dx\n",
    "K24 = dot(n2,as_vector((u2_trial,)))*v2_test*ds\n",
    "\n",
    "\n",
    "\n",
    "\n",
    "\n",
    "assemble(K11,tensor = K11_pet)\n",
    "assemble(K12,tensor = K12_pet)\n",
    "assemble(K14,tensor = K14_pet)\n",
    "assemble(K21, tensor = K21_pet) \n",
    "assemble(K22, tensor = K22_pet)\n",
    "assemble(K24, tensor = K24_pet)\n",
    "\n",
    "\n",
    "K11_pet = K11_pet.mat()\n",
    "K12_pet = K12_pet.mat()\n",
    "K14_pet = K14_pet.mat()\n",
    "K21_pet = K21_pet.mat()\n",
    "K22_pet = K22_pet.mat()\n",
    "K24_pet = K24_pet.mat()\n",
    "\n",
    "\n",
    "#use this to mark boundary (Dirichlet) \n",
    "def boundary(x, on_boundary):\n",
    "    return on_boundary and (near(x[0],x_min, 1e-14))\n",
    "\n",
    "#This function is simply used to mark the boundary (not the actual boundary condition)\n",
    "u_D1 = Expression('1.0', degree=2)\n",
    "\n",
    "\n",
    "#establish dummy functions\n",
    "dum1=Function(V1)\n",
    "dum2=Function(V2)\n",
    "\n",
    "\n",
    "#create boundary conditions\n",
    "#in this case, only dirichlet for one side of x and none for sigma\n",
    "#still need to mark boundaries tho ???,\n",
    "#there is probably a more efficient way to do this\n",
    "bc1 = DirichletBC(V1, u_D1, boundary)\n",
    "bc2 = DirichletBC(V2, u_D1, boundary)\n",
    "\n",
    "#apply to vectors to mark boundaries\n",
    "bc1.apply(dum1.vector())\n",
    "bc2.apply(dum2.vector())\n",
    "#get index number for each boundary cooordinates in subdomain\n",
    "boundary_dofs1 = np.where(dum1.vector()==1.0)[0]\n",
    "boundary_dofs2 = np.where(dum2.vector()==1.0)[0]\n",
    "#need all physical coordinates in case we need for calculations\n",
    "\n",
    "\n",
    "#physical coordinates should be just cartesian product of 2 dof maps in same order that kron product operates\n",
    "global_dof=CF.cartesian_product_coords(dof_coordinates1,dof_coordinates2)\n",
    "#split into x,y\n",
    "x = global_dof[:,0]\n",
    "y = global_dof[:,1]\n",
    "N_dof = len(x)\n",
    "\n",
    "#coordinates of boundary in each subdomain\n",
    "boundary_coord1 = dof_coordinates1[boundary_dofs1]\n",
    "boundary_coord2 = dof_coordinates2[boundary_dofs2]\n",
    "#now connect subdomain indeces to global boundary (turn this into function in future)\n",
    "#maybe in future for speed we can precompute number of boundary dofs\n",
    "#global_boundary_dofs=np.empty((len(boundary_dofs1)*len(dof_coordinates2),2))\n",
    "global_boundary_dofs=np.empty((len(boundary_dofs1)*len(dof_coordinates2) + len(dof_coordinates1)*len(boundary_dofs2),2))\n",
    "\n",
    "ctr=0\n",
    "for j in boundary_dofs1:\n",
    "    global_boundary_dofs[ctr*len(dof_coordinates2):(ctr+1)*len(dof_coordinates2),:] = \\\n",
    "    CF.cartesian_product_dofs(np.array([j]),np.arange(dof_coordinates2.shape[0]))\n",
    "    ctr=ctr+1\n",
    "\n",
    "last_ind = (ctr)*len(dof_coordinates2)\n",
    "\n",
    "\n",
    "for j in boundary_dofs2:\n",
    "    global_boundary_dofs[last_ind:last_ind+len(dof_coordinates1),:] = \\\n",
    "    CF.cartesian_product_dofs(np.arange(dof_coordinates1.shape[0]),np.array([j]))\n",
    "    last_ind = last_ind+len(dof_coordinates1)    \n",
    "    \n",
    "#sorts and also eliminates duplicates of \"corners\"\n",
    "global_boundary_dofs=np.unique(global_boundary_dofs,axis=0)\n",
    "\n",
    "#have cartesian product of dof at entire boundary (this form should be easy to get coordinates in if needed)\n",
    "#now need to convert to global system dof as the kron function does\n",
    "global_boundary_dofs=CF.cartesian_form_to_kroneck_form(global_boundary_dofs, len(dof_coordinates2))\n",
    "global_boundary_dofs=global_boundary_dofs.astype(int)\n",
    "\n",
    "#print(x[global_boundary_dofs])\n",
    "#print(y[global_boundary_dofs])\n",
    "\n",
    "#now manually for now select only left and bottom sides of rectangle\n",
    "#this is redundant\n",
    "dum1 = global_boundary_dofs[x[global_boundary_dofs]<=(x_min+1e-14)]\n",
    "dum2 = global_boundary_dofs[y[global_boundary_dofs]<=(y_min+1e-14)]\n",
    "global_boundary_dofs = np.unique(np.concatenate((dum1,dum2),0))\n",
    "\n",
    "#print(x[global_boundary_dofs])\n",
    "#print(y[global_boundary_dofs])\n",
    "\n",
    "\n",
    "\n",
    "#define velocities\n",
    "cx = np.ones(x.shape)\n",
    "cy = np.ones(y.shape)\n",
    "\n",
    "\n",
    "\n",
    "u = CF.u_pointwise(x,y)\n",
    "\n",
    "S = CF.S_pointwise(x,y)\n",
    "\n",
    "#establish global stiffness matrix\n",
    "t_s = time.time()\n",
    "\n",
    "A = CF.Mass_assemble_PETSC(K11_pet,K12_pet,K14_pet,K21_pet,K22_pet,K24_pet,global_boundary_dofs)\n",
    "t_e = time.time()\n",
    "#A = CF.kron_PETSC(K11_pet,K21_pet) - CF.kron_PETSC(K12_pet,K21_pet) - CF.kron_PETSC(K11_pet,K22_pet) +\\\n",
    "#    CF.kron_PETSC(K14_pet,K21_pet) + CF.kron_PETSC(K11_pet,K24_pet)\n",
    "\n",
    "\n",
    "#A = np.kron(K11,K21)-np.kron(K12,K21)-np.kron(K11,K22) + \\\n",
    "#    +np.kron(K14,K21) + \\\n",
    "#    + np.kron(K11,K24)\n",
    "\n",
    "\n",
    "#Try trick from hughes\n",
    "F = CF.kron_PETSC(K11_pet,K21_pet)\n",
    "\n",
    "F.assemble()\n",
    "#F = np.kron(np.array(K11),np.array(K21))\n",
    "\n",
    "###for case 2 lets try a modified version instead of what we have been doing\n",
    "#RHS is (np.sin(x)*np.sin(y) + np.cos(x)*np.sin(y) + np.sin(x)*np.cos(y))*vdx\n",
    "#F = np.kron(np.array(F11),np.array(F21)) + np.kron(np.array(F12),np.array(F21)) + np.kron(np.array(F11),np.array(F22))\n",
    "RHS_pet = PETSc.Vec().createSeq(N_dof) # Faster way to create a sequential vector.\n",
    "#set RHS\n",
    "S_pet = PETSc.Vec().createSeq(N_dof)\n",
    "S_pet.setValues(range(N_dof), S)\n",
    "\n",
    "F.mult(S_pet,RHS_pet)\n",
    "\n",
    "for a in global_boundary_dofs:\n",
    "    RHS_pet.setValues(a,u[a])\n",
    "    \n",
    "\n",
    "A.assemble()\n",
    "\n",
    "\n",
    "#make krylov solver\n",
    "ksp = PETSc.KSP().create() # creating a KSP object named ksp\n",
    "ksp.setOperators(A)\n",
    "ksp.setFromOptions()\n",
    "\n",
    "#set up solution vector\n",
    "u_cart = PETSc.Vec().createSeq(N_dof)\n",
    "\n",
    "#end of petsc\n",
    "\n",
    "#for cas 2 just try F\n",
    "#RHS = F\n",
    "t1=time.time()\n",
    "ksp.solve(RHS_pet, u_cart)\n",
    "#u_cart=np.linalg.solve(A,RHS)\n",
    "t2=time.time()\n",
    "print(global_boundary_dofs)"
   ]
  },
  {
   "cell_type": "code",
   "execution_count": 3,
   "metadata": {},
   "outputs": [
    {
     "name": "stdout",
     "output_type": "stream",
     "text": [
      "Cartesian Errors\n",
      "l inf error\n",
      "0.000299575184642\n",
      "RMSE error\n",
      "0.00011996357413\n",
      "dof =  676\n",
      "Assembly time:\n",
      "2.6303536891937256\n",
      "Petsc time\n",
      "2.3797600269317627\n",
      "Solve time\n",
      "0.3916280269622803\n",
      "Total time\n",
      "3.021981716156006\n"
     ]
    }
   ],
   "source": [
    "u_cart = u_cart.getArray()\n",
    "print('Cartesian Errors')\n",
    "print('l inf error')\n",
    "print(max(abs(u-u_cart)))\n",
    "print('RMSE error')\n",
    "print(np.sqrt(1/len(u_cart)*np.dot(np.absolute(u_cart - u),np.absolute(u_cart-u))))\n",
    "print('dof = ',len(u_cart))\n",
    "\n",
    "print('Assembly time:')\n",
    "print(t1-t0)\n",
    "print('Petsc time')\n",
    "print(t_e-t_s)\n",
    "print('Solve time')\n",
    "print(t2-t1)\n",
    "print('Total time')\n",
    "print(t2-t0)"
   ]
  },
  {
   "cell_type": "code",
   "execution_count": 4,
   "metadata": {},
   "outputs": [
    {
     "data": {
      "image/png": "[encoded data removed]",
      "text/plain": [
       "<Figure size 432x288 with 2 Axes>"
      ]
     },
     "metadata": {
      "needs_background": "light"
     },
     "output_type": "display_data"
    }
   ],
   "source": [
    "fig,  ax2 = plt.subplots(nrows=1)\n",
    "\n",
    "ax2.tricontour(global_dof[:,0], global_dof[:,1], u_cart, levels=14, linewidths=0.5, colors='k')\n",
    "cntr2 = ax2.tricontourf(global_dof[:,0], global_dof[:,1], u_cart, levels=14)#, cmap=\"RdBu_r\")\n",
    "\n",
    "fig.colorbar(cntr2, ax=ax2)\n",
    "ax2.plot(global_dof[:,0], global_dof[:,1], 'ko', ms=3)\n",
    "#ax2.set(xlim=(0, 1), ylim=(0, 1))\n",
    "ax2.set_title('Cartesian Product Solution')\n",
    "\n",
    "plt.subplots_adjust(hspace=0.5)\n",
    "plt.show()"
   ]
  },
  {
   "cell_type": "code",
   "execution_count": 5,
   "metadata": {},
   "outputs": [
    {
     "name": "stdout",
     "output_type": "stream",
     "text": [
      "[1, 2]\n",
      "[3]\n",
      "[4, 5, 6]\n"
     ]
    }
   ],
   "source": [
    "entry_list = []\n",
    "entry_list.append([1,2])\n",
    "entry_list.append([3])\n",
    "entry_list.append([4,5,6])\n",
    "for a in entry_list:\n",
    "    print(a)"
   ]
  },
  {
   "cell_type": "code",
   "execution_count": 30,
   "metadata": {},
   "outputs": [
    {
     "name": "stdout",
     "output_type": "stream",
     "text": [
      "[0 3 4 6]\n",
      "<class 'numpy.ndarray'>\n"
     ]
    }
   ],
   "source": [
    "A=np.array([5,0,0,1,2,0,3])\n",
    "temp = np.where(A!=0)[0]\n",
    "print(temp)\n",
    "print(type(temp))"
   ]
  },
  {
   "cell_type": "code",
   "execution_count": 66,
   "metadata": {},
   "outputs": [
    {
     "data": {
      "text/plain": [
       "3"
      ]
     },
     "execution_count": 66,
     "metadata": {},
     "output_type": "execute_result"
    }
   ],
   "source": [
    "10//3\n"
   ]
  },
  {
   "cell_type": "code",
   "execution_count": 21,
   "metadata": {},
   "outputs": [
    {
     "name": "stdout",
     "output_type": "stream",
     "text": [
      "\n",
      "[0 3 2 3]\n"
     ]
    }
   ],
   "source": [
    "a = np.array([0,0,0,1,1,2,2,2],dtype=np.int32)\n",
    "un = np.unique(a)\n",
    "print()\n",
    "out_row=np.zeros(len(un)+1,dtype=np.int32)\n",
    "for i in range(len(un)):\n",
    "    out_row[i+1]=np.count_nonzero(a == un[i])\n",
    "    \n",
    "print(out_row)"
   ]
  },
  {
   "cell_type": "code",
   "execution_count": 35,
   "metadata": {},
   "outputs": [
    {
     "data": {
      "text/plain": [
       "0"
      ]
     },
     "execution_count": 35,
     "metadata": {},
     "output_type": "execute_result"
    }
   ],
   "source": [
    "0%5"
   ]
  },
  {
   "cell_type": "code",
   "execution_count": null,
   "metadata": {},
   "outputs": [],
   "source": []
  }
 ],
 "metadata": {
  "kernelspec": {
   "display_name": "Python 3",
   "language": "python",
   "name": "python3"
  },
  "language_info": {
   "codemirror_mode": {
    "name": "ipython",
    "version": 3
   },
   "file_extension": ".py",
   "mimetype": "text/x-python",
   "name": "python",
   "nbconvert_exporter": "python",
   "pygments_lexer": "ipython3",
   "version": "3.6.9"
  }
 },
 "nbformat": 4,
 "nbformat_minor": 4
}
