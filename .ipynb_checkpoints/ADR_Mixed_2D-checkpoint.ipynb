{
 "cells": [
  {
   "cell_type": "markdown",
   "metadata": {},
   "source": [
    "# Convection Diffusion Equation with Dirichlet conditions.\n",
    "## Test problem is chosen to give an exact solution at all nodes of the mesh.\n",
    "\n",
    "## Governing Equation:\n",
    "\n",
    "$-\\frac{1}{Pe}\\Delta u + \\mathbf{b} \\cdot \\nabla u = f$   \n",
    "\n",
    "## Domain:\n",
    "\n",
    "$[0,1] \\times [0,1]  $\n",
    "\n"
   ]
  },
  {
   "cell_type": "code",
   "execution_count": 1,
   "metadata": {},
   "outputs": [],
   "source": [
    "#Import modules\n",
    "from __future__ import print_function\n",
    "import dolfin as dl\n",
    "import matplotlib.pyplot as plt\n",
    "import numpy as np\n",
    "%matplotlib inline"
   ]
  },
  {
   "cell_type": "markdown",
   "metadata": {},
   "source": [
    "## Can not Run Poisson Problem Standard way (no Cartesian Product)\n"
   ]
  },
  {
   "cell_type": "markdown",
   "metadata": {},
   "source": [
    "#  but can now using Cartesian Product\n",
    "\n",
    "## Domain is product of 1 square, 1 unit interval\n",
    "\n",
    "# Weak Formulation\n",
    "\n",
    "## General SUPG form\n",
    "\n",
    "$\\frac{1}{Pe}(\\nabla u , \\nabla v) + (\\mathbf{b} \\cdot \\nabla u, v) + (-\\frac{1}{Pe}\\Delta u + \\mathbf{b} \\cdot \\nabla u -f, \\tau(\\mathbf{b} \\cdot v)  ) = (f,v)$\n",
    "\n",
    "Let domain $\\Omega$ be a cartesian product of two domains $\\Omega = \\Omega_1 \\times \\Omega_2$\n",
    "\n",
    "\n",
    "(Abuse of notation)\n",
    "\n",
    "$u = us \\quad , \\quad v = vw$ \n",
    "\n",
    "where $u,v$ are the trial, test bases respectively for the subdomain $\\Omega_1$ and $s,w$ are the trial, test basis respectively for $\\Omega_2$:\n",
    "\n",
    "$\\frac{1}{Pe}(\\nabla (us) , \\nabla (vw))_{\\Omega} + (\\mathbf{b} \\cdot \\nabla (us), vw)_{\\Omega} + (-\\frac{1}{Pe}\\Delta (us) + \\mathbf{b} \\cdot \\nabla (us) -f, \\tau(\\mathbf{b} \\cdot \\nabla(vw))  )_{\\Omega} = (f,vw)_{\\Omega}$\n",
    "\n",
    "Using chain rule first:\n",
    "\n",
    "$\\frac{1}{Pe}(s \\nabla u + u \\nabla s , w \\nabla v + v \\nabla w)_{\\Omega} + (\\mathbf{b} \\cdot (s \\nabla u + u \\nabla s), vw)_{\\Omega} + (-\\frac{1}{Pe}(s\\Delta (u) + u \\Delta (s)) + \\mathbf{b} \\cdot (s \\nabla (u) + u \\nabla(s)) -f, \\tau(\\mathbf{b} \\cdot (w \\nabla (v) + v \\nabla (w)))  )_{\\Omega} = (f,vw)_{\\Omega}$\n",
    "\n",
    "Now using Fubini's theorem:\n",
    "\n",
    "$\\frac{1}{Pe}\\left[ (\\nabla u, \\nabla v)_{\\Omega_1}(s,w)_{\\Omega_2} +  (u,v)_{\\Omega_1}( \\nabla s ,  \\nabla w)_{\\Omega_2}\\right] + (\\mathbf{b} \\cdot \\nabla u, v)_{\\Omega_1} (s,w)_{\\Omega_2} + (u,v)_{\\Omega_1}(\\mathbf{b} \\cdot \\nabla s,w)_{\\Omega_2} - \\frac{\\tau}{Pe}\\left[(\\Delta u, \\mathbf{b} \\cdot \\nabla v)_{\\Omega_1} (sw)_{\\Omega_2} + (\\Delta u , v)_{\\Omega_1}(s, \\mathbf{b} \\cdot  \\nabla w)_{\\Omega_2} + (u, \\mathbf{b} \\cdot \\nabla v)_{\\Omega_1}(\\Delta s, w)_{\\Omega_2} + (u,v)_{\\Omega_1}(\\Delta s, \\mathbf{b} \\cdot \\nabla w)_{\\Omega_2}\\right] + \\tau \\left[ (\\mathbf{b} \\cdot \\nabla u, \\mathbf{b} \\cdot \\nabla v)_{\\Omega_1}(s,w)_{\\Omega_2} + (\\mathbf{b} \\cdot \\nabla u, v)_{\\Omega_1}(s , \\mathbf{b} \\cdot \\nabla w)_{\\Omega_2} + (u, \\mathbf{b} \\cdot \\nabla v)_{\\Omega_1}(\\mathbf{b} \\cdot \\nabla s, w )_{\\Omega_2} + (u,v)_{\\Omega_1}(\\mathbf{b} \\cdot \\nabla s, \\mathbf{b} \\cdot \\nabla w)_{\\Omega_2}\\right] = f_{dof}(v)_{\\Omega_1}(w)_{\\Omega_2} - \\tau f_{dof}(\\mathbf{b} \\cdot v)_{\\Omega_1}(w)_{\\Omega_2} - \\tau f_{dof} (v)_{\\Omega_1}(\\mathbf{b} \\cdot \\nabla w)_{\\Omega_2}$\n",
    "\n",
    "\n",
    "Now assuming the advection velocity $\\mathbf{b}$ is in only one direction of the subdomain (say $\\Omega_2$) and 0 in the others\n",
    "\n",
    "If we assume that $\\mathbf{b}$ is only non-zero along one sunbdomain (say $\\Omega_2$ for this case) then the above weak form reduces to\n",
    "\n",
    "\n",
    "$\\frac{1}{Pe}\\left[ (\\nabla u, \\nabla v)_{\\Omega_1}(s,w)_{\\Omega_2} +  (u,v)_{\\Omega_1}( \\nabla s ,  \\nabla w)_{\\Omega_2}\\right]+ (u,v)_{\\Omega_1}(\\mathbf{b} \\cdot \\nabla s,w)_{\\Omega_2} - \\frac{\\tau}{Pe}\\left[ (\\Delta u , v)_{\\Omega_1}(s, \\mathbf{b} \\cdot  \\nabla w)_{\\Omega_2} + (u,v)_{\\Omega_1}(\\Delta s, \\mathbf{b} \\cdot \\nabla w)_{\\Omega_2}\\right] + \\tau \\left[   (u,v)_{\\Omega_1}(\\mathbf{b} \\cdot \\nabla s, \\mathbf{b} \\cdot \\nabla w)_{\\Omega_2}\\right] = f_{dof}(v)_{\\Omega_1}(w)_{\\Omega_2}  - \\tau f_{dof} (v)_{\\Omega_1}(\\mathbf{b} \\cdot \\nabla w)_{\\Omega_2} $\n",
    "\n",
    "Now we can construct a system of equations and solve for $u = uv$, we define the smaller stiffness matrices. First index represents the subdomain, second index represents the weak form term:\n",
    "\n",
    "$K_{11} = (\\nabla u, \\nabla v)_{\\Omega_1} $\n",
    "\n",
    "$K_{21} = ( \\nabla s ,  \\nabla w)_{\\Omega_2}$\n",
    "\n",
    "$ K_{12} = (u,v)_{\\Omega_1} $\n",
    "\n",
    "$K_{22} = (s,w)_{\\Omega_2}$\n",
    "\n",
    "$K_{23} = (\\mathbf{b} \\cdot \\nabla s,w)_{\\Omega_2}$\n",
    "\n",
    "$K_{13} = (\\Delta u , v)_{\\Omega_1} $\n",
    "\n",
    "$K_{24} = (s, \\mathbf{b} \\cdot  \\nabla w)_{\\Omega_2}$\n",
    "\n",
    "$K_{25} = (\\Delta s, \\mathbf{b} \\cdot \\nabla w)_{\\Omega_2}$\n",
    "\n",
    "$K_{26} = (\\mathbf{b} \\cdot \\nabla s, \\mathbf{b} \\cdot \\nabla w)_{\\Omega_2}$\n",
    "\n",
    "$F_{1} = (v)_{\\Omega_1} $\n",
    "\n",
    "$F_{2} = (w)_{\\Omega_2} $\n",
    "\n",
    "$F_{3} = (\\mathbf{b} \\cdot \\nabla w)_{\\Omega_2} $\n",
    "\n",
    "The global system can be constructed using the kronecker product: \n",
    "\n",
    "$\\mathbf{A}\\mathbf{u} = \\mathbf{F}$\n",
    "\n",
    "$\\mathbf{A} = \\frac{1}{Pe} K_{11} \\otimes K_{22} + \\frac{1}{Pe} K_{12} \\otimes K_{21} + K_{12} \\otimes K_{23} -\\frac{\\tau}{Pe} K_{13} \\otimes K_{24} - \\frac{\\tau}{Pe} K_{12} \\otimes K_{25} + \\tau K_{12} \\otimes K_{26} = f_{dof} F_1 \\otimes F_2 - \\tau f_{dof} F_1 \\otimes F_3$\n",
    "\n",
    "And then dirichlet boundary conditions are added in by substituting the rows corresponding to the global degree of freedom on the boundary with the row of the identity matrix, and then putting the right hand side to the value of the boundary"
   ]
  },
  {
   "cell_type": "markdown",
   "metadata": {},
   "source": [
    "## Exact solution:\n",
    "\n",
    "$u_{exact} =  \\left[ y + \\frac{e^{Pe \\cdot b_y \\cdot y} - 1 }{1 - e^{Pe \\cdot b_y}}\\right] $\n",
    "\n",
    "## Boundary condition:\n",
    "\n",
    "$u = 0 $ on the boundary\n",
    "\n",
    "## Variable assignments:\n",
    "\n",
    "$Pe  = 100$\n",
    "\n",
    "$\\mathbf{b} = (0,1)$\n",
    "\n",
    "$f = -\\frac{1}{Pe}\\Delta u_{exact} + \\mathbf{b} \\cdot \\nabla u_{exact}$"
   ]
  },
  {
   "cell_type": "code",
   "execution_count": 2,
   "metadata": {},
   "outputs": [],
   "source": [
    "#Some auxillary functions defined first\n",
    "def cartesian_product(array1,array2):\n",
    "    #gives cartesian product of 2 vectors\n",
    "    dim1,n=array1.shape\n",
    "    dim2,n=array2.shape\n",
    "    out_arr=np.zeros((dim1*dim2,2))\n",
    "    c=0\n",
    "    for a in range(dim1):\n",
    "        for b in range(dim2):\n",
    "            out_arr[c,:]=[array1[a],array2[b]]\n",
    "            c=c+1\n",
    "    return out_arr\n",
    "def cartesian_product_coords(array1,array2):\n",
    "    #gives cartesian product of 2 vectors\n",
    "    dim1,n1=array1.shape\n",
    "    dim2,n2=array2.shape\n",
    "    out_arr=np.zeros((dim1*dim2,n1+n2))\n",
    "    c=0\n",
    "    for a in range(dim1):\n",
    "        for b in range(dim2):\n",
    "            #print(array1[a,:])\n",
    "            #print(array2[b,:])\n",
    "            out_arr[c,:]=np.append(array1[a,:],array2[b,:])\n",
    "            c=c+1\n",
    "    return out_arr\n",
    "def cartesian_product_dofs(array1,array2):\n",
    "    #gives cartesian product of 2 1d vectors\n",
    "    dim1=len(array1)\n",
    "    dim2=len(array2)\n",
    "    out_arr=np.zeros((dim1*dim2,2))\n",
    "    c=0\n",
    "    for a in range(dim1):\n",
    "        for b in range(dim2):\n",
    "            out_arr[c,:]=[array1[a],array2[b]]\n",
    "            c=c+1\n",
    "    return out_arr\n",
    "\n",
    "\n",
    "def cartesian_form_to_kroneck_form(indeces, len_dim_2):\n",
    "    #designed to take list of indexes in the cartesian form\n",
    "    #translate to single form as kron product would\n",
    "    #only for cartesian product between 2 spaces\n",
    "    #expects matrix with n rows, 2 columns\n",
    "    num_indeces=indeces.shape[0]\n",
    "    out_arr=np.zeros(num_indeces)\n",
    "    for n in range(num_indeces):\n",
    "        out_arr[n] = indeces[n,0]*len_dim_2 + indeces[n,1]\n",
    "    return out_arr"
   ]
  },
  {
   "cell_type": "code",
   "execution_count": 3,
   "metadata": {},
   "outputs": [
    {
     "name": "stdout",
     "output_type": "stream",
     "text": [
      "[0 5]\n",
      "[0 5]\n"
     ]
    }
   ],
   "source": [
    "#cartesian product of 2 1-d domains with dirichlet boundary\n",
    "num_elem_1 = 5\n",
    "num_elem_2 = 5\n",
    "mesh1 = dl.UnitIntervalMesh(num_elem_1)\n",
    "mesh2 = dl.UnitIntervalMesh(num_elem_2)\n",
    "\n",
    "#create function spaces for each piece\n",
    "V1 = dl.FunctionSpace(mesh1, 'P', 1)\n",
    "V2 = dl.FunctionSpace(mesh2, 'P', 1)\n",
    "\n",
    "#create trial and test functions\n",
    "u1_trial = dl.TrialFunction(V1)\n",
    "v1_test = dl.TestFunction(V1)\n",
    "u2_trial = dl.TrialFunction(V2)\n",
    "v2_test = dl.TestFunction(V2)\n",
    "\n",
    "#Advection vector\n",
    "#this will only work if b is the length of dimension of space 2\\\n",
    "b_vel = 1.0\n",
    "b = dl.Constant(b_vel)\n",
    "Pe = 100.0\n",
    "#tau is hardcoded for this 2d case\n",
    "h_elem = 1.0/num_elem_2\n",
    "Pe_elem = b_vel*h_elem*Pe/2\n",
    "tau = h_elem/(2*b_vel)*(np.cosh(Pe_elem)/np.sinh(Pe_elem) - 1/Pe_elem)\n",
    "\n",
    "\n",
    "#assemble weak forms (more complex due to chain rule)\n",
    "stiffness_form11 = dl.inner(dl.grad(u1_trial), dl.grad(v1_test)) * dl.dx\n",
    "stiffness_form12 = u1_trial*v1_test* dl.dx\n",
    "stiffness_form13 = dl.div(dl.grad(u1_trial))*v1_test*dl.dx\n",
    "\n",
    "\n",
    "\n",
    "stiffness_form21 = dl.inner(dl.grad(u2_trial), dl.grad(v2_test)) * dl.dx\n",
    "stiffness_form22 = u2_trial*v2_test * dl.dx\n",
    "\n",
    "#need to remove dot product if b is one-d, this will work if second subdomain is not 1d\n",
    "#stiffness_form23 = dl.dot(b,dl.grad(u2_trial))*v2_test*dl.dx\n",
    "#stiffness_form24 = u2_trial* dl.dot(b,dl.grad(v2_test))*dl.dx\n",
    "#stiffness_form25 = dl.div(dl.grad(u2_trial))*dl.dot(b,dl.grad(v2_test))*dl.dx\n",
    "#stiffness_form26 = dl.dot(b,dl.grad(u2_trial))*dl.dot(b,dl.grad(v2_test))*dl.dx\n",
    "stiffness_form23 = b*u2_trial.dx(0)*v2_test*dl.dx\n",
    "stiffness_form24 = u2_trial* b*v2_test.dx(0)*dl.dx\n",
    "stiffness_form25 = dl.div(dl.grad(u2_trial))*b*v2_test.dx(0)*dl.dx\n",
    "stiffness_form26 = b*u2_trial.dx(0)*b*v2_test.dx(0)*dl.dx\n",
    "\n",
    "\n",
    "#assign right hand side (will need to generalize later)\n",
    "#f = dl.Constant(-12.0)\n",
    "\n",
    "\n",
    "#assemble stiffness matrices (only will work for linear forms)\n",
    "K11 = dl.assemble(stiffness_form11)\n",
    "K12 = dl.assemble(stiffness_form12)\n",
    "K13 = dl.assemble(stiffness_form13)\n",
    "K21 = dl.assemble(stiffness_form21) \n",
    "K22 = dl.assemble(stiffness_form22)\n",
    "K23 = dl.assemble(stiffness_form23)\n",
    "K24 = dl.assemble(stiffness_form24)\n",
    "K25 = dl.assemble(stiffness_form25)\n",
    "K26 = dl.assemble(stiffness_form26)\n",
    "\n",
    "\n",
    "\n",
    "#assign right hand sides \n",
    "rhs_form1 = v1_test * dl.dx\n",
    "rhs_form2 = v2_test * dl.dx\n",
    "#this works for higher dimesnion, some reason doesn't like in 1d\n",
    "#rhs_form3 = dl.dot(b,dl.grad(v2_test))*dl.dx\n",
    "rhs_form3 = b*v2_test.dx(0)*dl.dx\n",
    "\n",
    "b1 = dl.assemble(rhs_form1)\n",
    "b2 = dl.assemble(rhs_form2)\n",
    "b3 = dl.assemble(rhs_form3)\n",
    "\n",
    "#use this to mark boundary (Dirichlet) \n",
    "def boundary(x, on_boundary):\n",
    "    return on_boundary\n",
    "\n",
    "#This function is simply used to mark the boundary (not the actual boundary condition)\n",
    "u_D1 = dl.Expression('1.0', degree=2)\n",
    "\n",
    "\n",
    "#establish dummy functions\n",
    "dum1=dl.Function(V1)\n",
    "dum2=dl.Function(V2)\n",
    "\n",
    "\n",
    "#create boundary conditions\n",
    "bc1 = dl.DirichletBC(V1, u_D1, boundary)\n",
    "bc2 = dl.DirichletBC(V2, u_D1, boundary)\n",
    "\n",
    "#apply to vectors to mark boundaries\n",
    "bc1.apply(dum1.vector())\n",
    "bc2.apply(dum2.vector())\n",
    "\n",
    "#get index number for each boundary cooordinates in subdomain\n",
    "boundary_dofs1 = np.where(dum1.vector()==1.0)[0]\n",
    "boundary_dofs2 = np.where(dum2.vector()==1.0)[0]\n",
    "\n",
    "#print indeces of boundaries in subdomains\n",
    "print(boundary_dofs1)\n",
    "print(boundary_dofs2)\n",
    "\n",
    "#need all physical coordinates in case we need for calculations\n",
    "dof_coordinates1=V1.tabulate_dof_coordinates()\n",
    "dof_coordinates2=V2.tabulate_dof_coordinates()\n",
    "\n",
    "#physical coordinates should be just cartesian product of 2 dof maps in same order that kron product operates\n",
    "global_dof=cartesian_product_coords(dof_coordinates1,dof_coordinates2)\n",
    "\n",
    "#coordinates of boundary in each subdomain\n",
    "boundary_coord1 = dof_coordinates1[boundary_dofs1]\n",
    "boundary_coord2 = dof_coordinates2[boundary_dofs2]\n",
    "\n",
    "\n",
    "#now connect subdomain indeces to global boundary (turn this into function in future)\n",
    "#maybe in future for speed we can precompute number of boundary dofs\n",
    "global_boundary_dofs=np.empty((len(boundary_dofs1)*len(dof_coordinates2) + len(dof_coordinates1)*len(boundary_dofs2),2))\n",
    "\n",
    "ctr=0\n",
    "for j in boundary_dofs1:\n",
    "    global_boundary_dofs[ctr*len(dof_coordinates2):(ctr+1)*len(dof_coordinates2),:] = \\\n",
    "    cartesian_product_dofs(np.array([j]),np.arange(dof_coordinates2.shape[0]))\n",
    "    ctr=ctr+1\n",
    "    \n",
    "last_ind = (ctr)*len(dof_coordinates2)\n",
    "\n",
    "\n",
    "for j in boundary_dofs2:\n",
    "    global_boundary_dofs[last_ind:last_ind+len(dof_coordinates1),:] = \\\n",
    "    cartesian_product_dofs(np.arange(dof_coordinates1.shape[0]),np.array([j]))\n",
    "    last_ind = last_ind+len(dof_coordinates1)    \n",
    "\n",
    "\n",
    "#sorts and also eliminates duplicates of \"corners\"\n",
    "global_boundary_dofs=np.unique(global_boundary_dofs,axis=0)\n",
    "\n",
    "\n",
    "#have cartesian product of dof at entire boundary (this form should be easy to get coordinates in if needed)\n",
    "#now need to convert to global system dof as the kron function does\n",
    "global_boundary_dofs=cartesian_form_to_kroneck_form(global_boundary_dofs, len(dof_coordinates2))\n",
    "global_boundary_dofs=global_boundary_dofs.astype(int)\n",
    "\n",
    "\n",
    "\n",
    "\n",
    "#assemble global system using kronecker product\n",
    "K11 = np.array(K11.array())\n",
    "K12 = np.array(K12.array())\n",
    "K13 = np.array(K13.array())\n",
    "K21 = np.array(K21.array())\n",
    "K22 = np.array(K22.array())\n",
    "K23 = np.array(K23.array())\n",
    "K24 = np.array(K24.array())\n",
    "K25 = np.array(K25.array())\n",
    "K26 = np.array(K26.array())\n",
    "\n",
    "\n",
    "A=(1/Pe)*(np.kron(K11,K22) + np.kron(K12,K21)) + np.kron(K12,K23) - (tau/Pe)*(np.kron(K13,K24)+np.kron(K12,K25))\\\n",
    "+ tau*np.kron(K12,K26)\n",
    "\n",
    "\n",
    "\n",
    "\n",
    "b1 = np.array(b1)\n",
    "b2 = np.array(b2)\n",
    "b3 = np.array(b3)\n",
    "B=np.kron(b1,b2) - tau*np.kron(b1,b3)\n",
    "\n",
    "#multiply by nodal values of f\n",
    "#note this is hardcoded for 2d case\n",
    "y=global_dof[:,1]\n",
    "\n",
    "f_dof = -b_vel**2*Pe*np.exp(b_vel*Pe*y)/(1-np.exp(Pe*b_vel))\\\n",
    "+ b_vel*(1+ b_vel*Pe*np.exp(Pe*b_vel*y)/(1-np.exp(Pe*b_vel)))\n",
    "\n",
    "B=f_dof*B\n",
    "\n",
    "#need to apply bcs using boundary_dofs info\n",
    "#set the rows in the boundary to 1 on diagonal\n",
    "K_bound = np.zeros(A.shape)\n",
    "for i in global_boundary_dofs:\n",
    "    K_bound[i,i] = 1\n",
    "\n",
    "A[global_boundary_dofs,:] = K_bound[global_boundary_dofs,:]\n",
    "\n",
    "\n",
    "#set the value of solution on boundary as rhs\n",
    "B[global_boundary_dofs] = global_dof[global_boundary_dofs,1]  +  \\\n",
    "(np.exp(Pe*b_vel*global_dof[global_boundary_dofs,1])-1)/(1- np.exp(Pe*b_vel))\n",
    "#solve global system\n",
    "u=np.zeros(len(B))\n",
    "\n",
    "#solve(A,u,B)\n",
    "u=np.linalg.solve(A,B)\n",
    "\n"
   ]
  },
  {
   "cell_type": "code",
   "execution_count": null,
   "metadata": {},
   "outputs": [],
   "source": []
  },
  {
   "cell_type": "code",
   "execution_count": 4,
   "metadata": {},
   "outputs": [
    {
     "data": {
      "image/png": "[encoded data removed]",
      "text/plain": [
       "<Figure size 432x288 with 2 Axes>"
      ]
     },
     "metadata": {
      "needs_background": "light"
     },
     "output_type": "display_data"
    },
    {
     "name": "stdout",
     "output_type": "stream",
     "text": [
      "[ 0.   0.8  0.6  0.4  0.2  0.   0.   0.8  0.6  0.4  0.2  0.   0.   0.8  0.6\n",
      "  0.4  0.2  0.   0.   0.8  0.6  0.4  0.2  0.   0.   0.8  0.6  0.4  0.2  0.\n",
      "  0.   0.8  0.6  0.4  0.2  0. ]\n"
     ]
    }
   ],
   "source": [
    "#now find way to plot (we know we have regular grid in this case)\n",
    "fig,  ax2 = plt.subplots(nrows=1)\n",
    "\n",
    "ax2.tricontour(global_dof[:,0], global_dof[:,1], u, levels=14, linewidths=0.5, colors='k')\n",
    "cntr2 = ax2.tricontourf(global_dof[:,0], global_dof[:,1], u, levels=14, cmap=\"RdBu_r\")\n",
    "\n",
    "fig.colorbar(cntr2, ax=ax2)\n",
    "ax2.plot(global_dof[:,0], global_dof[:,1], 'ko', ms=3)\n",
    "ax2.set(xlim=(0, 1), ylim=(0, 1))\n",
    "ax2.set_title('Cartesian Product Solution')\n",
    "\n",
    "plt.subplots_adjust(hspace=0.5)\n",
    "plt.show()\n",
    "\n",
    "print(u)"
   ]
  },
  {
   "cell_type": "code",
   "execution_count": 5,
   "metadata": {},
   "outputs": [
    {
     "data": {
      "image/png": "[encoded data removed]",
      "text/plain": [
       "<Figure size 432x288 with 2 Axes>"
      ]
     },
     "metadata": {
      "needs_background": "light"
     },
     "output_type": "display_data"
    },
    {
     "name": "stdout",
     "output_type": "stream",
     "text": [
      "[ 0.   0.8  0.6  0.4  0.2  0.   0.   0.8  0.6  0.4  0.2  0.   0.   0.8  0.6\n",
      "  0.4  0.2  0.   0.   0.8  0.6  0.4  0.2  0.   0.   0.8  0.6  0.4  0.2  0.\n",
      "  0.   0.8  0.6  0.4  0.2  0. ]\n"
     ]
    }
   ],
   "source": [
    "#plot analytic solution\n",
    "#now find way to plot (we know we have regular grid in this case)\n",
    "fig,  ax2 = plt.subplots(nrows=1)\n",
    "\n",
    "u_true = global_dof[:,1]  +  (np.exp(Pe*b_vel*global_dof[:,1])-1)/(1- np.exp(Pe*b_vel))\n",
    "\n",
    "ax2.tricontour(global_dof[:,0], global_dof[:,1], u_true, levels=14, linewidths=0.5, colors='k')\n",
    "cntr2 = ax2.tricontourf(global_dof[:,0], global_dof[:,1], u_true, levels=14, cmap=\"RdBu_r\")\n",
    "\n",
    "fig.colorbar(cntr2, ax=ax2)\n",
    "ax2.plot(global_dof[:,0], global_dof[:,1], 'ko', ms=3)\n",
    "ax2.set(xlim=(0, 1), ylim=(0, 1))\n",
    "ax2.set_title('Analytic Solution')\n",
    "\n",
    "plt.subplots_adjust(hspace=0.5)\n",
    "plt.show()\n",
    "print(u_true)"
   ]
  },
  {
   "cell_type": "code",
   "execution_count": 6,
   "metadata": {},
   "outputs": [
    {
     "name": "stdout",
     "output_type": "stream",
     "text": [
      "4.4408920985e-16\n"
     ]
    }
   ],
   "source": [
    "print(max(abs(u-u_true)))"
   ]
  },
  {
   "cell_type": "code",
   "execution_count": 7,
   "metadata": {},
   "outputs": [
    {
     "name": "stdout",
     "output_type": "stream",
     "text": [
      "100.0\n"
     ]
    },
    {
     "data": {
      "text/plain": [
       "<matplotlib.tri.tricontour.TriContourSet at 0x40556037b8>"
      ]
     },
     "execution_count": 7,
     "metadata": {},
     "output_type": "execute_result"
    },
    {
     "data": {
      "image/png": "[encoded data removed]",
      "text/plain": [
       "<Figure size 432x288 with 1 Axes>"
      ]
     },
     "metadata": {
      "needs_background": "light"
     },
     "output_type": "display_data"
    }
   ],
   "source": [
    "#check to see what fenics expression looks like\n",
    "Mesh = dl.UnitSquareMesh(15,200)\n",
    "print(Pe)\n",
    "f0 = dl.Expression('(x[0]  +  (expl(Pe*b_vel*x[0])-1)/(1- expl(Pe*b_vel)))*(x[1]  +  (expl(Pe*b_vel*x[1])-1)/(1- expl(Pe*b_vel)))',Pe=Pe,b_vel=b_vel,degree=4,domain=Mesh)\n",
    "f1= dl.Expression('(x[0]+(exp(1*x[0]/0.01)-1)/(1-exp(1/0.01)))*(x[1]+(exp(1*x[1]/0.01)-1)/(1-exp(1/0.01)))',degree = 4,domain = Mesh)\n",
    "dl.plot(f1,mesh=Mesh)\n"
   ]
  },
  {
   "cell_type": "code",
   "execution_count": null,
   "metadata": {},
   "outputs": [],
   "source": []
  }
 ],
 "metadata": {
  "kernelspec": {
   "display_name": "Python 3",
   "language": "python",
   "name": "python3"
  },
  "language_info": {
   "codemirror_mode": {
    "name": "ipython",
    "version": 3
   },
   "file_extension": ".py",
   "mimetype": "text/x-python",
   "name": "python",
   "nbconvert_exporter": "python",
   "pygments_lexer": "ipython3",
   "version": "3.6.9"
  }
 },
 "nbformat": 4,
 "nbformat_minor": 4
}
