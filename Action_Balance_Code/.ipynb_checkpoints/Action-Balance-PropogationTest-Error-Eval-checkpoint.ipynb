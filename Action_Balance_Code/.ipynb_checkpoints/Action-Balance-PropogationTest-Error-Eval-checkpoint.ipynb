{
 "cells": [
  {
   "cell_type": "markdown",
   "metadata": {},
   "source": [
    "# Action Balance Equation Fenics Propogation Test Notebook\n",
    "## $\\frac{\\partial N}{\\partial t} + \\frac{\\partial c_x N}{\\partial x} + \\frac{\\partial c_y N}{\\partial y} +  \\frac{\\partial c_\\sigma N}{\\partial \\sigma}+ \\frac{\\partial c_\\theta N}{\\partial \\theta}  = \\frac{S(\\sigma, \\theta, t)}{\\sigma}$\n",
    "\n",
    "\n",
    "## Propogation Test Case:\n",
    "Set source to 0, and also consider N only as function in space.\n",
    "\n",
    "Harmonic wave propogating across 2D domain, c is constant in x and y:\n",
    "\n",
    "$\\frac{\\partial N}{\\partial t} +  \\textbf{c} \\cdot \\nabla N = 0$\n",
    "\n",
    "$\\Omega = [0,10] \\times [0,10]$\n",
    "\n",
    "$\\textbf{c} = (1 , 1)$\n",
    "\n",
    "$N_0 = sin(2 \\pi x) + cos (2 \\pi y)$\n",
    "\n",
    "$N_{analytic} = sin(2\\pi(x - c_xt)) + cos(2 \\pi (y - c_yt))$\n",
    "\n",
    "$N = N_{analytic}$  on $\\partial \\Omega$\n",
    "\n",
    "Total time = 5\n",
    "\n",
    "number of time steps = 1000\n",
    "\n",
    "## Weak Forms:\n",
    "\n",
    "### Discontinuous Galerkin\n",
    "\n",
    "### Least Squares\n",
    "\n",
    "### SUPG\n",
    "\n",
    "### Maybe DPG\n"
   ]
  },
  {
   "cell_type": "code",
   "execution_count": 1,
   "metadata": {},
   "outputs": [],
   "source": [
    "#import any necessary libraries in this block\n",
    "from __future__ import print_function\n",
    "from fenics import *\n",
    "from ufl import nabla_div\n",
    "import numpy as np\n",
    "import matplotlib.pyplot as plt\n",
    "from matplotlib import cm\n",
    "from matplotlib.ticker import LinearLocator\n",
    "from mpl_toolkits.mplot3d import Axes3D\n",
    "%matplotlib inline\n",
    "#define global variables\n",
    "g=9.81"
   ]
  },
  {
   "cell_type": "code",
   "execution_count": 2,
   "metadata": {},
   "outputs": [],
   "source": [
    "#auxillary functions (only necessary when using source terms)\n",
    "\n",
    "\n",
    "\n",
    "#function to calculate wavenumber from a given set of rel. radian frequencies\n",
    "#formulation borrowed from Jessica and Hol. pg 123-127\n",
    "#reads in a numpy array/vector of frequencies, depth (single value here since only doing 2d) \n",
    "#returns same size array of wavenumber\n",
    "\n",
    "def calc_k(sigma,depth):\n",
    "    #Use the Fenton approximation (Hol. p 124)\n",
    "    alpha = sigma**2*depth/g\n",
    "    beta = alpha*(np.tanh(alpha)**(-0.5))\n",
    "    k = (alpha + beta**2*(np.cosh(beta))**(-2))/(depth*(np.tanh(beta) + beta*np.cosh(beta)**(-2)))\n",
    "    return k\n",
    "\n",
    "#function that calculates the group velocity\n",
    "#maybe needs to be a fenics function, not sure yet, k would need to be fenics function as well\n",
    "#inputs wavenumber of each node, depth (scalar since only 1 point in space), current(only vector of size 2)\n",
    "#returns just cg as vector\n",
    "def calc_cg(k,depth):\n",
    "    #from Hol. p127\n",
    "    n = 0.5*(1+(2*k*depth)/(np.sinh(2*k*depth)))\n",
    "    c = np.sqrt(g/k*np.tanh(k*depth))\n",
    "    return n*c\n",
    "\n",
    "#function that calculates the propogation velocity in theta and sigma space\n",
    "#ask Jessica maybe about how she approximates derivatives\n",
    "\n",
    "    "
   ]
  },
  {
   "cell_type": "code",
   "execution_count": 3,
   "metadata": {},
   "outputs": [],
   "source": [
    "#For now only dirichlet boundary conditions\n",
    "def boundary(x, on_boundary):\n",
    "    return on_boundary\n",
    "\n",
    "#function that generates the weak form\n",
    "\n",
    "def gen_weakform(mesh,WeakForm,TimeStep,V,u_D,p_degree=4):\n",
    "    #Inputs:\n",
    "    #mesh is the domain\n",
    "    #WeakForm is string representing the variational formulation\n",
    "    #V is solution space that should be chosen\n",
    "    #u_D are dirichlet boundary conditions as an expression\n",
    "    #p_degree is the degree expressions will be approximated to\n",
    "    \n",
    "    #Outputs:\n",
    "    #entire weak form as F\n",
    "    #boundary condition as bc\n",
    "    #initial condition as u_n (necessary for time stepping)\n",
    "    \n",
    "    #Define source term, boundary, and wave propogation depending on test case choice\n",
    "    u = TrialFunction(V)\n",
    "    v = TestFunction(V)\n",
    "\n",
    "\n",
    "\n",
    "    if WeakForm == 'Galerkin':\n",
    "        bc = DirichletBC(V, u_D, boundary,\"geometric\")\n",
    "    else:\n",
    "        bc = DirichletBC(V, u_D, boundary)\n",
    "    # Define initial value\n",
    "    u_n = interpolate(u_D, V)\n",
    "    #u_n = project(u_D, V)\n",
    "    \n",
    "    #Define source\n",
    "    S = Constant(0)\n",
    "\n",
    "    if WeakForm == 'LSQ':\n",
    "        #Least Squares bilinear form\n",
    "        #(Au, Av) = (f, Av) <==> (Au-f,Av) = 0\n",
    "    \n",
    "        if TimeStep == 'Implicit_Euler':\n",
    "            #Implicit Euler\n",
    "            F=(inner(u + dt*nabla_div(c*u) - u_n - dt*S, v + dt*nabla_div(c*v) ))*dx\n",
    "        elif TimeStep == 'Trap_Rule':\n",
    "            #Trap Rule\n",
    "            F = (inner(u + 0.5*dt*nabla_div(c*u) + 0.5*dt*nabla_div(c*u_n) - u_n - dt*S, v + 0.5*dt*nabla_div(c*v) ))*dx\n",
    "        elif TimeStep == 'Explicit_Euler':\n",
    "            #Explicit Euler\n",
    "            F = (inner(u+dt*nabla_div(c*u_n) - u_n - dt*S, v))*dx\n",
    "\n",
    "    elif WeakForm == 'Galerkin':\n",
    "        #continuous galerkin bilinearr form\n",
    "        if TimeStep == 'Implicit_Euler':\n",
    "            n=FacetNormal(mesh)\n",
    "            cn=(dot(c,n) + abs(dot(c,n)))/2\n",
    "            #F= inner(u - dt*S - u_n,v)*dx - dt*inner(c*u,grad(v))*dx + dt*inner(cn('+')*u('+')-cn('-')*u('-'),jump(v))*dS + dt*inner(u*cn,v)*ds\n",
    "            F = inner(u - dt*S - u_n,v)*dx - dt*inner(c*u,grad(v))*dx + dt*inner( cn('+')*u('+') - cn('-')*u('-'), jump(v) )*dS + dt*inner( u*dot(c,n), v )*ds\n",
    "    elif WeakForm == 'SUPG':\n",
    "        if TimeStep == 'Implicit_Euler':\n",
    "            hmax=mesh.hmax()\n",
    "            #h=Constant(5)\n",
    "            tau=Expression('pow(sqrt(yn*yn+ym*ym)/hh,-1)', degree=p_degree ,  domain=mesh, yn=c_sigma , ym=c_theta , hh=hmax)\n",
    "            F = inner(u - dt*S -u_n,v)*dx - dt*(inner(c*u,grad(v)))*dx + inner(u+dt*nabla_div(c*u) \\\n",
    "            - dt*S - u_n, tau*nabla_div(c*v))*dx\n",
    "    return F,bc,u_n\n",
    "\n",
    "\n",
    "#runsim function, runs a simulation given a number of timesteps, timestep size and weak form\n",
    "#returns l2 error as time series as well as l-infinity error and option to plot crosssection evry n steps\n",
    "def run_sim(num_steps,dt,F,u_D,bc,u_n,V,mesh,plot_every=0):\n",
    "    #splits lhs and rhs of weak form\n",
    "    a, L = lhs(F), rhs(F)\n",
    "\n",
    "    # establishes solution variable\n",
    "    u = Function(V)\n",
    "\n",
    "    #initializes variables for time loop\n",
    "    t = 0\n",
    "    #things for storing error\n",
    "    l2_err_vec=np.zeros(num_steps)\n",
    "    error = np.zeros(num_steps)\n",
    "    error_ind = np.zeros(num_steps)\n",
    "    node_num = mesh.num_vertices()\n",
    "    node_xy = mesh.coordinates()\n",
    "    spacing=nx+1\n",
    "    x=np.linspace(0,1,spacing)\n",
    "    level=int(spacing/2)\n",
    "\n",
    "    for n in range(num_steps):\n",
    "        #advance time\n",
    "        t+=dt\n",
    "        u_D.t = t\n",
    "        #compute solution at new timestep\n",
    "        # Compute solution\n",
    "        solve(a == L, u, bc)\n",
    "        #update solution\n",
    "        u_n.assign(u)\n",
    "        # Compute exact solution at vertices|\n",
    "        u_e = interpolate(u_D, V)\n",
    "        #L2 error\n",
    "        e0=u-u_e\n",
    "        L2r = assemble(inner(e0,e0)*dx)\n",
    "        L2e = sqrt(L2r)\n",
    "        L2_u = assemble(inner(u,u)*dx)\n",
    "        L2_exact = assemble(inner(u_e,u_e)*dx)\n",
    "        l2_err_vec[n]=L2e\n",
    "    \n",
    "    \n",
    "    \n",
    "        #u_exac_vec=u_e.vector().array()\n",
    "        #u_vec=u.vector().array()\n",
    "        u_vec=u.compute_vertex_values()\n",
    "        u_exac_vec=u_e.compute_vertex_values()\n",
    "        #L infinity error\n",
    "        error[n] = np.abs(u_exac_vec-u_vec).max()\n",
    "        error_ind[n]= np.argmax(np.abs(u_exac_vec-u_vec))\n",
    "        #sol0=u\n",
    "    \n",
    "    \n",
    "    \n",
    "        if plot_every != 0:\n",
    "            if (n+plot_every)%plot_every==0:\n",
    "                # Plot solution\n",
    "                plt.plot(x,u_exac_vec[spacing*level:spacing*(level+1)],label='exact')\n",
    "                plt.plot(x,u_vec[spacing*level:spacing*(level+1)],label='FEM')\n",
    "                plt.plot(x,np.abs(u_exac_vec-u_vec)[spacing*level:spacing*(level+1)],label='error')\n",
    "                plt.legend()\n",
    "                plt.xlim=([0, 1])\n",
    "                plt.ylim=([-1, 1])\n",
    "                plt.show()\n",
    "                print('t = %.3f: error = %.3g' % (t, error[n]))\n",
    "                print('error max located at ',str(node_xy[int(error_ind[n])]))\n",
    "    \n",
    "    #returns l-infinity error then l2 error at each time step\n",
    "    return error,l2_err_vec,u\n",
    "    \n",
    "#also a function to take dof to a meshgrid for plotting\n",
    "def dof_2_meshgrid_indeces(dofs):\n",
    "    #takes in list of degrees of freedom, outputs list of array coordinates\n",
    "    #each dof corresponds to in meshgrid\n",
    "    num_col=len(np.unique(dofs[:,0]))\n",
    "    num_row=len(np.unique(dofs[:,1]))\n",
    "    #print(num_row)\n",
    "    #print(num_col)\n",
    "    Matrix_indeces=np.zeros(dofs.shape)\n",
    "    new_indeces=np.argsort(dofs[:,0])\n",
    "    #create input to save\n",
    "    input_array=np.zeros(new_indeces.shape)\n",
    "    dum=0\n",
    "    for a in range(len(input_array)):\n",
    "        input_array[a]=dum\n",
    "        if (a+1)%num_row==0:\n",
    "            dum=int(dum+1)\n",
    "    #set indeces for columns\n",
    "    Matrix_indeces[new_indeces,1]=input_array\n",
    "    \n",
    "    #now do same for row numbers\n",
    "    new_indeces=np.argsort(dofs[:,1])\n",
    "    dum=0\n",
    "    for a in range(len(input_array)):\n",
    "        input_array[a]=dum\n",
    "        if (a+1)%num_col==0:\n",
    "            dum=int(dum+1)\n",
    "    Matrix_indeces[new_indeces,0]=input_array\n",
    "    return Matrix_indeces\n",
    "\n",
    "#lastly take a set of matrix indeces and create a matrix\n",
    "def indeces_to_meshgrid(dof,Matrix_indeces):\n",
    "    #allocate output array\n",
    "    num_row=np.amax(Matrix_indeces[:,0])+1\n",
    "    num_col=np.amax(Matrix_indeces[:,1])+1\n",
    "    out_array=np.zeros((int(num_row),int(num_col)))\n",
    "    \n",
    "    ctr=0\n",
    "    for a in dof:\n",
    "        out_array[int(Matrix_indeces[ctr,0]),int(Matrix_indeces[ctr,1])]=a\n",
    "        ctr=ctr+1\n",
    "    return out_array\n",
    "\n",
    "#turn a meshgrid matrix back to a dof vector given the Matrix_indeces\n",
    "def meshgrid_to_dof(array_shape,Matrix_indeces):\n",
    "    #expects 2d array\n",
    "    out_len=(array_shape.shape[0]*array_shape.shape[1])\n",
    "    dof_out=np.zeros(out_len)\n",
    "    for a in range(out_len):\n",
    "        dof_out[a]=array_shape[int(Matrix_indeces[a,0]),int(Matrix_indeces[a,1])]\n",
    "    return dof_out\n"
   ]
  },
  {
   "cell_type": "code",
   "execution_count": 4,
   "metadata": {},
   "outputs": [
    {
     "name": "stdout",
     "output_type": "stream",
     "text": [
      "Time step is 0.005\n",
      "\n"
     ]
    },
    {
     "data": {
      "image/png": "[encoded data removed]",
      "text/plain": [
       "<Figure size 432x288 with 1 Axes>"
      ]
     },
     "metadata": {
      "needs_background": "light"
     },
     "output_type": "display_data"
    },
    {
     "name": "stdout",
     "output_type": "stream",
     "text": [
      "CFL condition number is  0.005\n"
     ]
    }
   ],
   "source": [
    "#Specify here specifically what simulation should be tested\n",
    "\n",
    "T = 5          # Total duration of time\n",
    "num_steps = 1000     # number of time steps\n",
    "dt = T / num_steps  # time step size\n",
    "print('Time step is '+str(dt) + '\\n')\n",
    "nx = ny = 5        #defines number of cells in each direction\n",
    "p_degree = 1      #defines degree to approximate any expression\n",
    "L = 10 #size of domain\n",
    "\n",
    "#create mesh and plot mesh\n",
    "mesh = RectangleMesh(Point(0.0,0.0),Point(L,L),nx, ny)\n",
    "plot(mesh)\n",
    "plt.show()\n",
    "\n",
    "\n",
    "c_sigma = 1         #  propogation speed\n",
    "c_theta = 1\n",
    "c = Constant((c_sigma,c_theta))\n",
    "    \n",
    "#define boundary condition(exact solution as well in this case)\n",
    "u_D = Expression('sin((x[0]-c[0]*t))+cos((x[1]-c[1]*t))',\n",
    "                 degree=4, c=c, t=0,domain=mesh)\n",
    "\n",
    "\n",
    "\n",
    "print('CFL condition number is ', str(c_sigma*dt*(nx/L) + c_theta*dt*(ny/L)))\n"
   ]
  },
  {
   "cell_type": "code",
   "execution_count": 5,
   "metadata": {},
   "outputs": [
    {
     "name": "stdout",
     "output_type": "stream",
     "text": [
      "Calling FFC just-in-time (JIT) compiler, this may take some time.\n",
      "Calling FFC just-in-time (JIT) compiler, this may take some time.\n",
      "Calling FFC just-in-time (JIT) compiler, this may take some time.\n"
     ]
    }
   ],
   "source": [
    "#Input list of weak forms to test\n",
    "#Options are LSQ, Galerkin (DG), SUPG\n",
    "Weak_Tests=['LSQ']#,'Galerkin','SUPG']\n",
    "#Weak_Tests=['SUPG']\n",
    "#Input list of time step options 'Implicit Euler', length must agree with weakform length\n",
    "TimeSteps=['Implicit_Euler']#, 'Implicit_Euler', 'Implicit_Euler']\n",
    "#TimeSteps=['Implicit_Euler']\n",
    "#select degree/type of basis function (Galerkin must be DG)\n",
    "p_types = ['CG']#,'DG','CG']\n",
    "#p_types=['P']\n",
    "pq_degree = [1]#,1,1]\n",
    "#pq_degree=[2]\n",
    "#select time step (type a string either Implicit_Euler, Explicit_Euler, or Trap_Rule)\n",
    "#create basis functions\n",
    "\n",
    "\n",
    "# Define variational spaces\n",
    "\n",
    "\n",
    "error=np.zeros((num_steps,len(Weak_Tests)))\n",
    "l2_err_vec=np.zeros((num_steps,len(Weak_Tests)))\n",
    "#need to define it each time if you run due to some kind of scope issue\n",
    "\n",
    "a=0\n",
    "for WeakForm in Weak_Tests:\n",
    "\n",
    "    u_D.t=0\n",
    "    V = FunctionSpace(mesh, p_types[a] , pq_degree[a])\n",
    "    #build weakform\n",
    "    F,bc,u_n=gen_weakform(mesh,WeakForm,TimeSteps[a],V,u_D,p_degree=4)\n",
    "\n",
    "    #run simulation\n",
    "\n",
    "    error[:,a],l2_err_vec[:,a],u=run_sim(num_steps,dt,F,u_D,bc,u_n,V,mesh,plot_every=0)\n",
    "    a=a+1\n"
   ]
  },
  {
   "cell_type": "code",
   "execution_count": 6,
   "metadata": {},
   "outputs": [
    {
     "name": "stdout",
     "output_type": "stream",
     "text": [
      "1.49922658053\n"
     ]
    },
    {
     "data": {
      "image/png": "[encoded data removed]",
      "text/plain": [
       "<Figure size 432x288 with 1 Axes>"
      ]
     },
     "metadata": {
      "needs_background": "light"
     },
     "output_type": "display_data"
    }
   ],
   "source": [
    "#plot last time step of last simulation\n",
    "u_D.t=num_steps*dt\n",
    "u_e=u_D\n",
    "u_e=interpolate(u_e,V)\n",
    "#Out_vec=u_e.vector()[:]#exact\n",
    "Out_vec=u.vector()[:] #simulation\n",
    "\n",
    "#get mesh coordinates\n",
    "n=V.dim()\n",
    "d=mesh.geometry().dim()\n",
    "dof_coordinates=np.zeros((n,d))\n",
    "dof_x=np.array(interpolate(Expression('x[0]',degree=1),V).vector())\n",
    "dof_y=np.array(interpolate(Expression('x[1]',degree=1),V).vector())\n",
    "dof_coordinates[:,0]=dof_x\n",
    "dof_coordinates[:,1]=dof_y\n",
    "\n",
    "Matrix_indeces=dof_2_meshgrid_indeces(dof_coordinates)\n",
    "X=indeces_to_meshgrid(dof_x,Matrix_indeces)\n",
    "Y=indeces_to_meshgrid(dof_y,Matrix_indeces)\n",
    "Plot_out=indeces_to_meshgrid(Out_vec,Matrix_indeces)\n",
    "\n",
    "fig, ax = plt.subplots(subplot_kw={\"projection\": \"3d\"})\n",
    "surf = ax.plot_surface(X, Y, Plot_out, cmap=cm.coolwarm,\n",
    "                       linewidth=0, antialiased=False)\n",
    "print(np.amax(Plot_out))"
   ]
  },
  {
   "cell_type": "code",
   "execution_count": 7,
   "metadata": {},
   "outputs": [
    {
     "data": {
      "image/png": "[encoded data removed]",
      "text/plain": [
       "<Figure size 432x288 with 1 Axes>"
      ]
     },
     "metadata": {
      "needs_background": "light"
     },
     "output_type": "display_data"
    },
    {
     "data": {
      "text/plain": [
       "Text(0, 0.5, 'L-2 error')"
      ]
     },
     "execution_count": 7,
     "metadata": {},
     "output_type": "execute_result"
    },
    {
     "data": {
      "image/png": "[encoded data removed]",
      "text/plain": [
       "<Figure size 432x288 with 1 Axes>"
      ]
     },
     "metadata": {
      "needs_background": "light"
     },
     "output_type": "display_data"
    }
   ],
   "source": [
    "#post-processing in this block\n",
    "\n",
    "\n",
    "plt.plot(np.array(range(num_steps))*dt,error)\n",
    "plt.legend(Weak_Tests)\n",
    "plt.title('$L-\\infty$ error for h = L/'+ str(nx)+\" , p =\"+str(pq_degree[0]) )\n",
    "plt.xlabel('time')\n",
    "plt.ylabel('$L-\\infty$ Error')\n",
    "#plt.savefig(\"l_infty_error_propogation_test_h_L_\"+str(nx)+\"p_\"+str(pq_degree[0])+\".png\")\n",
    "plt.show()\n",
    "plt.plot(np.array(range(num_steps))*dt,l2_err_vec)\n",
    "plt.legend(Weak_Tests)\n",
    "plt.title('L-2 error for h = L/'+ str(nx) +\" , p =\"+str(pq_degree[0]))\n",
    "plt.xlabel('time')\n",
    "plt.ylabel('L-2 error')\n",
    "#plt.savefig(\"l_2_error_propogation_test_h_L_\"+str(nx)+\"p_\"+str(pq_degree[0])+\".png\")\n",
    "# Hold plot\n",
    "#interactive()"
   ]
  },
  {
   "cell_type": "code",
   "execution_count": 8,
   "metadata": {},
   "outputs": [
    {
     "name": "stdout",
     "output_type": "stream",
     "text": [
      "Initial L-inf error\n",
      "[ 0.0012665]\n",
      "Final L-inf error\n",
      "[ 1.04052121]\n",
      "Max L-inf error\n",
      "[ 1.04052121]\n",
      "Initial L-2 error\n",
      "[ 0.00417626]\n",
      "Final L-2 error\n",
      "[ 3.24005299]\n",
      "Max L-2 error\n",
      "[ 3.24005299]\n"
     ]
    }
   ],
   "source": [
    "print('Initial L-inf error')\n",
    "print(error[0,:])\n",
    "print('Final L-inf error')\n",
    "print(error[-1,:])\n",
    "print('Max L-inf error')\n",
    "print(np.amax(error,axis=0))\n",
    "print('Initial L-2 error')\n",
    "print(l2_err_vec[0,:])\n",
    "print('Final L-2 error')\n",
    "print(l2_err_vec[-1,:])\n",
    "print('Max L-2 error')\n",
    "print(np.amax(l2_err_vec,axis=0))"
   ]
  },
  {
   "cell_type": "code",
   "execution_count": null,
   "metadata": {},
   "outputs": [],
   "source": []
  }
 ],
 "metadata": {
  "kernelspec": {
   "display_name": "Python 3",
   "language": "python",
   "name": "python3"
  },
  "language_info": {
   "codemirror_mode": {
    "name": "ipython",
    "version": 3
   },
   "file_extension": ".py",
   "mimetype": "text/x-python",
   "name": "python",
   "nbconvert_exporter": "python",
   "pygments_lexer": "ipython3",
   "version": "3.6.9"
  }
 },
 "nbformat": 4,
 "nbformat_minor": 4
}
