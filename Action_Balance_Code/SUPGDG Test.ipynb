{
 "cells": [
  {
   "cell_type": "code",
   "execution_count": 1,
   "metadata": {},
   "outputs": [],
   "source": [
    "#import any necessary libraries in this block\n",
    "from __future__ import print_function\n",
    "from fenics import *\n",
    "from ufl import nabla_div\n",
    "import numpy as np\n",
    "import matplotlib.pyplot as plt\n",
    "from matplotlib import cm\n",
    "from matplotlib.ticker import LinearLocator\n",
    "from mpl_toolkits.mplot3d import Axes3D\n",
    "%matplotlib inline\n",
    "#define global variables"
   ]
  },
  {
   "cell_type": "markdown",
   "metadata": {},
   "source": [
    "## Test with 2D Advection-diffusion equation\n",
    "\n",
    "$-\\frac{1}{Pe}\\Delta u + \\mathbf{b} \\cdot \\nabla u = f \\quad \\textrm{on} \\quad \\Omega = (0,1) \\times (0,1)$\n",
    "\n"
   ]
  },
  {
   "cell_type": "code",
   "execution_count": 2,
   "metadata": {},
   "outputs": [
    {
     "data": {
      "text/plain": [
       "Text(0.5, 1.0, 'Exact solution')"
      ]
     },
     "execution_count": 2,
     "metadata": {},
     "output_type": "execute_result"
    },
    {
     "data": {
      "image/png": "[encoded data removed]",
      "text/plain": [
       "<Figure size 432x288 with 2 Axes>"
      ]
     },
     "metadata": {
      "needs_background": "light"
     },
     "output_type": "display_data"
    }
   ],
   "source": [
    "nx=25\n",
    "mesh=UnitSquareMesh(nx,nx)\n",
    "b=Constant((1.0,1.0))\n",
    "Pe = 100\n",
    "\n",
    "u_D = Expression('(x[0]+ (exp(Pe*b[0]*x[0]) - 1)/(1 - exp(Pe*b[0])) )*( x[1]+ (exp(Pe*b[1]*x[1]) - 1)/(1 - exp(Pe*b[1])))',\n",
    "                 degree=4, Pe=Pe, b=b,domain=mesh)\n",
    "\n",
    "p=plot(u_D,mesh=mesh)\n",
    "plt.colorbar(p)\n",
    "plt.title('Exact solution')"
   ]
  },
  {
   "cell_type": "code",
   "execution_count": 3,
   "metadata": {},
   "outputs": [],
   "source": [
    "#weak form\n",
    "V=FunctionSpace(mesh,'DG',2) #higher degrees seem to go poorly\n",
    "u=TrialFunction(V)\n",
    "v=TestFunction(V)\n",
    "n=FacetNormal(mesh)\n",
    "bn=(dot(b,n) + abs(dot(b,n)))/2\n",
    "hmax=mesh.hmax()\n",
    "tau=hmax/(dot(b,b)**0.5)\n",
    "\n",
    "uu = interpolate(u_D,V)\n",
    "f=-1/Pe*div(grad(u_D)) + dot(b,grad(u_D))\n",
    "\n",
    "F = 1/Pe*inner(grad(u), grad(v)) * dx - inner(b*u,grad(v))*dx - f*v*dx + inner( u*dot(b,n), v )*ds  \\\n",
    "+ inner( bn('+')*u('+') - bn('-')*u('-'), jump(v) )*dS \n",
    "#+ inner(-1/Pe*div(grad(u))+dot(b,grad(u)) -f, tau*nabla_div(b*v))*dx\n",
    "\n",
    "#L = f*v*dx #+ f*tau*nabla_div(b*v)*dx\n",
    "a,L=lhs(F),rhs(F)\n",
    "u_sol = Function(V)\n",
    "\n",
    "def boundary(x, on_boundary):\n",
    "    return on_boundary\n",
    "bc = DirichletBC(V, u_D, boundary,\"geometric\")\n",
    "\n",
    "solve(a == L, u_sol, bc)"
   ]
  },
  {
   "cell_type": "code",
   "execution_count": 4,
   "metadata": {},
   "outputs": [
    {
     "name": "stdout",
     "output_type": "stream",
     "text": [
      "L2 Error:\n",
      "0.0169453649618\n"
     ]
    },
    {
     "data": {
      "image/png": "[encoded data removed]",
      "text/plain": [
       "<Figure size 432x288 with 2 Axes>"
      ]
     },
     "metadata": {
      "needs_background": "light"
     },
     "output_type": "display_data"
    }
   ],
   "source": [
    "p=plot(u_sol,vmin=0, vmax=1)\n",
    "plt.colorbar(p)\n",
    "plt.title('FEM solution')\n",
    "\n",
    "l2_err = np.sqrt(assemble(inner(u_sol-uu,u_sol-uu)*dx))\n",
    "print('L2 Error:')\n",
    "print(l2_err)\n"
   ]
  },
  {
   "cell_type": "code",
   "execution_count": null,
   "metadata": {},
   "outputs": [],
   "source": [
    "#now test case 1 barebones this time\n",
    "nx = 20\n",
    "num_steps = 400\n",
    "T = num_steps*5/1000 # final time step\n",
    "T_i=0\n",
    "\n",
    "dt = T / num_steps\n",
    "L = 10\n",
    "mesh = RectangleMesh(Point(0.0,0.0),Point(L,L),nx, nx)\n",
    "V=FunctionSpace(mesh,'DG',1)\n",
    "c = Constant((1.0,1.0))\n",
    "u_D = Expression('sin((x[0]-c[0]*t))+cos((x[1]-c[1]*t))',degree=4, c=c, t=T_i,domain=mesh)\n",
    "def boundary(x, on_boundary):\n",
    "    return on_boundary\n",
    "bc = DirichletBC(V, u_D, boundary,\"geometric\")\n",
    "#define initial condition for weak form\n",
    "u_n = interpolate(u_D, V)\n",
    "\n",
    "#define variables for stabilized weak form\n",
    "n=FacetNormal(mesh)\n",
    "cn=(dot(c,n) + abs(dot(c,n)))/2\n",
    "hmax=mesh.hmax()\n",
    "tau=hmax/(dot(c,c)**0.5)\n",
    "\n",
    "u = TrialFunction(V)\n",
    "v = TestFunction(V)\n",
    "\n",
    "F = inner(u - u_n,v)*dx - dt*inner(c*u,grad(v))*dx  \\\n",
    "    + dt*inner( cn('+')*u('+') - cn('-')*u('-'), jump(v) )*dS + dt*inner( u*dot(c,n), v )*ds \\\n",
    "    + dt*inner((u- u_n) + dt*nabla_div(c*u) , tau*nabla_div(c*v))*dx \n",
    "\n",
    "a,L = lhs(F), rhs(F)\n",
    "\n",
    "# establishes solution variable (possible output)\n",
    "u_sol = Function(V)\n",
    "\n",
    "t=0\n",
    "\n",
    "l2_err_vec=np.zeros(num_steps)\n",
    "l_inf_error_vec = np.zeros(num_steps)\n",
    "\n",
    "#now loop through time\n",
    "\n",
    "for n in range(num_steps):\n",
    "    #advance time\n",
    "    t+=dt\n",
    "    #update dirichlet boundary and source term\n",
    "    u_D.t = t\n",
    "        \n",
    "    #compute solution at new timestep\n",
    "    solve(a == L, u_sol, bc)\n",
    "    #update solution\n",
    "    u_n.assign(u_sol)\n",
    "    \n",
    "    # Compute exact solution at vertices(assumes u_D is expression for whole space)\n",
    "    u_e = interpolate(u_D, V)\n",
    "    #L2 error\n",
    "    e0=u_sol-u_e\n",
    "    l2_err_vec[n] = np.sqrt(assemble(inner(e0,e0)*dx))\n",
    "    #l infinity error\n",
    "    u_vec=u_sol.compute_vertex_values()\n",
    "    u_exac_vec=u_e.compute_vertex_values()\n",
    "    #L infinity error\n",
    "    l_inf_error_vec[n] = np.abs(u_exac_vec-u_vec).max()"
   ]
  },
  {
   "cell_type": "code",
   "execution_count": null,
   "metadata": {},
   "outputs": [],
   "source": [
    "p=plot(u_sol)\n",
    "plt.colorbar(p)"
   ]
  },
  {
   "cell_type": "code",
   "execution_count": null,
   "metadata": {
    "scrolled": true
   },
   "outputs": [],
   "source": [
    "plt.plot(l2_err_vec)"
   ]
  },
  {
   "cell_type": "markdown",
   "metadata": {},
   "source": [
    "## Reduce case to 1D scalar advection equation to see if we can reproduce problem:\n",
    "\n",
    "$u_t + a u_x = 0$\n",
    "\n",
    "discretize time leads to:\n",
    "\n",
    "$u^{i+1} + dt*a u^i_x - dt*u^i$\n",
    "\n",
    "..."
   ]
  },
  {
   "cell_type": "markdown",
   "metadata": {},
   "source": [
    "## First do 1-D scalar advection diffusion problem\n",
    "\n",
    "$-\\epsilon u_{xx} + u_x = 0 \\quad \\textrm{on} \\quad \\Omega = (0,1)$\n",
    "\n",
    "$u(0) = 0, u(1)=1$\n",
    "\n",
    "which admits the following solution:\n",
    "\n",
    "$u = \\frac{1-e^{\\frac{1}{\\epsilon}x}}{1 - e^{\\frac{1}{\\epsilon}}}$\n",
    "\n",
    "want to see oscillations for small epsilon\n"
   ]
  },
  {
   "cell_type": "code",
   "execution_count": 87,
   "metadata": {},
   "outputs": [
    {
     "data": {
      "text/plain": [
       "[<matplotlib.lines.Line2D at 0x406d5be390>]"
      ]
     },
     "execution_count": 87,
     "metadata": {},
     "output_type": "execute_result"
    },
    {
     "data": {
      "image/png": "[encoded data removed]",
      "text/plain": [
       "<Figure size 432x288 with 1 Axes>"
      ]
     },
     "metadata": {
      "needs_background": "light"
     },
     "output_type": "display_data"
    }
   ],
   "source": [
    "epsilon = 1/100\n",
    "nx = 10\n",
    "mesh = UnitIntervalMesh(nx)\n",
    "ptype = 'DG'\n",
    "V = FunctionSpace(mesh, ptype, 1)\n",
    "u = TrialFunction(V)\n",
    "v = TestFunction(V)\n",
    "\n",
    "#exact solution\n",
    "u_exact = Expression('(1 - exp(x[0]/e1))/(1 - exp(1/e1))',degree=6,e1=epsilon,domain=mesh)\n",
    "\n",
    "\n",
    "def boundary(x, on_boundary):\n",
    "    return on_boundary\n",
    "\n",
    "bc = DirichletBC(V, u_exact, boundary)\n",
    "\n",
    "\n",
    "#weak form\n",
    "\n",
    "#continuous galerkin\n",
    "#F = epsilon*u.dx(0)*v.dx(0)*dx + u.dx(0)*v*dx\n",
    "\n",
    "#SUPG\n",
    "#hmax=mesh.hmax()\n",
    "#c=1 #advection speed\n",
    "#tau=hmax/c\n",
    "#F = epsilon*u.dx(0)*v.dx(0)*dx - u*v.dx(0)*dx + inner(-epsilon*u.dx(0).dx(0) + u.dx(0), tau*v.dx(0) )*dx\n",
    "\n",
    "#DG\n",
    "n=FacetNormal(mesh)\n",
    "c=as_vector((Constant(1.0),))\n",
    "cn=(dot(c,n) + abs(dot(c,n)))/2\n",
    "#x = SpatialCoordinate(mesh)\n",
    "#Gamma_in = conditional(x < 1e-14,1,0 )\n",
    "#Gamma_out = conditional(x < 1e-14,1,0)\n",
    "F = epsilon*u.dx(0)*v.dx(0)*dx - u*v.dx(0)*dx + inner( cn('+')*u('+') - cn('-')*u('-'), jump(v) )*dS \\\n",
    "+ cn*(u-u_exact)*v*ds - epsilon*jump(v)*avg(u.dx(0))*dS\n",
    "\n",
    "#SUPGDG\n",
    "#hmax=mesh.hmax()\n",
    "#c=1 #advection speed\n",
    "#tau=hmax/c\n",
    "#c=as_vector((Constant(1.0),))\n",
    "#cn=(dot(c,n) + abs(dot(c,n)))/2\n",
    "#F = epsilon*u.dx(0)*v.dx(0)*dx - u*v.dx(0)*dx + inner(-epsilon*u.dx(0).dx(0) + u.dx(0), tau*v.dx(0) )*dx \\\n",
    "#+ inner( cn('+')*u('+') - cn('-')*u('-'), jump(v) )*dS + cn*(u-u_exact)*v*ds - epsilon*jump(v)*avg(u.dx(0))*dS\n",
    "\n",
    "a,L = lhs(F),rhs(F)\n",
    "\n",
    "u_sol = Function(V)\n",
    "if ptype == 'DG':\n",
    "    \n",
    "    solve(a == L, u_sol)\n",
    "else:\n",
    "    solve(a == L, u_sol,bc)\n",
    "\n",
    "plot(u_sol)\n"
   ]
  },
  {
   "cell_type": "code",
   "execution_count": 81,
   "metadata": {},
   "outputs": [
    {
     "data": {
      "text/plain": [
       "[<matplotlib.lines.Line2D at 0x4062ad3240>]"
      ]
     },
     "execution_count": 81,
     "metadata": {},
     "output_type": "execute_result"
    },
    {
     "data": {
      "image/png": "[encoded data removed]",
      "text/plain": [
       "<Figure size 432x288 with 1 Axes>"
      ]
     },
     "metadata": {
      "needs_background": "light"
     },
     "output_type": "display_data"
    }
   ],
   "source": [
    "plot(u_exact,mesh=mesh)"
   ]
  },
  {
   "cell_type": "code",
   "execution_count": null,
   "metadata": {},
   "outputs": [],
   "source": []
  },
  {
   "cell_type": "code",
   "execution_count": null,
   "metadata": {},
   "outputs": [],
   "source": []
  }
 ],
 "metadata": {
  "kernelspec": {
   "display_name": "Python 3",
   "language": "python",
   "name": "python3"
  },
  "language_info": {
   "codemirror_mode": {
    "name": "ipython",
    "version": 3
   },
   "file_extension": ".py",
   "mimetype": "text/x-python",
   "name": "python",
   "nbconvert_exporter": "python",
   "pygments_lexer": "ipython3",
   "version": "3.6.9"
  }
 },
 "nbformat": 4,
 "nbformat_minor": 4
}
