{
 "cells": [
  {
   "cell_type": "code",
   "execution_count": 30,
   "id": "dfa64e96-dc90-4fa2-aaef-e4451364804e",
   "metadata": {},
   "outputs": [],
   "source": [
    "from mpi4py import MPI\n",
    "from dolfinx import mesh\n",
    "from dolfinx import fem\n",
    "from dolfinx import cpp\n",
    "from matplotlib import pyplot as plt\n",
    "import numpy as np\n",
    "import ufl"
   ]
  },
  {
   "cell_type": "code",
   "execution_count": 31,
   "id": "6c1545fc-6a3a-4124-931a-265c7c36f8fc",
   "metadata": {},
   "outputs": [],
   "source": [
    "nx = 5\n",
    "domain = mesh.create_interval(MPI.COMM_WORLD,5,(0,1))\n",
    "V = fem.FunctionSpace(domain, (\"CG\", 1))\n",
    "uD = fem.Function(V)\n",
    "a1 =1/0.13386560424545213\n",
    "uD.interpolate(lambda x: -a1*(x[0]**3-x[0]**2) )\n"
   ]
  },
  {
   "cell_type": "code",
   "execution_count": 32,
   "id": "8f30f7c5-d7d7-4cf6-b889-da562b043267",
   "metadata": {},
   "outputs": [],
   "source": [
    "# Create facet to cell connectivity required to determine boundary facets\n",
    "tdim = domain.topology.dim\n",
    "fdim = tdim - 1\n",
    "domain.topology.create_connectivity(fdim, tdim)\n",
    "boundary_facets = mesh.exterior_facet_indices(domain.topology)\n",
    "boundary_dofs = fem.locate_dofs_topological(V, fdim, boundary_facets)\n",
    "bc = fem.dirichletbc(uD, boundary_dofs)"
   ]
  },
  {
   "cell_type": "code",
   "execution_count": 33,
   "id": "ecf44d6d-53c8-480c-8b5c-e5abe36ad3a2",
   "metadata": {},
   "outputs": [],
   "source": [
    "u = ufl.TrialFunction(V)\n",
    "v = ufl.TestFunction(V)\n",
    "f = fem.Function(V)\n",
    "f.interpolate(lambda x: a1*(x[0]*6-2))"
   ]
  },
  {
   "cell_type": "code",
   "execution_count": 34,
   "id": "6bc82f93-abdd-4663-916c-5165efee4fb1",
   "metadata": {},
   "outputs": [],
   "source": [
    "a = ufl.dot(ufl.grad(u), ufl.grad(v)) * ufl.dx\n",
    "L = f * v * ufl.dx\n",
    "problem = fem.petsc.LinearProblem(a, L,bcs=[bc],petsc_options={\"ksp_type\": \"preonly\", \"pc_type\": \"lu\"})\n",
    "uh = problem.solve()"
   ]
  },
  {
   "cell_type": "code",
   "execution_count": 35,
   "id": "9fec257e-ad6b-4d7b-bb15-1689c4b53f68",
   "metadata": {},
   "outputs": [],
   "source": [
    "x = V.tabulate_dof_coordinates()[:,0]"
   ]
  },
  {
   "cell_type": "code",
   "execution_count": 36,
   "id": "9aeafc00-e1b6-41f6-a1c8-ef48d924cc75",
   "metadata": {},
   "outputs": [
    {
     "data": {
      "text/plain": [
       "[<matplotlib.lines.Line2D at 0x40741e9a20>]"
      ]
     },
     "execution_count": 36,
     "metadata": {},
     "output_type": "execute_result"
    },
    {
     "data": {
      "image/png": "[encoded data removed]",
      "text/plain": [
       "<Figure size 640x480 with 1 Axes>"
      ]
     },
     "metadata": {},
     "output_type": "display_data"
    }
   ],
   "source": [
    "plt.plot(x,uh.x.array)\n",
    "plt.plot(x,uD.x.array)"
   ]
  },
  {
   "cell_type": "code",
   "execution_count": 37,
   "id": "6ef2e0e3-0dcc-4240-80eb-c39014f37745",
   "metadata": {},
   "outputs": [
    {
     "name": "stdout",
     "output_type": "stream",
     "text": [
      "[-0.          0.23904572  0.71713717  1.07570575  0.95618289 -0.        ]\n",
      "[-0.          0.23904572  0.71713717  1.07570575  0.95618289 -0.        ]\n"
     ]
    }
   ],
   "source": [
    "print(uh.x.array)\n",
    "print(uD.x.array)"
   ]
  },
  {
   "cell_type": "code",
   "execution_count": 38,
   "id": "4a2a685a-6aa6-45d1-aa58-f5bd96f5424c",
   "metadata": {},
   "outputs": [
    {
     "name": "stdout",
     "output_type": "stream",
     "text": [
      "[[ 0.2  0.   0.   0.   0.   0. ]\n",
      " [ 0.   2.  -1.   0.   0.   0. ]\n",
      " [ 0.  -1.   2.  -1.   0.   0. ]\n",
      " [ 0.   0.  -1.   2.  -1.   0. ]\n",
      " [ 0.   0.   0.  -1.   2.   0. ]\n",
      " [ 0.   0.   0.   0.   0.   0.2]]\n"
     ]
    }
   ],
   "source": [
    "\n",
    "h=1/nx\n",
    "print(h*problem.A.getValues(range(nx+1),range(nx+1)))"
   ]
  },
  {
   "cell_type": "code",
   "execution_count": 26,
   "id": "c14cafbc-da39-43cb-8b8d-6ecb795f8d12",
   "metadata": {},
   "outputs": [
    {
     "name": "stdout",
     "output_type": "stream",
     "text": [
      "[-0.         -1.19522861  0.5976143   2.39045722  4.18330013 -0.        ]\n"
     ]
    }
   ],
   "source": [
    "print(problem.b.getArray())"
   ]
  },
  {
   "cell_type": "code",
   "execution_count": 27,
   "id": "fcb3c1a2-ec76-4031-8e6d-fd450dac84fb",
   "metadata": {},
   "outputs": [
    {
     "name": "stdout",
     "output_type": "stream",
     "text": [
      "[-0.         -0.23904572  0.11952286  0.47809144  0.83666003 -0.        ]\n"
     ]
    }
   ],
   "source": [
    "\n",
    "print(h*problem.b.getArray())"
   ]
  },
  {
   "cell_type": "code",
   "execution_count": 39,
   "id": "b392c57f-9442-4b70-b6d7-87bb047516e2",
   "metadata": {},
   "outputs": [
    {
     "name": "stdout",
     "output_type": "stream",
     "text": [
      "[-0.23904572  0.11952286  0.47809144  0.83666003]\n",
      "1.0000000000000002\n"
     ]
    }
   ],
   "source": [
    "modified_b =h*a1*h*(6*h*np.arange(1,nx)-2)\n",
    "print(modified_b)\n",
    "print(np.linalg.norm(modified_b))"
   ]
  },
  {
   "cell_type": "code",
   "execution_count": null,
   "id": "a1c902c2-4164-4aa1-9f2e-304e9c4b4aa7",
   "metadata": {},
   "outputs": [],
   "source": []
  }
 ],
 "metadata": {
  "kernelspec": {
   "display_name": "Python 3 (ipykernel)",
   "language": "python",
   "name": "python3"
  },
  "language_info": {
   "codemirror_mode": {
    "name": "ipython",
    "version": 3
   },
   "file_extension": ".py",
   "mimetype": "text/x-python",
   "name": "python",
   "nbconvert_exporter": "python",
   "pygments_lexer": "ipython3",
   "version": "3.10.4"
  }
 },
 "nbformat": 4,
 "nbformat_minor": 5
}
