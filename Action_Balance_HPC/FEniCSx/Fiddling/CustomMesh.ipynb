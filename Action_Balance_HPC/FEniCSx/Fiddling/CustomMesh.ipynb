{
 "cells": [
  {
   "cell_type": "code",
   "execution_count": 7,
   "id": "448a5f33",
   "metadata": {},
   "outputs": [],
   "source": [
    "import ufl\n",
    "#import gmsh\n",
    "import numpy as np\n",
    "from dolfinx import io,fem,mesh,cpp,plot\n",
    "from mpi4py import MPI\n",
    "import pyvista\n",
    "#gmsh.initialize()"
   ]
  },
  {
   "cell_type": "code",
   "execution_count": 8,
   "id": "a96106c9",
   "metadata": {},
   "outputs": [],
   "source": [
    "#read in an adcirc mesh and save some stuff\n",
    "def ADCIRC_mesh_gen(file_path):\n",
    "    #specify file path as a string, either absolute or relative to where script is run\n",
    "    #only compatible for adcirc fort.14 format\n",
    "    adcirc_mesh=open(file_path,'r')\n",
    "    title=adcirc_mesh.readline()\n",
    "\n",
    "    #NE number of elements, NP number of grid points\n",
    "    NE,NP=adcirc_mesh.readline().split()\n",
    "    NE=int(NE)\n",
    "    NP=int(NP)\n",
    "\n",
    "    #initiate data structures\n",
    "    NODENUM=np.zeros(NP)\n",
    "    LONS=np.zeros(NP)\n",
    "    LATS=np.zeros(NP)\n",
    "    DPS=np.zeros(NP)\n",
    "    ELEMNUM=np.zeros(NE)\n",
    "    NM = np.zeros((NE,3)) #stores connectivity at each element\n",
    "\n",
    "    #read node information line by line \n",
    "    for i in range(NP):\n",
    "        NODENUM[i], LONS[i], LATS[i], DPS[i] = adcirc_mesh.readline().split()\n",
    "    #read in connectivity\n",
    "    for i in range(NE):\n",
    "        ELEMNUM[i], DUM, NM[i,0],NM[i,1], NM[i,2]=adcirc_mesh.readline().split()\n",
    "\n",
    "    #(we need to shift nodenum down by 1)\n",
    "    ELEMNUM=ELEMNUM-1\n",
    "    NM=NM-1\n",
    "    NODENUM=NODENUM-1\n",
    "\n",
    "    #close file\n",
    "    adcirc_mesh.close()\n",
    "    return NODENUM,[LONS,LATS],ELEMNUM,NM\n",
    "    "
   ]
  },
  {
   "cell_type": "code",
   "execution_count": 9,
   "id": "a818b5c8",
   "metadata": {},
   "outputs": [],
   "source": [
    "NODENUM,[LONS,LATS],ELEMNUM,NM = ADCIRC_mesh_gen(\"depth2.grd\")\n",
    "#can read in xdmf mesh file\n",
    "#filename = 'mesh_test.xdmf'\n",
    "#encoding= io.XDMFFile.Encoding.HDF5\n",
    "#with io.XDMFFile(MPI.COMM_WORLD, filename, \"r\", encoding=encoding) as file:\n",
    "#    mesh2 = file.read_mesh()"
   ]
  },
  {
   "cell_type": "code",
   "execution_count": 10,
   "id": "9aa267fc",
   "metadata": {},
   "outputs": [],
   "source": [
    "gdim, shape, degree = 2, \"triangle\", 1\n",
    "cell = ufl.Cell(shape, geometric_dimension=gdim)\n",
    "element = ufl.VectorElement(\"Lagrange\", cell, degree)\n",
    "domain = ufl.Mesh(element)\n",
    "coords = np.array(list(zip(LONS,LATS)))\n",
    "\n",
    "\n",
    "#x = np.array([[0., 0., 0.], [0., 1., 0.], [1., 1., 0.]])\n",
    "#cells = np.array([[0, 1, 2]], dtype=np.int64)\n",
    "\n",
    "\n",
    "domain1 = mesh.create_mesh(MPI.COMM_WORLD, NM, coords, domain)\n",
    "\n",
    "V = fem.FunctionSpace(domain1, (\"P\", 1))\n",
    "dof_coords = V.tabulate_dof_coordinates()\n",
    "#assign depth as a function of y\n",
    "depth = 20 - dof_coords[:,1]/200\n",
    "f = fem.Function(V)\n",
    "f.x.array[:] = depth\n"
   ]
  },
  {
   "cell_type": "code",
   "execution_count": 11,
   "id": "1d52e260-e215-419b-afff-7ccff444d4fe",
   "metadata": {},
   "outputs": [
    {
     "name": "stdout",
     "output_type": "stream",
     "text": [
      "[28.28427125 28.28427125 27.66651012 ... 23.58013362 22.93498359\n",
      " 21.41386303]\n"
     ]
    }
   ],
   "source": [
    "#want to create a function that approximates h in the P1 space\n",
    "tdim = domain1.topology.dim\n",
    "num_cells = domain1.topology.index_map(tdim).size_local\n",
    "h1 = cpp.mesh.h(domain1, tdim, range(num_cells))\n",
    "print(h1)\n",
    "\n",
    "#should be a DG function\n",
    "cellwise = fem.FunctionSpace(domain1, (\"DG\", 0))\n",
    "V = fem.FunctionSpace(domain1,(\"CG\",1))\n",
    "height = fem.Function(cellwise)\n",
    "height.vector.setValues(range(num_cells),h1)\n",
    "#may need to add update ghost for parallel!!!\n"
   ]
  },
  {
   "cell_type": "code",
   "execution_count": 13,
   "id": "8e7c2667-4345-4fda-98cc-9ede8d0f6988",
   "metadata": {},
   "outputs": [
    {
     "name": "stderr",
     "output_type": "stream",
     "text": [
      "\u001b[0m\u001b[2m2022-10-12 21:51:24.579 (  98.643s) [         2190000]    vtkExtractEdges.cxx:435   INFO| \u001b[0mExecuting edge extractor: points are renumbered\u001b[0m\n",
      "\u001b[0m\u001b[2m2022-10-12 21:51:24.652 (  98.716s) [         2190000]    vtkExtractEdges.cxx:551   INFO| \u001b[0mCreated 21298 edges\u001b[0m\n"
     ]
    },
    {
     "data": {
      "application/vnd.jupyter.widget-view+json": {
       "model_id": "f2fb356d024d492c9f0b5cc55e109264",
       "version_major": 2,
       "version_minor": 0
      },
      "text/plain": [
       "Renderer(camera=PerspectiveCamera(aspect=1.3333333333333333, children=(DirectionalLight(intensity=0.25, positi…"
      ]
     },
     "metadata": {},
     "output_type": "display_data"
    }
   ],
   "source": [
    "pyvista.set_jupyter_backend(\"pythreejs\")\n",
    "\n",
    "# Create plotter and pyvista grid\n",
    "p = pyvista.Plotter()\n",
    "topology, cell_types, geometry = plot.create_vtk_mesh(V)\n",
    "grid = pyvista.UnstructuredGrid(topology, cell_types, geometry)\n",
    "\n",
    "\n",
    "plotter = pyvista.Plotter()\n",
    "plotter.add_mesh(grid, show_edges=True)\n",
    "plotter.view_xy()\n",
    "if not pyvista.OFF_SCREEN:\n",
    "    plotter.show()\n"
   ]
  },
  {
   "cell_type": "code",
   "execution_count": 12,
   "id": "da0d4558-742d-4751-82e6-edade7204097",
   "metadata": {},
   "outputs": [
    {
     "data": {
      "application/vnd.jupyter.widget-view+json": {
       "model_id": "c743def9549b4f9cb1e312e886fa57b7",
       "version_major": 2,
       "version_minor": 0
      },
      "text/plain": [
       "Renderer(camera=PerspectiveCamera(aspect=1.3333333333333333, children=(DirectionalLight(intensity=0.25, positi…"
      ]
     },
     "metadata": {},
     "output_type": "display_data"
    }
   ],
   "source": [
    "u_topology, u_cell_types, u_geometry = plot.create_vtk_mesh(V)\n",
    "u_grid = pyvista.UnstructuredGrid(u_topology, u_cell_types, u_geometry)\n",
    "u_grid.cell_data[\"indicator\"] = height.vector.array\n",
    "u_grid.set_active_scalars(\"indicator\")\n",
    "pyvista.set_jupyter_backend(\"pythreejs\")\n",
    "#pyvista.start_xvfb()\n",
    "p = pyvista.Plotter()\n",
    "p.add_mesh(u_grid)\n",
    "p.add_scalar_bar()\n",
    "p.show_axes()\n",
    "p.view_xy()\n",
    "if not pyvista.OFF_SCREEN:\n",
    "   p.show()"
   ]
  },
  {
   "cell_type": "code",
   "execution_count": 15,
   "id": "fb2ffa28",
   "metadata": {},
   "outputs": [],
   "source": [
    "#NOw do L2 interpolation and see what that looks like\n",
    "u = ufl.TrialFunction(V)\n",
    "v = ufl.TestFunction(V)\n",
    "a = u*v* ufl.dx\n",
    "L = height*v*ufl.dx\n",
    "problem = fem.petsc.LinearProblem(a, L)#petsc_options={\"ksp_type\": \"preonly\", \"pc_type\": \"lu\"})\n",
    "uh = problem.solve()\n",
    "\n"
   ]
  },
  {
   "cell_type": "code",
   "execution_count": 16,
   "id": "89e84285-e72d-4e45-976c-a74d666459b2",
   "metadata": {},
   "outputs": [
    {
     "name": "stderr",
     "output_type": "stream",
     "text": [
      "\u001b[0m\u001b[2m2022-10-12 21:53:40.657 ( 234.716s) [         2190000]    vtkExtractEdges.cxx:435   INFO| \u001b[0mExecuting edge extractor: points are renumbered\u001b[0m\n",
      "\u001b[0m\u001b[2m2022-10-12 21:53:40.730 ( 234.789s) [         2190000]    vtkExtractEdges.cxx:551   INFO| \u001b[0mCreated 21298 edges\u001b[0m\n"
     ]
    },
    {
     "data": {
      "application/vnd.jupyter.widget-view+json": {
       "model_id": "90238d773b4d4b71b83326e46db65c83",
       "version_major": 2,
       "version_minor": 0
      },
      "text/plain": [
       "Renderer(camera=PerspectiveCamera(aspect=1.3333333333333333, children=(DirectionalLight(intensity=0.25, positi…"
      ]
     },
     "metadata": {},
     "output_type": "display_data"
    }
   ],
   "source": [
    "u_topology, u_cell_types, u_geometry = plot.create_vtk_mesh(V)\n",
    "u_grid = pyvista.UnstructuredGrid(u_topology, u_cell_types, u_geometry)\n",
    "u_grid.point_data[\"u\"] = uh.x.array.real\n",
    "u_grid.set_active_scalars(\"u\")\n",
    "u_plotter = pyvista.Plotter()\n",
    "u_plotter.add_mesh(u_grid, show_edges=True)\n",
    "u_plotter.view_xy()\n",
    "\n",
    "if not pyvista.OFF_SCREEN:\n",
    "    u_plotter.show()"
   ]
  },
  {
   "cell_type": "code",
   "execution_count": null,
   "id": "ae9cabab-04e6-4ce7-96c1-db8ed265906a",
   "metadata": {},
   "outputs": [],
   "source": [
    "#plot the mesh and a function on top of it\n",
    "fname = 'depth_mesh/solution'\n",
    "xdmf = io.XDMFFile(domain1.comm, fname+\".xdmf\", \"w\")\n",
    "xdmf.write_mesh(domain1)\n",
    "xdmf.write_function(f)\n",
    "xdmf.close()"
   ]
  }
 ],
 "metadata": {
  "kernelspec": {
   "display_name": "Python 3 (ipykernel)",
   "language": "python",
   "name": "python3"
  },
  "language_info": {
   "codemirror_mode": {
    "name": "ipython",
    "version": 3
   },
   "file_extension": ".py",
   "mimetype": "text/x-python",
   "name": "python",
   "nbconvert_exporter": "python",
   "pygments_lexer": "ipython3",
   "version": "3.10.4"
  }
 },
 "nbformat": 4,
 "nbformat_minor": 5
}
