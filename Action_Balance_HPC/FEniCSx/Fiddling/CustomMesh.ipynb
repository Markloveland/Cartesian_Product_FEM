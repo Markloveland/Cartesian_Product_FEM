{
 "cells": [
  {
   "cell_type": "code",
   "execution_count": 10,
   "id": "448a5f33",
   "metadata": {},
   "outputs": [
    {
     "name": "stderr",
     "output_type": "stream",
     "text": [
      "Warning : Gmsh has aleady been initialized\n"
     ]
    }
   ],
   "source": [
    "import ufl\n",
    "import gmsh\n",
    "import numpy as np\n",
    "from dolfinx import io,fem,mesh\n",
    "from mpi4py import MPI\n",
    "gmsh.initialize()"
   ]
  },
  {
   "cell_type": "code",
   "execution_count": 11,
   "id": "a96106c9",
   "metadata": {},
   "outputs": [],
   "source": [
    "#read in an adcirc mesh and save some stuff\n",
    "def ADCIRC_mesh_gen(file_path):\n",
    "    #specify file path as a string, either absolute or relative to where script is run\n",
    "    #only compatible for adcirc fort.14 format\n",
    "    adcirc_mesh=open(file_path,'r')\n",
    "    title=adcirc_mesh.readline()\n",
    "\n",
    "    #NE number of elements, NP number of grid points\n",
    "    NE,NP=adcirc_mesh.readline().split()\n",
    "    NE=int(NE)\n",
    "    NP=int(NP)\n",
    "\n",
    "    #initiate data structures\n",
    "    NODENUM=np.zeros(NP)\n",
    "    LONS=np.zeros(NP)\n",
    "    LATS=np.zeros(NP)\n",
    "    DPS=np.zeros(NP)\n",
    "    ELEMNUM=np.zeros(NE)\n",
    "    NM = np.zeros((NE,3)) #stores connectivity at each element\n",
    "\n",
    "    #read node information line by line \n",
    "    for i in range(NP):\n",
    "        NODENUM[i], LONS[i], LATS[i], DPS[i] = adcirc_mesh.readline().split()\n",
    "    #read in connectivity\n",
    "    for i in range(NE):\n",
    "        ELEMNUM[i], DUM, NM[i,0],NM[i,1], NM[i,2]=adcirc_mesh.readline().split()\n",
    "\n",
    "    #(we need to shift nodenum down by 1)\n",
    "    ELEMNUM=ELEMNUM-1\n",
    "    NM=NM-1\n",
    "    NODENUM=NODENUM-1\n",
    "\n",
    "    #close file\n",
    "    adcirc_mesh.close()\n",
    "    return NODENUM,[LONS,LATS],ELEMNUM,NM\n",
    "    "
   ]
  },
  {
   "cell_type": "code",
   "execution_count": 12,
   "id": "a818b5c8",
   "metadata": {},
   "outputs": [],
   "source": [
    "NODENUM,[LONS,LATS],ELEMNUM,NM = ADCIRC_mesh_gen(\"depth2.grd\")\n",
    "#can read in xdmf mesh file\n",
    "#filename = 'mesh_test.xdmf'\n",
    "#encoding= io.XDMFFile.Encoding.HDF5\n",
    "#with io.XDMFFile(MPI.COMM_WORLD, filename, \"r\", encoding=encoding) as file:\n",
    "#    mesh2 = file.read_mesh()"
   ]
  },
  {
   "cell_type": "code",
   "execution_count": 19,
   "id": "9aa267fc",
   "metadata": {},
   "outputs": [],
   "source": [
    "gdim, shape, degree = 2, \"triangle\", 1\n",
    "cell = ufl.Cell(shape, geometric_dimension=gdim)\n",
    "element = ufl.VectorElement(\"Lagrange\", cell, degree)\n",
    "domain = ufl.Mesh(element)\n",
    "coords = np.array(list(zip(LONS,LATS)))\n",
    "\n",
    "\n",
    "x = np.array([[0., 0., 0.], [0., 1., 0.], [1., 1., 0.]])\n",
    "cells = np.array([[0, 1, 2]], dtype=np.int64)\n",
    "domain1 = mesh.create_mesh(MPI.COMM_WORLD, NM, coords, domain)\n",
    "\n",
    "V = fem.FunctionSpace(domain1, (\"P\", 1))\n",
    "dof_coords = V.tabulate_dof_coordinates()\n",
    "#assign depth as a function of y\n",
    "depth = 20 - dof_coords[:,1]/200\n",
    "f = fem.Function(V)\n",
    "f.x.array[:] = depth\n"
   ]
  },
  {
   "cell_type": "code",
   "execution_count": 20,
   "id": "fb2ffa28",
   "metadata": {},
   "outputs": [],
   "source": [
    "#plot the mesh and a function on top of it\n",
    "fname = 'depth_mesh/solution'\n",
    "xdmf = io.XDMFFile(domain1.comm, fname+\".xdmf\", \"w\")\n",
    "xdmf.write_mesh(domain1)\n",
    "xdmf.write_function(f)\n",
    "xdmf.close()"
   ]
  },
  {
   "cell_type": "code",
   "execution_count": null,
   "id": "89e84285-e72d-4e45-976c-a74d666459b2",
   "metadata": {},
   "outputs": [],
   "source": []
  },
  {
   "cell_type": "code",
   "execution_count": null,
   "id": "ae9cabab-04e6-4ce7-96c1-db8ed265906a",
   "metadata": {},
   "outputs": [],
   "source": []
  }
 ],
 "metadata": {
  "kernelspec": {
   "display_name": "Python 3 (ipykernel)",
   "language": "python",
   "name": "python3"
  },
  "language_info": {
   "codemirror_mode": {
    "name": "ipython",
    "version": 3
   },
   "file_extension": ".py",
   "mimetype": "text/x-python",
   "name": "python",
   "nbconvert_exporter": "python",
   "pygments_lexer": "ipython3",
   "version": "3.10.4"
  }
 },
 "nbformat": 4,
 "nbformat_minor": 5
}
