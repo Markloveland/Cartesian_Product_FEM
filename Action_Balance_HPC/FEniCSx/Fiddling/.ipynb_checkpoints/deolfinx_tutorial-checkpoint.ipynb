{
 "cells": [
  {
   "cell_type": "code",
   "execution_count": 59,
   "metadata": {},
   "outputs": [],
   "source": [
    "from mpi4py import MPI\n",
    "from dolfinx import mesh\n",
    "from dolfinx import fem\n",
    "from dolfinx import cpp\n",
    "import numpy as np\n",
    "import ufl\n",
    "from petsc4py.PETSc import ScalarType"
   ]
  },
  {
   "cell_type": "code",
   "execution_count": 60,
   "metadata": {},
   "outputs": [],
   "source": [
    "#domain = mesh.create_unit_square(MPI.COMM_WORLD, 3, 3,mesh.CellType.triangle)\n",
    "domain = mesh.create_interval(MPI.COMM_WORLD,6,(0,1))\n",
    "V = fem.FunctionSpace(domain, (\"CG\", 1))\n",
    "uD = fem.Function(V)\n",
    "uD.interpolate(lambda x: 1 + x[0]**2)# + 2 * x[1]**2)\n"
   ]
  },
  {
   "cell_type": "code",
   "execution_count": 3,
   "metadata": {},
   "outputs": [],
   "source": [
    "# Create facet to cell connectivity required to determine boundary facets\n",
    "tdim = domain.topology.dim\n",
    "fdim = tdim - 1\n",
    "domain.topology.create_connectivity(fdim, tdim)\n",
    "boundary_facets = mesh.exterior_facet_indices(domain.topology)\n"
   ]
  },
  {
   "cell_type": "code",
   "execution_count": null,
   "metadata": {},
   "outputs": [],
   "source": []
  },
  {
   "cell_type": "code",
   "execution_count": 4,
   "metadata": {},
   "outputs": [
    {
     "name": "stdout",
     "output_type": "stream",
     "text": [
      "<class 'numpy.ndarray'>\n"
     ]
    }
   ],
   "source": [
    "boundary_dofs = fem.locate_dofs_topological(V, fdim, boundary_facets)\n",
    "print(type(boundary_dofs))\n",
    "bc = fem.dirichletbc(uD, boundary_dofs)"
   ]
  },
  {
   "cell_type": "code",
   "execution_count": 5,
   "metadata": {},
   "outputs": [],
   "source": [
    "u = ufl.TrialFunction(V)\n",
    "v = ufl.TestFunction(V)\n",
    "#f = fem.Constant(domain, ScalarType(6))\n",
    "f = fem.Function(V)\n",
    "f.interpolate(lambda x: 0*x[0]+6)"
   ]
  },
  {
   "cell_type": "code",
   "execution_count": 6,
   "metadata": {},
   "outputs": [],
   "source": [
    "a = ufl.dot(ufl.grad(u), ufl.grad(v)) * ufl.dx\n",
    "L = f * v * ufl.dx"
   ]
  },
  {
   "cell_type": "code",
   "execution_count": 7,
   "metadata": {},
   "outputs": [],
   "source": [
    "problem = fem.petsc.LinearProblem(a, L,bcs=[bc],petsc_options={\"ksp_type\": \"preonly\", \"pc_type\": \"lu\"})\n",
    "uh = problem.solve()"
   ]
  },
  {
   "cell_type": "code",
   "execution_count": 8,
   "metadata": {},
   "outputs": [
    {
     "name": "stdout",
     "output_type": "stream",
     "text": [
      "['A', 'L', '_A', '_L', '__class__', '__delattr__', '__dict__', '__dir__', '__doc__', '__eq__', '__format__', '__ge__', '__getattribute__', '__gt__', '__hash__', '__init__', '__init_subclass__', '__le__', '__lt__', '__module__', '__ne__', '__new__', '__reduce__', '__reduce_ex__', '__repr__', '__setattr__', '__sizeof__', '__str__', '__subclasshook__', '__weakref__', '_a', '_b', '_solver', '_x', 'a', 'b', 'bcs', 'solve', 'solver', 'u']\n"
     ]
    }
   ],
   "source": [
    "print(dir(problem))"
   ]
  },
  {
   "cell_type": "code",
   "execution_count": 9,
   "metadata": {},
   "outputs": [
    {
     "name": "stdout",
     "output_type": "stream",
     "text": [
      "<class 'petsc4py.PETSc.Mat'>\n"
     ]
    }
   ],
   "source": [
    "print(type(problem.A))"
   ]
  },
  {
   "cell_type": "code",
   "execution_count": 10,
   "metadata": {},
   "outputs": [
    {
     "name": "stdout",
     "output_type": "stream",
     "text": [
      "[[ 1.  0.  0.  0.  0.  0.  0.]\n",
      " [ 0. 12. -6.  0.  0.  0.  0.]\n",
      " [ 0. -6. 12. -6.  0.  0.  0.]\n",
      " [ 0.  0. -6. 12. -6.  0.  0.]\n",
      " [ 0.  0.  0. -6. 12. -6.  0.]\n",
      " [ 0.  0.  0.  0. -6. 12.  0.]\n",
      " [ 0.  0.  0.  0.  0.  0.  1.]]\n",
      "[ 1.  7.  1.  1.  1. 13.  2.]\n"
     ]
    }
   ],
   "source": [
    "print(problem.A.getValues(range(7),range(7)))\n",
    "print(problem.b.getValues(range(7)))"
   ]
  },
  {
   "cell_type": "code",
   "execution_count": 11,
   "metadata": {},
   "outputs": [
    {
     "name": "stdout",
     "output_type": "stream",
     "text": [
      "Number of non-zeros in sparsity pattern: 76\n",
      "Num dofs: 26\n",
      "Entries per dof 2.923076923076923\n",
      "Dofs per cell 2\n",
      "-------------------------\n"
     ]
    }
   ],
   "source": [
    "#now trying with other way to make assembly faster\n",
    "domain = mesh.create_interval(MPI.COMM_WORLD,25,(0,1))\n",
    "V = fem.FunctionSpace(domain, (\"CG\", 1))\n",
    "u = ufl.TrialFunction(V)\n",
    "v = ufl.TestFunction(V)\n",
    "f = fem.Function(V)\n",
    "f.interpolate(lambda x: 0*x[0] + 1)\n",
    "a_form = f*u*v*ufl.dx\n",
    "jit_parameters = {\"cffi_extra_compile_args\": [\"-Ofast\"],\n",
    "                  \"cffi_libraries\": [\"m\"]}\n",
    "form_a = fem.form(a_form, jit_params=jit_parameters)\n",
    "sp = fem.create_sparsity_pattern(form_a)\n",
    "sp.assemble()\n",
    "\n",
    "print(f\"Number of non-zeros in sparsity pattern: {sp.num_nonzeros}\")\n",
    "print(f\"Num dofs: {V.dofmap.index_map.size_local * V.dofmap.index_map_bs}\")\n",
    "print(f\"Entries per dof {sp.num_nonzeros/(V.dofmap.index_map.size_local * V.dofmap.index_map_bs)}\")\n",
    "print(f\"Dofs per cell {V.element.space_dimension}\")\n",
    "print(\"-\" * 25)\n",
    "\n"
   ]
  },
  {
   "cell_type": "code",
   "execution_count": 12,
   "metadata": {},
   "outputs": [
    {
     "name": "stdout",
     "output_type": "stream",
     "text": [
      "<class 'dolfinx.cpp.la.SparsityPattern'>\n"
     ]
    }
   ],
   "source": [
    "print(type(sp))"
   ]
  },
  {
   "cell_type": "code",
   "execution_count": 13,
   "metadata": {},
   "outputs": [
    {
     "name": "stdout",
     "output_type": "stream",
     "text": [
      "[[0.01333333 0.00666667 0.         0.         0.        ]\n",
      " [0.00666667 0.02666667 0.00666667 0.         0.        ]\n",
      " [0.         0.00666667 0.02666667 0.00666667 0.        ]\n",
      " [0.         0.         0.00666667 0.02666667 0.00666667]\n",
      " [0.         0.         0.         0.00666667 0.02666667]]\n"
     ]
    }
   ],
   "source": [
    "B = cpp.la.petsc.create_matrix(domain.comm, sp)\n",
    "B.setOption(B.Option.IGNORE_ZERO_ENTRIES, 0)\n",
    "fem.petsc.assemble_matrix(B, form_a)\n",
    "B.assemble()\n",
    "print(B.getValues(range(5),range(5)))\n",
    "B.zeroEntries()"
   ]
  },
  {
   "cell_type": "code",
   "execution_count": 14,
   "metadata": {},
   "outputs": [
    {
     "name": "stdout",
     "output_type": "stream",
     "text": [
      "[[0.04 0.02 0.   0.   0.  ]\n",
      " [0.02 0.08 0.02 0.   0.  ]\n",
      " [0.   0.02 0.08 0.02 0.  ]\n",
      " [0.   0.   0.02 0.08 0.02]\n",
      " [0.   0.   0.   0.02 0.08]]\n"
     ]
    }
   ],
   "source": [
    "#see if we can assemble then change function values then change again\n",
    "#for some reason it is adding them\n",
    "f.interpolate(lambda x: 0*x[0]+3)\n",
    "#a_form = f*u*v*ufl.dx\n",
    "#jit_parameters = {\"cffi_extra_compile_args\": [\"-Ofast\"],\n",
    "#                  \"cffi_libraries\": [\"m\"]}\n",
    "#form_a = fem.form(a_form, jit_params=jit_parameters)\n",
    "fem.petsc.assemble_matrix(B,form_a)\n",
    "B.assemble()\n",
    "print(B.getValues(range(5),range(5)))"
   ]
  },
  {
   "cell_type": "code",
   "execution_count": 15,
   "metadata": {},
   "outputs": [
    {
     "name": "stdout",
     "output_type": "stream",
     "text": [
      "[[0.   0.   0.  ]\n",
      " [0.04 0.   0.  ]\n",
      " [0.08 0.   0.  ]\n",
      " [0.12 0.   0.  ]\n",
      " [0.16 0.   0.  ]\n",
      " [0.2  0.   0.  ]\n",
      " [0.24 0.   0.  ]\n",
      " [0.28 0.   0.  ]\n",
      " [0.32 0.   0.  ]\n",
      " [0.36 0.   0.  ]\n",
      " [0.4  0.   0.  ]\n",
      " [0.44 0.   0.  ]\n",
      " [0.48 0.   0.  ]\n",
      " [0.52 0.   0.  ]\n",
      " [0.56 0.   0.  ]\n",
      " [0.6  0.   0.  ]\n",
      " [0.64 0.   0.  ]\n",
      " [0.68 0.   0.  ]\n",
      " [0.72 0.   0.  ]\n",
      " [0.76 0.   0.  ]\n",
      " [0.8  0.   0.  ]\n",
      " [0.84 0.   0.  ]\n",
      " [0.88 0.   0.  ]\n",
      " [0.92 0.   0.  ]\n",
      " [0.96 0.   0.  ]\n",
      " [1.   0.   0.  ]]\n"
     ]
    }
   ],
   "source": [
    "dofs = V.tabulate_dof_coordinates()\n",
    "print(dofs)"
   ]
  },
  {
   "cell_type": "code",
   "execution_count": 16,
   "metadata": {},
   "outputs": [
    {
     "name": "stdout",
     "output_type": "stream",
     "text": [
      "['__class__', '__delattr__', '__dict__', '__dir__', '__doc__', '__eq__', '__format__', '__ge__', '__getattribute__', '__gt__', '__hash__', '__init__', '__init_subclass__', '__le__', '__lt__', '__module__', '__ne__', '__new__', '__reduce__', '__reduce_ex__', '__repr__', '__setattr__', '__sizeof__', '__str__', '__subclasshook__', '__weakref__', '_cpp_object', '_ufcx_dofmap', '_ufcx_element', '_ufl_domain', '_ufl_element', '_ufl_hash_data_', '_ufl_signature_data_', 'clone', 'collapse', 'component', 'contains', 'dofmap', 'element', 'mesh', 'num_sub_spaces', 'sub', 'tabulate_dof_coordinates', 'ufl_cell', 'ufl_domain', 'ufl_domains', 'ufl_element', 'ufl_function_space', 'ufl_sub_spaces']\n"
     ]
    }
   ],
   "source": [
    "print(dir(V))"
   ]
  },
  {
   "cell_type": "code",
   "execution_count": 17,
   "metadata": {},
   "outputs": [
    {
     "name": "stdout",
     "output_type": "stream",
     "text": [
      "<class 'petsc4py.PETSc.Vec'>\n",
      "['Option', 'Type', '__abs__', '__add__', '__array_interface__', '__bool__', '__class__', '__copy__', '__deepcopy__', '__delattr__', '__delitem__', '__dir__', '__dlpack__', '__dlpack_device__', '__doc__', '__enter__', '__eq__', '__exit__', '__format__', '__ge__', '__getattribute__', '__getitem__', '__gt__', '__hash__', '__iadd__', '__imul__', '__init__', '__init_subclass__', '__isub__', '__itruediv__', '__le__', '__lt__', '__mul__', '__ne__', '__neg__', '__new__', '__pos__', '__pyx_vtable__', '__radd__', '__reduce__', '__reduce_ex__', '__repr__', '__rmul__', '__rsub__', '__rtruediv__', '__setattr__', '__setitem__', '__sizeof__', '__str__', '__sub__', '__subclasshook__', '__truediv__', 'abs', 'appendOptionsPrefix', 'array', 'array_r', 'array_w', 'assemble', 'assemblyBegin', 'assemblyEnd', 'attachDLPackInfo', 'axpby', 'axpy', 'aypx', 'bindToCPU', 'block_size', 'boundToCPU', 'buffer', 'buffer_r', 'buffer_w', 'chop', 'classid', 'clearDLPackInfo', 'comm', 'compose', 'conjugate', 'copy', 'create', 'createCUDAWithArrays', 'createGhost', 'createGhostWithArray', 'createHIPWithArrays', 'createMPI', 'createNest', 'createSeq', 'createShared', 'createViennaCLWithArrays', 'createWithArray', 'createWithDLPack', 'decRef', 'destroy', 'dot', 'dotBegin', 'dotEnd', 'duplicate', 'equal', 'exp', 'fortran', 'getArray', 'getAttr', 'getBlockSize', 'getBuffer', 'getCLContextHandle', 'getCLMemHandle', 'getCLQueueHandle', 'getCUDAHandle', 'getClassId', 'getClassName', 'getComm', 'getDict', 'getHIPHandle', 'getLGMap', 'getLocalSize', 'getName', 'getNestSubVecs', 'getOffloadMask', 'getOptionsPrefix', 'getOwnershipRange', 'getOwnershipRanges', 'getRefCount', 'getSize', 'getSizes', 'getSubVector', 'getTabLevel', 'getType', 'getValue', 'getValues', 'getValuesStagStencil', 'ghostUpdate', 'ghostUpdateBegin', 'ghostUpdateEnd', 'handle', 'incRef', 'incrementTabLevel', 'isaxpy', 'isset', 'klass', 'load', 'localForm', 'local_size', 'log', 'mDot', 'mDotBegin', 'mDotEnd', 'max', 'maxPointwiseDivide', 'maxpy', 'min', 'mtDot', 'mtDotBegin', 'mtDotEnd', 'name', 'norm', 'normBegin', 'normEnd', 'normalize', 'owner_range', 'owner_ranges', 'permute', 'placeArray', 'pointwiseDivide', 'pointwiseMax', 'pointwiseMaxAbs', 'pointwiseMin', 'pointwiseMult', 'prefix', 'query', 'reciprocal', 'refcount', 'resetArray', 'restoreCLMemHandle', 'restoreCUDAHandle', 'restoreHIPHandle', 'restoreSubVector', 'scale', 'set', 'setArray', 'setAttr', 'setBlockSize', 'setFromOptions', 'setLGMap', 'setMPIGhost', 'setName', 'setNestSubVecs', 'setOption', 'setOptionsPrefix', 'setRandom', 'setSizes', 'setTabLevel', 'setType', 'setUp', 'setValue', 'setValueLocal', 'setValues', 'setValuesBlocked', 'setValuesBlockedLocal', 'setValuesLocal', 'setValuesStagStencil', 'shift', 'size', 'sizes', 'sqrtabs', 'stateGet', 'stateIncrease', 'stateSet', 'strideGather', 'strideMax', 'strideMin', 'strideNorm', 'strideScale', 'strideScatter', 'strideSum', 'sum', 'swap', 'tDot', 'tDotBegin', 'tDotEnd', 'toDLPack', 'type', 'view', 'viewFromOptions', 'waxpy', 'zeroEntries']\n"
     ]
    },
    {
     "data": {
      "text/plain": [
       "array([0.  , 0.04, 0.08, 0.12, 0.16, 0.2 , 0.24, 0.28, 0.32, 0.36, 0.4 ,\n",
       "       0.44, 0.48, 0.52, 0.56, 0.6 , 0.64, 0.68, 0.72, 0.76, 0.8 , 0.84,\n",
       "       0.88, 0.92, 0.96, 1.  ])"
      ]
     },
     "execution_count": 17,
     "metadata": {},
     "output_type": "execute_result"
    }
   ],
   "source": [
    "f = fem.Function(V)\n",
    "print(type(f.vector))\n",
    "print(dir(f.vector))\n",
    "f.vector.setValues(range(len(dofs)),dofs[:,0])#np.cos(2*np.pi*dofs[:,0]))\n",
    "f.vector.array\n",
    "#alternative, idk if it will work in parallel\n",
    "#f.x.array = np.cos(2*np.pi*dofs[:,0])"
   ]
  },
  {
   "cell_type": "code",
   "execution_count": 18,
   "metadata": {},
   "outputs": [],
   "source": [
    "points = np.zeros((3, 101))\n",
    "tol = 0.001\n",
    "x = np.linspace(0 + tol, 1 - tol, 101)\n",
    "points[0] = x\n",
    "u_values = []\n",
    "p_values = []\n",
    "from dolfinx import geometry\n",
    "bb_tree = geometry.BoundingBoxTree(domain, domain.topology.dim)\n",
    "cells = []\n",
    "points_on_proc = []\n",
    "# Find cells whose bounding-box collide with the the points\n",
    "cell_candidates = geometry.compute_collisions(bb_tree, points.T)\n",
    "# Choose one of the cells that contains the point\n",
    "colliding_cells = geometry.compute_colliding_cells(domain, cell_candidates, points.T)\n",
    "for i, point in enumerate(points.T):\n",
    "    if len(colliding_cells.links(i))>0:\n",
    "        points_on_proc.append(point)\n",
    "        cells.append(colliding_cells.links(i)[0])\n",
    "points_on_proc = np.array(points_on_proc, dtype=np.float64)\n",
    "f_values = f.eval(points_on_proc, cells)"
   ]
  },
  {
   "cell_type": "code",
   "execution_count": 19,
   "metadata": {},
   "outputs": [
    {
     "data": {
      "text/plain": [
       "<matplotlib.legend.Legend at 0x11bce47f0>"
      ]
     },
     "execution_count": 19,
     "metadata": {},
     "output_type": "execute_result"
    },
    {
     "data": {
      "image/png": "[encoded data removed]",
      "text/plain": [
       "<Figure size 640x480 with 1 Axes>"
      ]
     },
     "metadata": {},
     "output_type": "display_data"
    }
   ],
   "source": [
    "import matplotlib.pyplot as plt\n",
    "fig = plt.figure()\n",
    "plt.plot(points_on_proc[:,0], f_values, \"k\", linewidth=2, label=\"Deflection ($\\\\times 50$)\")\n",
    "#plt.plot(points_on_proc[:, 1], p_values, \"b--\", linewidth = 2, label=\"Load\")\n",
    "plt.grid(True)\n",
    "plt.xlabel(\"y\")\n",
    "plt.legend()\n",
    "# If run in parallel as a python file, we save a plot per processor\n",
    "#plt.savefig(f\"membrane_rank{MPI.COMM_WORLD.rank:d}.png\")"
   ]
  },
  {
   "cell_type": "code",
   "execution_count": 20,
   "metadata": {},
   "outputs": [
    {
     "name": "stdout",
     "output_type": "stream",
     "text": [
      "<class 'numpy.ndarray'>\n",
      "[0.   0.04 0.08 0.12 0.16 0.2  0.24 0.28 0.32 0.36 0.4  0.44 0.48 0.52\n",
      " 0.56 0.6  0.64 0.68 0.72 0.76 0.8  0.84 0.88 0.92 0.96 1.  ]\n"
     ]
    }
   ],
   "source": [
    "print(type(f.x.array))\n",
    "print(f.x.array)"
   ]
  },
  {
   "cell_type": "code",
   "execution_count": 21,
   "metadata": {},
   "outputs": [
    {
     "name": "stdout",
     "output_type": "stream",
     "text": [
      "['__class__', '__delattr__', '__dict__', '__dir__', '__doc__', '__eq__', '__format__', '__ge__', '__getattribute__', '__gt__', '__hash__', '__init__', '__init_subclass__', '__le__', '__lt__', '__module__', '__ne__', '__new__', '__reduce__', '__reduce_ex__', '__repr__', '__setattr__', '__sizeof__', '__str__', '__subclasshook__', '__weakref__', '_cpp_object', 'bs', 'cell_dofs', 'dof_layout', 'index_map', 'index_map_bs', 'list']\n"
     ]
    }
   ],
   "source": [
    "print(dir(V.dofmap))"
   ]
  },
  {
   "cell_type": "code",
   "execution_count": 22,
   "metadata": {},
   "outputs": [
    {
     "name": "stdout",
     "output_type": "stream",
     "text": [
      "<petsc4py.PETSc._Vec_LocalForm object at 0x11f290ee0>\n"
     ]
    }
   ],
   "source": [
    "print(f.vector.localForm())"
   ]
  },
  {
   "cell_type": "code",
   "execution_count": 23,
   "metadata": {},
   "outputs": [
    {
     "name": "stdout",
     "output_type": "stream",
     "text": [
      "<class 'petsc4py.PETSc._Vec_LocalForm'>\n"
     ]
    }
   ],
   "source": [
    "print(type(f.vector.localForm()))"
   ]
  },
  {
   "cell_type": "code",
   "execution_count": 24,
   "metadata": {},
   "outputs": [
    {
     "name": "stdout",
     "output_type": "stream",
     "text": [
      "['__class__', '__delattr__', '__dir__', '__doc__', '__eq__', '__format__', '__ge__', '__getattribute__', '__gt__', '__hash__', '__init__', '__init_subclass__', '__le__', '__lt__', '__module__', '__ne__', '__new__', '__reduce__', '__reduce_ex__', '__repr__', '__setattr__', '__sizeof__', '__str__', '__subclasshook__', 'create_submap', 'ghosts', 'local_range', 'local_to_global', 'num_ghosts', 'owners', 'size_global', 'size_local']\n"
     ]
    }
   ],
   "source": [
    "print(dir(V.dofmap.index_map))"
   ]
  },
  {
   "cell_type": "code",
   "execution_count": 25,
   "metadata": {},
   "outputs": [
    {
     "name": "stdout",
     "output_type": "stream",
     "text": [
      "['__call__', '__class__', '__delattr__', '__dir__', '__doc__', '__eq__', '__format__', '__func__', '__ge__', '__get__', '__getattribute__', '__gt__', '__hash__', '__init__', '__init_subclass__', '__le__', '__lt__', '__ne__', '__new__', '__reduce__', '__reduce_ex__', '__repr__', '__self__', '__setattr__', '__sizeof__', '__str__', '__subclasshook__']\n"
     ]
    }
   ],
   "source": [
    "print(dir(V.dofmap.index_map.local_to_global))"
   ]
  },
  {
   "cell_type": "code",
   "execution_count": 26,
   "metadata": {},
   "outputs": [
    {
     "name": "stdout",
     "output_type": "stream",
     "text": [
      "['__call__', '__class__', '__delattr__', '__dir__', '__doc__', '__eq__', '__format__', '__func__', '__ge__', '__get__', '__getattribute__', '__gt__', '__hash__', '__init__', '__init_subclass__', '__le__', '__lt__', '__ne__', '__new__', '__reduce__', '__reduce_ex__', '__repr__', '__self__', '__setattr__', '__sizeof__', '__str__', '__subclasshook__']\n"
     ]
    }
   ],
   "source": [
    "print(dir(V.dofmap.dof_layout.entity_dofs))"
   ]
  },
  {
   "cell_type": "code",
   "execution_count": 27,
   "metadata": {},
   "outputs": [
    {
     "name": "stdout",
     "output_type": "stream",
     "text": [
      "['Option', 'Type', '__abs__', '__add__', '__array_interface__', '__bool__', '__class__', '__copy__', '__deepcopy__', '__delattr__', '__delitem__', '__dir__', '__dlpack__', '__dlpack_device__', '__doc__', '__enter__', '__eq__', '__exit__', '__format__', '__ge__', '__getattribute__', '__getitem__', '__gt__', '__hash__', '__iadd__', '__imul__', '__init__', '__init_subclass__', '__isub__', '__itruediv__', '__le__', '__lt__', '__mul__', '__ne__', '__neg__', '__new__', '__pos__', '__pyx_vtable__', '__radd__', '__reduce__', '__reduce_ex__', '__repr__', '__rmul__', '__rsub__', '__rtruediv__', '__setattr__', '__setitem__', '__sizeof__', '__str__', '__sub__', '__subclasshook__', '__truediv__', 'abs', 'appendOptionsPrefix', 'array', 'array_r', 'array_w', 'assemble', 'assemblyBegin', 'assemblyEnd', 'attachDLPackInfo', 'axpby', 'axpy', 'aypx', 'bindToCPU', 'block_size', 'boundToCPU', 'buffer', 'buffer_r', 'buffer_w', 'chop', 'classid', 'clearDLPackInfo', 'comm', 'compose', 'conjugate', 'copy', 'create', 'createCUDAWithArrays', 'createGhost', 'createGhostWithArray', 'createHIPWithArrays', 'createMPI', 'createNest', 'createSeq', 'createShared', 'createViennaCLWithArrays', 'createWithArray', 'createWithDLPack', 'decRef', 'destroy', 'dot', 'dotBegin', 'dotEnd', 'duplicate', 'equal', 'exp', 'fortran', 'getArray', 'getAttr', 'getBlockSize', 'getBuffer', 'getCLContextHandle', 'getCLMemHandle', 'getCLQueueHandle', 'getCUDAHandle', 'getClassId', 'getClassName', 'getComm', 'getDict', 'getHIPHandle', 'getLGMap', 'getLocalSize', 'getName', 'getNestSubVecs', 'getOffloadMask', 'getOptionsPrefix', 'getOwnershipRange', 'getOwnershipRanges', 'getRefCount', 'getSize', 'getSizes', 'getSubVector', 'getTabLevel', 'getType', 'getValue', 'getValues', 'getValuesStagStencil', 'ghostUpdate', 'ghostUpdateBegin', 'ghostUpdateEnd', 'handle', 'incRef', 'incrementTabLevel', 'isaxpy', 'isset', 'klass', 'load', 'localForm', 'local_size', 'log', 'mDot', 'mDotBegin', 'mDotEnd', 'max', 'maxPointwiseDivide', 'maxpy', 'min', 'mtDot', 'mtDotBegin', 'mtDotEnd', 'name', 'norm', 'normBegin', 'normEnd', 'normalize', 'owner_range', 'owner_ranges', 'permute', 'placeArray', 'pointwiseDivide', 'pointwiseMax', 'pointwiseMaxAbs', 'pointwiseMin', 'pointwiseMult', 'prefix', 'query', 'reciprocal', 'refcount', 'resetArray', 'restoreCLMemHandle', 'restoreCUDAHandle', 'restoreHIPHandle', 'restoreSubVector', 'scale', 'set', 'setArray', 'setAttr', 'setBlockSize', 'setFromOptions', 'setLGMap', 'setMPIGhost', 'setName', 'setNestSubVecs', 'setOption', 'setOptionsPrefix', 'setRandom', 'setSizes', 'setTabLevel', 'setType', 'setUp', 'setValue', 'setValueLocal', 'setValues', 'setValuesBlocked', 'setValuesBlockedLocal', 'setValuesLocal', 'setValuesStagStencil', 'shift', 'size', 'sizes', 'sqrtabs', 'stateGet', 'stateIncrease', 'stateSet', 'strideGather', 'strideMax', 'strideMin', 'strideNorm', 'strideScale', 'strideScatter', 'strideSum', 'sum', 'swap', 'tDot', 'tDotBegin', 'tDotEnd', 'toDLPack', 'type', 'view', 'viewFromOptions', 'waxpy', 'zeroEntries']\n"
     ]
    }
   ],
   "source": [
    "print(dir(f.vector))"
   ]
  },
  {
   "cell_type": "code",
   "execution_count": 28,
   "metadata": {},
   "outputs": [
    {
     "name": "stdout",
     "output_type": "stream",
     "text": [
      "Local integral of f 0.5\n"
     ]
    }
   ],
   "source": [
    "intf = fem.form(f*ufl.dx)\n",
    "local_intf = fem.assemble_scalar(intf)\n",
    "print('Local integral of f',local_intf)\n",
    "#error_L2 = np.sqrt(domain.comm.allreduce(error_local, op=MPI.SUM))"
   ]
  },
  {
   "cell_type": "code",
   "execution_count": 29,
   "metadata": {},
   "outputs": [
    {
     "name": "stdout",
     "output_type": "stream",
     "text": [
      "[0, 26]\n"
     ]
    }
   ],
   "source": [
    "print(V.dofmap.index_map.local_range)"
   ]
  },
  {
   "cell_type": "code",
   "execution_count": 30,
   "metadata": {},
   "outputs": [
    {
     "name": "stdout",
     "output_type": "stream",
     "text": [
      "[[0.01333333 0.00666667 0.         0.         0.        ]\n",
      " [0.00666667 0.02666667 0.00666667 0.         0.        ]\n",
      " [0.         0.00666667 0.02666667 0.00666667 0.        ]\n",
      " [0.         0.         0.00666667 0.02666667 0.00666667]\n",
      " [0.         0.         0.         0.00666667 0.02666667]]\n"
     ]
    }
   ],
   "source": [
    "test1 = u*v*ufl.dx\n",
    "bilinear_form = fem.form(test1)\n",
    "A = fem.petsc.assemble_matrix(bilinear_form, bcs=[bc])\n",
    "A.assemble()\n",
    "print(A.getValues(range(5),range(5)))"
   ]
  },
  {
   "cell_type": "code",
   "execution_count": 31,
   "metadata": {},
   "outputs": [
    {
     "name": "stdout",
     "output_type": "stream",
     "text": [
      "[0 1 2 3]\n",
      "[0 1 2 3]\n"
     ]
    }
   ],
   "source": [
    "x = np.arange(4)\n",
    "print(x)\n",
    "print(x[x<4])"
   ]
  },
  {
   "cell_type": "code",
   "execution_count": 32,
   "metadata": {},
   "outputs": [
    {
     "name": "stdout",
     "output_type": "stream",
     "text": [
      "['__class__', '__delattr__', '__dict__', '__dir__', '__doc__', '__eq__', '__format__', '__ge__', '__getattribute__', '__gt__', '__hash__', '__init__', '__init_subclass__', '__le__', '__lt__', '__module__', '__ne__', '__new__', '__reduce__', '__reduce_ex__', '__repr__', '__setattr__', '__sizeof__', '__str__', '__subclasshook__', '_ufl_domain', 'comm', 'from_cpp', 'geometry', 'name', 'topology', 'ufl_cell', 'ufl_domain']\n"
     ]
    }
   ],
   "source": [
    "print(dir(domain))"
   ]
  },
  {
   "cell_type": "code",
   "execution_count": 33,
   "metadata": {},
   "outputs": [
    {
     "name": "stdout",
     "output_type": "stream",
     "text": [
      "[[0.   0.   0.  ]\n",
      " [0.04 0.   0.  ]\n",
      " [0.08 0.   0.  ]\n",
      " [0.12 0.   0.  ]\n",
      " [0.16 0.   0.  ]\n",
      " [0.2  0.   0.  ]\n",
      " [0.24 0.   0.  ]\n",
      " [0.28 0.   0.  ]\n",
      " [0.32 0.   0.  ]\n",
      " [0.36 0.   0.  ]\n",
      " [0.4  0.   0.  ]\n",
      " [0.44 0.   0.  ]\n",
      " [0.48 0.   0.  ]\n",
      " [0.52 0.   0.  ]\n",
      " [0.56 0.   0.  ]\n",
      " [0.6  0.   0.  ]\n",
      " [0.64 0.   0.  ]\n",
      " [0.68 0.   0.  ]\n",
      " [0.72 0.   0.  ]\n",
      " [0.76 0.   0.  ]\n",
      " [0.8  0.   0.  ]\n",
      " [0.84 0.   0.  ]\n",
      " [0.88 0.   0.  ]\n",
      " [0.92 0.   0.  ]\n",
      " [0.96 0.   0.  ]\n",
      " [1.   0.   0.  ]]\n"
     ]
    }
   ],
   "source": [
    "print(domain.geometry.x)"
   ]
  },
  {
   "cell_type": "code",
   "execution_count": 34,
   "metadata": {},
   "outputs": [],
   "source": [
    "domain.geometry.x[0] = [0.01,0,0]"
   ]
  },
  {
   "cell_type": "code",
   "execution_count": 35,
   "metadata": {},
   "outputs": [
    {
     "name": "stdout",
     "output_type": "stream",
     "text": [
      "[[0.01 0.   0.  ]\n",
      " [0.04 0.   0.  ]\n",
      " [0.08 0.   0.  ]\n",
      " [0.12 0.   0.  ]\n",
      " [0.16 0.   0.  ]\n",
      " [0.2  0.   0.  ]\n",
      " [0.24 0.   0.  ]\n",
      " [0.28 0.   0.  ]\n",
      " [0.32 0.   0.  ]\n",
      " [0.36 0.   0.  ]\n",
      " [0.4  0.   0.  ]\n",
      " [0.44 0.   0.  ]\n",
      " [0.48 0.   0.  ]\n",
      " [0.52 0.   0.  ]\n",
      " [0.56 0.   0.  ]\n",
      " [0.6  0.   0.  ]\n",
      " [0.64 0.   0.  ]\n",
      " [0.68 0.   0.  ]\n",
      " [0.72 0.   0.  ]\n",
      " [0.76 0.   0.  ]\n",
      " [0.8  0.   0.  ]\n",
      " [0.84 0.   0.  ]\n",
      " [0.88 0.   0.  ]\n",
      " [0.92 0.   0.  ]\n",
      " [0.96 0.   0.  ]\n",
      " [1.   0.   0.  ]]\n"
     ]
    }
   ],
   "source": [
    "print(domain.geometry.x)"
   ]
  },
  {
   "cell_type": "code",
   "execution_count": 36,
   "metadata": {},
   "outputs": [
    {
     "name": "stdout",
     "output_type": "stream",
     "text": [
      "0.040000000000000036\n"
     ]
    }
   ],
   "source": [
    "tdim = domain.topology.dim\n",
    "num_cells = domain.topology.index_map(tdim).size_local\n",
    "h = cpp.mesh.h(domain, tdim, range(num_cells))\n",
    "print(h.max())"
   ]
  },
  {
   "cell_type": "code",
   "execution_count": 47,
   "metadata": {},
   "outputs": [
    {
     "name": "stdout",
     "output_type": "stream",
     "text": [
      "<class 'dolfinx.fem.function.Function'>\n",
      "<class 'ufl.indexed.Indexed'>\n",
      "['T', '__abs__', '__add__', '__bool__', '__call__', '__class__', '__complex__', '__delattr__', '__dir__', '__div__', '__doc__', '__eq__', '__float__', '__floordiv__', '__format__', '__ge__', '__getattribute__', '__getitem__', '__getnewargs__', '__gt__', '__hash__', '__init__', '__init_subclass__', '__iter__', '__le__', '__len__', '__lt__', '__module__', '__mul__', '__ne__', '__neg__', '__new__', '__nonzero__', '__pos__', '__pow__', '__radd__', '__rdiv__', '__reduce__', '__reduce_ex__', '__repr__', '__rmul__', '__round__', '__rpow__', '__rsub__', '__rtruediv__', '__setattr__', '__sizeof__', '__slots__', '__str__', '__sub__', '__subclasshook__', '__truediv__', '__weakref__', '__xor__', '_hash', '_ufl_all_classes_', '_ufl_all_handler_names_', '_ufl_class_', '_ufl_coerce_', '_ufl_compute_hash_', '_ufl_err_str_', '_ufl_evaluate_scalar_', '_ufl_expr_reconstruct_', '_ufl_handler_name_', '_ufl_is_abstract_', '_ufl_is_differential_', '_ufl_is_evaluation_', '_ufl_is_in_reference_frame_', '_ufl_is_index_free_', '_ufl_is_literal_', '_ufl_is_restriction_', '_ufl_is_scalar_', '_ufl_is_shaping_', '_ufl_is_terminal_', '_ufl_is_terminal_modifier_', '_ufl_language_operators_', '_ufl_num_ops_', '_ufl_num_typecodes_', '_ufl_obj_del_counts_', '_ufl_obj_init_counts_', '_ufl_profiling__del__', '_ufl_profiling__init__', '_ufl_regular__init__', '_ufl_required_methods_', '_ufl_required_properties_', '_ufl_signature_data_', '_ufl_terminal_modifiers_', '_ufl_typecode_', 'dx', 'evaluate', 'geometric_dimension', 'ufl_disable_profiling', 'ufl_domain', 'ufl_domains', 'ufl_enable_profiling', 'ufl_free_indices', 'ufl_index_dimensions', 'ufl_operands', 'ufl_shape']\n"
     ]
    },
    {
     "data": {
      "text/plain": [
       "0.040000000000000036"
      ]
     },
     "execution_count": 47,
     "metadata": {},
     "output_type": "execute_result"
    }
   ],
   "source": [
    "f = fem.Function(V)\n",
    "f.vector.setValues(range(num_cells+1),domain.geometry.x[:,0])\n",
    "print(type(f))\n",
    "g =f.dx(0)\n",
    "print(type(g))\n",
    "print(dir(g))\n",
    " \n",
    "#f.interpolate(lambda x: 0*x[0] + 1)\n",
    "c = fem.Function(V)\n",
    "h.max()\n"
   ]
  },
  {
   "cell_type": "code",
   "execution_count": 48,
   "metadata": {},
   "outputs": [
    {
     "name": "stdout",
     "output_type": "stream",
     "text": [
      "[[4. 4. 4.]\n",
      " [4. 4. 4.]]\n",
      "[3.46410162 3.46410162]\n",
      "3.4641016151377544\n"
     ]
    }
   ],
   "source": [
    "c = 2*np.ones((5,3))\n",
    "c = c[0:2,:]**2\n",
    "print(c)\n",
    "csum = np.sqrt(c.sum(axis=1))\n",
    "print(csum)\n",
    "print(np.sqrt(12))"
   ]
  },
  {
   "cell_type": "code",
   "execution_count": 49,
   "metadata": {},
   "outputs": [
    {
     "name": "stdout",
     "output_type": "stream",
     "text": [
      "2\n"
     ]
    }
   ],
   "source": [
    "K = []\n",
    "K.append(1)\n",
    "K.append(2)\n",
    "print(K[1])"
   ]
  },
  {
   "cell_type": "code",
   "execution_count": 50,
   "metadata": {},
   "outputs": [
    {
     "name": "stdout",
     "output_type": "stream",
     "text": [
      "[0.01       0.07697987 0.14395973 0.2109396  0.27791946 0.34489933\n",
      " 0.41187919 0.47885906 0.54583893 0.61281879 0.67979866 0.74677852\n",
      " 0.81375839 0.88073826 0.94771812 1.01469799 1.08167785 1.14865772\n",
      " 1.21563758 1.28261745 1.34959732 1.41657718 1.48355705 1.55053691\n",
      " 1.61751678 1.68449664 1.75147651 1.81845638 1.88543624 1.95241611\n",
      " 2.01939597 2.08637584 2.1533557  2.22033557 2.28731544 2.3542953\n",
      " 2.42127517 2.48825503 2.5552349  2.62221477 2.68919463 2.7561745\n",
      " 2.82315436 2.89013423 2.95711409 3.02409396 3.09107383 3.15805369\n",
      " 3.22503356 3.29201342 3.35899329 3.42597315 3.49295302 3.55993289\n",
      " 3.62691275 3.69389262 3.76087248 3.82785235 3.89483221 3.96181208\n",
      " 4.02879195 4.09577181 4.16275168 4.22973154 4.29671141 4.36369128\n",
      " 4.43067114 4.49765101 4.56463087 4.63161074 4.6985906  4.76557047\n",
      " 4.83255034 4.8995302  4.96651007 5.03348993 5.1004698  5.16744966\n",
      " 5.23442953 5.3014094  5.36838926 5.43536913 5.50234899 5.56932886\n",
      " 5.63630872 5.70328859 5.77026846 5.83724832 5.90422819 5.97120805\n",
      " 6.03818792 6.10516779 6.17214765 6.23912752 6.30610738 6.37308725\n",
      " 6.44006711 6.50704698 6.57402685 6.64100671 6.70798658 6.77496644\n",
      " 6.84194631 6.90892617 6.97590604 7.04288591 7.10986577 7.17684564\n",
      " 7.2438255  7.31080537 7.37778523 7.4447651  7.51174497 7.57872483\n",
      " 7.6457047  7.71268456 7.77966443 7.8466443  7.91362416 7.98060403\n",
      " 8.04758389 8.11456376 8.18154362 8.24852349 8.31550336 8.38248322\n",
      " 8.44946309 8.51644295 8.58342282 8.65040268 8.71738255 8.78436242\n",
      " 8.85134228 8.91832215 8.98530201 9.05228188 9.11926174 9.18624161\n",
      " 9.25322148 9.32020134 9.38718121 9.45416107 9.52114094 9.58812081\n",
      " 9.65510067 9.72208054 9.7890604  9.85604027 9.92302013 9.99      ]\n",
      "(150,)\n"
     ]
    }
   ],
   "source": [
    "#try to extract HS at stations\n",
    "numpoints = 150\n",
    "L=10\n",
    "x_stats = np.linspace(0.01,L-0.01,numpoints)\n",
    "print(x_stats)\n",
    "print(x_stats.shape)"
   ]
  },
  {
   "cell_type": "code",
   "execution_count": 58,
   "metadata": {},
   "outputs": [
    {
     "name": "stdout",
     "output_type": "stream",
     "text": [
      "<class 'ufl.geometry.Circumradius'>\n",
      "['T', '__abs__', '__add__', '__bool__', '__call__', '__class__', '__complex__', '__delattr__', '__dir__', '__div__', '__doc__', '__eq__', '__float__', '__floordiv__', '__format__', '__ge__', '__getattribute__', '__getitem__', '__getnewargs__', '__gt__', '__hash__', '__init__', '__init_subclass__', '__iter__', '__le__', '__len__', '__lt__', '__module__', '__mul__', '__ne__', '__neg__', '__new__', '__nonzero__', '__pos__', '__pow__', '__radd__', '__rdiv__', '__reduce__', '__reduce_ex__', '__repr__', '__rmul__', '__round__', '__rpow__', '__rsub__', '__rtruediv__', '__setattr__', '__sizeof__', '__slots__', '__str__', '__sub__', '__subclasshook__', '__truediv__', '__weakref__', '__xor__', '_domain', '_hash', '_ufl_all_classes_', '_ufl_all_handler_names_', '_ufl_class_', '_ufl_coerce_', '_ufl_compute_hash_', '_ufl_err_str_', '_ufl_evaluate_scalar_', '_ufl_expr_reconstruct_', '_ufl_handler_name_', '_ufl_is_abstract_', '_ufl_is_differential_', '_ufl_is_evaluation_', '_ufl_is_in_reference_frame_', '_ufl_is_index_free_', '_ufl_is_literal_', '_ufl_is_restriction_', '_ufl_is_scalar_', '_ufl_is_shaping_', '_ufl_is_terminal_', '_ufl_is_terminal_modifier_', '_ufl_language_operators_', '_ufl_num_ops_', '_ufl_num_typecodes_', '_ufl_obj_del_counts_', '_ufl_obj_init_counts_', '_ufl_profiling__del__', '_ufl_profiling__init__', '_ufl_regular__init__', '_ufl_required_methods_', '_ufl_required_properties_', '_ufl_signature_data_', '_ufl_terminal_modifiers_', '_ufl_typecode_', 'dx', 'evaluate', 'geometric_dimension', 'is_cellwise_constant', 'name', 'ufl_disable_profiling', 'ufl_domain', 'ufl_domains', 'ufl_enable_profiling', 'ufl_free_indices', 'ufl_index_dimensions', 'ufl_operands', 'ufl_shape']\n"
     ]
    }
   ],
   "source": [
    "\n",
    "h = ufl.Circumradius(domain)\n",
    "print(type(h))\n",
    "print(dir(h))"
   ]
  },
  {
   "cell_type": "code",
   "execution_count": null,
   "metadata": {},
   "outputs": [],
   "source": []
  }
 ],
 "metadata": {
  "kernelspec": {
   "display_name": "Python 3 (ipykernel)",
   "language": "python",
   "name": "python3"
  },
  "language_info": {
   "codemirror_mode": {
    "name": "ipython",
    "version": 3
   },
   "file_extension": ".py",
   "mimetype": "text/x-python",
   "name": "python",
   "nbconvert_exporter": "python",
   "pygments_lexer": "ipython3",
   "version": "3.10.6"
  }
 },
 "nbformat": 4,
 "nbformat_minor": 4
}
