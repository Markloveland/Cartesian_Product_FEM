{
 "cells": [
  {
   "cell_type": "code",
   "execution_count": 14,
   "id": "44f6dc55",
   "metadata": {},
   "outputs": [],
   "source": [
    "import basix\n",
    "import ufl\n",
    "import numpy as np"
   ]
  },
  {
   "cell_type": "code",
   "execution_count": 19,
   "id": "55c2efe4",
   "metadata": {},
   "outputs": [
    {
     "name": "stdout",
     "output_type": "stream",
     "text": [
      "<class 'basix._basixcpp.FiniteElement'>\n",
      "3\n"
     ]
    }
   ],
   "source": [
    "#https://defelement.com/elements/lagrange.html\n",
    "# Create Lagrange order 1 on a interval\n",
    "element = basix.create_element(basix.ElementFamily.P, basix.CellType.interval, 1, basix.LagrangeVariant.equispaced)\n",
    "# Create Lagrange order 1 on a triangle\n",
    "element = basix.create_element(basix.ElementFamily.P, basix.CellType.triangle, 1, basix.LagrangeVariant.equispaced)\n",
    "print(type(element))\n",
    "print(element.dim)\n",
    "#print(dir(element))"
   ]
  },
  {
   "cell_type": "code",
   "execution_count": 40,
   "id": "5741d510",
   "metadata": {},
   "outputs": [
    {
     "name": "stdout",
     "output_type": "stream",
     "text": [
      "[[[ 1.00000000e+00]\n",
      "  [ 0.00000000e+00]\n",
      "  [ 2.15422807e-17]]\n",
      "\n",
      " [[ 5.00000000e-01]\n",
      "  [ 2.00000000e-01]\n",
      "  [ 3.00000000e-01]]\n",
      "\n",
      " [[ 1.00000000e-01]\n",
      "  [ 3.00000000e-01]\n",
      "  [ 6.00000000e-01]]\n",
      "\n",
      " [[-4.00000000e-01]\n",
      "  [ 4.00000000e-01]\n",
      "  [ 1.00000000e+00]]]\n",
      "(3, 4, 3, 1)\n"
     ]
    }
   ],
   "source": [
    "#now evaluate basis functions at points:\n",
    "#first input of tabulate is the number of derivative to tabulate: \n",
    "#The first dimension is 1 as we are only tabulating the function values; it would be higher if we had asked for derivatives too. The second dimension (5) is the number of points. The third dimension (25) is the number of DOFs. The fourth dimension (1) is the value size of the element: this will be greater than 1 for vector-values elements.\n",
    "points = np.array([[0.0, 0.0], [0.2, 0.3], [0.3, 0.6], [0.4, 1.0]])\n",
    "tab = element.tabulate(1, points)\n",
    "print(tab[0,:,:,:])\n",
    "print(tab.shape)"
   ]
  },
  {
   "cell_type": "code",
   "execution_count": 63,
   "id": "ed8ef909",
   "metadata": {},
   "outputs": [
    {
     "name": "stdout",
     "output_type": "stream",
     "text": [
      "[[0.16666667 0.16666667]\n",
      " [0.16666667 0.66666667]\n",
      " [0.66666667 0.16666667]]\n",
      "(3, 2)\n",
      "[0.16666667 0.16666667 0.16666667]\n",
      "(1, 3, 6, 1)\n",
      "-2.7755575615628914e-17\n",
      "6.938893903907228e-18\n",
      "6.938893903907228e-18\n",
      "0.16666666666666663\n",
      "0.16666666666666674\n",
      "0.16666666666666669\n"
     ]
    }
   ],
   "source": [
    "#gives points and weights for a quadrature rule\n",
    "points, weights = basix.make_quadrature(basix.CellType.triangle, 2)\n",
    "print(points)\n",
    "print(points.shape)\n",
    "print(weights)\n",
    "#now integrate a function using linear basis functions\n",
    "#define an element\n",
    "lagrange = basix.create_element(basix.ElementFamily.P, basix.CellType.triangle, 2)# LagrangeVariant.equispaced)\n",
    "#evaluate basis functions at quad points\n",
    "values = lagrange.tabulate(0, points)\n",
    "#print(values)\n",
    "print(values.shape)\n",
    "#integrate basis function 1\n",
    "print(np.sum(weights * values[0, :, 0, 0]))\n",
    "print(np.sum(weights * values[0, :, 1, 0]))\n",
    "print(np.sum(weights * values[0, :, 2, 0]))\n",
    "print(np.sum(weights * values[0, :, 3, 0]))\n",
    "print(np.sum(weights * values[0, :, 4, 0]))\n",
    "print(np.sum(weights * values[0, :, 5, 0]))\n"
   ]
  },
  {
   "cell_type": "code",
   "execution_count": 95,
   "id": "11187afe",
   "metadata": {},
   "outputs": [
    {
     "name": "stdout",
     "output_type": "stream",
     "text": [
      "[[0.21132487]\n",
      " [0.78867513]]\n",
      "[0.5 0.5]\n",
      "[[-0.12200847]\n",
      " [ 0.4553418 ]]\n",
      "(1, 2, 3, 1)\n",
      "(1, 2, 3, 1)\n",
      "[0.5 0.5]\n",
      "intergal of basis functions over square 1.0\n",
      "0.16666666666666663\n",
      "0.16666666666666669\n"
     ]
    }
   ],
   "source": [
    "#try a cartesian product of 2 intervals\n",
    "element1 = basix.create_element(basix.ElementFamily.P, basix.CellType.interval, 2, basix.LagrangeVariant.equispaced)\n",
    "element2 = basix.create_element(basix.ElementFamily.P, basix.CellType.interval, 2, basix.LagrangeVariant.equispaced)\n",
    "points1, weights1 = basix.make_quadrature(basix.CellType.interval, 2)\n",
    "points2, weights2 = basix.make_quadrature(basix.CellType.interval, 2)\n",
    "\n",
    "\n",
    "values1 = element1.tabulate(0, points1)\n",
    "values2 = element1.tabulate(0, points2)\n",
    "\n",
    "print(points1)\n",
    "print(weights1)\n",
    "print(values1[0,:,1,:])\n",
    "\n",
    "print(values1.shape)\n",
    "print(values2.shape)\n",
    "print(weights2)\n",
    "#integrate basis function 1\n",
    "val = 0\n",
    "for bas_func2 in range(3):\n",
    "    for bas_func1 in range(3):\n",
    "        ind1 = 0\n",
    "        for a in weights1:\n",
    "            a_val = values1[0,ind1,bas_func1,0]\n",
    "        \n",
    "            ind2 =0\n",
    "            for b in weights2:\n",
    "                b_val = values2[0,ind2,bas_func2,0]\n",
    "                val+=a*b*a_val*b_val\n",
    "                ind2+=1\n",
    "            ind1+=1\n",
    "\n",
    "    \n",
    "print('intergal of basis functions over square',val)\n",
    "        \n",
    "print(np.sum(weights1 * values1[0, :, 0, 0]))\n",
    "print(np.sum(weights1 * values1[0, :, 1, 0]))\n",
    "#print(np.sum(weights1 * values1[0, :, 2, 0]))"
   ]
  },
  {
   "cell_type": "code",
   "execution_count": null,
   "id": "8f994425",
   "metadata": {},
   "outputs": [],
   "source": []
  }
 ],
 "metadata": {
  "kernelspec": {
   "display_name": "Python 3 (ipykernel)",
   "language": "python",
   "name": "python3"
  },
  "language_info": {
   "codemirror_mode": {
    "name": "ipython",
    "version": 3
   },
   "file_extension": ".py",
   "mimetype": "text/x-python",
   "name": "python",
   "nbconvert_exporter": "python",
   "pygments_lexer": "ipython3",
   "version": "3.10.4"
  }
 },
 "nbformat": 4,
 "nbformat_minor": 5
}
