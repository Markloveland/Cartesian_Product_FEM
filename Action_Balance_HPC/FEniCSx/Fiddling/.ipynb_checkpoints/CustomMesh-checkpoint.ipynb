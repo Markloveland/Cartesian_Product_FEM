{
 "cells": [
  {
   "cell_type": "code",
   "execution_count": 1,
   "id": "448a5f33",
   "metadata": {},
   "outputs": [],
   "source": [
    "import ufl\n",
    "import gmsh\n",
    "import numpy as np\n",
    "from dolfinx import io,fem,mesh\n",
    "from mpi4py import MPI\n",
    "gmsh.initialize()"
   ]
  },
  {
   "cell_type": "code",
   "execution_count": 23,
   "id": "a96106c9",
   "metadata": {},
   "outputs": [],
   "source": [
    "#read in an adcirc mesh and save some stuff\n",
    "def ADCIRC_mesh_gen(file_path):\n",
    "    #specify file path as a string, either absolute or relative to where script is run\n",
    "    #only compatible for adcirc fort.14 format\n",
    "    adcirc_mesh=open(file_path,'r')\n",
    "    title=adcirc_mesh.readline()\n",
    "\n",
    "    #NE number of elements, NP number of grid points\n",
    "    NE,NP=adcirc_mesh.readline().split()\n",
    "    NE=int(NE)\n",
    "    NP=int(NP)\n",
    "\n",
    "    #initiate data structures\n",
    "    NODENUM=np.zeros(NP)\n",
    "    LONS=np.zeros(NP)\n",
    "    LATS=np.zeros(NP)\n",
    "    DPS=np.zeros(NP)\n",
    "    ELEMNUM=np.zeros(NE)\n",
    "    NM = np.zeros((NE,3)) #stores connectivity at each element\n",
    "\n",
    "    #read node information line by line \n",
    "    for i in range(NP):\n",
    "        NODENUM[i], LONS[i], LATS[i], DPS[i] = adcirc_mesh.readline().split()\n",
    "    #read in connectivity\n",
    "    for i in range(NE):\n",
    "        ELEMNUM[i], DUM, NM[i,0],NM[i,1], NM[i,2]=adcirc_mesh.readline().split()\n",
    "\n",
    "    #(we need to shift nodenum down by 1)\n",
    "    ELEMNUM=ELEMNUM-1\n",
    "    NM=NM-1\n",
    "    NODENUM=NODENUM-1\n",
    "\n",
    "    #close file\n",
    "    adcirc_mesh.close()\n",
    "    return NODENUM,[LONS,LATS],ELEMNUM,NM\n",
    "    "
   ]
  },
  {
   "cell_type": "code",
   "execution_count": 24,
   "id": "a818b5c8",
   "metadata": {},
   "outputs": [],
   "source": [
    "#NODENUM,[LONS,LATS],ELEMNUM,NM = ADCIRC_mesh_gen(\"depth2.grd\")\n",
    "filename = 'mesh_test.xdmf'\n",
    "encoding= io.XDMFFile.Encoding.HDF5\n",
    "with io.XDMFFile(MPI.COMM_WORLD, filename, \"r\", encoding=encoding) as file:\n",
    "    mesh2 = file.read_mesh()"
   ]
  },
  {
   "cell_type": "code",
   "execution_count": 38,
   "id": "aff42d42",
   "metadata": {},
   "outputs": [],
   "source": [
    "#lets make sure we aren't getting nonsense\n",
    "V = fem.FunctionSpace(mesh2, (\"CG\", 1))\n",
    "uD = fem.Function(V)\n",
    "uD.interpolate(lambda x: (1 + 2*(x[0])**2 + 2*(x[1])**2))\n",
    "\n"
   ]
  },
  {
   "cell_type": "code",
   "execution_count": 39,
   "id": "1d02c61e",
   "metadata": {},
   "outputs": [
    {
     "name": "stdout",
     "output_type": "stream",
     "text": [
      "(1073,)\n"
     ]
    }
   ],
   "source": [
    "tdim = mesh2.topology.dim\n",
    "fdim = tdim - 1\n",
    "mesh2.topology.create_connectivity(fdim, tdim)\n",
    "boundary_facets = mesh.exterior_facet_indices(mesh2.topology)\n",
    "boundary_dofs = fem.locate_dofs_topological(V, fdim, boundary_facets)\n",
    "print(boundary_dofs.shape)\n",
    "bc = fem.dirichletbc(uD, boundary_dofs)\n",
    "u = ufl.TrialFunction(V)\n",
    "v = ufl.TestFunction(V)\n",
    "from petsc4py.PETSc import ScalarType\n",
    "f = fem.Constant(mesh2, ScalarType(-8))\n",
    "#f = fem.Constant(domain, ScalarType(6))\n",
    "#f = fem.Function(V)\n",
    "#f.interpolate(lambda x: 0*x[0]+6)\n",
    "a = ufl.dot(ufl.grad(u), ufl.grad(v)) * ufl.dx\n",
    "L = f * v * ufl.dx\n",
    "problem = fem.petsc.LinearProblem(a, L,bcs=[bc],petsc_options={\"ksp_type\": \"preonly\", \"pc_type\": \"lu\"})\n",
    "uh = problem.solve()\n",
    "\n",
    "\n",
    "\n",
    "\n"
   ]
  },
  {
   "cell_type": "code",
   "execution_count": 40,
   "id": "01fbe3f2",
   "metadata": {},
   "outputs": [],
   "source": [
    "#\n",
    "fname = 'wrong_solution'\n",
    "xdmf = io.XDMFFile(mesh2.comm, fname+\".xdmf\", \"w\")\n",
    "xdmf.write_mesh(mesh2)\n",
    "xdmf.write_function(uh, 0)\n",
    "xdmf.close()\n",
    "#"
   ]
  },
  {
   "cell_type": "code",
   "execution_count": 43,
   "id": "35e17ce5",
   "metadata": {},
   "outputs": [
    {
     "name": "stdout",
     "output_type": "stream",
     "text": [
      "Error_L2 : 2.10e+01\n",
      "Error_max : 1.69e+05\n"
     ]
    }
   ],
   "source": [
    "#compute error as a sanity check\n",
    "V2 = fem.FunctionSpace(mesh2, (\"CG\", 2))\n",
    "uex = fem.Function(V2)\n",
    "uex.interpolate(lambda x: (1 + 2*x[0]**2 + 2 * (x[1])**2))\n",
    "\n",
    "L2_error = fem.form(ufl.inner(uh - uex, uh - uex) * ufl.dx)\n",
    "error_local = fem.assemble_scalar(L2_error)\n",
    "error_L2 = np.sqrt(mesh2.comm.allreduce(error_local, op=MPI.SUM))\n",
    "error_max = np.max(np.abs(uD.x.array-uh.x.array))\n",
    "# Only print the error on one process\n",
    "if mesh2.comm.rank == 0:\n",
    "    print(f\"Error_L2 : {error_L2:.2e}\")\n",
    "    print(f\"Error_max : {error_max:.2e}\")"
   ]
  },
  {
   "cell_type": "code",
   "execution_count": 42,
   "id": "c35642e7",
   "metadata": {},
   "outputs": [
    {
     "name": "stdout",
     "output_type": "stream",
     "text": [
      "[8.31680801e+08 8.32000001e+08 8.30400801e+08 ... 3.45088010e+07\n",
      " 3.43328010e+07 3.44200010e+07]\n",
      "[8.31680801e+08 8.32000001e+08 8.30400801e+08 ... 3.45088010e+07\n",
      " 3.43328010e+07 3.44200010e+07]\n",
      "832000001.0000002\n",
      "832000001.0000002\n",
      "[]\n",
      "0.00020284155010452657\n"
     ]
    }
   ],
   "source": [
    "print(uD.x.array)\n",
    "print(uh.x.array)\n",
    "print(np.max(uD.x.array))\n",
    "print(np.max(uh.x.array))\n",
    "print(uh.x.array[uh.x.array<0])\n",
    "\n",
    "print(np.max(np.abs(uD.x.array-uh.x.array))/np.max(uh.x.array))"
   ]
  },
  {
   "cell_type": "code",
   "execution_count": 14,
   "id": "0a43ee0d",
   "metadata": {},
   "outputs": [
    {
     "name": "stdout",
     "output_type": "stream",
     "text": [
      "['__class__', '__delattr__', '__dict__', '__dir__', '__doc__', '__eq__', '__format__', '__ge__', '__getattribute__', '__gt__', '__hash__', '__init__', '__init_subclass__', '__le__', '__lt__', '__module__', '__ne__', '__new__', '__reduce__', '__reduce_ex__', '__repr__', '__setattr__', '__sizeof__', '__str__', '__subclasshook__', '__weakref__', 'add', 'addDiscreteEntity', 'addPhysicalGroup', 'add_discrete_entity', 'add_physical_group', 'geo', 'getAdjacencies', 'getBoundary', 'getBoundingBox', 'getClosestPoint', 'getColor', 'getCurrent', 'getCurvature', 'getDerivative', 'getDimension', 'getEntities', 'getEntitiesForPhysicalGroup', 'getEntitiesInBoundingBox', 'getEntityName', 'getFileName', 'getNormal', 'getNumberOfPartitions', 'getParametrization', 'getParametrizationBounds', 'getParent', 'getPartitions', 'getPhysicalGroups', 'getPhysicalGroupsForEntity', 'getPhysicalName', 'getPrincipalCurvatures', 'getSecondDerivative', 'getType', 'getValue', 'getVisibility', 'get_adjacencies', 'get_boundary', 'get_bounding_box', 'get_closest_point', 'get_color', 'get_current', 'get_curvature', 'get_derivative', 'get_dimension', 'get_entities', 'get_entities_for_physical_group', 'get_entities_in_bounding_box', 'get_entity_name', 'get_file_name', 'get_normal', 'get_number_of_partitions', 'get_parametrization', 'get_parametrization_bounds', 'get_parent', 'get_partitions', 'get_physical_groups', 'get_physical_groups_for_entity', 'get_physical_name', 'get_principal_curvatures', 'get_second_derivative', 'get_type', 'get_value', 'get_visibility', 'isInside', 'is_inside', 'list', 'mesh', 'occ', 'remove', 'removeEntities', 'removeEntityName', 'removePhysicalGroups', 'removePhysicalName', 'remove_entities', 'remove_entity_name', 'remove_physical_groups', 'remove_physical_name', 'reparametrizeOnSurface', 'reparametrize_on_surface', 'setColor', 'setCoordinates', 'setCurrent', 'setEntityName', 'setFileName', 'setPhysicalName', 'setTag', 'setVisibility', 'setVisibilityPerWindow', 'set_color', 'set_coordinates', 'set_current', 'set_entity_name', 'set_file_name', 'set_physical_name', 'set_tag', 'set_visibility', 'set_visibility_per_window']\n"
     ]
    }
   ],
   "source": [
    "gmsh.option.setNumber(\"General.Terminal\", 0)\n",
    "model = gmsh.model()\n",
    "mesh_comm = MPI.COMM_WORLD\n",
    "model_rank = 0\n",
    "\n",
    "#############################\n",
    "if mesh_comm.rank == model_rank:\n",
    "    # Generate a mesh\n",
    "\n",
    "    model.add(\"Sphere minus box\")\n",
    "    model.setCurrent(\"Sphere minus box\")\n",
    "\n",
    "    sphere_dim_tags = model.occ.addSphere(0, 0, 0, 1)\n",
    "    box_dim_tags = model.occ.addBox(0, 0, 0, 1, 1, 1)\n",
    "    model_dim_tags = model.occ.cut([(3, sphere_dim_tags)], [(3, box_dim_tags)])\n",
    "    model.occ.synchronize()\n",
    "\n",
    "    # Add physical tag 1 for exterior surfaces\n",
    "    boundary = model.getBoundary(model_dim_tags[0], oriented=False)\n",
    "    boundary_ids = [b[1] for b in boundary]\n",
    "    model.addPhysicalGroup(2, boundary_ids, tag=1)\n",
    "    model.setPhysicalName(2, 1, \"Sphere surface\")\n",
    "\n",
    "    # Add physical tag 2 for the volume\n",
    "    volume_entities = [model[1] for model in model.getEntities(3)]\n",
    "    model.addPhysicalGroup(3, volume_entities, tag=2)\n",
    "    model.setPhysicalName(3, 2, \"Sphere volume\")\n",
    "\n",
    "    model.mesh.generate(3)\n",
    "######################\n",
    "print(dir(model))\n",
    "#msh, mt, ft = gmshio.model_to_mesh(model, mesh_comm, model_rank)\n",
    "#msh.name = \"ball_d1\"\n",
    "#mt.name = f\"{msh.name}_cells\"\n",
    "#ft.name = f\"{msh.name}_facets\""
   ]
  },
  {
   "cell_type": "code",
   "execution_count": 15,
   "id": "15d636db",
   "metadata": {},
   "outputs": [
    {
     "name": "stdout",
     "output_type": "stream",
     "text": [
      "['__class__', '__delattr__', '__dict__', '__dir__', '__doc__', '__eq__', '__format__', '__ge__', '__getattribute__', '__gt__', '__hash__', '__init__', '__init_subclass__', '__le__', '__lt__', '__module__', '__ne__', '__new__', '__reduce__', '__reduce_ex__', '__repr__', '__setattr__', '__sizeof__', '__str__', '__subclasshook__', '__weakref__', 'add', 'addDiscreteEntity', 'addPhysicalGroup', 'add_discrete_entity', 'add_physical_group', 'geo', 'getAdjacencies', 'getBoundary', 'getBoundingBox', 'getClosestPoint', 'getColor', 'getCurrent', 'getCurvature', 'getDerivative', 'getDimension', 'getEntities', 'getEntitiesForPhysicalGroup', 'getEntitiesInBoundingBox', 'getEntityName', 'getFileName', 'getNormal', 'getNumberOfPartitions', 'getParametrization', 'getParametrizationBounds', 'getParent', 'getPartitions', 'getPhysicalGroups', 'getPhysicalGroupsForEntity', 'getPhysicalName', 'getPrincipalCurvatures', 'getSecondDerivative', 'getType', 'getValue', 'getVisibility', 'get_adjacencies', 'get_boundary', 'get_bounding_box', 'get_closest_point', 'get_color', 'get_current', 'get_curvature', 'get_derivative', 'get_dimension', 'get_entities', 'get_entities_for_physical_group', 'get_entities_in_bounding_box', 'get_entity_name', 'get_file_name', 'get_normal', 'get_number_of_partitions', 'get_parametrization', 'get_parametrization_bounds', 'get_parent', 'get_partitions', 'get_physical_groups', 'get_physical_groups_for_entity', 'get_physical_name', 'get_principal_curvatures', 'get_second_derivative', 'get_type', 'get_value', 'get_visibility', 'isInside', 'is_inside', 'list', 'mesh', 'occ', 'remove', 'removeEntities', 'removeEntityName', 'removePhysicalGroups', 'removePhysicalName', 'remove_entities', 'remove_entity_name', 'remove_physical_groups', 'remove_physical_name', 'reparametrizeOnSurface', 'reparametrize_on_surface', 'setColor', 'setCoordinates', 'setCurrent', 'setEntityName', 'setFileName', 'setPhysicalName', 'setTag', 'setVisibility', 'setVisibilityPerWindow', 'set_color', 'set_coordinates', 'set_current', 'set_entity_name', 'set_file_name', 'set_physical_name', 'set_tag', 'set_visibility', 'set_visibility_per_window']\n"
     ]
    }
   ],
   "source": [
    "model2 = gmsh.model()\n",
    "print(dir(model2))"
   ]
  },
  {
   "cell_type": "code",
   "execution_count": 9,
   "id": "348331b1",
   "metadata": {},
   "outputs": [
    {
     "name": "stdout",
     "output_type": "stream",
     "text": [
      "<class 'numpy.int64'>\n",
      "<class 'numpy.int32'>\n"
     ]
    }
   ],
   "source": [
    "x =np.linspace(0,20,10)\n",
    "dof = np.where(x<5)[0]\n",
    "print(type(dof[0]))\n",
    "dof = np.array(dof,dtype=np.int32) + 5\n",
    "print(type(dof[0]))\n"
   ]
  },
  {
   "cell_type": "code",
   "execution_count": null,
   "id": "9aa267fc",
   "metadata": {},
   "outputs": [],
   "source": []
  },
  {
   "cell_type": "code",
   "execution_count": null,
   "id": "fb2ffa28",
   "metadata": {},
   "outputs": [],
   "source": []
  }
 ],
 "metadata": {
  "kernelspec": {
   "display_name": "Python 3 (ipykernel)",
   "language": "python",
   "name": "python3"
  },
  "language_info": {
   "codemirror_mode": {
    "name": "ipython",
    "version": 3
   },
   "file_extension": ".py",
   "mimetype": "text/x-python",
   "name": "python",
   "nbconvert_exporter": "python",
   "pygments_lexer": "ipython3",
   "version": "3.10.6"
  }
 },
 "nbformat": 4,
 "nbformat_minor": 5
}
