{
 "cells": [
  {
   "cell_type": "code",
   "execution_count": 1,
   "id": "ae4bd867",
   "metadata": {},
   "outputs": [],
   "source": [
    "import numpy as np\n",
    "import ufl\n",
    "\n",
    "from mpi4py import MPI\n",
    "from petsc4py.PETSc import ScalarType\n",
    "\n",
    "from dolfinx import mesh, fem, plot, io,cpp\n",
    "import pyvista\n",
    "#need to create a function where it is 0 if any node in cell has depth<min\n"
   ]
  },
  {
   "cell_type": "code",
   "execution_count": 2,
   "id": "2ab664d8",
   "metadata": {},
   "outputs": [],
   "source": [
    "nx = ny =5\n",
    "domain = mesh.create_unit_square(MPI.COMM_WORLD, 5, 5, mesh.CellType.triangle)"
   ]
  },
  {
   "cell_type": "code",
   "execution_count": 3,
   "id": "81ae2413",
   "metadata": {},
   "outputs": [
    {
     "name": "stderr",
     "output_type": "stream",
     "text": [
      "\u001b[0m\u001b[2m2022-09-26 23:35:10.805 (   1.982s) [         2190000]    vtkExtractEdges.cxx:435   INFO| \u001b[0mExecuting edge extractor: points are renumbered\u001b[0m\n",
      "\u001b[0m\u001b[2m2022-09-26 23:35:10.810 (   1.987s) [         2190000]    vtkExtractEdges.cxx:551   INFO| \u001b[0mCreated 85 edges\u001b[0m\n"
     ]
    },
    {
     "data": {
      "application/vnd.jupyter.widget-view+json": {
       "model_id": "ff2f3d7f307d429a9d48cbecd1d91e0f",
       "version_major": 2,
       "version_minor": 0
      },
      "text/plain": [
       "Renderer(camera=PerspectiveCamera(aspect=1.3333333333333333, children=(DirectionalLight(intensity=0.25, positi…"
      ]
     },
     "metadata": {},
     "output_type": "display_data"
    }
   ],
   "source": [
    "#plot function on a mesh\n",
    "V = fem.FunctionSpace(domain, (\"CG\", 1))\n",
    "f1 = fem.Function(V)\n",
    "f1.interpolate(lambda x: x[0])\n",
    "pyvista.set_jupyter_backend(\"pythreejs\")\n",
    "\n",
    "# Create plotter and pyvista grid\n",
    "p = pyvista.Plotter()\n",
    "topology, cell_types, geometry = plot.create_vtk_mesh(V)\n",
    "grid = pyvista.UnstructuredGrid(topology, cell_types, geometry)\n",
    "\n",
    "\n",
    "plotter = pyvista.Plotter()\n",
    "plotter.add_mesh(grid, show_edges=True)\n",
    "plotter.view_xy()\n",
    "if not pyvista.OFF_SCREEN:\n",
    "    plotter.show()\n",
    "\n",
    "#pyvista.start_xvfb()\n",
    "#figure = plotter.screenshot(\"fundamentals_mesh.png\")\n"
   ]
  },
  {
   "cell_type": "code",
   "execution_count": 4,
   "id": "49629f7a",
   "metadata": {},
   "outputs": [
    {
     "name": "stderr",
     "output_type": "stream",
     "text": [
      "\u001b[0m\u001b[2m2022-09-26 23:35:11.439 (   2.617s) [         2190000]    vtkExtractEdges.cxx:435   INFO| \u001b[0mExecuting edge extractor: points are renumbered\u001b[0m\n",
      "\u001b[0m\u001b[2m2022-09-26 23:35:11.441 (   2.619s) [         2190000]    vtkExtractEdges.cxx:551   INFO| \u001b[0mCreated 85 edges\u001b[0m\n"
     ]
    },
    {
     "data": {
      "application/vnd.jupyter.widget-view+json": {
       "model_id": "a45f6ec6aea14bffbc5ee35b37c9aaf4",
       "version_major": 2,
       "version_minor": 0
      },
      "text/plain": [
       "Renderer(camera=PerspectiveCamera(aspect=1.3333333333333333, children=(DirectionalLight(intensity=0.25, positi…"
      ]
     },
     "metadata": {},
     "output_type": "display_data"
    }
   ],
   "source": [
    "u_topology, u_cell_types, u_geometry = plot.create_vtk_mesh(V)\n",
    "u_grid = pyvista.UnstructuredGrid(u_topology, u_cell_types, u_geometry)\n",
    "u_grid.point_data[\"u\"] = f1.x.array.real\n",
    "u_grid.set_active_scalars(\"u\")\n",
    "u_plotter = pyvista.Plotter()\n",
    "u_plotter.add_mesh(u_grid, show_edges=True)\n",
    "u_plotter.view_xy()\n",
    "\n",
    "if not pyvista.OFF_SCREEN:\n",
    "    u_plotter.show()"
   ]
  },
  {
   "cell_type": "code",
   "execution_count": 5,
   "id": "474182c2",
   "metadata": {},
   "outputs": [
    {
     "name": "stdout",
     "output_type": "stream",
     "text": [
      "Dof numbers cell 0: [0 1 2]\n",
      "Dof numbers cell 0: [0]\n",
      "[[0.8 0.  0. ]\n",
      " [1.  0.  0. ]\n",
      " [1.  0.2 0. ]\n",
      " [0.8 0.2 0. ]\n",
      " [0.6 0.  0. ]\n",
      " [1.  0.4 0. ]\n",
      " [0.6 0.2 0. ]\n",
      " [0.8 0.4 0. ]\n",
      " [0.4 0.  0. ]\n",
      " [1.  0.6 0. ]\n",
      " [0.4 0.2 0. ]\n",
      " [0.6 0.4 0. ]\n",
      " [0.8 0.6 0. ]\n",
      " [0.2 0.  0. ]\n",
      " [1.  0.8 0. ]\n",
      " [0.2 0.2 0. ]\n",
      " [0.4 0.4 0. ]\n",
      " [0.6 0.6 0. ]\n",
      " [0.8 0.8 0. ]\n",
      " [0.  0.  0. ]\n",
      " [1.  1.  0. ]\n",
      " [0.  0.2 0. ]\n",
      " [0.2 0.4 0. ]\n",
      " [0.4 0.6 0. ]\n",
      " [0.6 0.8 0. ]\n",
      " [0.8 1.  0. ]\n",
      " [0.  0.4 0. ]\n",
      " [0.2 0.6 0. ]\n",
      " [0.4 0.8 0. ]\n",
      " [0.6 1.  0. ]\n",
      " [0.  0.6 0. ]\n",
      " [0.2 0.8 0. ]\n",
      " [0.4 1.  0. ]\n",
      " [0.  0.8 0. ]\n",
      " [0.2 1.  0. ]\n",
      " [0.  1.  0. ]]\n"
     ]
    }
   ],
   "source": [
    "cellwise = fem.FunctionSpace(domain, (\"DG\", 0))\n",
    "print(f\"Dof numbers cell 0: {V.dofmap.cell_dofs(0)}\")\n",
    "print(f\"Dof numbers cell 0: {cellwise.dofmap.cell_dofs(0)}\")\n",
    "print(V.tabulate_dof_coordinates()[:])"
   ]
  },
  {
   "cell_type": "code",
   "execution_count": 6,
   "id": "770f93c9",
   "metadata": {},
   "outputs": [
    {
     "name": "stdout",
     "output_type": "stream",
     "text": [
      "[1. 1. 1. 1. 1. 1. 1. 1. 1. 1. 1. 1. 0. 1. 1. 1. 0. 1. 1. 1. 0. 0. 1. 1.\n",
      " 1. 0. 0. 1. 1. 1. 0. 0. 1. 1. 0. 0. 1. 1. 0. 0. 1. 0. 0. 1. 0. 0. 0. 0.\n",
      " 0. 0.]\n"
     ]
    },
    {
     "data": {
      "application/vnd.jupyter.widget-view+json": {
       "model_id": "11c8c350573e4233967a51ca8cfe406a",
       "version_major": 2,
       "version_minor": 0
      },
      "text/plain": [
       "Renderer(camera=PerspectiveCamera(aspect=1.3333333333333333, children=(DirectionalLight(intensity=0.25, positi…"
      ]
     },
     "metadata": {},
     "output_type": "display_data"
    }
   ],
   "source": [
    "\n",
    "\n",
    "is_wet = fem.Function(cellwise)\n",
    "\n",
    "#loop through elements\n",
    "dim=domain.topology.dim\n",
    "imap = domain.topology.index_map(dim)\n",
    "num_cells = imap.size_local\n",
    "ghost_cells = imap.num_ghosts\n",
    "# in parrallel need to append the 2\n",
    "\n",
    "dat_arr = np.zeros(num_cells)\n",
    "min_depth = 0.3\n",
    "for a in range(num_cells):\n",
    "    ind = V.dofmap.cell_dofs(a)\n",
    "    vals = f1.x.array[ind]\n",
    "    depth = np.min(vals)\n",
    "    #define proper values in the element\n",
    "    input_ind = cellwise.dofmap.cell_dofs(a)\n",
    "    if depth > min_depth:\n",
    "        out = 1\n",
    "    else: \n",
    "        out = 0\n",
    "    is_wet.vector.setValues(input_ind, out)\n",
    "\n",
    "print(is_wet.vector.array)\n",
    "\n",
    "\n",
    "u_grid.cell_data[\"indicator\"] = is_wet.vector.array\n",
    "\n",
    "u_grid.set_active_scalars(\"indicator\")\n",
    "p = pyvista.Plotter()\n",
    "p.add_mesh(u_grid)\n",
    "p.add_scalar_bar()\n",
    "p.show_axes()\n",
    "p.view_xy()\n",
    "if not pyvista.OFF_SCREEN:\n",
    "   p.show()"
   ]
  },
  {
   "cell_type": "code",
   "execution_count": 7,
   "id": "a9115143",
   "metadata": {},
   "outputs": [],
   "source": [
    "#now see what a stiffness matrix looks like\n",
    "u = ufl.TrialFunction(V)\n",
    "v = ufl.TestFunction(V)\n",
    "\n",
    "a = is_wet*ufl.dot(ufl.grad(u), ufl.grad(v)) * ufl.dx\n",
    "L = v * ufl.dx\n",
    "\n",
    "\n",
    "form = fem.form(a)\n",
    "sp = fem.create_sparsity_pattern(form)\n",
    "sp.assemble()\n",
    "A = cpp.la.petsc.create_matrix(domain.comm, sp)\n",
    "A.setOption(A.Option.IGNORE_ZERO_ENTRIES, 0)\n",
    "fem.petsc.assemble_matrix(A, form)\n",
    "#A.zeroRows()\n",
    "A.assemble()\n",
    "#problem = fem.petsc.LinearProblem(a, L,petsc_options={\"ksp_type\": \"preonly\", \"pc_type\": \"lu\"})\n",
    "#uh = problem.solve()"
   ]
  },
  {
   "cell_type": "code",
   "execution_count": 8,
   "id": "153172af",
   "metadata": {},
   "outputs": [
    {
     "name": "stdout",
     "output_type": "stream",
     "text": [
      "[[ 0.   0.   0.   0.   0.   0.   0.   0.   0.   0.   0.   0. ]\n",
      " [ 0.   2.   0.   0.   0.  -1.   0.  -0.5  0.   0.   0.   0. ]\n",
      " [ 0.   0.   0.   0.   0.   0.   0.   0.   0.   0.   0.   0. ]\n",
      " [ 0.   0.   0.   2.   0.   0.   0.   0.   0.   0.  -0.5  0. ]\n",
      " [ 0.   0.   0.   0.   4.   0.   0.   0.   0.   0.  -1.  -1. ]\n",
      " [ 0.  -1.   0.   0.   0.   4.   0.   0.   0.   0.   0.  -1. ]\n",
      " [ 0.   0.   0.   0.   0.   0.   0.   0.   0.   0.   0.   0. ]\n",
      " [ 0.  -0.5  0.   0.   0.   0.   0.   1.   0.   0.   0.   0. ]\n",
      " [ 0.   0.   0.   0.   0.   0.   0.   0.   0.   0.   0.   0. ]\n",
      " [ 0.   0.   0.   0.   0.   0.   0.   0.   0.   0.   0.   0. ]\n",
      " [ 0.   0.   0.  -0.5 -1.   0.   0.   0.   0.   0.   2.   0. ]\n",
      " [ 0.   0.   0.   0.  -1.  -1.   0.   0.   0.   0.   0.   4. ]]\n",
      "Original diagonal [2. 1. 2. 4. 2. 2. 4. 4. 1. 2. 2. 4. 4. 0. 2. 0. 2. 4. 4. 0. 1. 0. 0. 2.\n",
      " 4. 2. 0. 0. 2. 2. 0. 0. 1. 0. 0. 0.]\n",
      "indices where we have zeros [13 15 19 21 22 26 27 30 31 33 34 35]\n",
      "Fixed diagonal [2. 1. 2. 4. 2. 2. 4. 4. 1. 2. 2. 4. 4. 1. 2. 1. 2. 4. 4. 1. 1. 1. 1. 2.\n",
      " 4. 2. 1. 1. 2. 2. 1. 1. 1. 1. 1. 1.]\n"
     ]
    }
   ],
   "source": [
    "print(A.getValues(range(13,25),range(13,25)))\n",
    "#this looks like it works but how do i select rows i need to zero out as identity???\n",
    "diag = A.getDiagonal()\n",
    "print('Original diagonal',diag.getArray())\n",
    "#indeces of 0\n",
    "dry_dofs = np.where(diag.getArray()==0)[0]\n",
    "dry_dofs = np.array(dry_dofs,dtype=np.int32)\n",
    "print('indices where we have zeros',dry_dofs)\n",
    "#fill in and reset\n",
    "diag.setValues(dry_dofs,np.ones(dry_dofs.shape))\n",
    "print('Fixed diagonal',diag.getArray())\n",
    "#fill in matrix\n",
    "#A.setDiagonal(diag)"
   ]
  },
  {
   "cell_type": "code",
   "execution_count": 9,
   "id": "4ed8c2c2",
   "metadata": {},
   "outputs": [
    {
     "name": "stdout",
     "output_type": "stream",
     "text": [
      "[[ 0.   0.   0.   0.   0.   0.   0.   0.   0.   0.   0.   0. ]\n",
      " [ 0.   2.   0.   0.   0.  -1.   0.  -0.5  0.   0.   0.   0. ]\n",
      " [ 0.   0.   0.   0.   0.   0.   0.   0.   0.   0.   0.   0. ]\n",
      " [ 0.   0.   0.   2.   0.   0.   0.   0.   0.   0.  -0.5  0. ]\n",
      " [ 0.   0.   0.   0.   4.   0.   0.   0.   0.   0.  -1.  -1. ]\n",
      " [ 0.  -1.   0.   0.   0.   4.   0.   0.   0.   0.   0.  -1. ]\n",
      " [ 0.   0.   0.   0.   0.   0.   0.   0.   0.   0.   0.   0. ]\n",
      " [ 0.  -0.5  0.   0.   0.   0.   0.   1.   0.   0.   0.   0. ]\n",
      " [ 0.   0.   0.   0.   0.   0.   0.   0.   0.   0.   0.   0. ]\n",
      " [ 0.   0.   0.   0.   0.   0.   0.   0.   0.   0.   0.   0. ]\n",
      " [ 0.   0.   0.  -0.5 -1.   0.   0.   0.   0.   0.   2.   0. ]\n",
      " [ 0.   0.   0.   0.  -1.  -1.   0.   0.   0.   0.   0.   4. ]]\n",
      "(array([  0,   5,   8,  13,  20,  25,  30,  37,  44,  49,  54,  61,  68,\n",
      "        75,  80,  85,  92,  99, 106, 113, 117, 121, 126, 133, 140, 147,\n",
      "       152, 157, 164, 171, 176, 181, 188, 193, 198, 203, 206], dtype=int32), array([ 0,  1,  2,  3,  4,  0,  1,  2,  0,  1,  2,  3,  5,  0,  2,  3,  4,\n",
      "        5,  6,  7,  0,  3,  4,  6,  8,  2,  3,  5,  7,  9,  3,  4,  6,  7,\n",
      "        8, 10, 11,  3,  5,  6,  7,  9, 11, 12,  4,  6,  8, 10, 13,  5,  7,\n",
      "        9, 12, 14,  6,  8, 10, 11, 13, 15, 16,  6,  7, 10, 11, 12, 16, 17,\n",
      "        7,  9, 11, 12, 14, 17, 18,  8, 10, 13, 15, 19,  9, 12, 14, 18, 20,\n",
      "       10, 13, 15, 16, 19, 21, 22, 10, 11, 15, 16, 17, 22, 23, 11, 12, 16,\n",
      "       17, 18, 23, 24, 12, 14, 17, 18, 20, 24, 25, 13, 15, 19, 21, 14, 18,\n",
      "       20, 25, 15, 19, 21, 22, 26, 15, 16, 21, 22, 23, 26, 27, 16, 17, 22,\n",
      "       23, 24, 27, 28, 17, 18, 23, 24, 25, 28, 29, 18, 20, 24, 25, 29, 21,\n",
      "       22, 26, 27, 30, 22, 23, 26, 27, 28, 30, 31, 23, 24, 27, 28, 29, 31,\n",
      "       32, 24, 25, 28, 29, 32, 26, 27, 30, 31, 33, 27, 28, 30, 31, 32, 33,\n",
      "       34, 28, 29, 31, 32, 34, 30, 31, 33, 34, 35, 31, 32, 33, 34, 35, 33,\n",
      "       34, 35], dtype=int32), array([ 2. , -0.5,  0. , -1. , -0.5, -0.5,  1. , -0.5,  0. , -0.5,  2. ,\n",
      "       -1. , -0.5, -1. , -1. ,  4. ,  0. ,  0. , -1. , -1. , -0.5,  0. ,\n",
      "        2. , -1. , -0.5, -0.5,  0. ,  2. , -1. , -0.5, -1. , -1. ,  4. ,\n",
      "        0. ,  0. , -1. , -1. , -1. , -1. ,  0. ,  4. ,  0. , -1. , -1. ,\n",
      "       -0.5,  0. ,  1. , -0.5,  0. , -0.5,  0. ,  2. , -1. , -0.5, -1. ,\n",
      "       -0.5,  2. ,  0. ,  0. ,  0. , -0.5, -1. , -1. ,  0. ,  4. ,  0. ,\n",
      "       -1. , -1. , -1. , -1. ,  0. ,  4. ,  0. , -1. , -1. ,  0. ,  0. ,\n",
      "        0. ,  0. ,  0. , -0.5,  0. ,  2. , -1. , -0.5,  0. ,  0. ,  0. ,\n",
      "        0. ,  0. ,  0. ,  0. , -0.5, -1. ,  0. ,  2. ,  0. ,  0. , -0.5,\n",
      "       -1. , -1. ,  0. ,  4. ,  0. , -1. , -1. , -1. , -1. ,  0. ,  4. ,\n",
      "        0. , -1. , -1. ,  0. ,  0. ,  0. ,  0. , -0.5,  0. ,  1. , -0.5,\n",
      "        0. ,  0. ,  0. ,  0. ,  0. ,  0. ,  0. ,  0. ,  0. ,  0. ,  0. ,\n",
      "        0. , -0.5, -1. ,  0. ,  2. ,  0. ,  0. , -0.5, -1. , -1. ,  0. ,\n",
      "        4. ,  0. , -1. , -1. , -1. , -0.5,  0. ,  2. , -0.5,  0. ,  0. ,\n",
      "        0. ,  0. ,  0. ,  0. ,  0. ,  0. ,  0. ,  0. ,  0. ,  0. , -0.5,\n",
      "       -1. ,  0. ,  2. ,  0. ,  0. , -0.5, -1. , -0.5,  0. ,  2. , -0.5,\n",
      "        0. ,  0. ,  0. ,  0. ,  0. ,  0. ,  0. ,  0. ,  0. ,  0. ,  0. ,\n",
      "        0. , -0.5, -0.5,  0. ,  1. ,  0. ,  0. ,  0. ,  0. ,  0. ,  0. ,\n",
      "        0. ,  0. ,  0. ,  0. ,  0. ,  0. ,  0. ,  0. ]))\n"
     ]
    }
   ],
   "source": [
    "print(A.getValues(range(13,25),range(13,25)))\n",
    "print(A.getValuesCSR())\n"
   ]
  },
  {
   "cell_type": "code",
   "execution_count": 10,
   "id": "51d90915",
   "metadata": {},
   "outputs": [
    {
     "name": "stdout",
     "output_type": "stream",
     "text": [
      "['__class__', '__delattr__', '__dict__', '__dir__', '__doc__', '__eq__', '__format__', '__ge__', '__getattribute__', '__gt__', '__hash__', '__init__', '__init_subclass__', '__le__', '__lt__', '__module__', '__ne__', '__new__', '__reduce__', '__reduce_ex__', '__repr__', '__setattr__', '__sizeof__', '__str__', '__subclasshook__', 'cell_name', 'cell_type', 'comm', 'connectivity', 'create_connectivity', 'create_entities', 'create_entity_permutations', 'dim', 'get_cell_permutation_info', 'get_facet_permutations', 'index_map', 'original_cell_index', 'set_connectivity', 'set_index_map']\n"
     ]
    }
   ],
   "source": [
    "print(dir(domain.topology))"
   ]
  },
  {
   "cell_type": "code",
   "execution_count": 11,
   "id": "0113dc1e",
   "metadata": {},
   "outputs": [
    {
     "data": {
      "text/plain": [
       "['CellType',\n",
       " 'DiagonalType',\n",
       " 'GhostMode',\n",
       " 'Mesh',\n",
       " 'MeshTagsMetaClass',\n",
       " '_MPI',\n",
       " '__all__',\n",
       " '__builtins__',\n",
       " '__cached__',\n",
       " '__doc__',\n",
       " '__file__',\n",
       " '__loader__',\n",
       " '__name__',\n",
       " '__package__',\n",
       " '__spec__',\n",
       " '_cpp',\n",
       " '_uflcell_to_dolfinxcell',\n",
       " 'annotations',\n",
       " 'build_dual_graph',\n",
       " 'cell_dim',\n",
       " 'compute_incident_entities',\n",
       " 'compute_midpoints',\n",
       " 'create_box',\n",
       " 'create_cell_partitioner',\n",
       " 'create_interval',\n",
       " 'create_mesh',\n",
       " 'create_rectangle',\n",
       " 'create_submesh',\n",
       " 'create_unit_cube',\n",
       " 'create_unit_interval',\n",
       " 'create_unit_square',\n",
       " 'exterior_facet_indices',\n",
       " 'locate_entities',\n",
       " 'locate_entities_boundary',\n",
       " 'meshtags',\n",
       " 'meshtags_from_entities',\n",
       " 'np',\n",
       " 'numpy',\n",
       " 'refine',\n",
       " 'to_string',\n",
       " 'to_type',\n",
       " 'typing',\n",
       " 'ufl']"
      ]
     },
     "execution_count": 11,
     "metadata": {},
     "output_type": "execute_result"
    }
   ],
   "source": [
    "dir(mesh)"
   ]
  },
  {
   "cell_type": "code",
   "execution_count": 10,
   "id": "e323439a",
   "metadata": {},
   "outputs": [
    {
     "name": "stdout",
     "output_type": "stream",
     "text": [
      "<class 'dolfinx.fem.function.FunctionSpace'>\n"
     ]
    }
   ],
   "source": [
    "print(type(is_wet._V))"
   ]
  },
  {
   "cell_type": "code",
   "execution_count": null,
   "id": "bfb3c909-6054-486a-bb24-8adb1f1e08ea",
   "metadata": {},
   "outputs": [],
   "source": []
  }
 ],
 "metadata": {
  "kernelspec": {
   "display_name": "Python 3 (ipykernel)",
   "language": "python",
   "name": "python3"
  },
  "language_info": {
   "codemirror_mode": {
    "name": "ipython",
    "version": 3
   },
   "file_extension": ".py",
   "mimetype": "text/x-python",
   "name": "python",
   "nbconvert_exporter": "python",
   "pygments_lexer": "ipython3",
   "version": "3.10.4"
  }
 },
 "nbformat": 4,
 "nbformat_minor": 5
}
