{
 "cells": [
  {
   "cell_type": "code",
   "execution_count": 7,
   "id": "d543d563",
   "metadata": {},
   "outputs": [],
   "source": [
    "from mpi4py import MPI\n",
    "from dolfinx import mesh\n",
    "from dolfinx import fem\n",
    "from dolfinx import cpp\n",
    "import numpy as np\n",
    "import ufl\n",
    "from petsc4py import PETSc"
   ]
  },
  {
   "cell_type": "code",
   "execution_count": 9,
   "id": "4612603b",
   "metadata": {},
   "outputs": [
    {
     "name": "stdout",
     "output_type": "stream",
     "text": [
      "[0. 0. 0. 0. 0. 0. 0. 0. 0. 0. 0.]\n"
     ]
    },
    {
     "data": {
      "text/plain": [
       "<matplotlib.legend.Legend at 0x4074509690>"
      ]
     },
     "execution_count": 9,
     "metadata": {},
     "output_type": "execute_result"
    },
    {
     "data": {
      "image/png": "[encoded data removed]",
      "text/plain": [
       "<Figure size 640x480 with 1 Axes>"
      ]
     },
     "metadata": {},
     "output_type": "display_data"
    }
   ],
   "source": [
    "#domain = mesh.create_unit_square(MPI.COMM_WORLD, 3, 3,mesh.CellType.triangle)\n",
    "domain = mesh.create_interval(MPI.COMM_WORLD,10,(0,1))\n",
    "V = fem.FunctionSpace(domain, (\"CG\", 1))\n",
    "V2 = fem.FunctionSpace(domain,(\"CG\",2))\n",
    "f = fem.Function(V2)\n",
    "f.interpolate(lambda x: 0*x[0])# + 2 * x[1]**2)\n",
    "#see if we can finesse using L2 projection\n",
    "u = ufl.TrialFunction(V)\n",
    "v = ufl.TestFunction(V)\n",
    "\n",
    "a = u*v* ufl.dx\n",
    "L = f.dx(0)*v*ufl.dx\n",
    "problem = fem.petsc.LinearProblem(a, L)#petsc_options={\"ksp_type\": \"preonly\", \"pc_type\": \"lu\"})\n",
    "uh = problem.solve()\n",
    "print(uh.vector.getArray())\n",
    "#f.interpolate(f.dx(0))\n",
    "\n",
    "\n",
    "points = np.zeros((3, 101))\n",
    "tol = 0.001\n",
    "x = np.linspace(0 + tol, 1 - tol, 101)\n",
    "points[0] = x\n",
    "u_values = []\n",
    "p_values = []\n",
    "from dolfinx import geometry\n",
    "bb_tree = geometry.BoundingBoxTree(domain, domain.topology.dim)\n",
    "cells = []\n",
    "points_on_proc = []\n",
    "# Find cells whose bounding-box collide with the the points\n",
    "cell_candidates = geometry.compute_collisions(bb_tree, points.T)\n",
    "# Choose one of the cells that contains the point\n",
    "colliding_cells = geometry.compute_colliding_cells(domain, cell_candidates, points.T)\n",
    "for i, point in enumerate(points.T):\n",
    "    if len(colliding_cells.links(i))>0:\n",
    "        points_on_proc.append(point)\n",
    "        cells.append(colliding_cells.links(i)[0])\n",
    "points_on_proc = np.array(points_on_proc, dtype=np.float64)\n",
    "f_values = f.eval(points_on_proc, cells)\n",
    "uh_values = uh.eval(points_on_proc,cells)\n",
    "import matplotlib.pyplot as plt\n",
    "fig = plt.figure()\n",
    "plt.plot(points_on_proc[:,0], f_values, \"k\", linewidth=2, label=\"Deflection ($\\\\times 50$)\")\n",
    "plt.plot(points_on_proc[:, 0], uh_values, \"b--\", linewidth = 2, label=\"Load\")\n",
    "plt.grid(True)\n",
    "plt.xlabel(\"y\")\n",
    "plt.legend()"
   ]
  },
  {
   "cell_type": "code",
   "execution_count": 3,
   "id": "2c60bf07",
   "metadata": {},
   "outputs": [
    {
     "name": "stdout",
     "output_type": "stream",
     "text": [
      "['ASMType', 'CompositeType', 'GAMGType', 'GASMType', 'HPDDMCoarseCorrectionType', 'MGCycleType', 'MGType', 'PatchConstructType', 'SchurFactType', 'SchurPreType', 'Side', 'Type', '__bool__', '__call__', '__class__', '__copy__', '__deepcopy__', '__delattr__', '__dir__', '__doc__', '__eq__', '__format__', '__ge__', '__getattribute__', '__gt__', '__hash__', '__init__', '__init_subclass__', '__le__', '__lt__', '__ne__', '__new__', '__pyx_vtable__', '__reduce__', '__reduce_ex__', '__repr__', '__setattr__', '__sizeof__', '__str__', '__subclasshook__', 'addCompositePCType', 'appendOptionsPrefix', 'apply', 'applySymmetricLeft', 'applySymmetricRight', 'applyTranspose', 'classid', 'comm', 'compose', 'create', 'createPython', 'decRef', 'destroy', 'fortran', 'getASMSubKSP', 'getAttr', 'getClassId', 'getClassName', 'getComm', 'getCompositePC', 'getDM', 'getDict', 'getFactorMatrix', 'getFactorSolverType', 'getFieldSplitSchurGetSubKSP', 'getFieldSplitSubKSP', 'getHPDDMCoarseCorrectionType', 'getHPDDMSTShareSubKSP', 'getHYPREType', 'getKSP', 'getMGCoarseSolve', 'getMGInterpolation', 'getMGLevels', 'getMGRScale', 'getMGRestriction', 'getMGSmoother', 'getMGSmootherDown', 'getMGSmootherUp', 'getMGType', 'getName', 'getOperators', 'getOptionsPrefix', 'getPythonContext', 'getRefCount', 'getTabLevel', 'getType', 'getUseAmat', 'handle', 'incRef', 'incrementTabLevel', 'klass', 'matApply', 'name', 'prefix', 'query', 'refcount', 'reset', 'setASMLocalSubdomains', 'setASMOverlap', 'setASMSortIndices', 'setASMTotalSubdomains', 'setASMType', 'setAttr', 'setBDDCChangeOfBasisMat', 'setBDDCCoarseningRatio', 'setBDDCDirichletBoundaries', 'setBDDCDirichletBoundariesLocal', 'setBDDCDiscreteGradient', 'setBDDCDivergenceMat', 'setBDDCDofsSplitting', 'setBDDCDofsSplittingLocal', 'setBDDCLevels', 'setBDDCNeumannBoundaries', 'setBDDCNeumannBoundariesLocal', 'setBDDCPrimalVerticesIS', 'setBDDCPrimalVerticesLocalIS', 'setCompositeType', 'setCoordinates', 'setDM', 'setFactorLevels', 'setFactorOrdering', 'setFactorPivot', 'setFactorSetUpSolverType', 'setFactorShift', 'setFactorSolverType', 'setFieldSplitFields', 'setFieldSplitIS', 'setFieldSplitSchurFactType', 'setFieldSplitSchurPreType', 'setFieldSplitType', 'setFromOptions', 'setGAMGLevels', 'setGAMGSmooths', 'setGAMGType', 'setGASMOverlap', 'setGASMType', 'setHPDDMAuxiliaryMat', 'setHPDDMCoarseCorrectionType', 'setHPDDMHasNeumannMat', 'setHPDDMRHSMat', 'setHYPREDiscreteCurl', 'setHYPREDiscreteGradient', 'setHYPRESetAlphaPoissonMatrix', 'setHYPRESetBetaPoissonMatrix', 'setHYPRESetEdgeConstantVectors', 'setHYPRESetInterpolations', 'setHYPREType', 'setMGCycleType', 'setMGCycleTypeOnLevel', 'setMGInterpolation', 'setMGLevels', 'setMGR', 'setMGRScale', 'setMGRestriction', 'setMGRhs', 'setMGType', 'setMGX', 'setName', 'setOperators', 'setOptionsPrefix', 'setPatchCellNumbering', 'setPatchComputeFunction', 'setPatchComputeFunctionInteriorFacets', 'setPatchComputeOperator', 'setPatchComputeOperatorInteriorFacets', 'setPatchConstructType', 'setPatchDiscretisationInfo', 'setPythonContext', 'setPythonType', 'setReusePreconditioner', 'setTabLevel', 'setType', 'setUp', 'setUpOnBlocks', 'setUseAmat', 'stateGet', 'stateIncrease', 'stateSet', 'type', 'view', 'viewFromOptions']\n"
     ]
    }
   ],
   "source": [
    "A_PETSc = problem.A\n",
    "pc2 = PETSc.PC().create()\n",
    "#this is a direct solve with lu\n",
    "pc2.setType('bjacobi')\n",
    "pc2.setOperators(A_PETSc)\n",
    "\n",
    "ksp2 = PETSc.KSP().create() # creating a KSP object named ksp\n",
    "ksp2.setOperators(A_PETSc)\n",
    "ksp2.setType('gmres')\n",
    "ksp2.setPC(pc2)\n",
    "print(dir(pc2))"
   ]
  },
  {
   "cell_type": "code",
   "execution_count": 5,
   "id": "a3d94246",
   "metadata": {},
   "outputs": [
    {
     "name": "stdout",
     "output_type": "stream",
     "text": [
      "[0 1 2 3 4]\n",
      "[0. 0. 0. 0. 1. 1. 1. 1. 2. 2. 2. 2. 3. 3. 3. 3. 4. 4. 4. 4.]\n"
     ]
    }
   ],
   "source": [
    "a = np.arange(5)\n",
    "print(a)\n",
    "print(np.kron(a,np.ones(4)))"
   ]
  },
  {
   "cell_type": "code",
   "execution_count": null,
   "id": "a4609df7-42ec-4fac-a471-3e2f4dd4663f",
   "metadata": {},
   "outputs": [],
   "source": []
  }
 ],
 "metadata": {
  "kernelspec": {
   "display_name": "Python 3 (ipykernel)",
   "language": "python",
   "name": "python3"
  },
  "language_info": {
   "codemirror_mode": {
    "name": "ipython",
    "version": 3
   },
   "file_extension": ".py",
   "mimetype": "text/x-python",
   "name": "python",
   "nbconvert_exporter": "python",
   "pygments_lexer": "ipython3",
   "version": "3.10.4"
  }
 },
 "nbformat": 4,
 "nbformat_minor": 5
}
